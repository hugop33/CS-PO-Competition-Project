{
 "cells": [
  {
   "cell_type": "code",
<<<<<<< HEAD
<<<<<<< HEAD
   "execution_count": 1,
=======
   "execution_count": 102,
>>>>>>> hugo
=======
   "execution_count": 282,
>>>>>>> hugo
   "metadata": {},
   "outputs": [],
   "source": [
    "#execution requirements.txt\n",
    "#! pip install -r requirements.txt"
   ]
  },
  {
   "cell_type": "markdown",
   "metadata": {},
   "source": [
    "# Librairie pddl"
   ]
  },
  {
   "cell_type": "markdown",
   "metadata": {},
   "source": [
    "### Librairies"
   ]
  },
  {
   "cell_type": "code",
<<<<<<< HEAD
<<<<<<< HEAD
   "execution_count": 2,
   "metadata": {},
   "outputs": [
    {
     "name": "stdout",
     "output_type": "stream",
     "text": [
      "Initial :  [Predicate(clear, p1), Predicate(smaller, d2, p0), Predicate(clear, p2), Predicate(smaller, d1, p0), Predicate(on, d0, d1), Predicate(smaller, d0, d1), Predicate(smaller, d0, p0), Predicate(smaller, d3, p1), Predicate(smaller, d0, p2), Predicate(on, d2, d3), Predicate(smaller, d3, p2), Predicate(smaller, d1, p1), Predicate(smaller, d0, d3), Predicate(smaller, d2, p2), Predicate(clear, d0), Predicate(on, d1, d2), Predicate(smaller, d1, p2), Predicate(smaller, d0, p1), Predicate(smaller, d2, d3), Predicate(on, d3, p0), Predicate(smaller, d1, d3), Predicate(smaller, d1, d2), Predicate(smaller, d2, p1), Predicate(smaller, d3, p0), Predicate(smaller, d0, d2)]\n",
      "Goal :  [Predicate(on, d0, d1), Predicate(on, d1, d2), Predicate(on, d2, d3), Predicate(on, d3, p2), Predicate(clear, p0), Predicate(clear, p1), Predicate(clear, d0), Predicate(smaller, d0, d1), Predicate(smaller, d0, d2), Predicate(smaller, d0, d3), Predicate(smaller, d0, p0), Predicate(smaller, d0, p1), Predicate(smaller, d0, p2), Predicate(smaller, d1, d2), Predicate(smaller, d1, d3), Predicate(smaller, d1, p0), Predicate(smaller, d1, p1), Predicate(smaller, d1, p2), Predicate(smaller, d2, d3), Predicate(smaller, d2, p0), Predicate(smaller, d2, p1), Predicate(smaller, d2, p2), Predicate(smaller, d3, p0), Predicate(smaller, d3, p1), Predicate(smaller, d3, p2)]\n",
      "0bjects : [Constant(p1), Constant(d3), Constant(p0), Constant(p2), Constant(d0), Constant(d1), Constant(d2)]\n",
      "Predicates :  [Predicate(smaller, ?x, ?y), Predicate(on, ?x, ?y), Predicate(clear, ?x)]\n",
      "Actions :  [Action(move, parameters=?x, ?y, ?z, precondition=(and (smaller ?x ?z) (on ?x ?y) (clear ?x) (clear ?z)), effect=(and (clear ?y) (on ?x ?z) (not (on ?x ?y)) (not (clear ?z))))]\n",
      "Action 0 Name :  move\n",
      "Action 0 Precondition :  [Predicate(smaller, ?x, ?z), Predicate(on, ?x, ?y), Predicate(clear, ?x), Predicate(clear, ?z)]\n",
      "Action 0 Effect :  [Predicate(clear, ?y), Predicate(on, ?x, ?z), Not(Predicate(on, ?x, ?y)), Not(Predicate(clear, ?z))]\n",
      "Action 0 Parameters :  [Variable(x), Variable(y), Variable(z)]\n"
     ]
    }
   ],
=======
   "execution_count": 103,
=======
   "execution_count": 283,
>>>>>>> hugo
   "metadata": {},
   "outputs": [],
>>>>>>> hugo
   "source": [
    "from pddl.parser.domain import DomainParser\n",
    "from pddl.parser.problem import ProblemParser\n",
    "import pddl\n",
    "from itertools import product, permutations\n",
    "import copy\n",
    "import heapq\n",
    "\n",
    "# domain_str = open(\"data/domain.pddl\").read()\n",
    "# problem_str = open(\"data/problem.pddl\").read() \n",
    "domain_str = open(\"data/taquin_domain.pddl\").read()\n",
    "problem_str = open(\"data/taquin-size3x3-conf_0.pddl\").read()  \n",
    "\n",
    "\n",
    "domain = DomainParser()(domain_str)\n",
    "problem = ProblemParser()(problem_str)\n",
    "\n",
    "init_state = copy.deepcopy(list(problem.init))\n",
    "goal_state = copy.deepcopy(list(problem.goal.__getstate__()['_operands']))\n"
   ]
  },
  {
   "cell_type": "markdown",
   "metadata": {},
   "source": [
    "### Optimisation all actions"
   ]
  },
  {
   "cell_type": "code",
   "execution_count": 284,
   "metadata": {},
   "outputs": [
    {
     "name": "stdout",
     "output_type": "stream",
     "text": [
      "Effects Actions :  ['on', 'empty']\n",
      "Immuable Predicates :  [Predicate(touch, cell_2, cell_1), Predicate(touch, cell_7, cell_4), Predicate(touch, cell_2, cell_5), Predicate(touch, cell_4, cell_5), Predicate(touch, cell_5, cell_2), Predicate(touch, cell_3, cell_6), Predicate(touch, cell_0, cell_1), Predicate(touch, cell_0, cell_3), Predicate(touch, cell_8, cell_5), Predicate(touch, cell_3, cell_0), Predicate(touch, cell_5, cell_4), Predicate(touch, cell_1, cell_0), Predicate(touch, cell_6, cell_7), Predicate(touch, cell_4, cell_7), Predicate(touch, cell_7, cell_6), Predicate(touch, cell_1, cell_2), Predicate(touch, cell_7, cell_8), Predicate(touch, cell_5, cell_8), Predicate(touch, cell_8, cell_7), Predicate(touch, cell_4, cell_1), Predicate(touch, cell_1, cell_4), Predicate(touch, cell_3, cell_4), Predicate(touch, cell_4, cell_3), Predicate(touch, cell_6, cell_3)]\n"
     ]
    }
   ],
   "source": [
    "# print(\"Predicates : \", list(domain.predicates))\n",
    "# print(\"Predicates 0 : \", list(domain.predicates)[0])\n",
    "# print(\"Actions : \", list(domain.actions))\n",
    "# print(\"Action 0 Name : \",list((domain.actions))[0].name)\n",
    "# print(\"Action 0 Precondition : \",list(list((domain.actions))[0].precondition.operands))\n",
    "# print(\"Action 0 Effect : \",list(list((domain.actions))[0].effect.operands))\n",
    "# print(\"Action 0 Parameters : \",list(list((domain.actions))[0].parameters))\n",
    "\n",
    "effects_name=[]  \n",
    "for action in domain.actions:\n",
    "    effects = list(action.effect.operands)\n",
    "    for effect in effects:\n",
    "        if isinstance(effect, pddl.logic.predicates.Predicate):\n",
    "            effects_name.append(str(effect.__getstate__()['_name']))\n",
    "        elif isinstance(effect, pddl.logic.base.Not):\n",
    "            effects_name.append(effect.__getstate__()['_arg'].__getstate__()['_name'])\n",
    "effects_name = list(set(effects_name))\n",
    "\n",
    "print(\"Effects Actions : \", effects_name)\n",
    "\n",
    "immuable_predicates = []  \n",
    "init_state_tuple = tuple(copy.deepcopy(init_state))  \n",
    "for predicate in init_state_tuple:\n",
    "    if predicate.__getstate__()['_name'] not in effects_name:\n",
    "        immuable_predicates.append(predicate)\n",
    "\n",
    "print(\"Immuable Predicates : \", immuable_predicates)\n",
    "\n",
    "def is_possible_actions(dict_action):\n",
    "    for precondition in dict_action['preconditions']:\n",
    "        if isinstance(precondition, pddl.logic.predicates.Predicate):\n",
    "            name=precondition.__getstate__()['_name']\n",
    "        elif isinstance(precondition, pddl.logic.base.Not):\n",
    "            name=precondition.__getstate__()['_arg'].__getstate__()['_name']\n",
    "\n",
    "        if name not in effects_name: #si le nom de la precondition n'est pas dans les effects des actions, donc il ne sera jamais modifié\n",
    "            if precondition not in init_state: #si la precondition n'est pas dans l'état initial, donc l'action n'est pas possible\n",
    "                return False\n",
    "    return True\n",
    "        "
   ]
  },
  {
   "cell_type": "markdown",
   "metadata": {},
   "source": [
    "### Fonction pour générer toutes les actions possibles du problème"
   ]
  },
  {
   "cell_type": "code",
<<<<<<< HEAD
<<<<<<< HEAD
   "execution_count": 3,
=======
   "execution_count": 105,
>>>>>>> hugo
=======
   "execution_count": 285,
>>>>>>> hugo
   "metadata": {},
   "outputs": [
    {
     "name": "stdout",
     "output_type": "stream",
     "text": [
      "360\n"
     ]
    }
   ],
   "source": [
    "def generate_klist(variables, k):\n",
    "    return list(permutations(variables, k))\n",
    "\n",
    "def all_actions(domain, problem):\n",
    "    actions = []\n",
    "    domain_actions_list = list(domain.actions)  # Convert to list once to avoid repeated conversions\n",
    "    dict_possibility = {}\n",
    "    for action in domain_actions_list:\n",
    "\n",
    "        action_copy = copy.deepcopy(action)\n",
    "        # Optimization: Generate possibilities once and use len(action_copy.parameters) directly\n",
    "        if len(action_copy.parameters) not in dict_possibility:\n",
    "            dict_possibility[len(action_copy.parameters)] = generate_klist(copy.deepcopy(list(problem.objects)), len(action_copy.parameters))\n",
    "        \n",
    "        possiblity = dict_possibility[len(action_copy.parameters)]\n",
    "\n",
    "        \n",
    "        for klist in possiblity:\n",
    "            dict_action = {'name': '', 'preconditions': [], 'positive effects': [], 'negative effects': []}\n",
    "            \n",
    "            # Construct action name\n",
    "            dict_action['name'] = action_copy.name.__str__() + '(' + ', '.join(v.__str__() for v in klist) + ')'\n",
    "            dict_var = dict(zip(action_copy.parameters, klist))\n",
    "\n",
    "            # Process preconditions\n",
    "            for precondition in copy.deepcopy(action.precondition.operands):\n",
    "                terms = tuple(dict_var[v] for v in precondition.__getstate__()['_terms'])\n",
    "                precondition.__getstate__()['_terms'] = terms\n",
    "                dict_action['preconditions'].append(precondition)\n",
    "\n",
    "            # Process effects\n",
    "            effects = copy.deepcopy(action.effect.operands)\n",
    "            for effect in effects:\n",
    "                if isinstance(effect, pddl.logic.predicates.Predicate):\n",
    "                    terms = tuple(dict_var[v] for v in effect.__getstate__()['_terms'])\n",
    "                    effect.__getstate__()['_terms'] = terms\n",
    "                    dict_action['positive effects'].append(effect)\n",
    "                elif isinstance(effect, pddl.logic.base.Not):\n",
    "                    terms = tuple(dict_var[v] for v in effect.__getstate__()['_arg'].__getstate__()['_terms'])\n",
    "                    effect.__getstate__()['_arg'].__getstate__()['_terms'] = terms\n",
    "                    dict_action['negative effects'].append(effect)\n",
    "            \n",
    "            # Check if action is possible\n",
    "            if is_possible_actions(dict_action):\n",
    "                actions.append(dict_action) \n",
    "    return actions\n",
    "\n",
    "\n",
    "def remove_negative_effect(actions):\n",
    "    actions_copy = copy.deepcopy(actions)\n",
    "    for action in actions_copy:\n",
    "        action['negative effects'] = []\n",
    "    return actions_copy\n",
    "\n",
    "All_actions = all_actions(domain, problem)\n",
    "Relaxed_all_actions = remove_negative_effect(All_actions)\n",
    "\n",
    "print(len(All_actions))\n"
   ]
  },
  {
   "cell_type": "markdown",
   "metadata": {},
   "source": [
    "### Application d'actions sur state"
   ]
  },
  {
   "cell_type": "code",
<<<<<<< HEAD
<<<<<<< HEAD
   "execution_count": 4,
   "metadata": {},
   "outputs": [
    {
     "name": "stdout",
     "output_type": "stream",
     "text": [
      "[{'name': 'move(d0, p1, d1)', 'preconditions': [Predicate(smaller, d0, d1), Predicate(on, d0, p1), Predicate(clear, d0), Predicate(clear, d1)], 'positive effects': [Predicate(clear, p1), Predicate(on, d0, d1)], 'negative effects': [Not(Predicate(on, d0, p1)), Not(Predicate(clear, d1))]}, {'name': 'move(d0, p0, d1)', 'preconditions': [Predicate(smaller, d0, d1), Predicate(on, d0, p0), Predicate(clear, d0), Predicate(clear, d1)], 'positive effects': [Predicate(clear, p0), Predicate(on, d0, d1)], 'negative effects': [Not(Predicate(on, d0, p0)), Not(Predicate(clear, d1))]}]\n"
     ]
    }
   ],
=======
   "execution_count": 106,
=======
   "execution_count": 286,
>>>>>>> hugo
   "metadata": {},
   "outputs": [],
>>>>>>> hugo
   "source": [
    "buffer_actions={}\n",
    "def applicable_actions(state, actions): # return applicable actions for a state\n",
    "    if tuple(state) not in buffer_actions:\n",
    "        buffer_actions[tuple(state)]= [a for a in actions if all(p in state for p in a['preconditions'])]\n",
    "    return buffer_actions[tuple(state)]\n",
    "# print(applicable_actions(init_state, All_actions))\n",
    "\n",
    "\n",
    "def apply_action(state, action): # return new state after applying an action\n",
    "    new_state = list(copy.deepcopy(state))\n",
    "    for e in action['positive effects']:\n",
    "        new_state.append(e)\n",
    "    for e in action['negative effects']:\n",
    "        new_state.remove(e.__getstate__()['_arg'])\n",
    "    return tuple(new_state)\n",
    "\n",
    "# print(apply_action(init_state, applicable_actions(init_state, All_actions)[0]))\n",
    "\n",
    "def is_applicable(state, action): # return True if an action is applicable for a state\n",
    "    copy_state = copy.deepcopy(state)   \n",
    "    \n",
    "    try:\n",
    "        apply_action(copy_state, action)\n",
    "        return True\n",
    "    except:\n",
    "        return False\n",
    "\n",
    "# action=[d for d in all_actions(domain, problem) if d['name']=='move(d0, d1, p2)'][0]\n",
    "# print(is_applicable(init_state, action))\n",
    "\n",
    "# def misapply_action(state, action): # return new state after misapplying an action\n",
    "#     new_state = copy.deepcopy(state)\n",
    "#     for e in action['positive effects']:\n",
    "#         new_state.remove(e)\n",
    "#     for e in action['negative effects']:\n",
    "#         new_state.append(e.__getstate__()['_arg'])\n",
    "#     return new_state\n",
    "\n",
    "\n",
    "# def previous_actions(state, actions): # return previous actions for a state\n",
    "#     previous_actions = []\n",
    "#     for a in actions:\n",
    "#         cdt1 = all([p in state for p in a['positive effects']])\n",
    "#         cdt2 = all([p.__getstate__()['_arg'] not in state for p in a['negative effects']])\n",
    "#         cdt3 = all([p in state for p in (set(a['preconditions'])-set([p.__getstate__()['_arg'] for p in a['negative effects']]))])\n",
    "#         if cdt1 and cdt2 and cdt3:\n",
    "#             previous_actions.append(a)\n",
    "#     return previous_actions\n",
    "\n",
    "# print(len(previous_actions(goal_state, all_actions(domain, problem))))\n",
    "\n",
    "# print(misapply_action(problem.goal.__getstate__()['_operands'], previous_actions(problem.goal.__getstate__()['_operands'], all_actions(domain, problem))[0]))\n",
    "\n"
   ]
  },
  {
   "cell_type": "markdown",
   "metadata": {},
   "source": [
    "### Vérfication de l'action"
   ]
  },
  {
   "cell_type": "code",
   "execution_count": 287,
   "metadata": {},
   "outputs": [],
   "source": [
    "def valid_plan(plan): # return True if a plan is valid\n",
    "    state = copy.deepcopy(init_state)\n",
    "    for a in plan:\n",
    "        print(a['name'])\n",
    "        if is_applicable(state, a):\n",
    "            state = apply_action(state, a)\n",
    "        else:\n",
    "            return False\n",
    "    return set(goal_state).issubset(set(state))"
   ]
  },
  {
   "cell_type": "markdown",
   "metadata": {},
   "source": [
    "### Heuristiques"
   ]
  },
  {
   "cell_type": "code",
   "execution_count": 288,
   "metadata": {},
   "outputs": [],
   "source": [
    "\n",
    "def h_apply_action(state, action):\n",
    "    new_state = list(copy.deepcopy(state))\n",
    "    for e in action['positive effects']:\n",
    "        if e not in new_state:\n",
    "            new_state.append(e)\n",
    "    return tuple(new_state)\n",
    "\n",
    "\n",
    "def h_relaxed(state, goal_state):\n",
    "    frontier = [(0, state)]  # Use a heap for frontier to implement A* search\n",
    "    visited = set()\n",
    "    state_to_cost = {tuple(state): 0}\n",
    "\n",
    "    def heuristic(state, goal_state):\n",
    "        # Count the number of missing goals in the current state\n",
    "        return len(set(goal_state) - set(state))\n",
    "\n",
    "    while frontier:\n",
    "        _, current_state = heapq.heappop(frontier)  # Use heappop to extract the minimum element\n",
    "        current_state_tuple = tuple(current_state)\n",
    "\n",
    "        if any(set(current_state).issubset(s) for s in visited):\n",
    "            continue\n",
    "\n",
    "        visited.add(current_state_tuple)\n",
    "\n",
    "        if set(goal_state).issubset(set(current_state)):\n",
    "            return state_to_cost[current_state_tuple]\n",
    "\n",
    "        for action in applicable_actions(current_state, All_actions):\n",
    "            new_state = apply_action(current_state, action)\n",
    "            new_state_tuple = tuple(new_state)\n",
    "\n",
    "            if new_state_tuple not in state_to_cost or state_to_cost[new_state_tuple] > state_to_cost[current_state_tuple] + 1:\n",
    "                state_to_cost[new_state_tuple] = state_to_cost[current_state_tuple] + 1\n",
    "                f = state_to_cost[new_state_tuple] + heuristic(new_state, goal_state)  # Calculate the evaluation function\n",
    "                heapq.heappush(frontier, (f, new_state))  # Use heappush to add the new element to the heap\n",
    "\n",
    "    return 0\n",
    "\n",
    "# def h_relaxed(state, goal_state):\n",
    "#     return len(set(goal_state) - set(state))\n",
    "\n",
    "\n",
    "\n",
    "\n"
   ]
  },
  {
   "cell_type": "code",
   "execution_count": 289,
   "metadata": {},
   "outputs": [],
   "source": [
    "from copy import deepcopy\n",
    "\n",
    "def construct_graphplan_relax(state, goal_state, applicable_actions):\n",
    "    graph = {}\n",
    "    level = 0\n",
    "\n",
    "    for predicate in state:\n",
    "        graph[level] = {}\n",
    "        graph[level][predicate] = []\n",
    "        level += 1\n",
    "\n",
    "    while True:\n",
    "        graph[level] = {}\n",
    "        applied_actions = set()\n",
    "\n",
    "        for action in applicable_actions(state, All_actions):\n",
    "            if action not in applied_actions:\n",
    "                state = h_apply_action(state, action)\n",
    "                applied_actions.add(action)\n",
    "\n",
    "                effects = action['positive effects']\n",
    "                for effect in effects:\n",
    "                    if effect not in graph[level]:\n",
    "                        graph[level][effect] = {}\n",
    "                    graph[level][effect][action['name']] = action['preconditions']\n",
    "\n",
    "        if set(goal_state).issubset(set(state)):\n",
    "            return graph\n",
    "\n",
    "        level += 1\n",
    "\n",
    "\n",
    "def h_graphplan_relax(state, goal_state, applicable_actions):\n",
    "    graph = construct_graphplan_relax(state, goal_state, applicable_actions)\n",
    "    actions_count = 0\n",
    "    length = len(graph)\n",
    "\n",
    "    old_state = deepcopy(goal_state)\n",
    "    new_state = deepcopy(goal_state)\n",
    "\n",
    "    for i in range(length - 1, 0, -1):\n",
    "        actions = set()\n",
    "\n",
    "        for predicate in old_state:\n",
    "            if predicate in graph[i]:\n",
    "                predecessors = graph[i][predicate]\n",
    "                action = list(predecessors.keys())[0]\n",
    "                predecessor = predecessors[action]\n",
    "\n",
    "                new_state.remove(predicate)\n",
    "                new_state.extend(predecessor)\n",
    "                new_state = list(set(new_state))\n",
    "\n",
    "                actions.add(action)\n",
    "\n",
    "        actions_count += len(actions)\n",
    "        old_state = deepcopy(list(set(new_state)))\n",
    "\n",
    "    return actions_count\n",
    "\n"
   ]
  },
  {
   "cell_type": "code",
   "execution_count": 290,
   "metadata": {},
   "outputs": [],
   "source": [
    "def relaxed_graphplan_heuristic(state, goal_state):\n",
    "    \"\"\"\n",
    "    Calcule l'heuristique en utilisant une approche de graphe de planification relaxé.\n",
    "    \n",
    "    :param state: État actuel, un tuple de faits (prédicats).\n",
    "    :param goal_state: État objectif, un tuple de faits à atteindre.\n",
    "    :param actions: Liste des actions possibles dans le domaine.\n",
    "    :return: Valeur heuristique (int), estimation du nombre minimal d'actions pour atteindre l'état objectif.\n",
    "    \"\"\"\n",
    "    # Initialisation de l'ensemble de tous les faits connus (états actuels, objectifs, et tous les effets possibles).\n",
    "    all_facts = set(list(goal_state) + list(state))\n",
    "    for action in All_actions:\n",
    "        for effect in action['positive effects']:\n",
    "            all_facts.add(effect)\n",
    "\n",
    "    # Initialisation du dictionnaire des coûts des faits.\n",
    "    fact_costs = {fact: float('inf') for fact in all_facts}\n",
    "    for fact in state:\n",
    "        fact_costs[fact] = 0  # Coût nul pour les faits dans l'état actuel.\n",
    "    \n",
    "    # Boucle jusqu'à stabilisation : pas de mise à jour des coûts.\n",
    "    updated = True\n",
    "    while updated:\n",
    "        updated = False\n",
    "        for action in All_actions:\n",
    "            # Vérifier si toutes les préconditions sont satisfaites.\n",
    "            if all(fact_costs.get(pre, float('inf')) < float('inf') for pre in action['preconditions']):\n",
    "                cost = max(fact_costs.get(pre, 0) for pre in action['preconditions']) + 1  # Coût de l'action.\n",
    "                for effect in action['positive effects']:\n",
    "                    if fact_costs[effect] > cost:\n",
    "                        fact_costs[effect] = cost\n",
    "                        updated = True\n",
    "    \n",
    "    # Calculer et retourner la somme des coûts pour atteindre chaque fait de l'état objectif.\n",
    "    heuristic_value = sum(fact_costs.get(goal, float('inf')) for goal in goal_state)\n",
    "    return heuristic_value if heuristic_value < float('inf') else None\n"
   ]
  },
  {
   "cell_type": "markdown",
   "metadata": {},
   "source": [
    "### Algo de recherche"
   ]
  },
  {
   "cell_type": "code",
<<<<<<< HEAD
<<<<<<< HEAD
   "execution_count": 5,
   "metadata": {},
   "outputs": [
    {
     "data": {
      "text/plain": [
       "2"
      ]
     },
     "execution_count": 5,
     "metadata": {},
     "output_type": "execute_result"
    }
   ],
   "source": [
    "## Métrique\n",
    "Initial = init_state.copy()\n",
    "Goal =  goal_state.copy()\n",
    "\n",
    "def metric(state, goal_state):\n",
    "    return len(set(state)-set(goal_state))\n",
    "\n",
    "metric(Initial, Goal)"
   ]
  },
  {
   "cell_type": "code",
   "execution_count": 6,
   "metadata": {},
   "outputs": [
    {
     "ename": "TypeError",
     "evalue": "'list' object is not callable",
     "output_type": "error",
     "traceback": [
      "\u001b[1;31m---------------------------------------------------------------------------\u001b[0m",
      "\u001b[1;31mTypeError\u001b[0m                                 Traceback (most recent call last)",
      "Cell \u001b[1;32mIn[6], line 47\u001b[0m\n\u001b[0;32m     43\u001b[0m action_found \u001b[38;5;241m=\u001b[39m find_action_by_name(actions_dict, action_name)\n\u001b[0;32m     46\u001b[0m \u001b[38;5;28mdict\u001b[39m \u001b[38;5;241m=\u001b[39m all_actions(domain, problem)\n\u001b[1;32m---> 47\u001b[0m state1\u001b[38;5;241m=\u001b[39m apply_action(init_state, applicable_actions(init_state, \u001b[43mall_actions\u001b[49m\u001b[43m(\u001b[49m\u001b[43mdomain\u001b[49m\u001b[43m,\u001b[49m\u001b[43m \u001b[49m\u001b[43mproblem\u001b[49m\u001b[43m)\u001b[49m)[\u001b[38;5;241m0\u001b[39m])\n\u001b[0;32m     48\u001b[0m state2\u001b[38;5;241m=\u001b[39m apply_action(state1, applicable_actions(state1, action_found))\n\u001b[0;32m     50\u001b[0m cost \u001b[38;5;241m=\u001b[39m relaxed_plan_cost(state2, goal_state, domain, problem)\n",
      "Cell \u001b[1;32mIn[3], line 17\u001b[0m, in \u001b[0;36mall_actions\u001b[1;34m(domain, problem)\u001b[0m\n\u001b[0;32m     15\u001b[0m \u001b[38;5;66;03m# name\u001b[39;00m\n\u001b[0;32m     16\u001b[0m dict_action[\u001b[38;5;124m'\u001b[39m\u001b[38;5;124mname\u001b[39m\u001b[38;5;124m'\u001b[39m] \u001b[38;5;241m=\u001b[39m action\u001b[38;5;241m.\u001b[39mname\u001b[38;5;241m.\u001b[39m\u001b[38;5;21m__str__\u001b[39m()\u001b[38;5;241m+\u001b[39m\u001b[38;5;124m'\u001b[39m\u001b[38;5;124m(\u001b[39m\u001b[38;5;124m'\u001b[39m\u001b[38;5;241m+\u001b[39m\u001b[38;5;124m'\u001b[39m\u001b[38;5;124m, \u001b[39m\u001b[38;5;124m'\u001b[39m\u001b[38;5;241m.\u001b[39mjoin([v\u001b[38;5;241m.\u001b[39m\u001b[38;5;21m__str__\u001b[39m() \u001b[38;5;28;01mfor\u001b[39;00m v \u001b[38;5;129;01min\u001b[39;00m klist])\u001b[38;5;241m+\u001b[39m\u001b[38;5;124m'\u001b[39m\u001b[38;5;124m)\u001b[39m\u001b[38;5;124m'\u001b[39m\n\u001b[1;32m---> 17\u001b[0m dict_var\u001b[38;5;241m=\u001b[39m\u001b[38;5;28;43mdict\u001b[39;49m\u001b[43m(\u001b[49m\u001b[38;5;28;43mzip\u001b[39;49m\u001b[43m(\u001b[49m\u001b[43maction\u001b[49m\u001b[38;5;241;43m.\u001b[39;49m\u001b[43mparameters\u001b[49m\u001b[43m,\u001b[49m\u001b[43m \u001b[49m\u001b[43mklist\u001b[49m\u001b[43m)\u001b[49m\u001b[43m)\u001b[49m\n\u001b[0;32m     18\u001b[0m \u001b[38;5;66;03m# preconditions\u001b[39;00m\n\u001b[0;32m     19\u001b[0m dict_action[\u001b[38;5;124m'\u001b[39m\u001b[38;5;124mpreconditions\u001b[39m\u001b[38;5;124m'\u001b[39m] \u001b[38;5;241m=\u001b[39m []\n",
      "\u001b[1;31mTypeError\u001b[0m: 'list' object is not callable"
     ]
    }
   ],
   "source": [
    "# from collections import deque\n",
    "\n",
    "def relaxed_plan_cost(initial_state, goal_state, domain, problem):\n",
    "    all_possible_actions = all_actions(domain, problem)\n",
    "    frontier = deque([initial_state])\n",
    "    visited = set()\n",
    "    state_to_cost = {tuple(initial_state): 0}  # Dictionary to track the cost to reach a state\n",
    "\n",
    "    while frontier:\n",
    "        current_state = frontier.popleft()\n",
    "        current_state_tuple = tuple(current_state)\n",
    "        \n",
    "        if current_state_tuple in visited:\n",
    "            continue\n",
    "        visited.add(current_state_tuple)\n",
    "\n",
    "        # Check if current state meets the goal state criteria\n",
    "        if set(goal_state).issubset(set(current_state)):\n",
    "            return state_to_cost[current_state_tuple]\n",
    "        \n",
    "        for action in applicable_actions(current_state, all_possible_actions):\n",
    "            new_state = apply_action(current_state, action)\n",
    "            new_state_tuple = tuple(new_state)\n",
    "            \n",
    "            # Ignore negative effects by not considering them in the new state generation\n",
    "            if new_state_tuple not in state_to_cost or state_to_cost[new_state_tuple] > state_to_cost[current_state_tuple] + 1:\n",
    "                state_to_cost[new_state_tuple] = state_to_cost[current_state_tuple] + 1\n",
    "                frontier.append(new_state)\n",
    "\n",
    "    return float('inf')  # Return infinity if no plan can be found\n",
    "\n",
    "# Example usage:\n",
    "\n",
    "def find_action_by_name(actions, name):\n",
    "    for action in actions:\n",
    "        if action['name'] == name:\n",
    "            return action\n",
    "    return None\n",
    "\n",
    "# Exemple d'utilisation\n",
    "actions_dict = all_actions(domain, problem)  # Votre liste de dictionnaires ici\n",
    "action_name = 'move(d1, d2, p2)'  # Le nom de l'action que vous recherchez\n",
    "action_found = find_action_by_name(actions_dict, action_name)\n",
    "\n",
    "\n",
    "dict = all_actions(domain, problem)\n",
    "state1= apply_action(init_state, applicable_actions(init_state, all_actions(domain, problem))[0])\n",
    "state2= apply_action(state1, applicable_actions(state1, action_found))\n",
    "\n",
    "cost = relaxed_plan_cost(state2, goal_state, domain, problem)\n",
    "print(cost)\n"
   ]
  },
  {
   "cell_type": "markdown",
=======
   "execution_count": 109,
>>>>>>> hugo
=======
   "execution_count": 291,
>>>>>>> hugo
   "metadata": {},
   "outputs": [
    {
     "name": "stdout",
     "output_type": "stream",
     "text": [
      "État initial : (Predicate(touch, cell_2, cell_1), Predicate(touch, cell_7, cell_4), Predicate(touch, cell_2, cell_5), Predicate(touch, cell_4, cell_5), Predicate(touch, cell_5, cell_2), Predicate(on, tile_7, cell_1), Predicate(touch, cell_3, cell_6), Predicate(touch, cell_0, cell_1), Predicate(on, tile_6, cell_2), Predicate(empty, cell_8), Predicate(touch, cell_0, cell_3), Predicate(touch, cell_8, cell_5), Predicate(on, tile_0, cell_4), Predicate(touch, cell_3, cell_0), Predicate(touch, cell_5, cell_4), Predicate(touch, cell_1, cell_0), Predicate(touch, cell_6, cell_7), Predicate(on, tile_3, cell_6), Predicate(touch, cell_4, cell_7), Predicate(touch, cell_7, cell_6), Predicate(touch, cell_1, cell_2), Predicate(touch, cell_7, cell_8), Predicate(touch, cell_5, cell_8), Predicate(touch, cell_8, cell_7), Predicate(touch, cell_4, cell_1), Predicate(on, tile_5, cell_7), Predicate(on, tile_4, cell_3), Predicate(on, tile_2, cell_0), Predicate(touch, cell_1, cell_4), Predicate(touch, cell_3, cell_4), Predicate(touch, cell_4, cell_3), Predicate(on, tile_1, cell_5), Predicate(touch, cell_6, cell_3))\n",
      "État objectif : (Predicate(on, tile_0, cell_0), Predicate(on, tile_1, cell_1), Predicate(on, tile_2, cell_2), Predicate(on, tile_3, cell_3), Predicate(on, tile_4, cell_4), Predicate(on, tile_5, cell_5), Predicate(on, tile_6, cell_6), Predicate(on, tile_7, cell_7))\n",
      "Objectif atteint !\n",
      "Plan trouvé : [{'name': 'move(tile_5, cell_7, cell_8)', 'preconditions': [Predicate(on, tile_5, cell_7), Predicate(empty, cell_8), Predicate(touch, cell_7, cell_8)], 'positive effects': [Predicate(on, tile_5, cell_8), Predicate(empty, cell_7)], 'negative effects': [Not(Predicate(on, tile_5, cell_7)), Not(Predicate(empty, cell_8))]}, {'name': 'move(tile_3, cell_6, cell_7)', 'preconditions': [Predicate(on, tile_3, cell_6), Predicate(empty, cell_7), Predicate(touch, cell_6, cell_7)], 'positive effects': [Predicate(on, tile_3, cell_7), Predicate(empty, cell_6)], 'negative effects': [Not(Predicate(on, tile_3, cell_6)), Not(Predicate(empty, cell_7))]}, {'name': 'move(tile_4, cell_3, cell_6)', 'preconditions': [Predicate(on, tile_4, cell_3), Predicate(empty, cell_6), Predicate(touch, cell_3, cell_6)], 'positive effects': [Predicate(on, tile_4, cell_6), Predicate(empty, cell_3)], 'negative effects': [Not(Predicate(on, tile_4, cell_3)), Not(Predicate(empty, cell_6))]}, {'name': 'move(tile_0, cell_4, cell_3)', 'preconditions': [Predicate(on, tile_0, cell_4), Predicate(empty, cell_3), Predicate(touch, cell_4, cell_3)], 'positive effects': [Predicate(on, tile_0, cell_3), Predicate(empty, cell_4)], 'negative effects': [Not(Predicate(on, tile_0, cell_4)), Not(Predicate(empty, cell_3))]}, {'name': 'move(tile_7, cell_1, cell_4)', 'preconditions': [Predicate(on, tile_7, cell_1), Predicate(empty, cell_4), Predicate(touch, cell_1, cell_4)], 'positive effects': [Predicate(on, tile_7, cell_4), Predicate(empty, cell_1)], 'negative effects': [Not(Predicate(on, tile_7, cell_1)), Not(Predicate(empty, cell_4))]}, {'name': 'move(tile_2, cell_0, cell_1)', 'preconditions': [Predicate(on, tile_2, cell_0), Predicate(empty, cell_1), Predicate(touch, cell_0, cell_1)], 'positive effects': [Predicate(on, tile_2, cell_1), Predicate(empty, cell_0)], 'negative effects': [Not(Predicate(on, tile_2, cell_0)), Not(Predicate(empty, cell_1))]}, {'name': 'move(tile_0, cell_3, cell_0)', 'preconditions': [Predicate(on, tile_0, cell_3), Predicate(empty, cell_0), Predicate(touch, cell_3, cell_0)], 'positive effects': [Predicate(on, tile_0, cell_0), Predicate(empty, cell_3)], 'negative effects': [Not(Predicate(on, tile_0, cell_3)), Not(Predicate(empty, cell_0))]}, {'name': 'move(tile_7, cell_4, cell_3)', 'preconditions': [Predicate(on, tile_7, cell_4), Predicate(empty, cell_3), Predicate(touch, cell_4, cell_3)], 'positive effects': [Predicate(on, tile_7, cell_3), Predicate(empty, cell_4)], 'negative effects': [Not(Predicate(on, tile_7, cell_4)), Not(Predicate(empty, cell_3))]}, {'name': 'move(tile_1, cell_5, cell_4)', 'preconditions': [Predicate(on, tile_1, cell_5), Predicate(empty, cell_4), Predicate(touch, cell_5, cell_4)], 'positive effects': [Predicate(on, tile_1, cell_4), Predicate(empty, cell_5)], 'negative effects': [Not(Predicate(on, tile_1, cell_5)), Not(Predicate(empty, cell_4))]}, {'name': 'move(tile_6, cell_2, cell_5)', 'preconditions': [Predicate(on, tile_6, cell_2), Predicate(empty, cell_5), Predicate(touch, cell_2, cell_5)], 'positive effects': [Predicate(on, tile_6, cell_5), Predicate(empty, cell_2)], 'negative effects': [Not(Predicate(on, tile_6, cell_2)), Not(Predicate(empty, cell_5))]}, {'name': 'move(tile_2, cell_1, cell_2)', 'preconditions': [Predicate(on, tile_2, cell_1), Predicate(empty, cell_2), Predicate(touch, cell_1, cell_2)], 'positive effects': [Predicate(on, tile_2, cell_2), Predicate(empty, cell_1)], 'negative effects': [Not(Predicate(on, tile_2, cell_1)), Not(Predicate(empty, cell_2))]}, {'name': 'move(tile_1, cell_4, cell_1)', 'preconditions': [Predicate(on, tile_1, cell_4), Predicate(empty, cell_1), Predicate(touch, cell_4, cell_1)], 'positive effects': [Predicate(on, tile_1, cell_1), Predicate(empty, cell_4)], 'negative effects': [Not(Predicate(on, tile_1, cell_4)), Not(Predicate(empty, cell_1))]}, {'name': 'move(tile_3, cell_7, cell_4)', 'preconditions': [Predicate(on, tile_3, cell_7), Predicate(empty, cell_4), Predicate(touch, cell_7, cell_4)], 'positive effects': [Predicate(on, tile_3, cell_4), Predicate(empty, cell_7)], 'negative effects': [Not(Predicate(on, tile_3, cell_7)), Not(Predicate(empty, cell_4))]}, {'name': 'move(tile_4, cell_6, cell_7)', 'preconditions': [Predicate(on, tile_4, cell_6), Predicate(empty, cell_7), Predicate(touch, cell_6, cell_7)], 'positive effects': [Predicate(on, tile_4, cell_7), Predicate(empty, cell_6)], 'negative effects': [Not(Predicate(on, tile_4, cell_6)), Not(Predicate(empty, cell_7))]}, {'name': 'move(tile_7, cell_3, cell_6)', 'preconditions': [Predicate(on, tile_7, cell_3), Predicate(empty, cell_6), Predicate(touch, cell_3, cell_6)], 'positive effects': [Predicate(on, tile_7, cell_6), Predicate(empty, cell_3)], 'negative effects': [Not(Predicate(on, tile_7, cell_3)), Not(Predicate(empty, cell_6))]}, {'name': 'move(tile_3, cell_4, cell_3)', 'preconditions': [Predicate(on, tile_3, cell_4), Predicate(empty, cell_3), Predicate(touch, cell_4, cell_3)], 'positive effects': [Predicate(on, tile_3, cell_3), Predicate(empty, cell_4)], 'negative effects': [Not(Predicate(on, tile_3, cell_4)), Not(Predicate(empty, cell_3))]}, {'name': 'move(tile_4, cell_7, cell_4)', 'preconditions': [Predicate(on, tile_4, cell_7), Predicate(empty, cell_4), Predicate(touch, cell_7, cell_4)], 'positive effects': [Predicate(on, tile_4, cell_4), Predicate(empty, cell_7)], 'negative effects': [Not(Predicate(on, tile_4, cell_7)), Not(Predicate(empty, cell_4))]}, {'name': 'move(tile_7, cell_6, cell_7)', 'preconditions': [Predicate(on, tile_7, cell_6), Predicate(empty, cell_7), Predicate(touch, cell_6, cell_7)], 'positive effects': [Predicate(on, tile_7, cell_7), Predicate(empty, cell_6)], 'negative effects': [Not(Predicate(on, tile_7, cell_6)), Not(Predicate(empty, cell_7))]}, {'name': 'move(tile_3, cell_3, cell_6)', 'preconditions': [Predicate(on, tile_3, cell_3), Predicate(empty, cell_6), Predicate(touch, cell_3, cell_6)], 'positive effects': [Predicate(on, tile_3, cell_6), Predicate(empty, cell_3)], 'negative effects': [Not(Predicate(on, tile_3, cell_3)), Not(Predicate(empty, cell_6))]}, {'name': 'move(tile_4, cell_4, cell_3)', 'preconditions': [Predicate(on, tile_4, cell_4), Predicate(empty, cell_3), Predicate(touch, cell_4, cell_3)], 'positive effects': [Predicate(on, tile_4, cell_3), Predicate(empty, cell_4)], 'negative effects': [Not(Predicate(on, tile_4, cell_4)), Not(Predicate(empty, cell_3))]}, {'name': 'move(tile_6, cell_5, cell_4)', 'preconditions': [Predicate(on, tile_6, cell_5), Predicate(empty, cell_4), Predicate(touch, cell_5, cell_4)], 'positive effects': [Predicate(on, tile_6, cell_4), Predicate(empty, cell_5)], 'negative effects': [Not(Predicate(on, tile_6, cell_5)), Not(Predicate(empty, cell_4))]}, {'name': 'move(tile_5, cell_8, cell_5)', 'preconditions': [Predicate(on, tile_5, cell_8), Predicate(empty, cell_5), Predicate(touch, cell_8, cell_5)], 'positive effects': [Predicate(on, tile_5, cell_5), Predicate(empty, cell_8)], 'negative effects': [Not(Predicate(on, tile_5, cell_8)), Not(Predicate(empty, cell_5))]}, {'name': 'move(tile_7, cell_7, cell_8)', 'preconditions': [Predicate(on, tile_7, cell_7), Predicate(empty, cell_8), Predicate(touch, cell_7, cell_8)], 'positive effects': [Predicate(on, tile_7, cell_8), Predicate(empty, cell_7)], 'negative effects': [Not(Predicate(on, tile_7, cell_7)), Not(Predicate(empty, cell_8))]}, {'name': 'move(tile_6, cell_4, cell_7)', 'preconditions': [Predicate(on, tile_6, cell_4), Predicate(empty, cell_7), Predicate(touch, cell_4, cell_7)], 'positive effects': [Predicate(on, tile_6, cell_7), Predicate(empty, cell_4)], 'negative effects': [Not(Predicate(on, tile_6, cell_4)), Not(Predicate(empty, cell_7))]}, {'name': 'move(tile_4, cell_3, cell_4)', 'preconditions': [Predicate(on, tile_4, cell_3), Predicate(empty, cell_4), Predicate(touch, cell_3, cell_4)], 'positive effects': [Predicate(on, tile_4, cell_4), Predicate(empty, cell_3)], 'negative effects': [Not(Predicate(on, tile_4, cell_3)), Not(Predicate(empty, cell_4))]}, {'name': 'move(tile_3, cell_6, cell_3)', 'preconditions': [Predicate(on, tile_3, cell_6), Predicate(empty, cell_3), Predicate(touch, cell_6, cell_3)], 'positive effects': [Predicate(on, tile_3, cell_3), Predicate(empty, cell_6)], 'negative effects': [Not(Predicate(on, tile_3, cell_6)), Not(Predicate(empty, cell_3))]}, {'name': 'move(tile_6, cell_7, cell_6)', 'preconditions': [Predicate(on, tile_6, cell_7), Predicate(empty, cell_6), Predicate(touch, cell_7, cell_6)], 'positive effects': [Predicate(on, tile_6, cell_6), Predicate(empty, cell_7)], 'negative effects': [Not(Predicate(on, tile_6, cell_7)), Not(Predicate(empty, cell_6))]}, {'name': 'move(tile_7, cell_8, cell_7)', 'preconditions': [Predicate(on, tile_7, cell_8), Predicate(empty, cell_7), Predicate(touch, cell_8, cell_7)], 'positive effects': [Predicate(on, tile_7, cell_7), Predicate(empty, cell_8)], 'negative effects': [Not(Predicate(on, tile_7, cell_8)), Not(Predicate(empty, cell_7))]}]\n",
      "move(tile_5, cell_7, cell_8)\n",
      "move(tile_3, cell_6, cell_7)\n",
      "move(tile_4, cell_3, cell_6)\n",
      "move(tile_0, cell_4, cell_3)\n",
      "move(tile_7, cell_1, cell_4)\n",
      "move(tile_2, cell_0, cell_1)\n",
      "move(tile_0, cell_3, cell_0)\n",
      "move(tile_7, cell_4, cell_3)\n",
      "move(tile_1, cell_5, cell_4)\n",
      "move(tile_6, cell_2, cell_5)\n",
      "move(tile_2, cell_1, cell_2)\n",
      "move(tile_1, cell_4, cell_1)\n",
      "move(tile_3, cell_7, cell_4)\n",
      "move(tile_4, cell_6, cell_7)\n",
      "move(tile_7, cell_3, cell_6)\n",
      "move(tile_3, cell_4, cell_3)\n",
      "move(tile_4, cell_7, cell_4)\n",
      "move(tile_7, cell_6, cell_7)\n",
      "move(tile_3, cell_3, cell_6)\n",
      "move(tile_4, cell_4, cell_3)\n",
      "move(tile_6, cell_5, cell_4)\n",
      "move(tile_5, cell_8, cell_5)\n",
      "move(tile_7, cell_7, cell_8)\n",
      "move(tile_6, cell_4, cell_7)\n",
      "move(tile_4, cell_3, cell_4)\n",
      "move(tile_3, cell_6, cell_3)\n",
      "move(tile_6, cell_7, cell_6)\n",
      "move(tile_7, cell_8, cell_7)\n",
      "\n",
      "\n",
      "Nombre d'actions dans le plan : 28\n",
      "Temps d'exécution : 42.717920780181885 secondes\n"
     ]
    }
   ],
   "source": [
    "import heapq  # Importe le module heapq pour utiliser la file de priorité\n",
    "import copy\n",
    "\n",
    "def reconstruct_path(came_from, start, goal):\n",
    "    current = goal\n",
    "    plan = []\n",
    "\n",
    "    while current != start:\n",
    "        found = False  # Indicateur pour vérifier si l'état courant est trouvé dans les clés\n",
    "        for key in came_from.keys():\n",
    "            if set(current).issubset(set(key)):\n",
    "                prev_state, action = came_from[key]  # Récupère l'état précédent et l'action\n",
    "                plan.append(action)  # Ajoute le nom de l'action au plan\n",
    "                current = prev_state  # Met à jour l'état courant pour continuer à remonter\n",
    "                found = True  # Met à jour l'indicateur pour montrer que nous avons trouvé un match\n",
    "                break  # Sort de la boucle car nous avons trouvé l'état courant dans les clés\n",
    "\n",
    "        if not found:  # Si après avoir vérifié toutes les clés, aucun match n'est trouvé\n",
    "            return None  # Retourne None car un chemin complet ne peut pas être reconstruit\n",
    "\n",
    "    plan.reverse()  # Inverse le plan pour qu'il commence par l'état initial\n",
    "    return plan\n",
    "\n",
    "def astar_search(init_state, goal_state, actions):\n",
    "    init_state_tuple = tuple(copy.deepcopy(init_state))\n",
    "    goal_state_tuple = tuple(copy.deepcopy(goal_state))\n",
    "\n",
    "    print(\"État initial :\", init_state_tuple)\n",
    "    print(\"État objectif :\", goal_state_tuple)\n",
    "    \n",
    "    open_list = []\n",
    "    heapq.heappush(open_list, (relaxed_graphplan_heuristic(init_state_tuple, copy.deepcopy(goal_state)), 0, init_state_tuple))\n",
    "    \n",
    "    came_from = {}\n",
    "    cost_so_far = {init_state_tuple: 0}\n",
    "\n",
    "    iteration = 0  # Ajout pour suivre le nombre d'itérations\n",
    "    while open_list:\n",
    "        _, current_cost, current_state = heapq.heappop(open_list)\n",
    "        \n",
    "        # print(f\"Iteration {iteration}\")\n",
    "        iteration += 1\n",
    "\n",
    "        if set(goal_state).issubset(set(current_state)):\n",
    "            print(\"Objectif atteint !\")\n",
    "            return reconstruct_path(came_from, init_state_tuple, goal_state_tuple)\n",
    "        \n",
    "        for action in applicable_actions(list(current_state), actions):\n",
    "            new_state = tuple(apply_action(list(current_state), action))\n",
    "            # print(f\"    Applique l'action: {action['name']} -> Nouvel état: {new_state}\")\n",
    "            new_cost = current_cost + 1  # Supposons un coût constant par action\n",
    "            if new_state not in cost_so_far or new_cost < cost_so_far[new_state]:\n",
    "                cost_so_far[new_state] = new_cost\n",
    "                h = relaxed_graphplan_heuristic(new_state, copy.deepcopy(goal_state))\n",
    "                # print(h)\n",
    "                priority = new_cost + h\n",
    "                heapq.heappush(open_list, (priority, new_cost, new_state))\n",
    "                came_from[new_state] = (current_state, action)\n",
    "\n",
    "        if iteration > 100000:  # Condition de sortie pour éviter la boucle infinie pendant le débogage\n",
    "            print(\"Arrêt\")\n",
    "            return None\n",
    "                \n",
    "    print(\"Aucun chemin trouvé.\")\n",
    "    return None\n",
    "\n",
    "# Assurez-vous que `init_state` et `goal_state` sont convertis en tuples là où vous les définissez\n",
    "import time\n",
    "start_time = time.time()\n",
    "\n",
    "path_actions = astar_search(init_state, goal_state, All_actions)\n",
    "print(\"Plan trouvé :\", path_actions)\n",
    "for action in path_actions:\n",
    "    print(action['name'])\n",
    "\n",
    "print(\"\\n\")\n",
    "print(\"Nombre d'actions dans le plan :\", len(path_actions))\n",
    "print(\"Temps d'exécution : %s secondes\" % (time.time() - start_time))"
   ]
  },
  {
   "cell_type": "code",
   "execution_count": 292,
   "metadata": {},
   "outputs": [
    {
     "name": "stdout",
     "output_type": "stream",
     "text": [
      "move(tile_5, cell_7, cell_8)\n",
      "move(tile_3, cell_6, cell_7)\n",
      "move(tile_4, cell_3, cell_6)\n",
      "move(tile_0, cell_4, cell_3)\n",
      "move(tile_7, cell_1, cell_4)\n",
      "move(tile_2, cell_0, cell_1)\n",
      "move(tile_0, cell_3, cell_0)\n",
      "move(tile_7, cell_4, cell_3)\n",
      "move(tile_1, cell_5, cell_4)\n",
      "move(tile_6, cell_2, cell_5)\n",
      "move(tile_2, cell_1, cell_2)\n",
      "move(tile_1, cell_4, cell_1)\n",
      "move(tile_3, cell_7, cell_4)\n",
      "move(tile_4, cell_6, cell_7)\n",
      "move(tile_7, cell_3, cell_6)\n",
      "move(tile_3, cell_4, cell_3)\n",
      "move(tile_4, cell_7, cell_4)\n",
      "move(tile_7, cell_6, cell_7)\n",
      "move(tile_3, cell_3, cell_6)\n",
      "move(tile_4, cell_4, cell_3)\n",
      "move(tile_6, cell_5, cell_4)\n",
      "move(tile_5, cell_8, cell_5)\n",
      "move(tile_7, cell_7, cell_8)\n",
      "move(tile_6, cell_4, cell_7)\n",
      "move(tile_4, cell_3, cell_4)\n",
      "move(tile_3, cell_6, cell_3)\n",
      "move(tile_6, cell_7, cell_6)\n",
      "move(tile_7, cell_8, cell_7)\n",
      "True\n"
     ]
    }
   ],
   "source": [
    "#on vérifie le plan obtenu\n",
    "print(valid_plan(list(path_actions)))"
   ]
  },
  {
   "cell_type": "markdown",
   "metadata": {},
   "source": [
    "# Librairie unified-planning"
   ]
  },
  {
   "cell_type": "markdown",
   "metadata": {},
   "source": [
    "### Solveur\n"
   ]
  },
  {
   "cell_type": "code",
   "execution_count": 293,
   "metadata": {},
   "outputs": [
    {
     "name": "stdout",
     "output_type": "stream",
     "text": [
      "Requirement already satisfied: unified-planning[fast-downward] in /Users/hugoplottu/.pyenv/versions/3.11.7/envs/po/lib/python3.11/site-packages (1.1.0)\n",
      "Requirement already satisfied: pyparsing in /Users/hugoplottu/.pyenv/versions/3.11.7/envs/po/lib/python3.11/site-packages (from unified-planning[fast-downward]) (3.1.2)\n",
      "Requirement already satisfied: networkx in /Users/hugoplottu/.pyenv/versions/3.11.7/envs/po/lib/python3.11/site-packages (from unified-planning[fast-downward]) (3.2.1)\n",
      "Requirement already satisfied: ConfigSpace in /Users/hugoplottu/.pyenv/versions/3.11.7/envs/po/lib/python3.11/site-packages (from unified-planning[fast-downward]) (0.7.1)\n",
      "Requirement already satisfied: up-fast-downward==0.4.1 in /Users/hugoplottu/.pyenv/versions/3.11.7/envs/po/lib/python3.11/site-packages (from unified-planning[fast-downward]) (0.4.1)\n",
      "Requirement already satisfied: numpy in /Users/hugoplottu/.pyenv/versions/3.11.7/envs/po/lib/python3.11/site-packages (from ConfigSpace->unified-planning[fast-downward]) (1.26.4)\n",
      "Requirement already satisfied: scipy in /Users/hugoplottu/.pyenv/versions/3.11.7/envs/po/lib/python3.11/site-packages (from ConfigSpace->unified-planning[fast-downward]) (1.12.0)\n",
      "Requirement already satisfied: typing-extensions in /Users/hugoplottu/.pyenv/versions/3.11.7/envs/po/lib/python3.11/site-packages (from ConfigSpace->unified-planning[fast-downward]) (4.10.0)\n",
      "Requirement already satisfied: more-itertools in /Users/hugoplottu/.pyenv/versions/3.11.7/envs/po/lib/python3.11/site-packages (from ConfigSpace->unified-planning[fast-downward]) (10.2.0)\n",
      "\n",
      "\u001b[1m[\u001b[0m\u001b[34;49mnotice\u001b[0m\u001b[1;39;49m]\u001b[0m\u001b[39;49m A new release of pip is available: \u001b[0m\u001b[31;49m23.2.1\u001b[0m\u001b[39;49m -> \u001b[0m\u001b[32;49m24.0\u001b[0m\n",
      "\u001b[1m[\u001b[0m\u001b[34;49mnotice\u001b[0m\u001b[1;39;49m]\u001b[0m\u001b[39;49m To update, run: \u001b[0m\u001b[32;49mpip install --upgrade pip\u001b[0m\n"
     ]
    }
   ],
   "source": [
    "! pip install 'unified-planning[fast-downward]'"
   ]
  },
  {
   "cell_type": "code",
   "execution_count": 294,
   "metadata": {},
   "outputs": [
    {
     "name": "stdout",
     "output_type": "stream",
     "text": [
      "\u001b[96m  *** Credits ***\n",
      "\u001b[0m\u001b[96m  * In operation mode `OneshotPlanner` at line 10 of `/var/folders/t8/bqm3crl96qx1bmc4ty9hg7_w0000gn/T/ipykernel_91442/2310336882.py`, \u001b[0m\u001b[96myou are using the following planning engine:\n",
      "\u001b[0m\u001b[96m  * Engine name: Fast Downward\n",
      "  * Developers:  Uni Basel team and contributors (cf. https://github.com/aibasel/downward/blob/main/README.md)\n",
      "\u001b[0m\u001b[96m  * Description: \u001b[0m\u001b[96mFast Downward is a domain-independent classical planning system.\u001b[0m\u001b[96m\n",
      "\u001b[0m\u001b[96m\n",
      "\u001b[0mPlan found\n",
      "SequentialPlan:\n",
      "    move(tile_6, cell_7, cell_8)\n",
      "    move(tile_4, cell_6, cell_7)\n",
      "    move(tile_5, cell_3, cell_6)\n",
      "    move(tile_3, cell_0, cell_3)\n",
      "    move(tile_0, cell_1, cell_0)\n",
      "    move(tile_2, cell_4, cell_1)\n",
      "    move(tile_1, cell_5, cell_4)\n",
      "    move(tile_7, cell_2, cell_5)\n",
      "    move(tile_2, cell_1, cell_2)\n",
      "    move(tile_1, cell_4, cell_1)\n",
      "    move(tile_4, cell_7, cell_4)\n",
      "    move(tile_5, cell_6, cell_7)\n",
      "    move(tile_3, cell_3, cell_6)\n",
      "    move(tile_4, cell_4, cell_3)\n",
      "    move(tile_5, cell_7, cell_4)\n",
      "    move(tile_6, cell_8, cell_7)\n",
      "    move(tile_7, cell_5, cell_8)\n",
      "    move(tile_5, cell_4, cell_5)\n",
      "    move(tile_4, cell_3, cell_4)\n",
      "    move(tile_3, cell_6, cell_3)\n",
      "    move(tile_6, cell_7, cell_6)\n",
      "    move(tile_7, cell_8, cell_7)\n"
     ]
    }
   ],
   "source": [
    "from unified_planning.io import PDDLReader\n",
    "from unified_planning.shortcuts import *\n",
    "from unified_planning.engines import PlanGenerationResultStatus\n",
    "\n",
    "reader = PDDLReader()\n",
    "pddl_problem = reader.parse_problem('data/taquin_domain.pddl', 'data/taquin-size3x3-conf_6.pddl')\n",
    "# print(pddl_problem)\n",
    "\n",
    "\n",
    "with OneshotPlanner(\n",
    "    problem_kind=pddl_problem.kind,\n",
    "    optimality_guarantee=PlanGenerationResultStatus.SOLVED_OPTIMALLY,\n",
    ") as planner:\n",
    "    final_report = planner.solve(pddl_problem)\n",
    "    plan = final_report.plan\n",
    "\n",
    "print(\"Plan found\")   \n",
    "print(plan)"
   ]
  },
  {
   "cell_type": "markdown",
   "metadata": {},
   "source": [
    "### Actions applicables, paramètres applicables modification de l'état"
   ]
  },
  {
   "cell_type": "code",
   "execution_count": 295,
   "metadata": {},
   "outputs": [
    {
     "name": "stdout",
     "output_type": "stream",
     "text": [
      "{clear(d1): true, on(d0, p1): true, on(d0, d1): false, clear(p1): false, clear(d0): true, clear(p2): true, on(d1, d2): true, on(d2, d3): true, on(d3, p0): true, smaller(d0, d1): true, smaller(d0, d2): true, smaller(d0, d3): true, smaller(d0, p0): true, smaller(d0, p1): true, smaller(d0, p2): true, smaller(d1, d2): true, smaller(d1, d3): true, smaller(d1, p0): true, smaller(d1, p1): true, smaller(d1, p2): true, smaller(d2, d3): true, smaller(d2, p0): true, smaller(d2, p1): true, smaller(d2, p2): true, smaller(d3, p0): true, smaller(d3, p1): true, smaller(d3, p2): true, clear(d2): false, clear(d3): false, clear(p0): false, on(d0, d0): false, on(d1, d0): false, on(d2, d0): false, on(d3, d0): false, on(p0, d0): false, on(p1, d0): false, on(p2, d0): false, on(d1, d1): false, on(d2, d1): false, on(d3, d1): false, on(p0, d1): false, on(p1, d1): false, on(p2, d1): false, on(d0, d2): false, on(d2, d2): false, on(d3, d2): false, on(p0, d2): false, on(p1, d2): false, on(p2, d2): false, on(d0, d3): false, on(d1, d3): false, on(d3, d3): false, on(p0, d3): false, on(p1, d3): false, on(p2, d3): false, on(d0, p0): false, on(d1, p0): false, on(d2, p0): false, on(p0, p0): false, on(p1, p0): false, on(p2, p0): false, on(d1, p1): false, on(d2, p1): false, on(d3, p1): false, on(p0, p1): false, on(p1, p1): false, on(p2, p1): false, on(d0, p2): false, on(d1, p2): false, on(d2, p2): false, on(d3, p2): false, on(p0, p2): false, on(p1, p2): false, on(p2, p2): false, smaller(d0, d0): false, smaller(d1, d0): false, smaller(d2, d0): false, smaller(d3, d0): false, smaller(p0, d0): false, smaller(p1, d0): false, smaller(p2, d0): false, smaller(d1, d1): false, smaller(d2, d1): false, smaller(d3, d1): false, smaller(p0, d1): false, smaller(p1, d1): false, smaller(p2, d1): false, smaller(d2, d2): false, smaller(d3, d2): false, smaller(p0, d2): false, smaller(p1, d2): false, smaller(p2, d2): false, smaller(d3, d3): false, smaller(p0, d3): false, smaller(p1, d3): false, smaller(p2, d3): false, smaller(p0, p0): false, smaller(p1, p0): false, smaller(p2, p0): false, smaller(p0, p1): false, smaller(p1, p1): false, smaller(p2, p1): false, smaller(p0, p2): false, smaller(p1, p2): false, smaller(p2, p2): false}\n"
     ]
    }
   ],
   "source": [
    "# print(pddl_problem)\n",
    "from unified_planning.io import PDDLReader\n",
    "from unified_planning.shortcuts import *\n",
    "from unified_planning.plans import ActionInstance\n",
    "\n",
    "\n",
    "reader = PDDLReader()\n",
    "pddl_problem = reader.parse_problem('data/domain.pddl', 'data/problem.pddl')\n",
    "\n",
    "simulator = SequentialSimulator(pddl_problem)\n",
    "init_state2=simulator.get_initial_state()\n",
    "goal=pddl_problem.goals\n",
    "\n",
    "(action_name, para) = tuple(simulator.get_applicable_actions(init_state2))[0] # récup de la première fonction applicable et des paramètre qui conviennent\n",
    "\n",
    "action_instance = ActionInstance(action_name, para) #création de l'objet pour appliquer la fonction\n",
    "\n",
    "new_state = simulator.apply(init_state2, action_instance) #on applique la fonction sur l'état\n",
    "\n",
    "print(new_state)\n"
   ]
  },
  {
   "cell_type": "markdown",
   "metadata": {},
   "source": [
    "# Librairie pddlpy"
   ]
  },
  {
   "cell_type": "code",
   "execution_count": 296,
   "metadata": {},
   "outputs": [
    {
     "name": "stdout",
     "output_type": "stream",
     "text": [
      "{'on': None, 'd0': None, 'p1': None, 'd3': None, 'p0': None, 'smaller': None, 'd1': None, 'p2': None, 'd2': None, 'clear': None}\n",
      "{('clear', 'p1'), ('smaller', 'd3', 'p2'), ('smaller', 'd0', 'd2'), ('smaller', 'd2', 'p2'), ('smaller', 'd0', 'p0'), ('clear', 'p2'), ('on', 'd1', 'd2'), ('smaller', 'd0', 'p2'), ('smaller', 'd0', 'd1'), ('smaller', 'd0', 'd3'), ('smaller', 'd1', 'p2'), ('on', 'd2', 'd3'), ('smaller', 'd1', 'd2'), ('smaller', 'd1', 'p0'), ('smaller', 'd3', 'p1'), ('clear', 'd0'), ('smaller', 'd0', 'p1'), ('smaller', 'd2', 'd3'), ('smaller', 'd2', 'p0'), ('on', 'd0', 'd1'), ('smaller', 'd1', 'p1'), ('smaller', 'd3', 'p0'), ('smaller', 'd1', 'd3'), ('smaller', 'd2', 'p1'), ('on', 'd3', 'p0')}\n",
      "{('smaller', 'd2', 'd3'), ('clear', 'p0'), ('smaller', 'd3', 'p0'), ('smaller', 'd0', 'p1'), ('smaller', 'd1', 'p0'), ('smaller', 'd0', 'p2'), ('smaller', 'd0', 'd3'), ('smaller', 'd2', 'p0'), ('on', 'd2', 'd3'), ('smaller', 'd1', 'd2'), ('smaller', 'd2', 'p1'), ('smaller', 'd3', 'p1'), ('smaller', 'd0', 'p0'), ('on', 'd1', 'd2'), ('smaller', 'd1', 'd3'), ('smaller', 'd0', 'd1'), ('smaller', 'd0', 'd1'), ('smaller', 'd1', 'p1'), ('smaller', 'd1', 'p2'), ('on', 'd0', 'd1'), ('on', 'd3', 'p2'), ('clear', 'p1'), ('smaller', 'd3', 'p2'), ('smaller', 'd2', 'p2'), ('clear', 'd0'), ('smaller', 'd0', 'd2')}\n",
      "dict_keys(['move'])\n",
      "<generator object DomainProblem.ground_operator at 0x158310f40>\n",
      "Operator Name: move\n",
      "\tVariables: {'?x': None, '?y': None, '?z': None}\n",
      "\tPositive Preconditions: {('clear', '?x'), ('smaller', '?x', '?z'), ('on', '?x', '?y'), ('clear', '?z')}\n",
      "\tNegative Preconditions: set()\n",
      "\tPositive Effects: {('clear', '?y'), ('on', '?x', '?z')}\n",
      "\tNegative Effects: {('clear', '?z'), ('on', '?x', '?y')}\n",
      "\n",
      "Help on generator object:\n",
      "\n",
      "ground_operator = class generator(object)\n",
      " |  Methods defined here:\n",
      " |  \n",
      " |  __del__(...)\n",
      " |  \n",
      " |  __getattribute__(self, name, /)\n",
      " |      Return getattr(self, name).\n",
      " |  \n",
      " |  __iter__(self, /)\n",
      " |      Implement iter(self).\n",
      " |  \n",
      " |  __next__(self, /)\n",
      " |      Implement next(self).\n",
      " |  \n",
      " |  __repr__(self, /)\n",
      " |      Return repr(self).\n",
      " |  \n",
      " |  __sizeof__(...)\n",
      " |      gen.__sizeof__() -> size of gen in memory, in bytes\n",
      " |  \n",
      " |  close(...)\n",
      " |      close() -> raise GeneratorExit inside generator.\n",
      " |  \n",
      " |  send(...)\n",
      " |      send(arg) -> send 'arg' into generator,\n",
      " |      return next yielded value or raise StopIteration.\n",
      " |  \n",
      " |  throw(...)\n",
      " |      throw(value)\n",
      " |      throw(type[,value[,tb]])\n",
      " |      \n",
      " |      Raise exception in generator, return next yielded value or raise\n",
      " |      StopIteration.\n",
      " |  \n",
      " |  ----------------------------------------------------------------------\n",
      " |  Data descriptors defined here:\n",
      " |  \n",
      " |  gi_code\n",
      " |  \n",
      " |  gi_frame\n",
      " |  \n",
      " |  gi_running\n",
      " |  \n",
      " |  gi_suspended\n",
      " |  \n",
      " |  gi_yieldfrom\n",
      " |      object being iterated by yield from, or None\n",
      "\n"
     ]
    }
   ],
   "source": [
    "import pddlpy\n",
    "\n",
    "# Load your domain and problem PDDL files\n",
    "domprob = pddlpy.DomainProblem('data/domain.pddl', 'data/problem.pddl')\n",
    "print(domprob.worldobjects())\n",
    "print(domprob.initialstate())\n",
    "print(domprob.goals())\n",
    "print(domprob.operators())\n",
    "print(domprob.ground_operator('move'))\n",
    "print(domprob.domain.operators['move'])\n",
    "\n",
    "help(domprob.ground_operator('move'))"
   ]
  }
 ],
 "metadata": {
  "kernelspec": {
   "display_name": "po",
   "language": "python",
   "name": "python3"
  },
  "language_info": {
   "codemirror_mode": {
    "name": "ipython",
    "version": 3
   },
   "file_extension": ".py",
   "mimetype": "text/x-python",
   "name": "python",
   "nbconvert_exporter": "python",
   "pygments_lexer": "ipython3",
   "version": "3.11.0"
  }
 },
 "nbformat": 4,
 "nbformat_minor": 2
}
