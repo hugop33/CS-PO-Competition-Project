{
 "cells": [
  {
   "cell_type": "code",
   "execution_count": 137,
   "metadata": {},
   "outputs": [],
   "source": [
    "#execution requirements.txt\n",
    "#! pip install -r requirements.txt"
   ]
  },
  {
   "cell_type": "markdown",
   "metadata": {},
   "source": [
    "# Librairie PDDL"
   ]
  },
  {
   "cell_type": "markdown",
   "metadata": {},
   "source": [
    "### Exploration librairie"
   ]
  },
  {
   "cell_type": "code",
   "execution_count": 187,
   "metadata": {},
   "outputs": [
    {
     "name": "stdout",
     "output_type": "stream",
     "text": [
      "Initial :  [Predicate(on, d2, d3), Predicate(smaller, d0, d3), Predicate(clear, d0), Predicate(clear, p2), Predicate(smaller, d2, p0), Predicate(smaller, d3, p0), Predicate(clear, p1), Predicate(smaller, d1, p0), Predicate(smaller, d0, p0), Predicate(on, d3, p0), Predicate(smaller, d1, d2), Predicate(smaller, d2, p2), Predicate(smaller, d1, p1), Predicate(smaller, d3, p2), Predicate(smaller, d1, p2), Predicate(on, d1, d2), Predicate(smaller, d2, p1), Predicate(smaller, d0, p2), Predicate(smaller, d3, p1), Predicate(smaller, d0, d1), Predicate(smaller, d1, d3), Predicate(smaller, d0, d2), Predicate(on, d0, d1), Predicate(smaller, d0, p1), Predicate(smaller, d2, d3)]\n",
      "Goal :  [Predicate(on, d0, d1), Predicate(on, d1, d2), Predicate(on, d2, d3), Predicate(on, d3, p2)]\n",
      "0bjects : [Constant(d3), Constant(p0), Constant(d2), Constant(d0), Constant(d1), Constant(p2), Constant(p1)]\n",
      "Predicates :  [Predicate(on, ?x, ?y), Predicate(clear, ?x), Predicate(smaller, ?x, ?y)]\n",
      "Actions :  [Action(move, parameters=?x, ?y, ?z, precondition=(and (smaller ?x ?z) (on ?x ?y) (clear ?x) (clear ?z)), effect=(and (clear ?y) (on ?x ?z) (not (on ?x ?y)) (not (clear ?z))))]\n",
      "Action 0 Name :  move\n",
      "Action 0 Precondition :  [Predicate(smaller, ?x, ?z), Predicate(on, ?x, ?y), Predicate(clear, ?x), Predicate(clear, ?z)]\n",
      "Action 0 Effect :  [Predicate(clear, ?y), Predicate(on, ?x, ?z), Not(Predicate(on, ?x, ?y)), Not(Predicate(clear, ?z))]\n",
      "Action 0 Parameters :  [Variable(x), Variable(y), Variable(z)]\n"
     ]
    }
   ],
   "source": [
    "from pddl.parser.domain import DomainParser\n",
    "from pddl.parser.problem import ProblemParser\n",
    "import pddl\n",
    "from itertools import product\n",
    "import copy\n",
    "\n",
    "#import data/domain.pddl in str\n",
    "\n",
    "domain_str = open(\"data/domain.pddl\").read()\n",
    "problem_str = open(\"data/problem.pddl\").read()  \n",
    "\n",
    "# print(domain_str)\n",
    "# print(problem_str)\n",
    "\n",
    "\n",
    "domain = DomainParser()(domain_str)\n",
    "problem = ProblemParser()(problem_str)\n",
    "\n",
    "init_state = problem.init\n",
    "goal_state = problem.goal\n",
    "\n",
    "# PROBLEM\n",
    "print(\"Initial : \", list(init_state))\n",
    "print(\"Goal : \", problem.goal.__getstate__()['_operands'])\n",
    "print(\"0bjects :\", list(problem.objects))\n",
    "\n",
    "\n",
    "# DOMAIN\n",
    "print(\"Predicates : \", list(domain.predicates))\n",
    "print(\"Actions : \", list(domain.actions))\n",
    "print(\"Action 0 Name : \",list((domain.actions))[0].name)\n",
    "print(\"Action 0 Precondition : \",list(list((domain.actions))[0].precondition.operands))\n",
    "print(\"Action 0 Effect : \",list(list((domain.actions))[0].effect.operands))\n",
    "print(\"Action 0 Parameters : \",list(list((domain.actions))[0].parameters))\n"
   ]
  },
  {
   "cell_type": "markdown",
   "metadata": {},
   "source": [
    "### Fonction pour générer toutes les actions possibles du problème"
   ]
  },
  {
   "cell_type": "code",
   "execution_count": 186,
   "metadata": {},
   "outputs": [],
   "source": [
    "\n",
    "\n",
    "def generate_klist(variables, k):\n",
    "    return list(product(variables, repeat=k))\n",
    "\n",
    "def all_actions(domain, problem):\n",
    "    Actions = []\n",
    "    # pour toute les actions\n",
    "    for a in range(len(domain.actions)):\n",
    "        action = list(domain.actions)[a]\n",
    "        possiblity=generate_klist(list(problem.objects), len(list(action.parameters)))\n",
    "        # pour toutes les combinaisons de variables possible pour une action\n",
    "        for klist in possiblity:\n",
    "            dict_action = {}\n",
    "            # name\n",
    "            dict_action['name'] = action.name.__str__()+\"_\"+'_'.join([v.__str__() for v in klist])\n",
    "            dict_var=dict(zip(action.parameters, klist))\n",
    "            # preconditions\n",
    "            dict_action['preconditions'] = []\n",
    "\n",
    "            for p in range(len(list(list((domain.actions))[a].precondition.operands))):\n",
    "                precondition = copy.deepcopy(list(list((domain.actions))[a].precondition.operands)[:])[p]\n",
    "                terms =tuple([dict_var[v] for v in precondition.__getstate__()['_terms']])\n",
    "                precondition.__getstate__()['_terms']=terms\n",
    "                dict_action['preconditions'].append(precondition)\n",
    "\n",
    "            effects=copy.deepcopy(list(list((domain.actions))[a].effect.operands))\n",
    "\n",
    "            # positive effects\n",
    "            dict_action['positive effects'] = []\n",
    "\n",
    "            # negative effects\n",
    "            dict_action['negative effects'] = []\n",
    "\n",
    "            for e in range(len(effects)):\n",
    "                effect = effects[e]\n",
    "                if type(effect) is pddl.logic.predicates.Predicate:\n",
    "                    terms =tuple([dict_var[v] for v in effect.__getstate__()['_terms']])\n",
    "                    effect.__getstate__()['_terms']=terms\n",
    "                    dict_action['positive effects'].append(effect)  \n",
    "\n",
    "                elif type(effect) is pddl.logic.base.Not:\n",
    "                    terms =tuple([dict_var[v] for v in effect.__getstate__()['_arg'].__getstate__()['_terms']])\n",
    "                    effect.__getstate__()['_arg'].__getstate__()['_terms']=terms\n",
    "                    dict_action['negative effects'].append(effect)         \n",
    "                          \n",
    "            Actions.append(dict_action) \n",
    "    return Actions\n",
    "            \n",
    "# print(all_actions(domain, problem))"
   ]
  },
  {
   "cell_type": "markdown",
   "metadata": {},
   "source": [
    "### Heuristique"
   ]
  },
  {
   "cell_type": "code",
   "execution_count": null,
   "metadata": {},
   "outputs": [],
   "source": []
  },
  {
   "cell_type": "markdown",
   "metadata": {},
   "source": [
    "### Fonction de vérification du planner"
   ]
  },
  {
   "cell_type": "code",
   "execution_count": null,
   "metadata": {},
   "outputs": [],
   "source": []
  },
  {
   "cell_type": "markdown",
   "metadata": {},
   "source": [
    "### Algo de planification"
   ]
  },
  {
   "cell_type": "code",
   "execution_count": null,
   "metadata": {},
   "outputs": [],
   "source": []
  },
  {
   "cell_type": "markdown",
   "metadata": {},
   "source": [
    "# Librairie unified-planning"
   ]
  },
  {
   "cell_type": "markdown",
   "metadata": {},
   "source": [
    "### Exemple de solution\n"
   ]
  },
  {
   "cell_type": "code",
   "execution_count": null,
   "metadata": {},
   "outputs": [],
   "source": [
    "#! pip install 'unified-planning[fast-downward]'"
   ]
  },
  {
   "cell_type": "code",
   "execution_count": null,
   "metadata": {},
   "outputs": [
    {
     "name": "stdout",
     "output_type": "stream",
     "text": [
      "\u001b[96m  *** Credits ***\n",
      "\u001b[0m\u001b[96m  * In operation mode `OneshotPlanner` at line 10 of `/var/folders/t8/bqm3crl96qx1bmc4ty9hg7_w0000gn/T/ipykernel_63708/2876110265.py`, \u001b[0m\u001b[96myou are using the following planning engine:\n",
      "\u001b[0m\u001b[96m  * Engine name: Fast Downward\n",
      "  * Developers:  Uni Basel team and contributors (cf. https://github.com/aibasel/downward/blob/main/README.md)\n",
      "\u001b[0m\u001b[96m  * Description: \u001b[0m\u001b[96mFast Downward is a domain-independent classical planning system.\u001b[0m\u001b[96m\n",
      "\u001b[0m\u001b[96m\n",
      "\u001b[0mPlan found\n",
      "problem name = pb-4discs-3pegs\n",
      "\n",
      "types = [object]\n",
      "\n",
      "fluents = [\n",
      "  bool clear[x=object]\n",
      "  bool on[x=object, y=object]\n",
      "  bool smaller[x=object, y=object]\n",
      "]\n",
      "\n",
      "actions = [\n",
      "  action move(object x, object y, object z) {\n",
      "    preconditions = [\n",
      "      (smaller(x, z) and on(x, y) and clear(x) and clear(z))\n",
      "    ]\n",
      "    effects = [\n",
      "      clear(y) := true\n",
      "      on(x, z) := true\n",
      "      on(x, y) := false\n",
      "      clear(z) := false\n",
      "    ]\n",
      "  }\n",
      "]\n",
      "\n",
      "objects = [\n",
      "  object: [d0, d1, d2, d3, p0, p1, p2]\n",
      "]\n",
      "\n",
      "initial fluents default = [\n",
      "  bool clear[x=object] := false\n",
      "  bool on[x=object, y=object] := false\n",
      "  bool smaller[x=object, y=object] := false\n",
      "]\n",
      "\n",
      "initial values = [\n",
      "  clear(d0) := true\n",
      "  clear(p1) := true\n",
      "  clear(p2) := true\n",
      "  on(d0, d1) := true\n",
      "  on(d1, d2) := true\n",
      "  on(d2, d3) := true\n",
      "  on(d3, p0) := true\n",
      "  smaller(d0, d1) := true\n",
      "  smaller(d0, d2) := true\n",
      "  smaller(d0, d3) := true\n",
      "  smaller(d0, p0) := true\n",
      "  smaller(d0, p1) := true\n",
      "  smaller(d0, p2) := true\n",
      "  smaller(d1, d2) := true\n",
      "  smaller(d1, d3) := true\n",
      "  smaller(d1, p0) := true\n",
      "  smaller(d1, p1) := true\n",
      "  smaller(d1, p2) := true\n",
      "  smaller(d2, d3) := true\n",
      "  smaller(d2, p0) := true\n",
      "  smaller(d2, p1) := true\n",
      "  smaller(d2, p2) := true\n",
      "  smaller(d3, p0) := true\n",
      "  smaller(d3, p1) := true\n",
      "  smaller(d3, p2) := true\n",
      "]\n",
      "\n",
      "goals = [\n",
      "  (on(d0, d1) and on(d1, d2) and on(d2, d3) and on(d3, p2))\n",
      "]\n",
      "\n",
      "\n"
     ]
    }
   ],
   "source": [
    "from unified_planning.io import PDDLReader\n",
    "from unified_planning.shortcuts import *\n",
    "from unified_planning.engines import PlanGenerationResultStatus\n",
    "\n",
    "reader = PDDLReader()\n",
    "pddl_problem = reader.parse_problem('data/domain.pddl', 'data/problem.pddl')\n",
    "# print(pddl_problem)\n",
    "\n",
    "\n",
    "with OneshotPlanner(\n",
    "    problem_kind=pddl_problem.kind,\n",
    "    optimality_guarantee=PlanGenerationResultStatus.SOLVED_OPTIMALLY,\n",
    ") as planner:\n",
    "    final_report = planner.solve(pddl_problem)\n",
    "    plan = final_report.plan\n",
    "\n",
    "print(\"Plan found\")   \n",
    "print(pddl_problem)"
   ]
  },
  {
   "cell_type": "markdown",
   "metadata": {},
   "source": [
    "### Actions applicables, paramètres applicables modification de l'état"
   ]
  },
  {
   "cell_type": "code",
   "execution_count": null,
   "metadata": {},
   "outputs": [
    {
     "name": "stdout",
     "output_type": "stream",
     "text": [
      "{clear(d1): true, on(d0, p1): true, on(d0, d1): false, clear(p1): false, clear(d0): true, clear(p2): true, on(d1, d2): true, on(d2, d3): true, on(d3, p0): true, smaller(d0, d1): true, smaller(d0, d2): true, smaller(d0, d3): true, smaller(d0, p0): true, smaller(d0, p1): true, smaller(d0, p2): true, smaller(d1, d2): true, smaller(d1, d3): true, smaller(d1, p0): true, smaller(d1, p1): true, smaller(d1, p2): true, smaller(d2, d3): true, smaller(d2, p0): true, smaller(d2, p1): true, smaller(d2, p2): true, smaller(d3, p0): true, smaller(d3, p1): true, smaller(d3, p2): true, clear(d2): false, clear(d3): false, clear(p0): false, on(d0, d0): false, on(d1, d0): false, on(d2, d0): false, on(d3, d0): false, on(p0, d0): false, on(p1, d0): false, on(p2, d0): false, on(d1, d1): false, on(d2, d1): false, on(d3, d1): false, on(p0, d1): false, on(p1, d1): false, on(p2, d1): false, on(d0, d2): false, on(d2, d2): false, on(d3, d2): false, on(p0, d2): false, on(p1, d2): false, on(p2, d2): false, on(d0, d3): false, on(d1, d3): false, on(d3, d3): false, on(p0, d3): false, on(p1, d3): false, on(p2, d3): false, on(d0, p0): false, on(d1, p0): false, on(d2, p0): false, on(p0, p0): false, on(p1, p0): false, on(p2, p0): false, on(d1, p1): false, on(d2, p1): false, on(d3, p1): false, on(p0, p1): false, on(p1, p1): false, on(p2, p1): false, on(d0, p2): false, on(d1, p2): false, on(d2, p2): false, on(d3, p2): false, on(p0, p2): false, on(p1, p2): false, on(p2, p2): false, smaller(d0, d0): false, smaller(d1, d0): false, smaller(d2, d0): false, smaller(d3, d0): false, smaller(p0, d0): false, smaller(p1, d0): false, smaller(p2, d0): false, smaller(d1, d1): false, smaller(d2, d1): false, smaller(d3, d1): false, smaller(p0, d1): false, smaller(p1, d1): false, smaller(p2, d1): false, smaller(d2, d2): false, smaller(d3, d2): false, smaller(p0, d2): false, smaller(p1, d2): false, smaller(p2, d2): false, smaller(d3, d3): false, smaller(p0, d3): false, smaller(p1, d3): false, smaller(p2, d3): false, smaller(p0, p0): false, smaller(p1, p0): false, smaller(p2, p0): false, smaller(p0, p1): false, smaller(p1, p1): false, smaller(p2, p1): false, smaller(p0, p2): false, smaller(p1, p2): false, smaller(p2, p2): false}\n"
     ]
    }
   ],
   "source": [
    "# print(pddl_problem)\n",
    "from unified_planning.io import PDDLReader\n",
    "from unified_planning.shortcuts import *\n",
    "from unified_planning.plans import ActionInstance\n",
    "\n",
    "reader = PDDLReader()\n",
    "pddl_problem = reader.parse_problem('data/domain.pddl', 'data/problem.pddl')\n",
    "\n",
    "simulator = SequentialSimulator(pddl_problem)\n",
    "init_state=simulator.get_initial_state()\n",
    "goal=pddl_problem.goals\n",
    "\n",
    "(action_name, para) = tuple(simulator.get_applicable_actions(init_state))[0] # récup de la première fonction applicable et des paramètre qui conviennent\n",
    "\n",
    "action_instance = ActionInstance(action_name, para) #création de l'objet pour appliquer la fonction\n",
    "\n",
    "new_state = simulator.apply(init_state, action_instance) #on applique la fonction sur l'état\n",
    "\n",
    "print(new_state)\n"
   ]
  },
  {
   "cell_type": "markdown",
   "metadata": {},
   "source": [
    "# Librairie PDDLPY"
   ]
  },
  {
   "cell_type": "code",
   "execution_count": null,
   "metadata": {},
   "outputs": [],
   "source": [
    "import pddlpy\n",
    "\n",
    "# Load your domain and problem PDDL files\n",
    "domprob = pddlpy.DomainProblem('data/domain.pddl', 'data/problem.pddl')\n",
    "print(domprob.worldobjects())\n",
    "print(domprob.initialstate())\n",
    "print(domprob.goals())\n",
    "print(domprob.operators())\n",
    "print(domprob.ground_operator('move'))\n",
    "print(domprob.domain.operators['move'])\n",
    "\n",
    "help(domprob.ground_operator('move'))"
   ]
  }
 ],
 "metadata": {
  "kernelspec": {
   "display_name": "po",
   "language": "python",
   "name": "python3"
  },
  "language_info": {
   "codemirror_mode": {
    "name": "ipython",
    "version": 3
   },
   "file_extension": ".py",
   "mimetype": "text/x-python",
   "name": "python",
   "nbconvert_exporter": "python",
   "pygments_lexer": "ipython3",
   "version": "3.11.7"
  }
 },
 "nbformat": 4,
 "nbformat_minor": 2
}
