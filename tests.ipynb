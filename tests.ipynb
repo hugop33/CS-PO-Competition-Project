{
 "cells": [
  {
   "cell_type": "code",
   "execution_count": 26,
   "metadata": {},
   "outputs": [],
   "source": [
    "#execution requirements.txt\n",
    "#! pip install -r requirements.txt"
   ]
  },
  {
   "cell_type": "markdown",
   "metadata": {},
   "source": [
    "# Librairie pddl"
   ]
  },
  {
   "cell_type": "markdown",
   "metadata": {},
   "source": [
    "### Librairies"
   ]
  },
  {
   "cell_type": "code",
   "execution_count": 27,
   "metadata": {},
   "outputs": [],
   "source": [
    "from pddl.parser.domain import DomainParser\n",
    "from pddl.parser.problem import ProblemParser\n",
    "import pddl\n",
    "from itertools import product, permutations\n",
    "import copy\n",
    "import heapq\n",
    "\n",
    "# domain_str = open(\"data/domain.pddl\").read()\n",
    "# problem_str = open(\"data/problem.pddl\").read() \n",
    "domain_str = open(\"data/taquin_domain.pddl\").read()\n",
    "problem_str = open(\"data/taquin-size3x3-conf_1.pddl\").read()  \n",
    "# domain_str = open(\"data/rubiks2x2_domain.pddl\").read()\n",
    "# problem_str = open(\"data/rubiks2x2_problem_easy.pddl\").read()  \n",
    "\n",
    "\n",
    "domain = DomainParser()(domain_str)\n",
    "problem = ProblemParser()(problem_str)\n",
    "\n",
    "init_state = copy.deepcopy(list(problem.init))\n",
    "goal_state = copy.deepcopy(list(problem.goal.__getstate__()['_operands']))\n",
    "\n",
    "\n",
    "# print(\"actions\", list(list(domain.actions)[0].parameters)[0].__getstate__()['_type_tags'])"
   ]
  },
  {
   "cell_type": "markdown",
   "metadata": {},
   "source": [
    "### Optimisation all actions"
   ]
  },
  {
   "cell_type": "code",
   "execution_count": 28,
   "metadata": {},
   "outputs": [
    {
     "name": "stdout",
     "output_type": "stream",
     "text": [
      "Effects Actions :  ['on', 'empty']\n"
     ]
    }
   ],
   "source": [
    "effects_name = []  \n",
    "for action in domain.actions:\n",
    "    # Vérifie si l'effet contient des opérandes et les traite en conséquence\n",
    "    if hasattr(action.effect, 'operands'):\n",
    "        effects = action.effect.operands\n",
    "    else:\n",
    "        effects = [action.effect]  # Traite l'effet comme un seul élément s'il n'est pas dans un 'and'\n",
    "\n",
    "    for effect in effects:\n",
    "        if isinstance(effect, pddl.logic.predicates.Predicate):\n",
    "            effects_name.append(effect.name)\n",
    "        elif isinstance(effect, pddl.logic.base.Not) and isinstance(effect.argument, pddl.logic.predicates.Predicate):\n",
    "            effects_name.append(effect.argument.name)\n",
    "\n",
    "# Éliminer les doublons\n",
    "effects_name = list(set(effects_name))\n",
    "print(\"Effects Actions : \", effects_name)\n"
   ]
  },
  {
   "cell_type": "markdown",
   "metadata": {},
   "source": [
    "### Fonction pour générer toutes les actions possibles du problème"
   ]
  },
  {
   "cell_type": "code",
   "execution_count": 29,
   "metadata": {},
   "outputs": [
    {
     "name": "stdout",
     "output_type": "stream",
     "text": [
      "All Actions :  [{'name': 'move(tile_7, cell_5, cell_2)', 'preconditions': [Predicate(on, tile_7, cell_5), Predicate(empty, cell_2), Predicate(touch, cell_5, cell_2)], 'positive effects': [Predicate(on, tile_7, cell_2), Predicate(empty, cell_5)], 'negative effects': [Not(Predicate(on, tile_7, cell_5)), Not(Predicate(empty, cell_2))]}, {'name': 'move(tile_7, cell_5, cell_8)', 'preconditions': [Predicate(on, tile_7, cell_5), Predicate(empty, cell_8), Predicate(touch, cell_5, cell_8)], 'positive effects': [Predicate(on, tile_7, cell_8), Predicate(empty, cell_5)], 'negative effects': [Not(Predicate(on, tile_7, cell_5)), Not(Predicate(empty, cell_8))]}, {'name': 'move(tile_7, cell_5, cell_4)', 'preconditions': [Predicate(on, tile_7, cell_5), Predicate(empty, cell_4), Predicate(touch, cell_5, cell_4)], 'positive effects': [Predicate(on, tile_7, cell_4), Predicate(empty, cell_5)], 'negative effects': [Not(Predicate(on, tile_7, cell_5)), Not(Predicate(empty, cell_4))]}, {'name': 'move(tile_7, cell_1, cell_2)', 'preconditions': [Predicate(on, tile_7, cell_1), Predicate(empty, cell_2), Predicate(touch, cell_1, cell_2)], 'positive effects': [Predicate(on, tile_7, cell_2), Predicate(empty, cell_1)], 'negative effects': [Not(Predicate(on, tile_7, cell_1)), Not(Predicate(empty, cell_2))]}, {'name': 'move(tile_7, cell_1, cell_0)', 'preconditions': [Predicate(on, tile_7, cell_1), Predicate(empty, cell_0), Predicate(touch, cell_1, cell_0)], 'positive effects': [Predicate(on, tile_7, cell_0), Predicate(empty, cell_1)], 'negative effects': [Not(Predicate(on, tile_7, cell_1)), Not(Predicate(empty, cell_0))]}, {'name': 'move(tile_7, cell_1, cell_4)', 'preconditions': [Predicate(on, tile_7, cell_1), Predicate(empty, cell_4), Predicate(touch, cell_1, cell_4)], 'positive effects': [Predicate(on, tile_7, cell_4), Predicate(empty, cell_1)], 'negative effects': [Not(Predicate(on, tile_7, cell_1)), Not(Predicate(empty, cell_4))]}, {'name': 'move(tile_7, cell_2, cell_5)', 'preconditions': [Predicate(on, tile_7, cell_2), Predicate(empty, cell_5), Predicate(touch, cell_2, cell_5)], 'positive effects': [Predicate(on, tile_7, cell_5), Predicate(empty, cell_2)], 'negative effects': [Not(Predicate(on, tile_7, cell_2)), Not(Predicate(empty, cell_5))]}, {'name': 'move(tile_7, cell_2, cell_1)', 'preconditions': [Predicate(on, tile_7, cell_2), Predicate(empty, cell_1), Predicate(touch, cell_2, cell_1)], 'positive effects': [Predicate(on, tile_7, cell_1), Predicate(empty, cell_2)], 'negative effects': [Not(Predicate(on, tile_7, cell_2)), Not(Predicate(empty, cell_1))]}, {'name': 'move(tile_7, cell_6, cell_7)', 'preconditions': [Predicate(on, tile_7, cell_6), Predicate(empty, cell_7), Predicate(touch, cell_6, cell_7)], 'positive effects': [Predicate(on, tile_7, cell_7), Predicate(empty, cell_6)], 'negative effects': [Not(Predicate(on, tile_7, cell_6)), Not(Predicate(empty, cell_7))]}, {'name': 'move(tile_7, cell_6, cell_3)', 'preconditions': [Predicate(on, tile_7, cell_6), Predicate(empty, cell_3), Predicate(touch, cell_6, cell_3)], 'positive effects': [Predicate(on, tile_7, cell_3), Predicate(empty, cell_6)], 'negative effects': [Not(Predicate(on, tile_7, cell_6)), Not(Predicate(empty, cell_3))]}, {'name': 'move(tile_7, cell_8, cell_5)', 'preconditions': [Predicate(on, tile_7, cell_8), Predicate(empty, cell_5), Predicate(touch, cell_8, cell_5)], 'positive effects': [Predicate(on, tile_7, cell_5), Predicate(empty, cell_8)], 'negative effects': [Not(Predicate(on, tile_7, cell_8)), Not(Predicate(empty, cell_5))]}, {'name': 'move(tile_7, cell_8, cell_7)', 'preconditions': [Predicate(on, tile_7, cell_8), Predicate(empty, cell_7), Predicate(touch, cell_8, cell_7)], 'positive effects': [Predicate(on, tile_7, cell_7), Predicate(empty, cell_8)], 'negative effects': [Not(Predicate(on, tile_7, cell_8)), Not(Predicate(empty, cell_7))]}, {'name': 'move(tile_7, cell_0, cell_1)', 'preconditions': [Predicate(on, tile_7, cell_0), Predicate(empty, cell_1), Predicate(touch, cell_0, cell_1)], 'positive effects': [Predicate(on, tile_7, cell_1), Predicate(empty, cell_0)], 'negative effects': [Not(Predicate(on, tile_7, cell_0)), Not(Predicate(empty, cell_1))]}, {'name': 'move(tile_7, cell_0, cell_3)', 'preconditions': [Predicate(on, tile_7, cell_0), Predicate(empty, cell_3), Predicate(touch, cell_0, cell_3)], 'positive effects': [Predicate(on, tile_7, cell_3), Predicate(empty, cell_0)], 'negative effects': [Not(Predicate(on, tile_7, cell_0)), Not(Predicate(empty, cell_3))]}, {'name': 'move(tile_7, cell_7, cell_6)', 'preconditions': [Predicate(on, tile_7, cell_7), Predicate(empty, cell_6), Predicate(touch, cell_7, cell_6)], 'positive effects': [Predicate(on, tile_7, cell_6), Predicate(empty, cell_7)], 'negative effects': [Not(Predicate(on, tile_7, cell_7)), Not(Predicate(empty, cell_6))]}, {'name': 'move(tile_7, cell_7, cell_8)', 'preconditions': [Predicate(on, tile_7, cell_7), Predicate(empty, cell_8), Predicate(touch, cell_7, cell_8)], 'positive effects': [Predicate(on, tile_7, cell_8), Predicate(empty, cell_7)], 'negative effects': [Not(Predicate(on, tile_7, cell_7)), Not(Predicate(empty, cell_8))]}, {'name': 'move(tile_7, cell_7, cell_4)', 'preconditions': [Predicate(on, tile_7, cell_7), Predicate(empty, cell_4), Predicate(touch, cell_7, cell_4)], 'positive effects': [Predicate(on, tile_7, cell_4), Predicate(empty, cell_7)], 'negative effects': [Not(Predicate(on, tile_7, cell_7)), Not(Predicate(empty, cell_4))]}, {'name': 'move(tile_7, cell_4, cell_5)', 'preconditions': [Predicate(on, tile_7, cell_4), Predicate(empty, cell_5), Predicate(touch, cell_4, cell_5)], 'positive effects': [Predicate(on, tile_7, cell_5), Predicate(empty, cell_4)], 'negative effects': [Not(Predicate(on, tile_7, cell_4)), Not(Predicate(empty, cell_5))]}, {'name': 'move(tile_7, cell_4, cell_1)', 'preconditions': [Predicate(on, tile_7, cell_4), Predicate(empty, cell_1), Predicate(touch, cell_4, cell_1)], 'positive effects': [Predicate(on, tile_7, cell_1), Predicate(empty, cell_4)], 'negative effects': [Not(Predicate(on, tile_7, cell_4)), Not(Predicate(empty, cell_1))]}, {'name': 'move(tile_7, cell_4, cell_7)', 'preconditions': [Predicate(on, tile_7, cell_4), Predicate(empty, cell_7), Predicate(touch, cell_4, cell_7)], 'positive effects': [Predicate(on, tile_7, cell_7), Predicate(empty, cell_4)], 'negative effects': [Not(Predicate(on, tile_7, cell_4)), Not(Predicate(empty, cell_7))]}, {'name': 'move(tile_7, cell_4, cell_3)', 'preconditions': [Predicate(on, tile_7, cell_4), Predicate(empty, cell_3), Predicate(touch, cell_4, cell_3)], 'positive effects': [Predicate(on, tile_7, cell_3), Predicate(empty, cell_4)], 'negative effects': [Not(Predicate(on, tile_7, cell_4)), Not(Predicate(empty, cell_3))]}, {'name': 'move(tile_7, cell_3, cell_6)', 'preconditions': [Predicate(on, tile_7, cell_3), Predicate(empty, cell_6), Predicate(touch, cell_3, cell_6)], 'positive effects': [Predicate(on, tile_7, cell_6), Predicate(empty, cell_3)], 'negative effects': [Not(Predicate(on, tile_7, cell_3)), Not(Predicate(empty, cell_6))]}, {'name': 'move(tile_7, cell_3, cell_0)', 'preconditions': [Predicate(on, tile_7, cell_3), Predicate(empty, cell_0), Predicate(touch, cell_3, cell_0)], 'positive effects': [Predicate(on, tile_7, cell_0), Predicate(empty, cell_3)], 'negative effects': [Not(Predicate(on, tile_7, cell_3)), Not(Predicate(empty, cell_0))]}, {'name': 'move(tile_7, cell_3, cell_4)', 'preconditions': [Predicate(on, tile_7, cell_3), Predicate(empty, cell_4), Predicate(touch, cell_3, cell_4)], 'positive effects': [Predicate(on, tile_7, cell_4), Predicate(empty, cell_3)], 'negative effects': [Not(Predicate(on, tile_7, cell_3)), Not(Predicate(empty, cell_4))]}, {'name': 'move(tile_4, cell_5, cell_2)', 'preconditions': [Predicate(on, tile_4, cell_5), Predicate(empty, cell_2), Predicate(touch, cell_5, cell_2)], 'positive effects': [Predicate(on, tile_4, cell_2), Predicate(empty, cell_5)], 'negative effects': [Not(Predicate(on, tile_4, cell_5)), Not(Predicate(empty, cell_2))]}, {'name': 'move(tile_4, cell_5, cell_8)', 'preconditions': [Predicate(on, tile_4, cell_5), Predicate(empty, cell_8), Predicate(touch, cell_5, cell_8)], 'positive effects': [Predicate(on, tile_4, cell_8), Predicate(empty, cell_5)], 'negative effects': [Not(Predicate(on, tile_4, cell_5)), Not(Predicate(empty, cell_8))]}, {'name': 'move(tile_4, cell_5, cell_4)', 'preconditions': [Predicate(on, tile_4, cell_5), Predicate(empty, cell_4), Predicate(touch, cell_5, cell_4)], 'positive effects': [Predicate(on, tile_4, cell_4), Predicate(empty, cell_5)], 'negative effects': [Not(Predicate(on, tile_4, cell_5)), Not(Predicate(empty, cell_4))]}, {'name': 'move(tile_4, cell_1, cell_2)', 'preconditions': [Predicate(on, tile_4, cell_1), Predicate(empty, cell_2), Predicate(touch, cell_1, cell_2)], 'positive effects': [Predicate(on, tile_4, cell_2), Predicate(empty, cell_1)], 'negative effects': [Not(Predicate(on, tile_4, cell_1)), Not(Predicate(empty, cell_2))]}, {'name': 'move(tile_4, cell_1, cell_0)', 'preconditions': [Predicate(on, tile_4, cell_1), Predicate(empty, cell_0), Predicate(touch, cell_1, cell_0)], 'positive effects': [Predicate(on, tile_4, cell_0), Predicate(empty, cell_1)], 'negative effects': [Not(Predicate(on, tile_4, cell_1)), Not(Predicate(empty, cell_0))]}, {'name': 'move(tile_4, cell_1, cell_4)', 'preconditions': [Predicate(on, tile_4, cell_1), Predicate(empty, cell_4), Predicate(touch, cell_1, cell_4)], 'positive effects': [Predicate(on, tile_4, cell_4), Predicate(empty, cell_1)], 'negative effects': [Not(Predicate(on, tile_4, cell_1)), Not(Predicate(empty, cell_4))]}, {'name': 'move(tile_4, cell_2, cell_5)', 'preconditions': [Predicate(on, tile_4, cell_2), Predicate(empty, cell_5), Predicate(touch, cell_2, cell_5)], 'positive effects': [Predicate(on, tile_4, cell_5), Predicate(empty, cell_2)], 'negative effects': [Not(Predicate(on, tile_4, cell_2)), Not(Predicate(empty, cell_5))]}, {'name': 'move(tile_4, cell_2, cell_1)', 'preconditions': [Predicate(on, tile_4, cell_2), Predicate(empty, cell_1), Predicate(touch, cell_2, cell_1)], 'positive effects': [Predicate(on, tile_4, cell_1), Predicate(empty, cell_2)], 'negative effects': [Not(Predicate(on, tile_4, cell_2)), Not(Predicate(empty, cell_1))]}, {'name': 'move(tile_4, cell_6, cell_7)', 'preconditions': [Predicate(on, tile_4, cell_6), Predicate(empty, cell_7), Predicate(touch, cell_6, cell_7)], 'positive effects': [Predicate(on, tile_4, cell_7), Predicate(empty, cell_6)], 'negative effects': [Not(Predicate(on, tile_4, cell_6)), Not(Predicate(empty, cell_7))]}, {'name': 'move(tile_4, cell_6, cell_3)', 'preconditions': [Predicate(on, tile_4, cell_6), Predicate(empty, cell_3), Predicate(touch, cell_6, cell_3)], 'positive effects': [Predicate(on, tile_4, cell_3), Predicate(empty, cell_6)], 'negative effects': [Not(Predicate(on, tile_4, cell_6)), Not(Predicate(empty, cell_3))]}, {'name': 'move(tile_4, cell_8, cell_5)', 'preconditions': [Predicate(on, tile_4, cell_8), Predicate(empty, cell_5), Predicate(touch, cell_8, cell_5)], 'positive effects': [Predicate(on, tile_4, cell_5), Predicate(empty, cell_8)], 'negative effects': [Not(Predicate(on, tile_4, cell_8)), Not(Predicate(empty, cell_5))]}, {'name': 'move(tile_4, cell_8, cell_7)', 'preconditions': [Predicate(on, tile_4, cell_8), Predicate(empty, cell_7), Predicate(touch, cell_8, cell_7)], 'positive effects': [Predicate(on, tile_4, cell_7), Predicate(empty, cell_8)], 'negative effects': [Not(Predicate(on, tile_4, cell_8)), Not(Predicate(empty, cell_7))]}, {'name': 'move(tile_4, cell_0, cell_1)', 'preconditions': [Predicate(on, tile_4, cell_0), Predicate(empty, cell_1), Predicate(touch, cell_0, cell_1)], 'positive effects': [Predicate(on, tile_4, cell_1), Predicate(empty, cell_0)], 'negative effects': [Not(Predicate(on, tile_4, cell_0)), Not(Predicate(empty, cell_1))]}, {'name': 'move(tile_4, cell_0, cell_3)', 'preconditions': [Predicate(on, tile_4, cell_0), Predicate(empty, cell_3), Predicate(touch, cell_0, cell_3)], 'positive effects': [Predicate(on, tile_4, cell_3), Predicate(empty, cell_0)], 'negative effects': [Not(Predicate(on, tile_4, cell_0)), Not(Predicate(empty, cell_3))]}, {'name': 'move(tile_4, cell_7, cell_6)', 'preconditions': [Predicate(on, tile_4, cell_7), Predicate(empty, cell_6), Predicate(touch, cell_7, cell_6)], 'positive effects': [Predicate(on, tile_4, cell_6), Predicate(empty, cell_7)], 'negative effects': [Not(Predicate(on, tile_4, cell_7)), Not(Predicate(empty, cell_6))]}, {'name': 'move(tile_4, cell_7, cell_8)', 'preconditions': [Predicate(on, tile_4, cell_7), Predicate(empty, cell_8), Predicate(touch, cell_7, cell_8)], 'positive effects': [Predicate(on, tile_4, cell_8), Predicate(empty, cell_7)], 'negative effects': [Not(Predicate(on, tile_4, cell_7)), Not(Predicate(empty, cell_8))]}, {'name': 'move(tile_4, cell_7, cell_4)', 'preconditions': [Predicate(on, tile_4, cell_7), Predicate(empty, cell_4), Predicate(touch, cell_7, cell_4)], 'positive effects': [Predicate(on, tile_4, cell_4), Predicate(empty, cell_7)], 'negative effects': [Not(Predicate(on, tile_4, cell_7)), Not(Predicate(empty, cell_4))]}, {'name': 'move(tile_4, cell_4, cell_5)', 'preconditions': [Predicate(on, tile_4, cell_4), Predicate(empty, cell_5), Predicate(touch, cell_4, cell_5)], 'positive effects': [Predicate(on, tile_4, cell_5), Predicate(empty, cell_4)], 'negative effects': [Not(Predicate(on, tile_4, cell_4)), Not(Predicate(empty, cell_5))]}, {'name': 'move(tile_4, cell_4, cell_1)', 'preconditions': [Predicate(on, tile_4, cell_4), Predicate(empty, cell_1), Predicate(touch, cell_4, cell_1)], 'positive effects': [Predicate(on, tile_4, cell_1), Predicate(empty, cell_4)], 'negative effects': [Not(Predicate(on, tile_4, cell_4)), Not(Predicate(empty, cell_1))]}, {'name': 'move(tile_4, cell_4, cell_7)', 'preconditions': [Predicate(on, tile_4, cell_4), Predicate(empty, cell_7), Predicate(touch, cell_4, cell_7)], 'positive effects': [Predicate(on, tile_4, cell_7), Predicate(empty, cell_4)], 'negative effects': [Not(Predicate(on, tile_4, cell_4)), Not(Predicate(empty, cell_7))]}, {'name': 'move(tile_4, cell_4, cell_3)', 'preconditions': [Predicate(on, tile_4, cell_4), Predicate(empty, cell_3), Predicate(touch, cell_4, cell_3)], 'positive effects': [Predicate(on, tile_4, cell_3), Predicate(empty, cell_4)], 'negative effects': [Not(Predicate(on, tile_4, cell_4)), Not(Predicate(empty, cell_3))]}, {'name': 'move(tile_4, cell_3, cell_6)', 'preconditions': [Predicate(on, tile_4, cell_3), Predicate(empty, cell_6), Predicate(touch, cell_3, cell_6)], 'positive effects': [Predicate(on, tile_4, cell_6), Predicate(empty, cell_3)], 'negative effects': [Not(Predicate(on, tile_4, cell_3)), Not(Predicate(empty, cell_6))]}, {'name': 'move(tile_4, cell_3, cell_0)', 'preconditions': [Predicate(on, tile_4, cell_3), Predicate(empty, cell_0), Predicate(touch, cell_3, cell_0)], 'positive effects': [Predicate(on, tile_4, cell_0), Predicate(empty, cell_3)], 'negative effects': [Not(Predicate(on, tile_4, cell_3)), Not(Predicate(empty, cell_0))]}, {'name': 'move(tile_4, cell_3, cell_4)', 'preconditions': [Predicate(on, tile_4, cell_3), Predicate(empty, cell_4), Predicate(touch, cell_3, cell_4)], 'positive effects': [Predicate(on, tile_4, cell_4), Predicate(empty, cell_3)], 'negative effects': [Not(Predicate(on, tile_4, cell_3)), Not(Predicate(empty, cell_4))]}, {'name': 'move(tile_3, cell_5, cell_2)', 'preconditions': [Predicate(on, tile_3, cell_5), Predicate(empty, cell_2), Predicate(touch, cell_5, cell_2)], 'positive effects': [Predicate(on, tile_3, cell_2), Predicate(empty, cell_5)], 'negative effects': [Not(Predicate(on, tile_3, cell_5)), Not(Predicate(empty, cell_2))]}, {'name': 'move(tile_3, cell_5, cell_8)', 'preconditions': [Predicate(on, tile_3, cell_5), Predicate(empty, cell_8), Predicate(touch, cell_5, cell_8)], 'positive effects': [Predicate(on, tile_3, cell_8), Predicate(empty, cell_5)], 'negative effects': [Not(Predicate(on, tile_3, cell_5)), Not(Predicate(empty, cell_8))]}, {'name': 'move(tile_3, cell_5, cell_4)', 'preconditions': [Predicate(on, tile_3, cell_5), Predicate(empty, cell_4), Predicate(touch, cell_5, cell_4)], 'positive effects': [Predicate(on, tile_3, cell_4), Predicate(empty, cell_5)], 'negative effects': [Not(Predicate(on, tile_3, cell_5)), Not(Predicate(empty, cell_4))]}, {'name': 'move(tile_3, cell_1, cell_2)', 'preconditions': [Predicate(on, tile_3, cell_1), Predicate(empty, cell_2), Predicate(touch, cell_1, cell_2)], 'positive effects': [Predicate(on, tile_3, cell_2), Predicate(empty, cell_1)], 'negative effects': [Not(Predicate(on, tile_3, cell_1)), Not(Predicate(empty, cell_2))]}, {'name': 'move(tile_3, cell_1, cell_0)', 'preconditions': [Predicate(on, tile_3, cell_1), Predicate(empty, cell_0), Predicate(touch, cell_1, cell_0)], 'positive effects': [Predicate(on, tile_3, cell_0), Predicate(empty, cell_1)], 'negative effects': [Not(Predicate(on, tile_3, cell_1)), Not(Predicate(empty, cell_0))]}, {'name': 'move(tile_3, cell_1, cell_4)', 'preconditions': [Predicate(on, tile_3, cell_1), Predicate(empty, cell_4), Predicate(touch, cell_1, cell_4)], 'positive effects': [Predicate(on, tile_3, cell_4), Predicate(empty, cell_1)], 'negative effects': [Not(Predicate(on, tile_3, cell_1)), Not(Predicate(empty, cell_4))]}, {'name': 'move(tile_3, cell_2, cell_5)', 'preconditions': [Predicate(on, tile_3, cell_2), Predicate(empty, cell_5), Predicate(touch, cell_2, cell_5)], 'positive effects': [Predicate(on, tile_3, cell_5), Predicate(empty, cell_2)], 'negative effects': [Not(Predicate(on, tile_3, cell_2)), Not(Predicate(empty, cell_5))]}, {'name': 'move(tile_3, cell_2, cell_1)', 'preconditions': [Predicate(on, tile_3, cell_2), Predicate(empty, cell_1), Predicate(touch, cell_2, cell_1)], 'positive effects': [Predicate(on, tile_3, cell_1), Predicate(empty, cell_2)], 'negative effects': [Not(Predicate(on, tile_3, cell_2)), Not(Predicate(empty, cell_1))]}, {'name': 'move(tile_3, cell_6, cell_7)', 'preconditions': [Predicate(on, tile_3, cell_6), Predicate(empty, cell_7), Predicate(touch, cell_6, cell_7)], 'positive effects': [Predicate(on, tile_3, cell_7), Predicate(empty, cell_6)], 'negative effects': [Not(Predicate(on, tile_3, cell_6)), Not(Predicate(empty, cell_7))]}, {'name': 'move(tile_3, cell_6, cell_3)', 'preconditions': [Predicate(on, tile_3, cell_6), Predicate(empty, cell_3), Predicate(touch, cell_6, cell_3)], 'positive effects': [Predicate(on, tile_3, cell_3), Predicate(empty, cell_6)], 'negative effects': [Not(Predicate(on, tile_3, cell_6)), Not(Predicate(empty, cell_3))]}, {'name': 'move(tile_3, cell_8, cell_5)', 'preconditions': [Predicate(on, tile_3, cell_8), Predicate(empty, cell_5), Predicate(touch, cell_8, cell_5)], 'positive effects': [Predicate(on, tile_3, cell_5), Predicate(empty, cell_8)], 'negative effects': [Not(Predicate(on, tile_3, cell_8)), Not(Predicate(empty, cell_5))]}, {'name': 'move(tile_3, cell_8, cell_7)', 'preconditions': [Predicate(on, tile_3, cell_8), Predicate(empty, cell_7), Predicate(touch, cell_8, cell_7)], 'positive effects': [Predicate(on, tile_3, cell_7), Predicate(empty, cell_8)], 'negative effects': [Not(Predicate(on, tile_3, cell_8)), Not(Predicate(empty, cell_7))]}, {'name': 'move(tile_3, cell_0, cell_1)', 'preconditions': [Predicate(on, tile_3, cell_0), Predicate(empty, cell_1), Predicate(touch, cell_0, cell_1)], 'positive effects': [Predicate(on, tile_3, cell_1), Predicate(empty, cell_0)], 'negative effects': [Not(Predicate(on, tile_3, cell_0)), Not(Predicate(empty, cell_1))]}, {'name': 'move(tile_3, cell_0, cell_3)', 'preconditions': [Predicate(on, tile_3, cell_0), Predicate(empty, cell_3), Predicate(touch, cell_0, cell_3)], 'positive effects': [Predicate(on, tile_3, cell_3), Predicate(empty, cell_0)], 'negative effects': [Not(Predicate(on, tile_3, cell_0)), Not(Predicate(empty, cell_3))]}, {'name': 'move(tile_3, cell_7, cell_6)', 'preconditions': [Predicate(on, tile_3, cell_7), Predicate(empty, cell_6), Predicate(touch, cell_7, cell_6)], 'positive effects': [Predicate(on, tile_3, cell_6), Predicate(empty, cell_7)], 'negative effects': [Not(Predicate(on, tile_3, cell_7)), Not(Predicate(empty, cell_6))]}, {'name': 'move(tile_3, cell_7, cell_8)', 'preconditions': [Predicate(on, tile_3, cell_7), Predicate(empty, cell_8), Predicate(touch, cell_7, cell_8)], 'positive effects': [Predicate(on, tile_3, cell_8), Predicate(empty, cell_7)], 'negative effects': [Not(Predicate(on, tile_3, cell_7)), Not(Predicate(empty, cell_8))]}, {'name': 'move(tile_3, cell_7, cell_4)', 'preconditions': [Predicate(on, tile_3, cell_7), Predicate(empty, cell_4), Predicate(touch, cell_7, cell_4)], 'positive effects': [Predicate(on, tile_3, cell_4), Predicate(empty, cell_7)], 'negative effects': [Not(Predicate(on, tile_3, cell_7)), Not(Predicate(empty, cell_4))]}, {'name': 'move(tile_3, cell_4, cell_5)', 'preconditions': [Predicate(on, tile_3, cell_4), Predicate(empty, cell_5), Predicate(touch, cell_4, cell_5)], 'positive effects': [Predicate(on, tile_3, cell_5), Predicate(empty, cell_4)], 'negative effects': [Not(Predicate(on, tile_3, cell_4)), Not(Predicate(empty, cell_5))]}, {'name': 'move(tile_3, cell_4, cell_1)', 'preconditions': [Predicate(on, tile_3, cell_4), Predicate(empty, cell_1), Predicate(touch, cell_4, cell_1)], 'positive effects': [Predicate(on, tile_3, cell_1), Predicate(empty, cell_4)], 'negative effects': [Not(Predicate(on, tile_3, cell_4)), Not(Predicate(empty, cell_1))]}, {'name': 'move(tile_3, cell_4, cell_7)', 'preconditions': [Predicate(on, tile_3, cell_4), Predicate(empty, cell_7), Predicate(touch, cell_4, cell_7)], 'positive effects': [Predicate(on, tile_3, cell_7), Predicate(empty, cell_4)], 'negative effects': [Not(Predicate(on, tile_3, cell_4)), Not(Predicate(empty, cell_7))]}, {'name': 'move(tile_3, cell_4, cell_3)', 'preconditions': [Predicate(on, tile_3, cell_4), Predicate(empty, cell_3), Predicate(touch, cell_4, cell_3)], 'positive effects': [Predicate(on, tile_3, cell_3), Predicate(empty, cell_4)], 'negative effects': [Not(Predicate(on, tile_3, cell_4)), Not(Predicate(empty, cell_3))]}, {'name': 'move(tile_3, cell_3, cell_6)', 'preconditions': [Predicate(on, tile_3, cell_3), Predicate(empty, cell_6), Predicate(touch, cell_3, cell_6)], 'positive effects': [Predicate(on, tile_3, cell_6), Predicate(empty, cell_3)], 'negative effects': [Not(Predicate(on, tile_3, cell_3)), Not(Predicate(empty, cell_6))]}, {'name': 'move(tile_3, cell_3, cell_0)', 'preconditions': [Predicate(on, tile_3, cell_3), Predicate(empty, cell_0), Predicate(touch, cell_3, cell_0)], 'positive effects': [Predicate(on, tile_3, cell_0), Predicate(empty, cell_3)], 'negative effects': [Not(Predicate(on, tile_3, cell_3)), Not(Predicate(empty, cell_0))]}, {'name': 'move(tile_3, cell_3, cell_4)', 'preconditions': [Predicate(on, tile_3, cell_3), Predicate(empty, cell_4), Predicate(touch, cell_3, cell_4)], 'positive effects': [Predicate(on, tile_3, cell_4), Predicate(empty, cell_3)], 'negative effects': [Not(Predicate(on, tile_3, cell_3)), Not(Predicate(empty, cell_4))]}, {'name': 'move(tile_5, cell_5, cell_2)', 'preconditions': [Predicate(on, tile_5, cell_5), Predicate(empty, cell_2), Predicate(touch, cell_5, cell_2)], 'positive effects': [Predicate(on, tile_5, cell_2), Predicate(empty, cell_5)], 'negative effects': [Not(Predicate(on, tile_5, cell_5)), Not(Predicate(empty, cell_2))]}, {'name': 'move(tile_5, cell_5, cell_8)', 'preconditions': [Predicate(on, tile_5, cell_5), Predicate(empty, cell_8), Predicate(touch, cell_5, cell_8)], 'positive effects': [Predicate(on, tile_5, cell_8), Predicate(empty, cell_5)], 'negative effects': [Not(Predicate(on, tile_5, cell_5)), Not(Predicate(empty, cell_8))]}, {'name': 'move(tile_5, cell_5, cell_4)', 'preconditions': [Predicate(on, tile_5, cell_5), Predicate(empty, cell_4), Predicate(touch, cell_5, cell_4)], 'positive effects': [Predicate(on, tile_5, cell_4), Predicate(empty, cell_5)], 'negative effects': [Not(Predicate(on, tile_5, cell_5)), Not(Predicate(empty, cell_4))]}, {'name': 'move(tile_5, cell_1, cell_2)', 'preconditions': [Predicate(on, tile_5, cell_1), Predicate(empty, cell_2), Predicate(touch, cell_1, cell_2)], 'positive effects': [Predicate(on, tile_5, cell_2), Predicate(empty, cell_1)], 'negative effects': [Not(Predicate(on, tile_5, cell_1)), Not(Predicate(empty, cell_2))]}, {'name': 'move(tile_5, cell_1, cell_0)', 'preconditions': [Predicate(on, tile_5, cell_1), Predicate(empty, cell_0), Predicate(touch, cell_1, cell_0)], 'positive effects': [Predicate(on, tile_5, cell_0), Predicate(empty, cell_1)], 'negative effects': [Not(Predicate(on, tile_5, cell_1)), Not(Predicate(empty, cell_0))]}, {'name': 'move(tile_5, cell_1, cell_4)', 'preconditions': [Predicate(on, tile_5, cell_1), Predicate(empty, cell_4), Predicate(touch, cell_1, cell_4)], 'positive effects': [Predicate(on, tile_5, cell_4), Predicate(empty, cell_1)], 'negative effects': [Not(Predicate(on, tile_5, cell_1)), Not(Predicate(empty, cell_4))]}, {'name': 'move(tile_5, cell_2, cell_5)', 'preconditions': [Predicate(on, tile_5, cell_2), Predicate(empty, cell_5), Predicate(touch, cell_2, cell_5)], 'positive effects': [Predicate(on, tile_5, cell_5), Predicate(empty, cell_2)], 'negative effects': [Not(Predicate(on, tile_5, cell_2)), Not(Predicate(empty, cell_5))]}, {'name': 'move(tile_5, cell_2, cell_1)', 'preconditions': [Predicate(on, tile_5, cell_2), Predicate(empty, cell_1), Predicate(touch, cell_2, cell_1)], 'positive effects': [Predicate(on, tile_5, cell_1), Predicate(empty, cell_2)], 'negative effects': [Not(Predicate(on, tile_5, cell_2)), Not(Predicate(empty, cell_1))]}, {'name': 'move(tile_5, cell_6, cell_7)', 'preconditions': [Predicate(on, tile_5, cell_6), Predicate(empty, cell_7), Predicate(touch, cell_6, cell_7)], 'positive effects': [Predicate(on, tile_5, cell_7), Predicate(empty, cell_6)], 'negative effects': [Not(Predicate(on, tile_5, cell_6)), Not(Predicate(empty, cell_7))]}, {'name': 'move(tile_5, cell_6, cell_3)', 'preconditions': [Predicate(on, tile_5, cell_6), Predicate(empty, cell_3), Predicate(touch, cell_6, cell_3)], 'positive effects': [Predicate(on, tile_5, cell_3), Predicate(empty, cell_6)], 'negative effects': [Not(Predicate(on, tile_5, cell_6)), Not(Predicate(empty, cell_3))]}, {'name': 'move(tile_5, cell_8, cell_5)', 'preconditions': [Predicate(on, tile_5, cell_8), Predicate(empty, cell_5), Predicate(touch, cell_8, cell_5)], 'positive effects': [Predicate(on, tile_5, cell_5), Predicate(empty, cell_8)], 'negative effects': [Not(Predicate(on, tile_5, cell_8)), Not(Predicate(empty, cell_5))]}, {'name': 'move(tile_5, cell_8, cell_7)', 'preconditions': [Predicate(on, tile_5, cell_8), Predicate(empty, cell_7), Predicate(touch, cell_8, cell_7)], 'positive effects': [Predicate(on, tile_5, cell_7), Predicate(empty, cell_8)], 'negative effects': [Not(Predicate(on, tile_5, cell_8)), Not(Predicate(empty, cell_7))]}, {'name': 'move(tile_5, cell_0, cell_1)', 'preconditions': [Predicate(on, tile_5, cell_0), Predicate(empty, cell_1), Predicate(touch, cell_0, cell_1)], 'positive effects': [Predicate(on, tile_5, cell_1), Predicate(empty, cell_0)], 'negative effects': [Not(Predicate(on, tile_5, cell_0)), Not(Predicate(empty, cell_1))]}, {'name': 'move(tile_5, cell_0, cell_3)', 'preconditions': [Predicate(on, tile_5, cell_0), Predicate(empty, cell_3), Predicate(touch, cell_0, cell_3)], 'positive effects': [Predicate(on, tile_5, cell_3), Predicate(empty, cell_0)], 'negative effects': [Not(Predicate(on, tile_5, cell_0)), Not(Predicate(empty, cell_3))]}, {'name': 'move(tile_5, cell_7, cell_6)', 'preconditions': [Predicate(on, tile_5, cell_7), Predicate(empty, cell_6), Predicate(touch, cell_7, cell_6)], 'positive effects': [Predicate(on, tile_5, cell_6), Predicate(empty, cell_7)], 'negative effects': [Not(Predicate(on, tile_5, cell_7)), Not(Predicate(empty, cell_6))]}, {'name': 'move(tile_5, cell_7, cell_8)', 'preconditions': [Predicate(on, tile_5, cell_7), Predicate(empty, cell_8), Predicate(touch, cell_7, cell_8)], 'positive effects': [Predicate(on, tile_5, cell_8), Predicate(empty, cell_7)], 'negative effects': [Not(Predicate(on, tile_5, cell_7)), Not(Predicate(empty, cell_8))]}, {'name': 'move(tile_5, cell_7, cell_4)', 'preconditions': [Predicate(on, tile_5, cell_7), Predicate(empty, cell_4), Predicate(touch, cell_7, cell_4)], 'positive effects': [Predicate(on, tile_5, cell_4), Predicate(empty, cell_7)], 'negative effects': [Not(Predicate(on, tile_5, cell_7)), Not(Predicate(empty, cell_4))]}, {'name': 'move(tile_5, cell_4, cell_5)', 'preconditions': [Predicate(on, tile_5, cell_4), Predicate(empty, cell_5), Predicate(touch, cell_4, cell_5)], 'positive effects': [Predicate(on, tile_5, cell_5), Predicate(empty, cell_4)], 'negative effects': [Not(Predicate(on, tile_5, cell_4)), Not(Predicate(empty, cell_5))]}, {'name': 'move(tile_5, cell_4, cell_1)', 'preconditions': [Predicate(on, tile_5, cell_4), Predicate(empty, cell_1), Predicate(touch, cell_4, cell_1)], 'positive effects': [Predicate(on, tile_5, cell_1), Predicate(empty, cell_4)], 'negative effects': [Not(Predicate(on, tile_5, cell_4)), Not(Predicate(empty, cell_1))]}, {'name': 'move(tile_5, cell_4, cell_7)', 'preconditions': [Predicate(on, tile_5, cell_4), Predicate(empty, cell_7), Predicate(touch, cell_4, cell_7)], 'positive effects': [Predicate(on, tile_5, cell_7), Predicate(empty, cell_4)], 'negative effects': [Not(Predicate(on, tile_5, cell_4)), Not(Predicate(empty, cell_7))]}, {'name': 'move(tile_5, cell_4, cell_3)', 'preconditions': [Predicate(on, tile_5, cell_4), Predicate(empty, cell_3), Predicate(touch, cell_4, cell_3)], 'positive effects': [Predicate(on, tile_5, cell_3), Predicate(empty, cell_4)], 'negative effects': [Not(Predicate(on, tile_5, cell_4)), Not(Predicate(empty, cell_3))]}, {'name': 'move(tile_5, cell_3, cell_6)', 'preconditions': [Predicate(on, tile_5, cell_3), Predicate(empty, cell_6), Predicate(touch, cell_3, cell_6)], 'positive effects': [Predicate(on, tile_5, cell_6), Predicate(empty, cell_3)], 'negative effects': [Not(Predicate(on, tile_5, cell_3)), Not(Predicate(empty, cell_6))]}, {'name': 'move(tile_5, cell_3, cell_0)', 'preconditions': [Predicate(on, tile_5, cell_3), Predicate(empty, cell_0), Predicate(touch, cell_3, cell_0)], 'positive effects': [Predicate(on, tile_5, cell_0), Predicate(empty, cell_3)], 'negative effects': [Not(Predicate(on, tile_5, cell_3)), Not(Predicate(empty, cell_0))]}, {'name': 'move(tile_5, cell_3, cell_4)', 'preconditions': [Predicate(on, tile_5, cell_3), Predicate(empty, cell_4), Predicate(touch, cell_3, cell_4)], 'positive effects': [Predicate(on, tile_5, cell_4), Predicate(empty, cell_3)], 'negative effects': [Not(Predicate(on, tile_5, cell_3)), Not(Predicate(empty, cell_4))]}, {'name': 'move(tile_2, cell_5, cell_2)', 'preconditions': [Predicate(on, tile_2, cell_5), Predicate(empty, cell_2), Predicate(touch, cell_5, cell_2)], 'positive effects': [Predicate(on, tile_2, cell_2), Predicate(empty, cell_5)], 'negative effects': [Not(Predicate(on, tile_2, cell_5)), Not(Predicate(empty, cell_2))]}, {'name': 'move(tile_2, cell_5, cell_8)', 'preconditions': [Predicate(on, tile_2, cell_5), Predicate(empty, cell_8), Predicate(touch, cell_5, cell_8)], 'positive effects': [Predicate(on, tile_2, cell_8), Predicate(empty, cell_5)], 'negative effects': [Not(Predicate(on, tile_2, cell_5)), Not(Predicate(empty, cell_8))]}, {'name': 'move(tile_2, cell_5, cell_4)', 'preconditions': [Predicate(on, tile_2, cell_5), Predicate(empty, cell_4), Predicate(touch, cell_5, cell_4)], 'positive effects': [Predicate(on, tile_2, cell_4), Predicate(empty, cell_5)], 'negative effects': [Not(Predicate(on, tile_2, cell_5)), Not(Predicate(empty, cell_4))]}, {'name': 'move(tile_2, cell_1, cell_2)', 'preconditions': [Predicate(on, tile_2, cell_1), Predicate(empty, cell_2), Predicate(touch, cell_1, cell_2)], 'positive effects': [Predicate(on, tile_2, cell_2), Predicate(empty, cell_1)], 'negative effects': [Not(Predicate(on, tile_2, cell_1)), Not(Predicate(empty, cell_2))]}, {'name': 'move(tile_2, cell_1, cell_0)', 'preconditions': [Predicate(on, tile_2, cell_1), Predicate(empty, cell_0), Predicate(touch, cell_1, cell_0)], 'positive effects': [Predicate(on, tile_2, cell_0), Predicate(empty, cell_1)], 'negative effects': [Not(Predicate(on, tile_2, cell_1)), Not(Predicate(empty, cell_0))]}, {'name': 'move(tile_2, cell_1, cell_4)', 'preconditions': [Predicate(on, tile_2, cell_1), Predicate(empty, cell_4), Predicate(touch, cell_1, cell_4)], 'positive effects': [Predicate(on, tile_2, cell_4), Predicate(empty, cell_1)], 'negative effects': [Not(Predicate(on, tile_2, cell_1)), Not(Predicate(empty, cell_4))]}, {'name': 'move(tile_2, cell_2, cell_5)', 'preconditions': [Predicate(on, tile_2, cell_2), Predicate(empty, cell_5), Predicate(touch, cell_2, cell_5)], 'positive effects': [Predicate(on, tile_2, cell_5), Predicate(empty, cell_2)], 'negative effects': [Not(Predicate(on, tile_2, cell_2)), Not(Predicate(empty, cell_5))]}, {'name': 'move(tile_2, cell_2, cell_1)', 'preconditions': [Predicate(on, tile_2, cell_2), Predicate(empty, cell_1), Predicate(touch, cell_2, cell_1)], 'positive effects': [Predicate(on, tile_2, cell_1), Predicate(empty, cell_2)], 'negative effects': [Not(Predicate(on, tile_2, cell_2)), Not(Predicate(empty, cell_1))]}, {'name': 'move(tile_2, cell_6, cell_7)', 'preconditions': [Predicate(on, tile_2, cell_6), Predicate(empty, cell_7), Predicate(touch, cell_6, cell_7)], 'positive effects': [Predicate(on, tile_2, cell_7), Predicate(empty, cell_6)], 'negative effects': [Not(Predicate(on, tile_2, cell_6)), Not(Predicate(empty, cell_7))]}, {'name': 'move(tile_2, cell_6, cell_3)', 'preconditions': [Predicate(on, tile_2, cell_6), Predicate(empty, cell_3), Predicate(touch, cell_6, cell_3)], 'positive effects': [Predicate(on, tile_2, cell_3), Predicate(empty, cell_6)], 'negative effects': [Not(Predicate(on, tile_2, cell_6)), Not(Predicate(empty, cell_3))]}, {'name': 'move(tile_2, cell_8, cell_5)', 'preconditions': [Predicate(on, tile_2, cell_8), Predicate(empty, cell_5), Predicate(touch, cell_8, cell_5)], 'positive effects': [Predicate(on, tile_2, cell_5), Predicate(empty, cell_8)], 'negative effects': [Not(Predicate(on, tile_2, cell_8)), Not(Predicate(empty, cell_5))]}, {'name': 'move(tile_2, cell_8, cell_7)', 'preconditions': [Predicate(on, tile_2, cell_8), Predicate(empty, cell_7), Predicate(touch, cell_8, cell_7)], 'positive effects': [Predicate(on, tile_2, cell_7), Predicate(empty, cell_8)], 'negative effects': [Not(Predicate(on, tile_2, cell_8)), Not(Predicate(empty, cell_7))]}, {'name': 'move(tile_2, cell_0, cell_1)', 'preconditions': [Predicate(on, tile_2, cell_0), Predicate(empty, cell_1), Predicate(touch, cell_0, cell_1)], 'positive effects': [Predicate(on, tile_2, cell_1), Predicate(empty, cell_0)], 'negative effects': [Not(Predicate(on, tile_2, cell_0)), Not(Predicate(empty, cell_1))]}, {'name': 'move(tile_2, cell_0, cell_3)', 'preconditions': [Predicate(on, tile_2, cell_0), Predicate(empty, cell_3), Predicate(touch, cell_0, cell_3)], 'positive effects': [Predicate(on, tile_2, cell_3), Predicate(empty, cell_0)], 'negative effects': [Not(Predicate(on, tile_2, cell_0)), Not(Predicate(empty, cell_3))]}, {'name': 'move(tile_2, cell_7, cell_6)', 'preconditions': [Predicate(on, tile_2, cell_7), Predicate(empty, cell_6), Predicate(touch, cell_7, cell_6)], 'positive effects': [Predicate(on, tile_2, cell_6), Predicate(empty, cell_7)], 'negative effects': [Not(Predicate(on, tile_2, cell_7)), Not(Predicate(empty, cell_6))]}, {'name': 'move(tile_2, cell_7, cell_8)', 'preconditions': [Predicate(on, tile_2, cell_7), Predicate(empty, cell_8), Predicate(touch, cell_7, cell_8)], 'positive effects': [Predicate(on, tile_2, cell_8), Predicate(empty, cell_7)], 'negative effects': [Not(Predicate(on, tile_2, cell_7)), Not(Predicate(empty, cell_8))]}, {'name': 'move(tile_2, cell_7, cell_4)', 'preconditions': [Predicate(on, tile_2, cell_7), Predicate(empty, cell_4), Predicate(touch, cell_7, cell_4)], 'positive effects': [Predicate(on, tile_2, cell_4), Predicate(empty, cell_7)], 'negative effects': [Not(Predicate(on, tile_2, cell_7)), Not(Predicate(empty, cell_4))]}, {'name': 'move(tile_2, cell_4, cell_5)', 'preconditions': [Predicate(on, tile_2, cell_4), Predicate(empty, cell_5), Predicate(touch, cell_4, cell_5)], 'positive effects': [Predicate(on, tile_2, cell_5), Predicate(empty, cell_4)], 'negative effects': [Not(Predicate(on, tile_2, cell_4)), Not(Predicate(empty, cell_5))]}, {'name': 'move(tile_2, cell_4, cell_1)', 'preconditions': [Predicate(on, tile_2, cell_4), Predicate(empty, cell_1), Predicate(touch, cell_4, cell_1)], 'positive effects': [Predicate(on, tile_2, cell_1), Predicate(empty, cell_4)], 'negative effects': [Not(Predicate(on, tile_2, cell_4)), Not(Predicate(empty, cell_1))]}, {'name': 'move(tile_2, cell_4, cell_7)', 'preconditions': [Predicate(on, tile_2, cell_4), Predicate(empty, cell_7), Predicate(touch, cell_4, cell_7)], 'positive effects': [Predicate(on, tile_2, cell_7), Predicate(empty, cell_4)], 'negative effects': [Not(Predicate(on, tile_2, cell_4)), Not(Predicate(empty, cell_7))]}, {'name': 'move(tile_2, cell_4, cell_3)', 'preconditions': [Predicate(on, tile_2, cell_4), Predicate(empty, cell_3), Predicate(touch, cell_4, cell_3)], 'positive effects': [Predicate(on, tile_2, cell_3), Predicate(empty, cell_4)], 'negative effects': [Not(Predicate(on, tile_2, cell_4)), Not(Predicate(empty, cell_3))]}, {'name': 'move(tile_2, cell_3, cell_6)', 'preconditions': [Predicate(on, tile_2, cell_3), Predicate(empty, cell_6), Predicate(touch, cell_3, cell_6)], 'positive effects': [Predicate(on, tile_2, cell_6), Predicate(empty, cell_3)], 'negative effects': [Not(Predicate(on, tile_2, cell_3)), Not(Predicate(empty, cell_6))]}, {'name': 'move(tile_2, cell_3, cell_0)', 'preconditions': [Predicate(on, tile_2, cell_3), Predicate(empty, cell_0), Predicate(touch, cell_3, cell_0)], 'positive effects': [Predicate(on, tile_2, cell_0), Predicate(empty, cell_3)], 'negative effects': [Not(Predicate(on, tile_2, cell_3)), Not(Predicate(empty, cell_0))]}, {'name': 'move(tile_2, cell_3, cell_4)', 'preconditions': [Predicate(on, tile_2, cell_3), Predicate(empty, cell_4), Predicate(touch, cell_3, cell_4)], 'positive effects': [Predicate(on, tile_2, cell_4), Predicate(empty, cell_3)], 'negative effects': [Not(Predicate(on, tile_2, cell_3)), Not(Predicate(empty, cell_4))]}, {'name': 'move(tile_0, cell_5, cell_2)', 'preconditions': [Predicate(on, tile_0, cell_5), Predicate(empty, cell_2), Predicate(touch, cell_5, cell_2)], 'positive effects': [Predicate(on, tile_0, cell_2), Predicate(empty, cell_5)], 'negative effects': [Not(Predicate(on, tile_0, cell_5)), Not(Predicate(empty, cell_2))]}, {'name': 'move(tile_0, cell_5, cell_8)', 'preconditions': [Predicate(on, tile_0, cell_5), Predicate(empty, cell_8), Predicate(touch, cell_5, cell_8)], 'positive effects': [Predicate(on, tile_0, cell_8), Predicate(empty, cell_5)], 'negative effects': [Not(Predicate(on, tile_0, cell_5)), Not(Predicate(empty, cell_8))]}, {'name': 'move(tile_0, cell_5, cell_4)', 'preconditions': [Predicate(on, tile_0, cell_5), Predicate(empty, cell_4), Predicate(touch, cell_5, cell_4)], 'positive effects': [Predicate(on, tile_0, cell_4), Predicate(empty, cell_5)], 'negative effects': [Not(Predicate(on, tile_0, cell_5)), Not(Predicate(empty, cell_4))]}, {'name': 'move(tile_0, cell_1, cell_2)', 'preconditions': [Predicate(on, tile_0, cell_1), Predicate(empty, cell_2), Predicate(touch, cell_1, cell_2)], 'positive effects': [Predicate(on, tile_0, cell_2), Predicate(empty, cell_1)], 'negative effects': [Not(Predicate(on, tile_0, cell_1)), Not(Predicate(empty, cell_2))]}, {'name': 'move(tile_0, cell_1, cell_0)', 'preconditions': [Predicate(on, tile_0, cell_1), Predicate(empty, cell_0), Predicate(touch, cell_1, cell_0)], 'positive effects': [Predicate(on, tile_0, cell_0), Predicate(empty, cell_1)], 'negative effects': [Not(Predicate(on, tile_0, cell_1)), Not(Predicate(empty, cell_0))]}, {'name': 'move(tile_0, cell_1, cell_4)', 'preconditions': [Predicate(on, tile_0, cell_1), Predicate(empty, cell_4), Predicate(touch, cell_1, cell_4)], 'positive effects': [Predicate(on, tile_0, cell_4), Predicate(empty, cell_1)], 'negative effects': [Not(Predicate(on, tile_0, cell_1)), Not(Predicate(empty, cell_4))]}, {'name': 'move(tile_0, cell_2, cell_5)', 'preconditions': [Predicate(on, tile_0, cell_2), Predicate(empty, cell_5), Predicate(touch, cell_2, cell_5)], 'positive effects': [Predicate(on, tile_0, cell_5), Predicate(empty, cell_2)], 'negative effects': [Not(Predicate(on, tile_0, cell_2)), Not(Predicate(empty, cell_5))]}, {'name': 'move(tile_0, cell_2, cell_1)', 'preconditions': [Predicate(on, tile_0, cell_2), Predicate(empty, cell_1), Predicate(touch, cell_2, cell_1)], 'positive effects': [Predicate(on, tile_0, cell_1), Predicate(empty, cell_2)], 'negative effects': [Not(Predicate(on, tile_0, cell_2)), Not(Predicate(empty, cell_1))]}, {'name': 'move(tile_0, cell_6, cell_7)', 'preconditions': [Predicate(on, tile_0, cell_6), Predicate(empty, cell_7), Predicate(touch, cell_6, cell_7)], 'positive effects': [Predicate(on, tile_0, cell_7), Predicate(empty, cell_6)], 'negative effects': [Not(Predicate(on, tile_0, cell_6)), Not(Predicate(empty, cell_7))]}, {'name': 'move(tile_0, cell_6, cell_3)', 'preconditions': [Predicate(on, tile_0, cell_6), Predicate(empty, cell_3), Predicate(touch, cell_6, cell_3)], 'positive effects': [Predicate(on, tile_0, cell_3), Predicate(empty, cell_6)], 'negative effects': [Not(Predicate(on, tile_0, cell_6)), Not(Predicate(empty, cell_3))]}, {'name': 'move(tile_0, cell_8, cell_5)', 'preconditions': [Predicate(on, tile_0, cell_8), Predicate(empty, cell_5), Predicate(touch, cell_8, cell_5)], 'positive effects': [Predicate(on, tile_0, cell_5), Predicate(empty, cell_8)], 'negative effects': [Not(Predicate(on, tile_0, cell_8)), Not(Predicate(empty, cell_5))]}, {'name': 'move(tile_0, cell_8, cell_7)', 'preconditions': [Predicate(on, tile_0, cell_8), Predicate(empty, cell_7), Predicate(touch, cell_8, cell_7)], 'positive effects': [Predicate(on, tile_0, cell_7), Predicate(empty, cell_8)], 'negative effects': [Not(Predicate(on, tile_0, cell_8)), Not(Predicate(empty, cell_7))]}, {'name': 'move(tile_0, cell_0, cell_1)', 'preconditions': [Predicate(on, tile_0, cell_0), Predicate(empty, cell_1), Predicate(touch, cell_0, cell_1)], 'positive effects': [Predicate(on, tile_0, cell_1), Predicate(empty, cell_0)], 'negative effects': [Not(Predicate(on, tile_0, cell_0)), Not(Predicate(empty, cell_1))]}, {'name': 'move(tile_0, cell_0, cell_3)', 'preconditions': [Predicate(on, tile_0, cell_0), Predicate(empty, cell_3), Predicate(touch, cell_0, cell_3)], 'positive effects': [Predicate(on, tile_0, cell_3), Predicate(empty, cell_0)], 'negative effects': [Not(Predicate(on, tile_0, cell_0)), Not(Predicate(empty, cell_3))]}, {'name': 'move(tile_0, cell_7, cell_6)', 'preconditions': [Predicate(on, tile_0, cell_7), Predicate(empty, cell_6), Predicate(touch, cell_7, cell_6)], 'positive effects': [Predicate(on, tile_0, cell_6), Predicate(empty, cell_7)], 'negative effects': [Not(Predicate(on, tile_0, cell_7)), Not(Predicate(empty, cell_6))]}, {'name': 'move(tile_0, cell_7, cell_8)', 'preconditions': [Predicate(on, tile_0, cell_7), Predicate(empty, cell_8), Predicate(touch, cell_7, cell_8)], 'positive effects': [Predicate(on, tile_0, cell_8), Predicate(empty, cell_7)], 'negative effects': [Not(Predicate(on, tile_0, cell_7)), Not(Predicate(empty, cell_8))]}, {'name': 'move(tile_0, cell_7, cell_4)', 'preconditions': [Predicate(on, tile_0, cell_7), Predicate(empty, cell_4), Predicate(touch, cell_7, cell_4)], 'positive effects': [Predicate(on, tile_0, cell_4), Predicate(empty, cell_7)], 'negative effects': [Not(Predicate(on, tile_0, cell_7)), Not(Predicate(empty, cell_4))]}, {'name': 'move(tile_0, cell_4, cell_5)', 'preconditions': [Predicate(on, tile_0, cell_4), Predicate(empty, cell_5), Predicate(touch, cell_4, cell_5)], 'positive effects': [Predicate(on, tile_0, cell_5), Predicate(empty, cell_4)], 'negative effects': [Not(Predicate(on, tile_0, cell_4)), Not(Predicate(empty, cell_5))]}, {'name': 'move(tile_0, cell_4, cell_1)', 'preconditions': [Predicate(on, tile_0, cell_4), Predicate(empty, cell_1), Predicate(touch, cell_4, cell_1)], 'positive effects': [Predicate(on, tile_0, cell_1), Predicate(empty, cell_4)], 'negative effects': [Not(Predicate(on, tile_0, cell_4)), Not(Predicate(empty, cell_1))]}, {'name': 'move(tile_0, cell_4, cell_7)', 'preconditions': [Predicate(on, tile_0, cell_4), Predicate(empty, cell_7), Predicate(touch, cell_4, cell_7)], 'positive effects': [Predicate(on, tile_0, cell_7), Predicate(empty, cell_4)], 'negative effects': [Not(Predicate(on, tile_0, cell_4)), Not(Predicate(empty, cell_7))]}, {'name': 'move(tile_0, cell_4, cell_3)', 'preconditions': [Predicate(on, tile_0, cell_4), Predicate(empty, cell_3), Predicate(touch, cell_4, cell_3)], 'positive effects': [Predicate(on, tile_0, cell_3), Predicate(empty, cell_4)], 'negative effects': [Not(Predicate(on, tile_0, cell_4)), Not(Predicate(empty, cell_3))]}, {'name': 'move(tile_0, cell_3, cell_6)', 'preconditions': [Predicate(on, tile_0, cell_3), Predicate(empty, cell_6), Predicate(touch, cell_3, cell_6)], 'positive effects': [Predicate(on, tile_0, cell_6), Predicate(empty, cell_3)], 'negative effects': [Not(Predicate(on, tile_0, cell_3)), Not(Predicate(empty, cell_6))]}, {'name': 'move(tile_0, cell_3, cell_0)', 'preconditions': [Predicate(on, tile_0, cell_3), Predicate(empty, cell_0), Predicate(touch, cell_3, cell_0)], 'positive effects': [Predicate(on, tile_0, cell_0), Predicate(empty, cell_3)], 'negative effects': [Not(Predicate(on, tile_0, cell_3)), Not(Predicate(empty, cell_0))]}, {'name': 'move(tile_0, cell_3, cell_4)', 'preconditions': [Predicate(on, tile_0, cell_3), Predicate(empty, cell_4), Predicate(touch, cell_3, cell_4)], 'positive effects': [Predicate(on, tile_0, cell_4), Predicate(empty, cell_3)], 'negative effects': [Not(Predicate(on, tile_0, cell_3)), Not(Predicate(empty, cell_4))]}, {'name': 'move(tile_6, cell_5, cell_2)', 'preconditions': [Predicate(on, tile_6, cell_5), Predicate(empty, cell_2), Predicate(touch, cell_5, cell_2)], 'positive effects': [Predicate(on, tile_6, cell_2), Predicate(empty, cell_5)], 'negative effects': [Not(Predicate(on, tile_6, cell_5)), Not(Predicate(empty, cell_2))]}, {'name': 'move(tile_6, cell_5, cell_8)', 'preconditions': [Predicate(on, tile_6, cell_5), Predicate(empty, cell_8), Predicate(touch, cell_5, cell_8)], 'positive effects': [Predicate(on, tile_6, cell_8), Predicate(empty, cell_5)], 'negative effects': [Not(Predicate(on, tile_6, cell_5)), Not(Predicate(empty, cell_8))]}, {'name': 'move(tile_6, cell_5, cell_4)', 'preconditions': [Predicate(on, tile_6, cell_5), Predicate(empty, cell_4), Predicate(touch, cell_5, cell_4)], 'positive effects': [Predicate(on, tile_6, cell_4), Predicate(empty, cell_5)], 'negative effects': [Not(Predicate(on, tile_6, cell_5)), Not(Predicate(empty, cell_4))]}, {'name': 'move(tile_6, cell_1, cell_2)', 'preconditions': [Predicate(on, tile_6, cell_1), Predicate(empty, cell_2), Predicate(touch, cell_1, cell_2)], 'positive effects': [Predicate(on, tile_6, cell_2), Predicate(empty, cell_1)], 'negative effects': [Not(Predicate(on, tile_6, cell_1)), Not(Predicate(empty, cell_2))]}, {'name': 'move(tile_6, cell_1, cell_0)', 'preconditions': [Predicate(on, tile_6, cell_1), Predicate(empty, cell_0), Predicate(touch, cell_1, cell_0)], 'positive effects': [Predicate(on, tile_6, cell_0), Predicate(empty, cell_1)], 'negative effects': [Not(Predicate(on, tile_6, cell_1)), Not(Predicate(empty, cell_0))]}, {'name': 'move(tile_6, cell_1, cell_4)', 'preconditions': [Predicate(on, tile_6, cell_1), Predicate(empty, cell_4), Predicate(touch, cell_1, cell_4)], 'positive effects': [Predicate(on, tile_6, cell_4), Predicate(empty, cell_1)], 'negative effects': [Not(Predicate(on, tile_6, cell_1)), Not(Predicate(empty, cell_4))]}, {'name': 'move(tile_6, cell_2, cell_5)', 'preconditions': [Predicate(on, tile_6, cell_2), Predicate(empty, cell_5), Predicate(touch, cell_2, cell_5)], 'positive effects': [Predicate(on, tile_6, cell_5), Predicate(empty, cell_2)], 'negative effects': [Not(Predicate(on, tile_6, cell_2)), Not(Predicate(empty, cell_5))]}, {'name': 'move(tile_6, cell_2, cell_1)', 'preconditions': [Predicate(on, tile_6, cell_2), Predicate(empty, cell_1), Predicate(touch, cell_2, cell_1)], 'positive effects': [Predicate(on, tile_6, cell_1), Predicate(empty, cell_2)], 'negative effects': [Not(Predicate(on, tile_6, cell_2)), Not(Predicate(empty, cell_1))]}, {'name': 'move(tile_6, cell_6, cell_7)', 'preconditions': [Predicate(on, tile_6, cell_6), Predicate(empty, cell_7), Predicate(touch, cell_6, cell_7)], 'positive effects': [Predicate(on, tile_6, cell_7), Predicate(empty, cell_6)], 'negative effects': [Not(Predicate(on, tile_6, cell_6)), Not(Predicate(empty, cell_7))]}, {'name': 'move(tile_6, cell_6, cell_3)', 'preconditions': [Predicate(on, tile_6, cell_6), Predicate(empty, cell_3), Predicate(touch, cell_6, cell_3)], 'positive effects': [Predicate(on, tile_6, cell_3), Predicate(empty, cell_6)], 'negative effects': [Not(Predicate(on, tile_6, cell_6)), Not(Predicate(empty, cell_3))]}, {'name': 'move(tile_6, cell_8, cell_5)', 'preconditions': [Predicate(on, tile_6, cell_8), Predicate(empty, cell_5), Predicate(touch, cell_8, cell_5)], 'positive effects': [Predicate(on, tile_6, cell_5), Predicate(empty, cell_8)], 'negative effects': [Not(Predicate(on, tile_6, cell_8)), Not(Predicate(empty, cell_5))]}, {'name': 'move(tile_6, cell_8, cell_7)', 'preconditions': [Predicate(on, tile_6, cell_8), Predicate(empty, cell_7), Predicate(touch, cell_8, cell_7)], 'positive effects': [Predicate(on, tile_6, cell_7), Predicate(empty, cell_8)], 'negative effects': [Not(Predicate(on, tile_6, cell_8)), Not(Predicate(empty, cell_7))]}, {'name': 'move(tile_6, cell_0, cell_1)', 'preconditions': [Predicate(on, tile_6, cell_0), Predicate(empty, cell_1), Predicate(touch, cell_0, cell_1)], 'positive effects': [Predicate(on, tile_6, cell_1), Predicate(empty, cell_0)], 'negative effects': [Not(Predicate(on, tile_6, cell_0)), Not(Predicate(empty, cell_1))]}, {'name': 'move(tile_6, cell_0, cell_3)', 'preconditions': [Predicate(on, tile_6, cell_0), Predicate(empty, cell_3), Predicate(touch, cell_0, cell_3)], 'positive effects': [Predicate(on, tile_6, cell_3), Predicate(empty, cell_0)], 'negative effects': [Not(Predicate(on, tile_6, cell_0)), Not(Predicate(empty, cell_3))]}, {'name': 'move(tile_6, cell_7, cell_6)', 'preconditions': [Predicate(on, tile_6, cell_7), Predicate(empty, cell_6), Predicate(touch, cell_7, cell_6)], 'positive effects': [Predicate(on, tile_6, cell_6), Predicate(empty, cell_7)], 'negative effects': [Not(Predicate(on, tile_6, cell_7)), Not(Predicate(empty, cell_6))]}, {'name': 'move(tile_6, cell_7, cell_8)', 'preconditions': [Predicate(on, tile_6, cell_7), Predicate(empty, cell_8), Predicate(touch, cell_7, cell_8)], 'positive effects': [Predicate(on, tile_6, cell_8), Predicate(empty, cell_7)], 'negative effects': [Not(Predicate(on, tile_6, cell_7)), Not(Predicate(empty, cell_8))]}, {'name': 'move(tile_6, cell_7, cell_4)', 'preconditions': [Predicate(on, tile_6, cell_7), Predicate(empty, cell_4), Predicate(touch, cell_7, cell_4)], 'positive effects': [Predicate(on, tile_6, cell_4), Predicate(empty, cell_7)], 'negative effects': [Not(Predicate(on, tile_6, cell_7)), Not(Predicate(empty, cell_4))]}, {'name': 'move(tile_6, cell_4, cell_5)', 'preconditions': [Predicate(on, tile_6, cell_4), Predicate(empty, cell_5), Predicate(touch, cell_4, cell_5)], 'positive effects': [Predicate(on, tile_6, cell_5), Predicate(empty, cell_4)], 'negative effects': [Not(Predicate(on, tile_6, cell_4)), Not(Predicate(empty, cell_5))]}, {'name': 'move(tile_6, cell_4, cell_1)', 'preconditions': [Predicate(on, tile_6, cell_4), Predicate(empty, cell_1), Predicate(touch, cell_4, cell_1)], 'positive effects': [Predicate(on, tile_6, cell_1), Predicate(empty, cell_4)], 'negative effects': [Not(Predicate(on, tile_6, cell_4)), Not(Predicate(empty, cell_1))]}, {'name': 'move(tile_6, cell_4, cell_7)', 'preconditions': [Predicate(on, tile_6, cell_4), Predicate(empty, cell_7), Predicate(touch, cell_4, cell_7)], 'positive effects': [Predicate(on, tile_6, cell_7), Predicate(empty, cell_4)], 'negative effects': [Not(Predicate(on, tile_6, cell_4)), Not(Predicate(empty, cell_7))]}, {'name': 'move(tile_6, cell_4, cell_3)', 'preconditions': [Predicate(on, tile_6, cell_4), Predicate(empty, cell_3), Predicate(touch, cell_4, cell_3)], 'positive effects': [Predicate(on, tile_6, cell_3), Predicate(empty, cell_4)], 'negative effects': [Not(Predicate(on, tile_6, cell_4)), Not(Predicate(empty, cell_3))]}, {'name': 'move(tile_6, cell_3, cell_6)', 'preconditions': [Predicate(on, tile_6, cell_3), Predicate(empty, cell_6), Predicate(touch, cell_3, cell_6)], 'positive effects': [Predicate(on, tile_6, cell_6), Predicate(empty, cell_3)], 'negative effects': [Not(Predicate(on, tile_6, cell_3)), Not(Predicate(empty, cell_6))]}, {'name': 'move(tile_6, cell_3, cell_0)', 'preconditions': [Predicate(on, tile_6, cell_3), Predicate(empty, cell_0), Predicate(touch, cell_3, cell_0)], 'positive effects': [Predicate(on, tile_6, cell_0), Predicate(empty, cell_3)], 'negative effects': [Not(Predicate(on, tile_6, cell_3)), Not(Predicate(empty, cell_0))]}, {'name': 'move(tile_6, cell_3, cell_4)', 'preconditions': [Predicate(on, tile_6, cell_3), Predicate(empty, cell_4), Predicate(touch, cell_3, cell_4)], 'positive effects': [Predicate(on, tile_6, cell_4), Predicate(empty, cell_3)], 'negative effects': [Not(Predicate(on, tile_6, cell_3)), Not(Predicate(empty, cell_4))]}, {'name': 'move(tile_1, cell_5, cell_2)', 'preconditions': [Predicate(on, tile_1, cell_5), Predicate(empty, cell_2), Predicate(touch, cell_5, cell_2)], 'positive effects': [Predicate(on, tile_1, cell_2), Predicate(empty, cell_5)], 'negative effects': [Not(Predicate(on, tile_1, cell_5)), Not(Predicate(empty, cell_2))]}, {'name': 'move(tile_1, cell_5, cell_8)', 'preconditions': [Predicate(on, tile_1, cell_5), Predicate(empty, cell_8), Predicate(touch, cell_5, cell_8)], 'positive effects': [Predicate(on, tile_1, cell_8), Predicate(empty, cell_5)], 'negative effects': [Not(Predicate(on, tile_1, cell_5)), Not(Predicate(empty, cell_8))]}, {'name': 'move(tile_1, cell_5, cell_4)', 'preconditions': [Predicate(on, tile_1, cell_5), Predicate(empty, cell_4), Predicate(touch, cell_5, cell_4)], 'positive effects': [Predicate(on, tile_1, cell_4), Predicate(empty, cell_5)], 'negative effects': [Not(Predicate(on, tile_1, cell_5)), Not(Predicate(empty, cell_4))]}, {'name': 'move(tile_1, cell_1, cell_2)', 'preconditions': [Predicate(on, tile_1, cell_1), Predicate(empty, cell_2), Predicate(touch, cell_1, cell_2)], 'positive effects': [Predicate(on, tile_1, cell_2), Predicate(empty, cell_1)], 'negative effects': [Not(Predicate(on, tile_1, cell_1)), Not(Predicate(empty, cell_2))]}, {'name': 'move(tile_1, cell_1, cell_0)', 'preconditions': [Predicate(on, tile_1, cell_1), Predicate(empty, cell_0), Predicate(touch, cell_1, cell_0)], 'positive effects': [Predicate(on, tile_1, cell_0), Predicate(empty, cell_1)], 'negative effects': [Not(Predicate(on, tile_1, cell_1)), Not(Predicate(empty, cell_0))]}, {'name': 'move(tile_1, cell_1, cell_4)', 'preconditions': [Predicate(on, tile_1, cell_1), Predicate(empty, cell_4), Predicate(touch, cell_1, cell_4)], 'positive effects': [Predicate(on, tile_1, cell_4), Predicate(empty, cell_1)], 'negative effects': [Not(Predicate(on, tile_1, cell_1)), Not(Predicate(empty, cell_4))]}, {'name': 'move(tile_1, cell_2, cell_5)', 'preconditions': [Predicate(on, tile_1, cell_2), Predicate(empty, cell_5), Predicate(touch, cell_2, cell_5)], 'positive effects': [Predicate(on, tile_1, cell_5), Predicate(empty, cell_2)], 'negative effects': [Not(Predicate(on, tile_1, cell_2)), Not(Predicate(empty, cell_5))]}, {'name': 'move(tile_1, cell_2, cell_1)', 'preconditions': [Predicate(on, tile_1, cell_2), Predicate(empty, cell_1), Predicate(touch, cell_2, cell_1)], 'positive effects': [Predicate(on, tile_1, cell_1), Predicate(empty, cell_2)], 'negative effects': [Not(Predicate(on, tile_1, cell_2)), Not(Predicate(empty, cell_1))]}, {'name': 'move(tile_1, cell_6, cell_7)', 'preconditions': [Predicate(on, tile_1, cell_6), Predicate(empty, cell_7), Predicate(touch, cell_6, cell_7)], 'positive effects': [Predicate(on, tile_1, cell_7), Predicate(empty, cell_6)], 'negative effects': [Not(Predicate(on, tile_1, cell_6)), Not(Predicate(empty, cell_7))]}, {'name': 'move(tile_1, cell_6, cell_3)', 'preconditions': [Predicate(on, tile_1, cell_6), Predicate(empty, cell_3), Predicate(touch, cell_6, cell_3)], 'positive effects': [Predicate(on, tile_1, cell_3), Predicate(empty, cell_6)], 'negative effects': [Not(Predicate(on, tile_1, cell_6)), Not(Predicate(empty, cell_3))]}, {'name': 'move(tile_1, cell_8, cell_5)', 'preconditions': [Predicate(on, tile_1, cell_8), Predicate(empty, cell_5), Predicate(touch, cell_8, cell_5)], 'positive effects': [Predicate(on, tile_1, cell_5), Predicate(empty, cell_8)], 'negative effects': [Not(Predicate(on, tile_1, cell_8)), Not(Predicate(empty, cell_5))]}, {'name': 'move(tile_1, cell_8, cell_7)', 'preconditions': [Predicate(on, tile_1, cell_8), Predicate(empty, cell_7), Predicate(touch, cell_8, cell_7)], 'positive effects': [Predicate(on, tile_1, cell_7), Predicate(empty, cell_8)], 'negative effects': [Not(Predicate(on, tile_1, cell_8)), Not(Predicate(empty, cell_7))]}, {'name': 'move(tile_1, cell_0, cell_1)', 'preconditions': [Predicate(on, tile_1, cell_0), Predicate(empty, cell_1), Predicate(touch, cell_0, cell_1)], 'positive effects': [Predicate(on, tile_1, cell_1), Predicate(empty, cell_0)], 'negative effects': [Not(Predicate(on, tile_1, cell_0)), Not(Predicate(empty, cell_1))]}, {'name': 'move(tile_1, cell_0, cell_3)', 'preconditions': [Predicate(on, tile_1, cell_0), Predicate(empty, cell_3), Predicate(touch, cell_0, cell_3)], 'positive effects': [Predicate(on, tile_1, cell_3), Predicate(empty, cell_0)], 'negative effects': [Not(Predicate(on, tile_1, cell_0)), Not(Predicate(empty, cell_3))]}, {'name': 'move(tile_1, cell_7, cell_6)', 'preconditions': [Predicate(on, tile_1, cell_7), Predicate(empty, cell_6), Predicate(touch, cell_7, cell_6)], 'positive effects': [Predicate(on, tile_1, cell_6), Predicate(empty, cell_7)], 'negative effects': [Not(Predicate(on, tile_1, cell_7)), Not(Predicate(empty, cell_6))]}, {'name': 'move(tile_1, cell_7, cell_8)', 'preconditions': [Predicate(on, tile_1, cell_7), Predicate(empty, cell_8), Predicate(touch, cell_7, cell_8)], 'positive effects': [Predicate(on, tile_1, cell_8), Predicate(empty, cell_7)], 'negative effects': [Not(Predicate(on, tile_1, cell_7)), Not(Predicate(empty, cell_8))]}, {'name': 'move(tile_1, cell_7, cell_4)', 'preconditions': [Predicate(on, tile_1, cell_7), Predicate(empty, cell_4), Predicate(touch, cell_7, cell_4)], 'positive effects': [Predicate(on, tile_1, cell_4), Predicate(empty, cell_7)], 'negative effects': [Not(Predicate(on, tile_1, cell_7)), Not(Predicate(empty, cell_4))]}, {'name': 'move(tile_1, cell_4, cell_5)', 'preconditions': [Predicate(on, tile_1, cell_4), Predicate(empty, cell_5), Predicate(touch, cell_4, cell_5)], 'positive effects': [Predicate(on, tile_1, cell_5), Predicate(empty, cell_4)], 'negative effects': [Not(Predicate(on, tile_1, cell_4)), Not(Predicate(empty, cell_5))]}, {'name': 'move(tile_1, cell_4, cell_1)', 'preconditions': [Predicate(on, tile_1, cell_4), Predicate(empty, cell_1), Predicate(touch, cell_4, cell_1)], 'positive effects': [Predicate(on, tile_1, cell_1), Predicate(empty, cell_4)], 'negative effects': [Not(Predicate(on, tile_1, cell_4)), Not(Predicate(empty, cell_1))]}, {'name': 'move(tile_1, cell_4, cell_7)', 'preconditions': [Predicate(on, tile_1, cell_4), Predicate(empty, cell_7), Predicate(touch, cell_4, cell_7)], 'positive effects': [Predicate(on, tile_1, cell_7), Predicate(empty, cell_4)], 'negative effects': [Not(Predicate(on, tile_1, cell_4)), Not(Predicate(empty, cell_7))]}, {'name': 'move(tile_1, cell_4, cell_3)', 'preconditions': [Predicate(on, tile_1, cell_4), Predicate(empty, cell_3), Predicate(touch, cell_4, cell_3)], 'positive effects': [Predicate(on, tile_1, cell_3), Predicate(empty, cell_4)], 'negative effects': [Not(Predicate(on, tile_1, cell_4)), Not(Predicate(empty, cell_3))]}, {'name': 'move(tile_1, cell_3, cell_6)', 'preconditions': [Predicate(on, tile_1, cell_3), Predicate(empty, cell_6), Predicate(touch, cell_3, cell_6)], 'positive effects': [Predicate(on, tile_1, cell_6), Predicate(empty, cell_3)], 'negative effects': [Not(Predicate(on, tile_1, cell_3)), Not(Predicate(empty, cell_6))]}, {'name': 'move(tile_1, cell_3, cell_0)', 'preconditions': [Predicate(on, tile_1, cell_3), Predicate(empty, cell_0), Predicate(touch, cell_3, cell_0)], 'positive effects': [Predicate(on, tile_1, cell_0), Predicate(empty, cell_3)], 'negative effects': [Not(Predicate(on, tile_1, cell_3)), Not(Predicate(empty, cell_0))]}, {'name': 'move(tile_1, cell_3, cell_4)', 'preconditions': [Predicate(on, tile_1, cell_3), Predicate(empty, cell_4), Predicate(touch, cell_3, cell_4)], 'positive effects': [Predicate(on, tile_1, cell_4), Predicate(empty, cell_3)], 'negative effects': [Not(Predicate(on, tile_1, cell_3)), Not(Predicate(empty, cell_4))]}]\n",
      "192\n"
     ]
    }
   ],
   "source": [
    "def is_possible_actions(dict_action):\n",
    "    for precondition in dict_action['preconditions']:\n",
    "        # Extraire le nom en fonction du type de précondition\n",
    "        if isinstance(precondition, pddl.logic.predicates.Predicate):\n",
    "            name = precondition.name\n",
    "        elif isinstance(precondition, pddl.logic.base.Not) and isinstance(precondition.argument, pddl.logic.predicates.Predicate):\n",
    "            name = precondition.argument.name\n",
    "\n",
    "        # Vérifier si le nom de la précondition est dans les effets des actions\n",
    "        if name not in effects_name:  # Si le nom n'est pas dans les effets, donc il ne sera jamais modifié\n",
    "            if precondition not in init_state:  # Si la précondition n'est pas dans l'état initial, donc l'action n'est pas possible\n",
    "                return False\n",
    "    return True\n",
    "\n",
    "def generate_klist(variables, k):\n",
    "    return list(permutations(variables, k))\n",
    "\n",
    "\n",
    "def all_actions(domain, problem):\n",
    "    actions = []\n",
    "    domain_actions_list = list(domain.actions)  # Convert to list once to avoid repeated conversions\n",
    "    dict_possibility = {}\n",
    "    for action in domain_actions_list:\n",
    "\n",
    "        action_copy = copy.deepcopy(action)\n",
    "        # Optimization: Generate possibilities once and use len(action_copy.parameters) directly\n",
    "        if len(action_copy.parameters) not in dict_possibility:\n",
    "            dict_possibility[len(action_copy.parameters)] = generate_klist(copy.deepcopy(list(problem.objects)), len(action_copy.parameters))\n",
    "        \n",
    "        possiblity = dict_possibility[len(action_copy.parameters)]\n",
    "\n",
    "        \n",
    "        for klist in possiblity:\n",
    "            dict_action = {'name': '', 'preconditions': [], 'positive effects': [], 'negative effects': []}\n",
    "            \n",
    "            # Construct action name\n",
    "            dict_action['name'] = action_copy.name.__str__() + '(' + ', '.join(v.__str__() for v in klist) + ')'\n",
    "            # print('\"parameters\"', list(action_copy.parameters)[0].__getstate__())   \n",
    "            # print('\"klist\"', list(klist)[0].__getstate__())\n",
    "            dict_var = dict(zip(action_copy.parameters, klist))\n",
    "\n",
    "            if all(action_copy.parameters[i].__getstate__()['_type_tags'] == klist[i].__getstate__()['_type_tags'] for i in range(len(action_copy.parameters))):\n",
    "\n",
    "\n",
    "                # Process preconditions\n",
    "                preconditions = copy.deepcopy(action_copy.precondition.operands) if hasattr(action_copy.precondition, 'operands') else [action_copy.precondition]\n",
    "                for precondition in preconditions:\n",
    "                    if hasattr(precondition, '_terms'):\n",
    "                        terms = tuple(dict_var.get(v, v) for v in precondition._terms)\n",
    "                        precondition._terms = terms\n",
    "                    dict_action['preconditions'].append(precondition)\n",
    "\n",
    "                # Process effects\n",
    "                effects = copy.deepcopy(action_copy.effect.operands) if hasattr(action_copy.effect, 'operands') else [action_copy.effect]\n",
    "                for effect in effects:\n",
    "                    if isinstance(effect, pddl.logic.predicates.Predicate):\n",
    "                        terms = tuple(dict_var.get(v, v) for v in effect._terms)\n",
    "                        effect._terms = terms\n",
    "                        dict_action['positive effects'].append(effect)\n",
    "                    elif isinstance(effect, pddl.logic.base.Not):\n",
    "                        terms = tuple(dict_var.get(v, v) for v in effect._arg._terms)\n",
    "                        effect._arg._terms = terms\n",
    "                        dict_action['negative effects'].append(effect)\n",
    "                \n",
    "                # Check if action is possible\n",
    "                if is_possible_actions(dict_action):\n",
    "                    actions.append(dict_action) \n",
    "    return actions\n",
    "\n",
    "All_actions = all_actions(domain, problem)\n",
    "\n",
    "print(\"All Actions : \", All_actions)\n",
    "\n",
    "print(len(All_actions))\n"
   ]
  },
  {
   "cell_type": "markdown",
   "metadata": {},
   "source": [
    "### Application d'actions sur state"
   ]
  },
  {
   "cell_type": "code",
   "execution_count": 30,
   "metadata": {},
   "outputs": [],
   "source": [
    "buffer_actions={}\n",
    "def applicable_actions(state, actions): # return applicable actions for a state\n",
    "    if tuple(state) not in buffer_actions:\n",
    "        buffer_actions[tuple(state)]= [a for a in actions if all(p in state for p in a['preconditions'])]\n",
    "    return buffer_actions[tuple(state)]\n",
    "# print(applicable_actions(init_state, All_actions))\n",
    "\n",
    "\n",
    "def apply_action(state, action): # return new state after applying an action\n",
    "    new_state = list(copy.deepcopy(state))\n",
    "    for e in action['positive effects']:\n",
    "        new_state.append(e)\n",
    "    for e in action['negative effects']:\n",
    "        new_state.remove(e.__getstate__()['_arg'])\n",
    "    return tuple(new_state)\n",
    "\n",
    "# print(apply_action(init_state, applicable_actions(init_state, All_actions)[0]))\n",
    "\n",
    "def is_applicable(state, action): # return True if an action is applicable for a state\n",
    "    copy_state = copy.deepcopy(state)   \n",
    "    \n",
    "    try:\n",
    "        apply_action(copy_state, action)\n",
    "        return True\n",
    "    except:\n",
    "        return False\n",
    "\n",
    "# action=[d for d in all_actions(domain, problem) if d['name']=='move(d0, d1, p2)'][0]\n",
    "# print(is_applicable(init_state, action))\n",
    "\n",
    "# def misapply_action(state, action): # return new state after misapplying an action\n",
    "#     new_state = copy.deepcopy(state)\n",
    "#     for e in action['positive effects']:\n",
    "#         new_state.remove(e)\n",
    "#     for e in action['negative effects']:\n",
    "#         new_state.append(e.__getstate__()['_arg'])\n",
    "#     return new_state\n",
    "\n",
    "\n",
    "# def previous_actions(state, actions): # return previous actions for a state\n",
    "#     previous_actions = []\n",
    "#     for a in actions:\n",
    "#         cdt1 = all([p in state for p in a['positive effects']])\n",
    "#         cdt2 = all([p.__getstate__()['_arg'] not in state for p in a['negative effects']])\n",
    "#         cdt3 = all([p in state for p in (set(a['preconditions'])-set([p.__getstate__()['_arg'] for p in a['negative effects']]))])\n",
    "#         if cdt1 and cdt2 and cdt3:\n",
    "#             previous_actions.append(a)\n",
    "#     return previous_actions\n",
    "\n",
    "# print(len(previous_actions(goal_state, all_actions(domain, problem))))\n",
    "\n",
    "# print(misapply_action(problem.goal.__getstate__()['_operands'], previous_actions(problem.goal.__getstate__()['_operands'], all_actions(domain, problem))[0]))\n",
    "\n"
   ]
  },
  {
   "cell_type": "markdown",
   "metadata": {},
   "source": [
    "### Vérfication de l'action"
   ]
  },
  {
   "cell_type": "code",
   "execution_count": 31,
   "metadata": {},
   "outputs": [],
   "source": [
    "def valid_plan(plan): # return True if a plan is valid\n",
    "    state = copy.deepcopy(init_state)\n",
    "    for a in plan:\n",
    "        print(a['name'])\n",
    "        if is_applicable(state, a):\n",
    "            state = apply_action(state, a)\n",
    "        else:\n",
    "            return False\n",
    "    return set(goal_state).issubset(set(state))"
   ]
  },
  {
   "cell_type": "markdown",
   "metadata": {},
   "source": [
    "### Heuristiques"
   ]
  },
  {
   "cell_type": "code",
   "execution_count": 32,
   "metadata": {},
   "outputs": [],
   "source": [
    "def relaxed_graphplan_heuristic(state, goal_state):\n",
    "    # return 0\n",
    "    \"\"\"\n",
    "    Calcule l'heuristique en utilisant une approche de graphe de planification relaxé.\n",
    "    \n",
    "    :param state: État actuel, un tuple de faits (prédicats).\n",
    "    :param goal_state: État objectif, un tuple de faits à atteindre.\n",
    "    :param actions: Liste des actions possibles dans le domaine.\n",
    "    :return: Valeur heuristique (int), estimation du nombre minimal d'actions pour atteindre l'état objectif.\n",
    "    \"\"\"\n",
    "    # Initialisation de l'ensemble de tous les faits connus (états actuels, objectifs, et tous les effets possibles).\n",
    "    all_facts = set(list(goal_state) + list(state))\n",
    "    for action in All_actions:\n",
    "        for effect in action['positive effects']:\n",
    "            all_facts.add(effect)\n",
    "\n",
    "    # Initialisation du dictionnaire des coûts des faits.\n",
    "    fact_costs = {fact: float('inf') for fact in all_facts}\n",
    "    for fact in state:\n",
    "        fact_costs[fact] = 0  # Coût nul pour les faits dans l'état actuel.\n",
    "    \n",
    "    # Boucle jusqu'à stabilisation : pas de mise à jour des coûts.\n",
    "    updated = True\n",
    "    while updated:\n",
    "        updated = False\n",
    "        for action in All_actions:\n",
    "            # Vérifier si toutes les préconditions sont satisfaites.\n",
    "            if all(fact_costs.get(pre, float('inf')) < float('inf') for pre in action['preconditions']):\n",
    "                cost = max(fact_costs.get(pre, 0) for pre in action['preconditions']) + 1  # Coût de l'action.\n",
    "                for effect in action['positive effects']:\n",
    "                    if fact_costs[effect] > cost:\n",
    "                        fact_costs[effect] = cost\n",
    "                        updated = True\n",
    "    \n",
    "    # Calculer et retourner la somme des coûts pour atteindre chaque fait de l'état objectif.\n",
    "    heuristic_value = max(fact_costs.get(goal, float('inf')) for goal in goal_state)\n",
    "    return heuristic_value if heuristic_value < float('inf') else float('inf')\n",
    "\n",
    "\n",
    "\n",
    "\n"
   ]
  },
  {
   "cell_type": "markdown",
   "metadata": {},
   "source": [
    "### Algo de recherche"
   ]
  },
  {
   "cell_type": "code",
   "execution_count": 33,
   "metadata": {},
   "outputs": [
    {
     "name": "stdout",
     "output_type": "stream",
     "text": [
      "État initial : (Predicate(touch, cell_5, cell_4), Predicate(touch, cell_4, cell_1), Predicate(touch, cell_4, cell_3), Predicate(touch, cell_3, cell_6), Predicate(touch, cell_3, cell_4), Predicate(on, tile_4, cell_2), Predicate(touch, cell_7, cell_8), Predicate(touch, cell_2, cell_1), Predicate(touch, cell_3, cell_0), Predicate(touch, cell_8, cell_7), Predicate(on, tile_2, cell_7), Predicate(touch, cell_6, cell_7), Predicate(on, tile_5, cell_4), Predicate(touch, cell_6, cell_3), Predicate(touch, cell_7, cell_6), Predicate(touch, cell_4, cell_5), Predicate(touch, cell_7, cell_4), Predicate(on, tile_7, cell_0), Predicate(touch, cell_0, cell_1), Predicate(touch, cell_2, cell_5), Predicate(on, tile_3, cell_6), Predicate(touch, cell_0, cell_3), Predicate(touch, cell_4, cell_7), Predicate(touch, cell_5, cell_8), Predicate(touch, cell_1, cell_4), Predicate(touch, cell_5, cell_2), Predicate(touch, cell_8, cell_5), Predicate(touch, cell_1, cell_2), Predicate(touch, cell_1, cell_0), Predicate(on, tile_1, cell_1), Predicate(on, tile_0, cell_3), Predicate(on, tile_6, cell_5), Predicate(empty, cell_8))\n",
      "État objectif : (Predicate(on, tile_0, cell_0), Predicate(on, tile_1, cell_1), Predicate(on, tile_2, cell_2), Predicate(on, tile_3, cell_3), Predicate(on, tile_4, cell_4), Predicate(on, tile_5, cell_5), Predicate(on, tile_6, cell_6), Predicate(on, tile_7, cell_7))\n"
     ]
    },
    {
     "ename": "KeyboardInterrupt",
     "evalue": "",
     "output_type": "error",
     "traceback": [
      "\u001b[0;31m---------------------------------------------------------------------------\u001b[0m",
      "\u001b[0;31mKeyboardInterrupt\u001b[0m                         Traceback (most recent call last)",
      "Cell \u001b[0;32mIn[33], line 75\u001b[0m\n\u001b[1;32m     72\u001b[0m \u001b[38;5;28;01mimport\u001b[39;00m \u001b[38;5;21;01mtime\u001b[39;00m\n\u001b[1;32m     73\u001b[0m start_time \u001b[38;5;241m=\u001b[39m time\u001b[38;5;241m.\u001b[39mtime()\n\u001b[0;32m---> 75\u001b[0m path_actions \u001b[38;5;241m=\u001b[39m \u001b[43mastar_search\u001b[49m\u001b[43m(\u001b[49m\u001b[43minit_state\u001b[49m\u001b[43m,\u001b[49m\u001b[43m \u001b[49m\u001b[43mgoal_state\u001b[49m\u001b[43m,\u001b[49m\u001b[43m \u001b[49m\u001b[43mAll_actions\u001b[49m\u001b[43m)\u001b[49m\n\u001b[1;32m     76\u001b[0m \u001b[38;5;28;01mif\u001b[39;00m path_actions:\n\u001b[1;32m     77\u001b[0m     \u001b[38;5;28mprint\u001b[39m(\u001b[38;5;124m\"\u001b[39m\u001b[38;5;124mPlan trouvé :\u001b[39m\u001b[38;5;124m\"\u001b[39m, path_actions)\n",
      "Cell \u001b[0;32mIn[33], line 59\u001b[0m, in \u001b[0;36mastar_search\u001b[0;34m(init_state, goal_state, actions)\u001b[0m\n\u001b[1;32m     57\u001b[0m \u001b[38;5;28;01mif\u001b[39;00m new_state \u001b[38;5;129;01mnot\u001b[39;00m \u001b[38;5;129;01min\u001b[39;00m cost_so_far \u001b[38;5;129;01mor\u001b[39;00m new_cost \u001b[38;5;241m<\u001b[39m cost_so_far[new_state]:\n\u001b[1;32m     58\u001b[0m     cost_so_far[new_state] \u001b[38;5;241m=\u001b[39m new_cost\n\u001b[0;32m---> 59\u001b[0m     h \u001b[38;5;241m=\u001b[39m \u001b[43mrelaxed_graphplan_heuristic\u001b[49m\u001b[43m(\u001b[49m\u001b[43mnew_state\u001b[49m\u001b[43m,\u001b[49m\u001b[43m \u001b[49m\u001b[43mcopy\u001b[49m\u001b[38;5;241;43m.\u001b[39;49m\u001b[43mdeepcopy\u001b[49m\u001b[43m(\u001b[49m\u001b[43mgoal_state\u001b[49m\u001b[43m)\u001b[49m\u001b[43m)\u001b[49m\n\u001b[1;32m     60\u001b[0m     priority \u001b[38;5;241m=\u001b[39m new_cost \u001b[38;5;241m+\u001b[39m h\n\u001b[1;32m     61\u001b[0m     heapq\u001b[38;5;241m.\u001b[39mheappush(open_list, (priority, new_cost, new_state))\n",
      "Cell \u001b[0;32mIn[32], line 29\u001b[0m, in \u001b[0;36mrelaxed_graphplan_heuristic\u001b[0;34m(state, goal_state)\u001b[0m\n\u001b[1;32m     26\u001b[0m \u001b[38;5;28;01mfor\u001b[39;00m action \u001b[38;5;129;01min\u001b[39;00m All_actions:\n\u001b[1;32m     27\u001b[0m     \u001b[38;5;66;03m# Vérifier si toutes les préconditions sont satisfaites.\u001b[39;00m\n\u001b[1;32m     28\u001b[0m     \u001b[38;5;28;01mif\u001b[39;00m \u001b[38;5;28mall\u001b[39m(fact_costs\u001b[38;5;241m.\u001b[39mget(pre, \u001b[38;5;28mfloat\u001b[39m(\u001b[38;5;124m'\u001b[39m\u001b[38;5;124minf\u001b[39m\u001b[38;5;124m'\u001b[39m)) \u001b[38;5;241m<\u001b[39m \u001b[38;5;28mfloat\u001b[39m(\u001b[38;5;124m'\u001b[39m\u001b[38;5;124minf\u001b[39m\u001b[38;5;124m'\u001b[39m) \u001b[38;5;28;01mfor\u001b[39;00m pre \u001b[38;5;129;01min\u001b[39;00m action[\u001b[38;5;124m'\u001b[39m\u001b[38;5;124mpreconditions\u001b[39m\u001b[38;5;124m'\u001b[39m]):\n\u001b[0;32m---> 29\u001b[0m         cost \u001b[38;5;241m=\u001b[39m \u001b[38;5;28;43mmax\u001b[39;49m\u001b[43m(\u001b[49m\u001b[43mfact_costs\u001b[49m\u001b[38;5;241;43m.\u001b[39;49m\u001b[43mget\u001b[49m\u001b[43m(\u001b[49m\u001b[43mpre\u001b[49m\u001b[43m,\u001b[49m\u001b[43m \u001b[49m\u001b[38;5;241;43m0\u001b[39;49m\u001b[43m)\u001b[49m\u001b[43m \u001b[49m\u001b[38;5;28;43;01mfor\u001b[39;49;00m\u001b[43m \u001b[49m\u001b[43mpre\u001b[49m\u001b[43m \u001b[49m\u001b[38;5;129;43;01min\u001b[39;49;00m\u001b[43m \u001b[49m\u001b[43maction\u001b[49m\u001b[43m[\u001b[49m\u001b[38;5;124;43m'\u001b[39;49m\u001b[38;5;124;43mpreconditions\u001b[39;49m\u001b[38;5;124;43m'\u001b[39;49m\u001b[43m]\u001b[49m\u001b[43m)\u001b[49m \u001b[38;5;241m+\u001b[39m \u001b[38;5;241m1\u001b[39m  \u001b[38;5;66;03m# Coût de l'action.\u001b[39;00m\n\u001b[1;32m     30\u001b[0m         \u001b[38;5;28;01mfor\u001b[39;00m effect \u001b[38;5;129;01min\u001b[39;00m action[\u001b[38;5;124m'\u001b[39m\u001b[38;5;124mpositive effects\u001b[39m\u001b[38;5;124m'\u001b[39m]:\n\u001b[1;32m     31\u001b[0m             \u001b[38;5;28;01mif\u001b[39;00m fact_costs[effect] \u001b[38;5;241m>\u001b[39m cost:\n",
      "Cell \u001b[0;32mIn[32], line 29\u001b[0m, in \u001b[0;36m<genexpr>\u001b[0;34m(.0)\u001b[0m\n\u001b[1;32m     26\u001b[0m \u001b[38;5;28;01mfor\u001b[39;00m action \u001b[38;5;129;01min\u001b[39;00m All_actions:\n\u001b[1;32m     27\u001b[0m     \u001b[38;5;66;03m# Vérifier si toutes les préconditions sont satisfaites.\u001b[39;00m\n\u001b[1;32m     28\u001b[0m     \u001b[38;5;28;01mif\u001b[39;00m \u001b[38;5;28mall\u001b[39m(fact_costs\u001b[38;5;241m.\u001b[39mget(pre, \u001b[38;5;28mfloat\u001b[39m(\u001b[38;5;124m'\u001b[39m\u001b[38;5;124minf\u001b[39m\u001b[38;5;124m'\u001b[39m)) \u001b[38;5;241m<\u001b[39m \u001b[38;5;28mfloat\u001b[39m(\u001b[38;5;124m'\u001b[39m\u001b[38;5;124minf\u001b[39m\u001b[38;5;124m'\u001b[39m) \u001b[38;5;28;01mfor\u001b[39;00m pre \u001b[38;5;129;01min\u001b[39;00m action[\u001b[38;5;124m'\u001b[39m\u001b[38;5;124mpreconditions\u001b[39m\u001b[38;5;124m'\u001b[39m]):\n\u001b[0;32m---> 29\u001b[0m         cost \u001b[38;5;241m=\u001b[39m \u001b[38;5;28mmax\u001b[39m(fact_costs\u001b[38;5;241m.\u001b[39mget(pre, \u001b[38;5;241m0\u001b[39m) \u001b[38;5;28;01mfor\u001b[39;00m pre \u001b[38;5;129;01min\u001b[39;00m action[\u001b[38;5;124m'\u001b[39m\u001b[38;5;124mpreconditions\u001b[39m\u001b[38;5;124m'\u001b[39m]) \u001b[38;5;241m+\u001b[39m \u001b[38;5;241m1\u001b[39m  \u001b[38;5;66;03m# Coût de l'action.\u001b[39;00m\n\u001b[1;32m     30\u001b[0m         \u001b[38;5;28;01mfor\u001b[39;00m effect \u001b[38;5;129;01min\u001b[39;00m action[\u001b[38;5;124m'\u001b[39m\u001b[38;5;124mpositive effects\u001b[39m\u001b[38;5;124m'\u001b[39m]:\n\u001b[1;32m     31\u001b[0m             \u001b[38;5;28;01mif\u001b[39;00m fact_costs[effect] \u001b[38;5;241m>\u001b[39m cost:\n",
      "File \u001b[0;32m~/.pyenv/versions/3.11.7/envs/po/lib/python3.11/site-packages/pddl/logic/predicates.py:90\u001b[0m, in \u001b[0;36mPredicate.__eq__\u001b[0;34m(self, other)\u001b[0m\n\u001b[1;32m     87\u001b[0m \u001b[38;5;250m    \u001b[39m\u001b[38;5;124;03m\"\"\"Get an unambiguous string representation.\"\"\"\u001b[39;00m\n\u001b[1;32m     88\u001b[0m     \u001b[38;5;28;01mreturn\u001b[39;00m \u001b[38;5;124mf\u001b[39m\u001b[38;5;124m\"\u001b[39m\u001b[38;5;132;01m{\u001b[39;00m\u001b[38;5;28mtype\u001b[39m(\u001b[38;5;28mself\u001b[39m)\u001b[38;5;241m.\u001b[39m\u001b[38;5;18m__name__\u001b[39m\u001b[38;5;132;01m}\u001b[39;00m\u001b[38;5;124m(\u001b[39m\u001b[38;5;132;01m{\u001b[39;00m\u001b[38;5;28mself\u001b[39m\u001b[38;5;241m.\u001b[39mname\u001b[38;5;132;01m}\u001b[39;00m\u001b[38;5;124m, \u001b[39m\u001b[38;5;132;01m{\u001b[39;00m\u001b[38;5;124m'\u001b[39m\u001b[38;5;124m, \u001b[39m\u001b[38;5;124m'\u001b[39m\u001b[38;5;241m.\u001b[39mjoin(\u001b[38;5;28mmap\u001b[39m(\u001b[38;5;28mstr\u001b[39m,\u001b[38;5;250m \u001b[39m\u001b[38;5;28mself\u001b[39m\u001b[38;5;241m.\u001b[39mterms))\u001b[38;5;132;01m}\u001b[39;00m\u001b[38;5;124m)\u001b[39m\u001b[38;5;124m\"\u001b[39m\n\u001b[0;32m---> 90\u001b[0m \u001b[38;5;28;01mdef\u001b[39;00m \u001b[38;5;21m__eq__\u001b[39m(\u001b[38;5;28mself\u001b[39m, other):\n\u001b[1;32m     91\u001b[0m \u001b[38;5;250m    \u001b[39m\u001b[38;5;124;03m\"\"\"Override equal operator.\"\"\"\u001b[39;00m\n\u001b[1;32m     92\u001b[0m     \u001b[38;5;28;01mreturn\u001b[39;00m (\n\u001b[1;32m     93\u001b[0m         \u001b[38;5;28misinstance\u001b[39m(other, Predicate)\n\u001b[1;32m     94\u001b[0m         \u001b[38;5;129;01mand\u001b[39;00m \u001b[38;5;28mself\u001b[39m\u001b[38;5;241m.\u001b[39mname \u001b[38;5;241m==\u001b[39m other\u001b[38;5;241m.\u001b[39mname\n\u001b[1;32m     95\u001b[0m         \u001b[38;5;129;01mand\u001b[39;00m \u001b[38;5;28mself\u001b[39m\u001b[38;5;241m.\u001b[39mterms \u001b[38;5;241m==\u001b[39m other\u001b[38;5;241m.\u001b[39mterms\n\u001b[1;32m     96\u001b[0m     )\n",
      "\u001b[0;31mKeyboardInterrupt\u001b[0m: "
     ]
    }
   ],
   "source": [
    "import heapq  # Importe le module heapq pour utiliser la file de priorité\n",
    "import copy\n",
    "\n",
    "def reconstruct_path(came_from, start, goal):\n",
    "    current = goal\n",
    "    plan = []\n",
    "\n",
    "    while current != start:\n",
    "        found = False  # Indicateur pour vérifier si l'état courant est trouvé dans les clés\n",
    "        for key in came_from.keys():\n",
    "            if set(current).issubset(set(key)):\n",
    "                prev_state, action = came_from[key]  # Récupère l'état précédent et l'action\n",
    "                plan.append(action)  # Ajoute le nom de l'action au plan\n",
    "                current = prev_state  # Met à jour l'état courant pour continuer à remonter\n",
    "                found = True  # Met à jour l'indicateur pour montrer que nous avons trouvé un match\n",
    "                break  # Sort de la boucle car nous avons trouvé l'état courant dans les clés\n",
    "\n",
    "        if not found:  # Si après avoir vérifié toutes les clés, aucun match n'est trouvé\n",
    "            return None  # Retourne None car un chemin complet ne peut pas être reconstruit\n",
    "\n",
    "    plan.reverse()  # Inverse le plan pour qu'il commence par l'état initial\n",
    "    return plan\n",
    "\n",
    "def astar_search(init_state, goal_state, actions):\n",
    "    init_state_tuple = tuple(copy.deepcopy(init_state))\n",
    "    goal_state_tuple = tuple(copy.deepcopy(goal_state))\n",
    "\n",
    "    print(\"État initial :\", init_state_tuple)\n",
    "    print(\"État objectif :\", goal_state_tuple)\n",
    "    \n",
    "    open_list = []\n",
    "    heapq.heappush(open_list, (relaxed_graphplan_heuristic(init_state_tuple, copy.deepcopy(goal_state)), 0, init_state_tuple))\n",
    "    \n",
    "    came_from = {}\n",
    "    cost_so_far = {init_state_tuple: 0}\n",
    "\n",
    "    iteration = 0  # Ajout pour suivre le nombre d'itérations\n",
    "    while open_list:\n",
    "        _, current_cost, current_state = heapq.heappop(open_list)\n",
    "\n",
    "        # print(current_cost)\n",
    "        \n",
    "        # print(f\"Iteration {iteration}\")\n",
    "        iteration += 1\n",
    "\n",
    "        if set(goal_state).issubset(set(current_state)):\n",
    "            print(\"Objectif atteint !\")\n",
    "            return reconstruct_path(came_from, init_state_tuple, goal_state_tuple)\n",
    "        \n",
    "        for action in applicable_actions(list(current_state), actions):\n",
    "            new_state = tuple(apply_action(list(current_state), action))\n",
    "            if set(goal_state).issubset(set(new_state)):\n",
    "                print(\"Objectif atteint !\")\n",
    "                return reconstruct_path(came_from, init_state_tuple, goal_state_tuple)\n",
    "            \n",
    "            new_cost = current_cost + 1  \n",
    "            if new_state not in cost_so_far or new_cost < cost_so_far[new_state]:\n",
    "                cost_so_far[new_state] = new_cost\n",
    "                h = relaxed_graphplan_heuristic(new_state, copy.deepcopy(goal_state))\n",
    "                priority = new_cost + h\n",
    "                heapq.heappush(open_list, (priority, new_cost, new_state))\n",
    "                came_from[new_state] = (current_state, action)\n",
    "        \n",
    "        if iteration > 100000:  # Condition de sortie pour éviter la boucle infinie pendant le débogage\n",
    "            print(\"Arrêt\")\n",
    "            return None\n",
    "                \n",
    "    print(\"Aucun chemin trouvé.\")\n",
    "    return None\n",
    "\n",
    "# Assurez-vous que `init_state` et `goal_state` sont convertis en tuples là où vous les définissez\n",
    "import time\n",
    "start_time = time.time()\n",
    "\n",
    "path_actions = astar_search(init_state, goal_state, All_actions)\n",
    "if path_actions:\n",
    "    print(\"Plan trouvé :\", path_actions)\n",
    "    for action in path_actions:\n",
    "        print(action['name'])\n",
    "\n",
    "print(\"\\n\")\n",
    "print(\"Nombre d'actions dans le plan :\", len(path_actions))\n",
    "print(\"Temps d'exécution : %s secondes\" % (time.time() - start_time))"
   ]
  },
  {
   "cell_type": "code",
   "execution_count": null,
   "metadata": {},
   "outputs": [
    {
     "name": "stdout",
     "output_type": "stream",
     "text": [
      "move(tile_6, cell_5, cell_8)\n",
      "move(tile_5, cell_4, cell_5)\n",
      "move(tile_2, cell_7, cell_4)\n",
      "move(tile_6, cell_8, cell_7)\n",
      "move(tile_5, cell_5, cell_8)\n",
      "move(tile_4, cell_2, cell_5)\n",
      "move(tile_1, cell_1, cell_2)\n",
      "move(tile_7, cell_0, cell_1)\n",
      "move(tile_0, cell_3, cell_0)\n",
      "move(tile_3, cell_6, cell_3)\n",
      "move(tile_6, cell_7, cell_6)\n",
      "move(tile_5, cell_8, cell_7)\n",
      "move(tile_4, cell_5, cell_8)\n",
      "move(tile_2, cell_4, cell_5)\n",
      "move(tile_7, cell_1, cell_4)\n",
      "move(tile_1, cell_2, cell_1)\n",
      "move(tile_2, cell_5, cell_2)\n",
      "move(tile_4, cell_8, cell_5)\n",
      "move(tile_5, cell_7, cell_8)\n",
      "move(tile_7, cell_4, cell_7)\n",
      "move(tile_4, cell_5, cell_4)\n",
      "move(tile_5, cell_8, cell_5)\n",
      "Plan valide : True\n"
     ]
    }
   ],
   "source": [
    "#vérification du plan :\n",
    "if path_actions:\n",
    "    print(\"Plan valide :\", valid_plan(path_actions))"
   ]
  },
  {
   "cell_type": "code",
   "execution_count": null,
   "metadata": {},
   "outputs": [],
   "source": []
  }
 ],
 "metadata": {
  "kernelspec": {
   "display_name": "po",
   "language": "python",
   "name": "python3"
  },
  "language_info": {
   "codemirror_mode": {
    "name": "ipython",
    "version": 3
   },
   "file_extension": ".py",
   "mimetype": "text/x-python",
   "name": "python",
   "nbconvert_exporter": "python",
   "pygments_lexer": "ipython3",
   "version": "3.11.7"
  }
 },
 "nbformat": 4,
 "nbformat_minor": 2
}
