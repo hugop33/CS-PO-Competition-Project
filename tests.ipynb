{
 "cells": [
  {
   "cell_type": "code",
   "execution_count": 1,
   "metadata": {},
   "outputs": [],
   "source": [
    "#execution requirements.txt\n",
    "#! pip install -r requirements.txt"
   ]
  },
  {
   "cell_type": "markdown",
   "metadata": {},
   "source": [
    "# Librairie pddl"
   ]
  },
  {
   "cell_type": "markdown",
   "metadata": {},
   "source": [
    "### Exploration librairie"
   ]
  },
  {
   "cell_type": "code",
   "execution_count": 2,
   "metadata": {},
   "outputs": [
    {
     "name": "stdout",
     "output_type": "stream",
     "text": [
      "Initial :  [Predicate(smaller, d2, p2), Predicate(smaller, d2, p1), Predicate(smaller, d0, p0), Predicate(on, d2, d3), Predicate(on, d0, d1), Predicate(smaller, d1, p0), Predicate(clear, p2), Predicate(smaller, d1, d3), Predicate(smaller, d0, d3), Predicate(smaller, d3, p0), Predicate(smaller, d1, p1), Predicate(smaller, d0, p1), Predicate(smaller, d3, p1), Predicate(on, d1, d2), Predicate(smaller, d0, p2), Predicate(smaller, d1, p2), Predicate(smaller, d2, d3), Predicate(smaller, d0, d1), Predicate(smaller, d3, p2), Predicate(on, d3, p0), Predicate(clear, p1), Predicate(smaller, d0, d2), Predicate(smaller, d2, p0), Predicate(clear, d0), Predicate(smaller, d1, d2)]\n",
      "Goal :  [Predicate(on, d0, d1), Predicate(on, d1, d2), Predicate(on, d2, d3), Predicate(on, d3, p2), Predicate(clear, p0), Predicate(clear, p1), Predicate(clear, d0), Predicate(smaller, d0, d1), Predicate(smaller, d0, d2), Predicate(smaller, d0, d3), Predicate(smaller, d0, p0), Predicate(smaller, d0, p1), Predicate(smaller, d0, p2), Predicate(smaller, d1, d2), Predicate(smaller, d1, d3), Predicate(smaller, d1, p0), Predicate(smaller, d1, p1), Predicate(smaller, d1, p2), Predicate(smaller, d2, d3), Predicate(smaller, d2, p0), Predicate(smaller, d2, p1), Predicate(smaller, d2, p2), Predicate(smaller, d3, p0), Predicate(smaller, d3, p1), Predicate(smaller, d3, p2)]\n",
      "0bjects : [Constant(p1), Constant(d3), Constant(p2), Constant(p0), Constant(d0), Constant(d1), Constant(d2)]\n",
      "Predicates :  [Predicate(smaller, ?x, ?y), Predicate(clear, ?x), Predicate(on, ?x, ?y)]\n",
      "Actions :  [Action(move, parameters=?x, ?y, ?z, precondition=(and (smaller ?x ?z) (on ?x ?y) (clear ?x) (clear ?z)), effect=(and (clear ?y) (on ?x ?z) (not (on ?x ?y)) (not (clear ?z))))]\n",
      "Action 0 Name :  move\n",
      "Action 0 Precondition :  [Predicate(smaller, ?x, ?z), Predicate(on, ?x, ?y), Predicate(clear, ?x), Predicate(clear, ?z)]\n",
      "Action 0 Effect :  [Predicate(clear, ?y), Predicate(on, ?x, ?z), Not(Predicate(on, ?x, ?y)), Not(Predicate(clear, ?z))]\n",
      "Action 0 Parameters :  [Variable(x), Variable(y), Variable(z)]\n"
     ]
    }
   ],
   "source": [
    "from pddl.parser.domain import DomainParser\n",
    "from pddl.parser.problem import ProblemParser\n",
    "import pddl\n",
    "from itertools import product\n",
    "import copy\n",
    "\n",
    "#import data/domain.pddl in str\n",
    "\n",
    "domain_str = open(\"data/domain.pddl\").read()\n",
    "problem_str = open(\"data/problem.pddl\").read()  \n",
    "\n",
    "# print(domain_str)\n",
    "# print(problem_str)\n",
    "\n",
    "\n",
    "domain = DomainParser()(domain_str)\n",
    "problem = ProblemParser()(problem_str)\n",
    "\n",
    "init_state = copy.deepcopy(list(problem.init))\n",
    "goal_state = copy.deepcopy(list(problem.goal.__getstate__()['_operands']))\n",
    "\n",
    "# PROBLEM\n",
    "print(\"Initial : \", init_state)\n",
    "print(\"Goal : \", goal_state)\n",
    "print(\"0bjects :\", list(problem.objects))\n",
    "\n",
    "\n",
    "# DOMAIN\n",
    "print(\"Predicates : \", list(domain.predicates))\n",
    "print(\"Actions : \", list(domain.actions))\n",
    "print(\"Action 0 Name : \",list((domain.actions))[0].name)\n",
    "print(\"Action 0 Precondition : \",list(list((domain.actions))[0].precondition.operands))\n",
    "print(\"Action 0 Effect : \",list(list((domain.actions))[0].effect.operands))\n",
    "print(\"Action 0 Parameters : \",list(list((domain.actions))[0].parameters))\n"
   ]
  },
  {
   "cell_type": "markdown",
   "metadata": {},
   "source": [
    "### Fonction pour générer toutes les actions possibles du problème"
   ]
  },
  {
   "cell_type": "code",
   "execution_count": 3,
   "metadata": {},
   "outputs": [],
   "source": [
    "def generate_klist(variables, k):\n",
    "    return list(product(variables, repeat=k))\n",
    "\n",
    "\n",
    "def all_actions(domain, problem):\n",
    "    actions = []\n",
    "    # pour toute les actions\n",
    "    for a in range(len(domain.actions)):\n",
    "        action = copy.deepcopy(list(domain.actions)[a])\n",
    "        possiblity=generate_klist(copy.deepcopy(list(problem.objects)), len(list(action.parameters)))\n",
    "        # pour toutes les combinaisons de variables possible pour une action et si les 3 variables sont différentes\n",
    "        for klist in possiblity :\n",
    "            if len(set(klist))==len(klist):\n",
    "                dict_action = {}\n",
    "                # name\n",
    "                dict_action['name'] = action.name.__str__()+'('+', '.join([v.__str__() for v in klist])+')'\n",
    "                dict_var=dict(zip(action.parameters, klist))\n",
    "                # preconditions\n",
    "                dict_action['preconditions'] = []\n",
    "\n",
    "                for p in range(len(list(list((domain.actions))[a].precondition.operands))):\n",
    "                    precondition = copy.deepcopy(list(list((domain.actions))[a].precondition.operands)[:])[p]\n",
    "                    terms =tuple([dict_var[v] for v in precondition.__getstate__()['_terms']])\n",
    "                    precondition.__getstate__()['_terms']=terms\n",
    "                    dict_action['preconditions'].append(precondition)\n",
    "\n",
    "                effects=copy.deepcopy(list(list((domain.actions))[a].effect.operands))\n",
    "\n",
    "                # positive effects\n",
    "                dict_action['positive effects'] = []\n",
    "\n",
    "                # negative effects\n",
    "                dict_action['negative effects'] = []\n",
    "\n",
    "                for e in range(len(effects)):\n",
    "                    effect = effects[e]\n",
    "                    if type(effect) is pddl.logic.predicates.Predicate:\n",
    "                        terms = copy.deepcopy(tuple([dict_var[v] for v in effect.__getstate__()['_terms']]))\n",
    "                        effect.__getstate__()['_terms']=terms\n",
    "                        dict_action['positive effects'].append(effect)  \n",
    "\n",
    "                    elif type(effect) is pddl.logic.base.Not:\n",
    "                        terms =tuple([dict_var[v] for v in effect.__getstate__()['_arg'].__getstate__()['_terms']])\n",
    "                        effect.__getstate__()['_arg'].__getstate__()['_terms']=terms\n",
    "                        dict_action['negative effects'].append(effect)         \n",
    "                            \n",
    "                actions.append(dict_action) \n",
    "    return actions\n",
    "\n",
    "# print(all_actions(domain, problem))"
   ]
  },
  {
   "cell_type": "markdown",
   "metadata": {},
   "source": [
    "### Application d'actions sur state"
   ]
  },
  {
   "cell_type": "code",
   "execution_count": 87,
   "metadata": {},
   "outputs": [
    {
     "name": "stdout",
     "output_type": "stream",
     "text": [
      "[{'name': 'move(d0, d1, p1)', 'preconditions': [Predicate(smaller, d0, p1), Predicate(on, d0, d1), Predicate(clear, d0), Predicate(clear, p1)], 'positive effects': [Predicate(clear, d1), Predicate(on, d0, p1)], 'negative effects': [Not(Predicate(on, d0, d1)), Not(Predicate(clear, p1))]}, {'name': 'move(d0, d1, p2)', 'preconditions': [Predicate(smaller, d0, p2), Predicate(on, d0, d1), Predicate(clear, d0), Predicate(clear, p2)], 'positive effects': [Predicate(clear, d1), Predicate(on, d0, p2)], 'negative effects': [Not(Predicate(on, d0, d1)), Not(Predicate(clear, p2))]}]\n",
      "[Predicate(smaller, d2, p2), Predicate(smaller, d2, p1), Predicate(smaller, d0, p0), Predicate(on, d2, d3), Predicate(smaller, d1, p0), Predicate(clear, p2), Predicate(smaller, d1, d3), Predicate(smaller, d0, d3), Predicate(smaller, d3, p0), Predicate(smaller, d1, p1), Predicate(smaller, d0, p1), Predicate(smaller, d3, p1), Predicate(on, d1, d2), Predicate(smaller, d0, p2), Predicate(smaller, d1, p2), Predicate(smaller, d2, d3), Predicate(smaller, d0, d1), Predicate(smaller, d3, p2), Predicate(on, d3, p0), Predicate(smaller, d0, d2), Predicate(smaller, d2, p0), Predicate(clear, d0), Predicate(smaller, d1, d2), Predicate(clear, d1), Predicate(on, d0, p1)]\n",
      "[{'name': 'move(d0, p1, d1)', 'preconditions': [Predicate(smaller, d0, d1), Predicate(on, d0, p1), Predicate(clear, d0), Predicate(clear, d1)], 'positive effects': [Predicate(clear, p1), Predicate(on, d0, d1)], 'negative effects': [Not(Predicate(on, d0, p1)), Not(Predicate(clear, d1))]}, {'name': 'move(d0, p0, d1)', 'preconditions': [Predicate(smaller, d0, d1), Predicate(on, d0, p0), Predicate(clear, d0), Predicate(clear, d1)], 'positive effects': [Predicate(clear, p0), Predicate(on, d0, d1)], 'negative effects': [Not(Predicate(on, d0, p0)), Not(Predicate(clear, d1))]}]\n"
     ]
    }
   ],
   "source": [
    "def applicable_actions(state, actions): # return applicable actions for a state\n",
    "    applicable_actions = []\n",
    "    for a in actions:\n",
    "        if all([p in state for p in a['preconditions']]):\n",
    "            applicable_actions.append(a)\n",
    "    return applicable_actions\n",
    "\n",
    "print(applicable_actions(init_state, all_actions(domain, problem)))\n",
    "\n",
    "\n",
    "def apply_action(state, action): # return new state after applying an action\n",
    "    new_state = copy.deepcopy(state)\n",
    "    for e in action['positive effects']:\n",
    "        new_state.append(e)\n",
    "    for e in action['negative effects']:\n",
    "        new_state.remove(e.__getstate__()['_arg'])\n",
    "    return new_state\n",
    "\n",
    "print(apply_action(init_state, applicable_actions(init_state, all_actions(domain, problem))[0]))\n",
    "\n",
    "def is_applicable(state, action): # return True if an action is applicable for a state\n",
    "    copy_state = copy.deepcopy(state)   \n",
    "    try:\n",
    "        apply_action(copy_state, action)\n",
    "        return True\n",
    "    except:\n",
    "        return False\n",
    "\n",
    "# action=[d for d in all_actions(domain, problem) if d['name']=='move(d0, d1, p2)'][0]\n",
    "# print(is_applicable(init_state, action))\n",
    "\n",
    "def misapply_action(state, action): # return new state after misapplying an action\n",
    "    new_state = copy.deepcopy(state)\n",
    "    for e in action['positive effects']:\n",
    "        new_state.remove(e)\n",
    "    for e in action['negative effects']:\n",
    "        new_state.append(e.__getstate__()['_arg'])\n",
    "    return new_state\n",
    "\n",
    "\n",
    "def previous_actions(state, actions): # return previous actions for a state\n",
    "    previous_actions = []\n",
    "    for a in actions:\n",
    "        cdt1 = all([p in state for p in a['positive effects']])\n",
    "        cdt2 = all([p.__getstate__()['_arg'] not in state for p in a['negative effects']])\n",
    "        cdt3 = all([p in state for p in (set(a['preconditions'])-set([p.__getstate__()['_arg'] for p in a['negative effects']]))])\n",
    "        if cdt1 and cdt2 and cdt3:\n",
    "            try:\n",
    "                misapply_action(state, a)\n",
    "                previous_actions.append(a)\n",
    "            except:\n",
    "                pass\n",
    "    return previous_actions\n",
    "\n",
    "print(previous_actions(goal_state, all_actions(domain, problem)))\n",
    "\n",
    "# print(misapply_action(problem.goal.__getstate__()['_operands'], previous_actions(problem.goal.__getstate__()['_operands'], all_actions(domain, problem))[0]))"
   ]
  },
  {
   "cell_type": "markdown",
   "metadata": {},
   "source": [
    "### Heuristique"
   ]
  },
  {
   "cell_type": "code",
   "execution_count": 82,
   "metadata": {},
   "outputs": [
    {
     "data": {
      "text/plain": [
       "2"
      ]
     },
     "execution_count": 82,
     "metadata": {},
     "output_type": "execute_result"
    }
   ],
   "source": [
    "## Métrique\n",
    "Initial = init_state.copy()\n",
    "Goal =  goal_state.copy()\n",
    "\n",
    "def metric(state, goal_state):\n",
    "    return len(set(state)-set(goal_state))\n",
    "\n",
    "metric(Initial, Goal)"
   ]
  },
  {
   "cell_type": "code",
   "execution_count": 81,
   "metadata": {},
   "outputs": [
    {
     "data": {
      "text/plain": [
       "2"
      ]
     },
     "execution_count": 81,
     "metadata": {},
     "output_type": "execute_result"
    }
   ],
   "source": [
    "def metric_relaxed(current_state, goal_state):\n",
    "    # Prédicats présents dans l'état but mais absents de l'état actuel\n",
    "    to_add = set(goal_state) - set(current_state)\n",
    "    \n",
    "    # La métrique est le nombre de prédicats à ajouter, ignorons les prédicats à retirer\n",
    "    return len(to_add)\n",
    "\n",
    "metric_relaxed(Initial, Goal)"
   ]
  },
  {
   "cell_type": "code",
   "execution_count": 80,
   "metadata": {},
   "outputs": [
    {
     "data": {
      "text/plain": [
       "4"
      ]
     },
     "execution_count": 80,
     "metadata": {},
     "output_type": "execute_result"
    }
   ],
   "source": [
    "def metric_improved(current_state, goal_state):\n",
    "    # Prédicats présents dans l'état actuel mais absents de l'état but\n",
    "    to_remove = set(current_state) - set(goal_state)\n",
    "    \n",
    "    # Prédicats présents dans l'état but mais absents de l'état actuel\n",
    "    to_add = set(goal_state) - set(current_state)\n",
    "    \n",
    "    # La métrique est la somme du nombre de prédicats à ajouter et à retirer\n",
    "    return len(to_remove) + len(to_add)\n",
    "\n",
    "metric_improved(Initial, Goal)"
   ]
  },
  {
   "cell_type": "code",
   "execution_count": 94,
   "metadata": {},
   "outputs": [
    {
     "ename": "TypeError",
     "evalue": "'list' object is not callable",
     "output_type": "error",
     "traceback": [
      "\u001b[1;31m---------------------------------------------------------------------------\u001b[0m",
      "\u001b[1;31mTypeError\u001b[0m                                 Traceback (most recent call last)",
      "Cell \u001b[1;32mIn[94], line 47\u001b[0m\n\u001b[0;32m     43\u001b[0m action_found \u001b[38;5;241m=\u001b[39m find_action_by_name(actions_dict, action_name)\n\u001b[0;32m     46\u001b[0m \u001b[38;5;28mdict\u001b[39m \u001b[38;5;241m=\u001b[39m all_actions(domain, problem)\n\u001b[1;32m---> 47\u001b[0m state1\u001b[38;5;241m=\u001b[39m apply_action(init_state, applicable_actions(init_state, \u001b[43mall_actions\u001b[49m\u001b[43m(\u001b[49m\u001b[43mdomain\u001b[49m\u001b[43m,\u001b[49m\u001b[43m \u001b[49m\u001b[43mproblem\u001b[49m\u001b[43m)\u001b[49m)[\u001b[38;5;241m0\u001b[39m])\n\u001b[0;32m     48\u001b[0m state2\u001b[38;5;241m=\u001b[39m apply_action(state1, applicable_actions(state1, action_found))\n\u001b[0;32m     50\u001b[0m cost \u001b[38;5;241m=\u001b[39m relaxed_plan_cost(state2, goal_state, domain, problem)\n",
      "Cell \u001b[1;32mIn[3], line 17\u001b[0m, in \u001b[0;36mall_actions\u001b[1;34m(domain, problem)\u001b[0m\n\u001b[0;32m     15\u001b[0m \u001b[38;5;66;03m# name\u001b[39;00m\n\u001b[0;32m     16\u001b[0m dict_action[\u001b[38;5;124m'\u001b[39m\u001b[38;5;124mname\u001b[39m\u001b[38;5;124m'\u001b[39m] \u001b[38;5;241m=\u001b[39m action\u001b[38;5;241m.\u001b[39mname\u001b[38;5;241m.\u001b[39m\u001b[38;5;21m__str__\u001b[39m()\u001b[38;5;241m+\u001b[39m\u001b[38;5;124m'\u001b[39m\u001b[38;5;124m(\u001b[39m\u001b[38;5;124m'\u001b[39m\u001b[38;5;241m+\u001b[39m\u001b[38;5;124m'\u001b[39m\u001b[38;5;124m, \u001b[39m\u001b[38;5;124m'\u001b[39m\u001b[38;5;241m.\u001b[39mjoin([v\u001b[38;5;241m.\u001b[39m\u001b[38;5;21m__str__\u001b[39m() \u001b[38;5;28;01mfor\u001b[39;00m v \u001b[38;5;129;01min\u001b[39;00m klist])\u001b[38;5;241m+\u001b[39m\u001b[38;5;124m'\u001b[39m\u001b[38;5;124m)\u001b[39m\u001b[38;5;124m'\u001b[39m\n\u001b[1;32m---> 17\u001b[0m dict_var\u001b[38;5;241m=\u001b[39m\u001b[38;5;28;43mdict\u001b[39;49m\u001b[43m(\u001b[49m\u001b[38;5;28;43mzip\u001b[39;49m\u001b[43m(\u001b[49m\u001b[43maction\u001b[49m\u001b[38;5;241;43m.\u001b[39;49m\u001b[43mparameters\u001b[49m\u001b[43m,\u001b[49m\u001b[43m \u001b[49m\u001b[43mklist\u001b[49m\u001b[43m)\u001b[49m\u001b[43m)\u001b[49m\n\u001b[0;32m     18\u001b[0m \u001b[38;5;66;03m# preconditions\u001b[39;00m\n\u001b[0;32m     19\u001b[0m dict_action[\u001b[38;5;124m'\u001b[39m\u001b[38;5;124mpreconditions\u001b[39m\u001b[38;5;124m'\u001b[39m] \u001b[38;5;241m=\u001b[39m []\n",
      "\u001b[1;31mTypeError\u001b[0m: 'list' object is not callable"
     ]
    }
   ],
   "source": [
    "# from collections import deque\n",
    "\n",
    "def relaxed_plan_cost(initial_state, goal_state, domain, problem):\n",
    "    all_possible_actions = all_actions(domain, problem)\n",
    "    frontier = deque([initial_state])\n",
    "    visited = set()\n",
    "    state_to_cost = {tuple(initial_state): 0}  # Dictionary to track the cost to reach a state\n",
    "\n",
    "    while frontier:\n",
    "        current_state = frontier.popleft()\n",
    "        current_state_tuple = tuple(current_state)\n",
    "        \n",
    "        if current_state_tuple in visited:\n",
    "            continue\n",
    "        visited.add(current_state_tuple)\n",
    "\n",
    "        # Check if current state meets the goal state criteria\n",
    "        if set(goal_state).issubset(set(current_state)):\n",
    "            return state_to_cost[current_state_tuple]\n",
    "        \n",
    "        for action in applicable_actions(current_state, all_possible_actions):\n",
    "            new_state = apply_action(current_state, action)\n",
    "            new_state_tuple = tuple(new_state)\n",
    "            \n",
    "            # Ignore negative effects by not considering them in the new state generation\n",
    "            if new_state_tuple not in state_to_cost or state_to_cost[new_state_tuple] > state_to_cost[current_state_tuple] + 1:\n",
    "                state_to_cost[new_state_tuple] = state_to_cost[current_state_tuple] + 1\n",
    "                frontier.append(new_state)\n",
    "\n",
    "    return float('inf')  # Return infinity if no plan can be found\n",
    "\n",
    "# Example usage:\n",
    "\n",
    "def find_action_by_name(actions, name):\n",
    "    for action in actions:\n",
    "        if action['name'] == name:\n",
    "            return action\n",
    "    return None\n",
    "\n",
    "# Exemple d'utilisation\n",
    "actions_dict = all_actions(domain, problem)  # Votre liste de dictionnaires ici\n",
    "action_name = 'move(d1, d2, p2)'  # Le nom de l'action que vous recherchez\n",
    "action_found = find_action_by_name(actions_dict, action_name)\n",
    "\n",
    "\n",
    "dict = all_actions(domain, problem)\n",
    "state1= apply_action(init_state, applicable_actions(init_state, all_actions(domain, problem))[0])\n",
    "state2= apply_action(state1, applicable_actions(state1, action_found))\n",
    "\n",
    "cost = relaxed_plan_cost(state2, goal_state, domain, problem)\n",
    "print(cost)\n"
   ]
  },
  {
   "cell_type": "markdown",
   "metadata": {},
   "source": [
    "### Fonction de vérification du planner"
   ]
  },
  {
   "cell_type": "markdown",
   "metadata": {},
   "source": [
    "### Algo de planification LAMA"
   ]
  },
  {
   "cell_type": "code",
   "execution_count": null,
   "metadata": {},
   "outputs": [],
   "source": []
  },
  {
   "cell_type": "markdown",
   "metadata": {},
   "source": [
    "# Librairie unified-planning"
   ]
  },
  {
   "cell_type": "markdown",
   "metadata": {},
   "source": [
    "### Solveur\n"
   ]
  },
  {
   "cell_type": "code",
   "execution_count": 5,
   "metadata": {},
   "outputs": [
    {
     "name": "stdout",
     "output_type": "stream",
     "text": [
      "Defaulting to user installation because normal site-packages is not writeable\n",
      "Requirement already satisfied: unified-planning[fast-downward] in c:\\users\\abdel\\appdata\\roaming\\python\\python311\\site-packages (1.1.0)\n",
      "Requirement already satisfied: pyparsing in c:\\users\\abdel\\appdata\\roaming\\python\\python311\\site-packages (from unified-planning[fast-downward]) (3.0.9)\n",
      "Requirement already satisfied: networkx in c:\\users\\abdel\\appdata\\roaming\\python\\python311\\site-packages (from unified-planning[fast-downward]) (2.8.8)\n",
      "Requirement already satisfied: ConfigSpace in c:\\users\\abdel\\appdata\\roaming\\python\\python311\\site-packages (from unified-planning[fast-downward]) (0.7.1)\n",
      "Requirement already satisfied: up-fast-downward==0.4.1 in c:\\users\\abdel\\appdata\\roaming\\python\\python311\\site-packages (from unified-planning[fast-downward]) (0.4.1)\n",
      "Requirement already satisfied: numpy in c:\\users\\abdel\\appdata\\roaming\\python\\python311\\site-packages (from ConfigSpace->unified-planning[fast-downward]) (1.25.2)\n",
      "Requirement already satisfied: scipy in c:\\users\\abdel\\appdata\\roaming\\python\\python311\\site-packages (from ConfigSpace->unified-planning[fast-downward]) (1.11.4)\n",
      "Requirement already satisfied: typing-extensions in c:\\users\\abdel\\appdata\\roaming\\python\\python311\\site-packages (from ConfigSpace->unified-planning[fast-downward]) (4.9.0)\n",
      "Requirement already satisfied: more-itertools in c:\\users\\abdel\\appdata\\roaming\\python\\python311\\site-packages (from ConfigSpace->unified-planning[fast-downward]) (10.1.0)\n"
     ]
    }
   ],
   "source": [
    "! pip install unified-planning[fast-downward]"
   ]
  },
  {
   "cell_type": "code",
   "execution_count": 6,
   "metadata": {},
   "outputs": [
    {
     "name": "stdout",
     "output_type": "stream",
     "text": [
      "\u001b[96m\u001b[1mNOTE: To disable printing of planning engine credits, add this line to your code: `up.shortcuts.get_environment().credits_stream = None`\n",
      "\u001b[0m\u001b[96m  *** Credits ***\n",
      "\u001b[0m\u001b[96m  * In operation mode `OneshotPlanner` at line 550 of `C:\\Users\\abdel\\AppData\\Roaming\\Python\\Python311\\site-packages\\unified_planning\\shortcuts.py`, \u001b[0m\u001b[96myou are using the following planning engine:\n",
      "\u001b[0m\u001b[96m  * Engine name: Fast Downward\n",
      "  * Developers:  Uni Basel team and contributors (cf. https://github.com/aibasel/downward/blob/main/README.md)\n",
      "\u001b[0m\u001b[96m  * Description: \u001b[0m\u001b[96mFast Downward is a domain-independent classical planning system.\u001b[0m\u001b[96m\n",
      "\u001b[0m\u001b[96m\n",
      "\u001b[0mPlan found\n",
      "SequentialPlan:\n",
      "    move(d0, d1, p1)\n",
      "    move(d1, d2, p2)\n",
      "    move(d0, p1, d1)\n",
      "    move(d2, d3, p1)\n",
      "    move(d0, d1, d3)\n",
      "    move(d1, p2, d2)\n",
      "    move(d0, d3, d1)\n",
      "    move(d3, p0, p2)\n",
      "    move(d0, d1, d3)\n",
      "    move(d1, d2, p0)\n",
      "    move(d0, d3, d1)\n",
      "    move(d2, p1, d3)\n",
      "    move(d0, d1, p1)\n",
      "    move(d1, p0, d2)\n",
      "    move(d0, p1, d1)\n"
     ]
    }
   ],
   "source": [
    "from unified_planning.io import PDDLReader\n",
    "from unified_planning.shortcuts import *\n",
    "from unified_planning.engines import PlanGenerationResultStatus\n",
    "\n",
    "reader = PDDLReader()\n",
    "pddl_problem = reader.parse_problem('data/domain.pddl', 'data/problem.pddl')\n",
    "# print(pddl_problem)\n",
    "\n",
    "\n",
    "with OneshotPlanner(\n",
    "    problem_kind=pddl_problem.kind,\n",
    "    optimality_guarantee=PlanGenerationResultStatus.SOLVED_OPTIMALLY,\n",
    ") as planner:\n",
    "    final_report = planner.solve(pddl_problem)\n",
    "    plan = final_report.plan\n",
    "\n",
    "\n",
    "print(\"Plan found\")   \n",
    "print(plan)"
   ]
  },
  {
   "cell_type": "markdown",
   "metadata": {},
   "source": [
    "### Actions applicables, paramètres applicables modification de l'état"
   ]
  },
  {
   "cell_type": "code",
   "execution_count": 7,
   "metadata": {},
   "outputs": [
    {
     "name": "stdout",
     "output_type": "stream",
     "text": [
      "{clear(d1): true, on(d0, p1): true, on(d0, d1): false, clear(p1): false, clear(d0): true, clear(p2): true, on(d1, d2): true, on(d2, d3): true, on(d3, p0): true, smaller(d0, d1): true, smaller(d0, d2): true, smaller(d0, d3): true, smaller(d0, p0): true, smaller(d0, p1): true, smaller(d0, p2): true, smaller(d1, d2): true, smaller(d1, d3): true, smaller(d1, p0): true, smaller(d1, p1): true, smaller(d1, p2): true, smaller(d2, d3): true, smaller(d2, p0): true, smaller(d2, p1): true, smaller(d2, p2): true, smaller(d3, p0): true, smaller(d3, p1): true, smaller(d3, p2): true, clear(d2): false, clear(d3): false, clear(p0): false, on(d0, d0): false, on(d1, d0): false, on(d2, d0): false, on(d3, d0): false, on(p0, d0): false, on(p1, d0): false, on(p2, d0): false, on(d1, d1): false, on(d2, d1): false, on(d3, d1): false, on(p0, d1): false, on(p1, d1): false, on(p2, d1): false, on(d0, d2): false, on(d2, d2): false, on(d3, d2): false, on(p0, d2): false, on(p1, d2): false, on(p2, d2): false, on(d0, d3): false, on(d1, d3): false, on(d3, d3): false, on(p0, d3): false, on(p1, d3): false, on(p2, d3): false, on(d0, p0): false, on(d1, p0): false, on(d2, p0): false, on(p0, p0): false, on(p1, p0): false, on(p2, p0): false, on(d1, p1): false, on(d2, p1): false, on(d3, p1): false, on(p0, p1): false, on(p1, p1): false, on(p2, p1): false, on(d0, p2): false, on(d1, p2): false, on(d2, p2): false, on(d3, p2): false, on(p0, p2): false, on(p1, p2): false, on(p2, p2): false, smaller(d0, d0): false, smaller(d1, d0): false, smaller(d2, d0): false, smaller(d3, d0): false, smaller(p0, d0): false, smaller(p1, d0): false, smaller(p2, d0): false, smaller(d1, d1): false, smaller(d2, d1): false, smaller(d3, d1): false, smaller(p0, d1): false, smaller(p1, d1): false, smaller(p2, d1): false, smaller(d2, d2): false, smaller(d3, d2): false, smaller(p0, d2): false, smaller(p1, d2): false, smaller(p2, d2): false, smaller(d3, d3): false, smaller(p0, d3): false, smaller(p1, d3): false, smaller(p2, d3): false, smaller(p0, p0): false, smaller(p1, p0): false, smaller(p2, p0): false, smaller(p0, p1): false, smaller(p1, p1): false, smaller(p2, p1): false, smaller(p0, p2): false, smaller(p1, p2): false, smaller(p2, p2): false}\n"
     ]
    }
   ],
   "source": [
    "# print(pddl_problem)\n",
    "from unified_planning.io import PDDLReader\n",
    "from unified_planning.shortcuts import *\n",
    "from unified_planning.plans import ActionInstance\n",
    "\n",
    "reader = PDDLReader()\n",
    "pddl_problem = reader.parse_problem('data/domain.pddl', 'data/problem.pddl')\n",
    "\n",
    "simulator = SequentialSimulator(pddl_problem)\n",
    "init_state2=simulator.get_initial_state()\n",
    "goal=pddl_problem.goals\n",
    "\n",
    "(action_name, para) = tuple(simulator.get_applicable_actions(init_state2))[0] # récup de la première fonction applicable et des paramètre qui conviennent\n",
    "\n",
    "action_instance = ActionInstance(action_name, para) #création de l'objet pour appliquer la fonction\n",
    "\n",
    "new_state = simulator.apply(init_state2, action_instance) #on applique la fonction sur l'état\n",
    "\n",
    "print(new_state)\n"
   ]
  },
  {
   "cell_type": "markdown",
   "metadata": {},
   "source": [
    "# Librairie pddlpy"
   ]
  },
  {
   "cell_type": "code",
   "execution_count": 8,
   "metadata": {},
   "outputs": [
    {
     "name": "stdout",
     "output_type": "stream",
     "text": [
      "{'p0': None, 'd2': None, 'p1': None, 'd1': None, 'd3': None, 'p2': None, 'smaller': None, 'on': None, 'd0': None, 'clear': None}\n",
      "{('smaller', 'd1', 'p1'), ('smaller', 'd0', 'p0'), ('on', 'd1', 'd2'), ('smaller', 'd3', 'p1'), ('smaller', 'd1', 'p2'), ('smaller', 'd0', 'p1'), ('on', 'd2', 'd3'), ('smaller', 'd3', 'p2'), ('smaller', 'd2', 'd3'), ('smaller', 'd0', 'p2'), ('on', 'd3', 'p0'), ('smaller', 'd2', 'p0'), ('smaller', 'd3', 'p0'), ('smaller', 'd1', 'd2'), ('clear', 'd0'), ('smaller', 'd0', 'd1'), ('smaller', 'd2', 'p1'), ('clear', 'p1'), ('smaller', 'd1', 'd3'), ('smaller', 'd0', 'd2'), ('clear', 'p2'), ('smaller', 'd2', 'p2'), ('smaller', 'd1', 'p0'), ('smaller', 'd0', 'd3'), ('on', 'd0', 'd1')}\n",
      "{('smaller', 'd0', 'p0'), ('smaller', 'd3', 'p1'), ('smaller', 'd1', 'p2'), ('clear', 'p1'), ('smaller', 'd0', 'p1'), ('smaller', 'd3', 'p2'), ('clear', 'd0'), ('smaller', 'd2', 'd3'), ('smaller', 'd0', 'p2'), ('on', 'd0', 'd1'), ('smaller', 'd0', 'd1'), ('smaller', 'd2', 'p0'), ('smaller', 'd1', 'd2'), ('on', 'd1', 'd2'), ('smaller', 'd0', 'd1'), ('smaller', 'd2', 'p1'), ('smaller', 'd1', 'd3'), ('smaller', 'd0', 'd2'), ('on', 'd2', 'd3'), ('smaller', 'd2', 'p2'), ('smaller', 'd1', 'p0'), ('on', 'd3', 'p2'), ('smaller', 'd0', 'd3'), ('smaller', 'd3', 'p0'), ('smaller', 'd1', 'p1'), ('clear', 'p0')}\n",
      "dict_keys(['move'])\n",
      "<generator object DomainProblem.ground_operator at 0x0000022AF620C340>\n",
      "Operator Name: move\n",
      "\tVariables: {'?x': None, '?y': None, '?z': None}\n",
      "\tPositive Preconditions: {('clear', '?x'), ('clear', '?z'), ('smaller', '?x', '?z'), ('on', '?x', '?y')}\n",
      "\tNegative Preconditions: set()\n",
      "\tPositive Effects: {('clear', '?y'), ('on', '?x', '?z')}\n",
      "\tNegative Effects: {('on', '?x', '?y'), ('clear', '?z')}\n",
      "\n",
      "Help on generator object:\n",
      "\n",
      "ground_operator = class generator(object)\n",
      " |  Methods defined here:\n",
      " |  \n",
      " |  __del__(...)\n",
      " |  \n",
      " |  __getattribute__(self, name, /)\n",
      " |      Return getattr(self, name).\n",
      " |  \n",
      " |  __iter__(self, /)\n",
      " |      Implement iter(self).\n",
      " |  \n",
      " |  __next__(self, /)\n",
      " |      Implement next(self).\n",
      " |  \n",
      " |  __repr__(self, /)\n",
      " |      Return repr(self).\n",
      " |  \n",
      " |  __sizeof__(...)\n",
      " |      gen.__sizeof__() -> size of gen in memory, in bytes\n",
      " |  \n",
      " |  close(...)\n",
      " |      close() -> raise GeneratorExit inside generator.\n",
      " |  \n",
      " |  send(...)\n",
      " |      send(arg) -> send 'arg' into generator,\n",
      " |      return next yielded value or raise StopIteration.\n",
      " |  \n",
      " |  throw(...)\n",
      " |      throw(value)\n",
      " |      throw(type[,value[,tb]])\n",
      " |      \n",
      " |      Raise exception in generator, return next yielded value or raise\n",
      " |      StopIteration.\n",
      " |  \n",
      " |  ----------------------------------------------------------------------\n",
      " |  Data descriptors defined here:\n",
      " |  \n",
      " |  gi_code\n",
      " |  \n",
      " |  gi_frame\n",
      " |  \n",
      " |  gi_running\n",
      " |  \n",
      " |  gi_suspended\n",
      " |  \n",
      " |  gi_yieldfrom\n",
      " |      object being iterated by yield from, or None\n",
      "\n"
     ]
    }
   ],
   "source": [
    "import pddlpy\n",
    "\n",
    "# Load your domain and problem PDDL files\n",
    "domprob = pddlpy.DomainProblem('data/domain.pddl', 'data/problem.pddl')\n",
    "print(domprob.worldobjects())\n",
    "print(domprob.initialstate())\n",
    "print(domprob.goals())\n",
    "print(domprob.operators())\n",
    "print(domprob.ground_operator('move'))\n",
    "print(domprob.domain.operators['move'])\n",
    "\n",
    "help(domprob.ground_operator('move'))"
   ]
  }
 ],
 "metadata": {
  "kernelspec": {
   "display_name": "po",
   "language": "python",
   "name": "python3"
  },
  "language_info": {
   "codemirror_mode": {
    "name": "ipython",
    "version": 3
   },
   "file_extension": ".py",
   "mimetype": "text/x-python",
   "name": "python",
   "nbconvert_exporter": "python",
   "pygments_lexer": "ipython3",
   "version": "3.11.0"
  }
 },
 "nbformat": 4,
 "nbformat_minor": 2
}
