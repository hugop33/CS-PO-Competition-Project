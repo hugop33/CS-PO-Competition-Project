{
 "cells": [
  {
   "cell_type": "code",
   "execution_count": 1,
   "metadata": {},
   "outputs": [],
   "source": [
    "#execution requirements.txt\n",
    "#! pip install -r requirements.txt"
   ]
  },
  {
   "cell_type": "markdown",
   "metadata": {},
   "source": [
    "# Librairie pddl"
   ]
  },
  {
   "cell_type": "markdown",
   "metadata": {},
   "source": [
    "### Exploration librairie"
   ]
  },
  {
   "cell_type": "code",
   "execution_count": 19,
   "metadata": {},
   "outputs": [
    {
     "name": "stdout",
     "output_type": "stream",
     "text": [
      "<pddl.core.Domain object at 0x146d72d50>\n",
      "Initial :  [Predicate(on, d1, d2), Predicate(smaller, d0, d1), Predicate(smaller, d0, d3), Predicate(smaller, d0, p2), Predicate(smaller, d1, p1), Predicate(smaller, d3, p2), Predicate(clear, d0), Predicate(smaller, d1, d3), Predicate(smaller, d1, p2), Predicate(smaller, d2, p0), Predicate(on, d0, d1), Predicate(smaller, d2, p1), Predicate(smaller, d0, d2), Predicate(smaller, d0, p0), Predicate(smaller, d3, p0), Predicate(smaller, d2, d3), Predicate(smaller, d2, p2), Predicate(smaller, d1, d2), Predicate(smaller, d3, p1), Predicate(clear, p1), Predicate(clear, p2), Predicate(on, d3, p0), Predicate(on, d2, d3), Predicate(smaller, d0, p1), Predicate(smaller, d1, p0)]\n",
      "Goal :  [Predicate(on, d0, d1), Predicate(on, d1, d2), Predicate(on, d2, d3), Predicate(on, d3, p2), Predicate(clear, p0), Predicate(clear, p1), Predicate(clear, d0), Predicate(smaller, d0, d1), Predicate(smaller, d0, d2), Predicate(smaller, d0, d3), Predicate(smaller, d0, p0), Predicate(smaller, d0, p1), Predicate(smaller, d0, p2), Predicate(smaller, d1, d2), Predicate(smaller, d1, d3), Predicate(smaller, d1, p0), Predicate(smaller, d1, p1), Predicate(smaller, d1, p2), Predicate(smaller, d2, d3), Predicate(smaller, d2, p0), Predicate(smaller, d2, p1), Predicate(smaller, d2, p2), Predicate(smaller, d3, p0), Predicate(smaller, d3, p1), Predicate(smaller, d3, p2)]\n",
      "0bjects : [Constant(d3), Constant(d1), Constant(d0), Constant(p1), Constant(d2), Constant(p0), Constant(p2)]\n",
      "Predicates :  [Predicate(smaller, ?x, ?y), Predicate(clear, ?x), Predicate(on, ?x, ?y)]\n",
      "Actions :  [Action(move, parameters=?x, ?y, ?z, precondition=(and (smaller ?x ?z) (on ?x ?y) (clear ?x) (clear ?z)), effect=(and (clear ?y) (on ?x ?z) (not (on ?x ?y)) (not (clear ?z))))]\n",
      "Action 0 Name :  move\n",
      "Action 0 Precondition :  [Predicate(smaller, ?x, ?z), Predicate(on, ?x, ?y), Predicate(clear, ?x), Predicate(clear, ?z)]\n",
      "Action 0 Effect :  [Predicate(clear, ?y), Predicate(on, ?x, ?z), Not(Predicate(on, ?x, ?y)), Not(Predicate(clear, ?z))]\n",
      "Action 0 Parameters :  [Variable(x), Variable(y), Variable(z)]\n"
     ]
    }
   ],
   "source": [
    "from pddl.parser.domain import DomainParser\n",
    "from pddl.parser.problem import ProblemParser\n",
    "import pddl\n",
    "from itertools import product\n",
    "import copy\n",
    "\n",
    "#import data/domain.pddl in str\n",
    "\n",
    "domain_str = open(\"data/domain.pddl\").read()\n",
    "problem_str = open(\"data/problem.pddl\").read()  \n",
    "\n",
    "# print(domain_str)\n",
    "# print(problem_str)\n",
    "\n",
    "\n",
    "domain = DomainParser()(domain_str)\n",
    "problem = ProblemParser()(problem_str)\n",
    "\n",
    "print(domain)\n",
    "\n",
    "init_state = copy.deepcopy(list(problem.init))\n",
    "goal_state = copy.deepcopy(list(problem.goal.__getstate__()['_operands']))\n",
    "\n",
    "# PROBLEM\n",
    "print(\"Initial : \", init_state)\n",
    "print(\"Goal : \", goal_state)\n",
    "print(\"0bjects :\", list(problem.objects))\n",
    "\n",
    "\n",
    "# DOMAIN\n",
    "print(\"Predicates : \", list(domain.predicates))\n",
    "print(\"Actions : \", list(domain.actions))\n",
    "print(\"Action 0 Name : \",list((domain.actions))[0].name)\n",
    "print(\"Action 0 Precondition : \",list(list((domain.actions))[0].precondition.operands))\n",
    "print(\"Action 0 Effect : \",list(list((domain.actions))[0].effect.operands))\n",
    "print(\"Action 0 Parameters : \",list(list((domain.actions))[0].parameters))\n"
   ]
  },
  {
   "cell_type": "markdown",
   "metadata": {},
   "source": [
    "### Fonction pour générer toutes les actions possibles du problème"
   ]
  },
  {
   "cell_type": "code",
   "execution_count": 15,
   "metadata": {},
   "outputs": [
    {
     "name": "stdout",
     "output_type": "stream",
     "text": [
      "[{'name': 'move(d3, d1, d0)', 'preconditions': [Predicate(smaller, d3, d0), Predicate(on, d3, d1), Predicate(clear, d3), Predicate(clear, d0)], 'positive effects': [Predicate(clear, d1), Predicate(on, d3, d0)], 'negative effects': [Not(Predicate(on, d3, d1)), Not(Predicate(clear, d0))]}, {'name': 'move(d3, d1, p1)', 'preconditions': [Predicate(smaller, d3, p1), Predicate(on, d3, d1), Predicate(clear, d3), Predicate(clear, p1)], 'positive effects': [Predicate(clear, d1), Predicate(on, d3, p1)], 'negative effects': [Not(Predicate(on, d3, d1)), Not(Predicate(clear, p1))]}, {'name': 'move(d3, d1, d2)', 'preconditions': [Predicate(smaller, d3, d2), Predicate(on, d3, d1), Predicate(clear, d3), Predicate(clear, d2)], 'positive effects': [Predicate(clear, d1), Predicate(on, d3, d2)], 'negative effects': [Not(Predicate(on, d3, d1)), Not(Predicate(clear, d2))]}, {'name': 'move(d3, d1, p0)', 'preconditions': [Predicate(smaller, d3, p0), Predicate(on, d3, d1), Predicate(clear, d3), Predicate(clear, p0)], 'positive effects': [Predicate(clear, d1), Predicate(on, d3, p0)], 'negative effects': [Not(Predicate(on, d3, d1)), Not(Predicate(clear, p0))]}, {'name': 'move(d3, d1, p2)', 'preconditions': [Predicate(smaller, d3, p2), Predicate(on, d3, d1), Predicate(clear, d3), Predicate(clear, p2)], 'positive effects': [Predicate(clear, d1), Predicate(on, d3, p2)], 'negative effects': [Not(Predicate(on, d3, d1)), Not(Predicate(clear, p2))]}, {'name': 'move(d3, d0, d1)', 'preconditions': [Predicate(smaller, d3, d1), Predicate(on, d3, d0), Predicate(clear, d3), Predicate(clear, d1)], 'positive effects': [Predicate(clear, d0), Predicate(on, d3, d1)], 'negative effects': [Not(Predicate(on, d3, d0)), Not(Predicate(clear, d1))]}, {'name': 'move(d3, d0, p1)', 'preconditions': [Predicate(smaller, d3, p1), Predicate(on, d3, d0), Predicate(clear, d3), Predicate(clear, p1)], 'positive effects': [Predicate(clear, d0), Predicate(on, d3, p1)], 'negative effects': [Not(Predicate(on, d3, d0)), Not(Predicate(clear, p1))]}, {'name': 'move(d3, d0, d2)', 'preconditions': [Predicate(smaller, d3, d2), Predicate(on, d3, d0), Predicate(clear, d3), Predicate(clear, d2)], 'positive effects': [Predicate(clear, d0), Predicate(on, d3, d2)], 'negative effects': [Not(Predicate(on, d3, d0)), Not(Predicate(clear, d2))]}, {'name': 'move(d3, d0, p0)', 'preconditions': [Predicate(smaller, d3, p0), Predicate(on, d3, d0), Predicate(clear, d3), Predicate(clear, p0)], 'positive effects': [Predicate(clear, d0), Predicate(on, d3, p0)], 'negative effects': [Not(Predicate(on, d3, d0)), Not(Predicate(clear, p0))]}, {'name': 'move(d3, d0, p2)', 'preconditions': [Predicate(smaller, d3, p2), Predicate(on, d3, d0), Predicate(clear, d3), Predicate(clear, p2)], 'positive effects': [Predicate(clear, d0), Predicate(on, d3, p2)], 'negative effects': [Not(Predicate(on, d3, d0)), Not(Predicate(clear, p2))]}, {'name': 'move(d3, p1, d1)', 'preconditions': [Predicate(smaller, d3, d1), Predicate(on, d3, p1), Predicate(clear, d3), Predicate(clear, d1)], 'positive effects': [Predicate(clear, p1), Predicate(on, d3, d1)], 'negative effects': [Not(Predicate(on, d3, p1)), Not(Predicate(clear, d1))]}, {'name': 'move(d3, p1, d0)', 'preconditions': [Predicate(smaller, d3, d0), Predicate(on, d3, p1), Predicate(clear, d3), Predicate(clear, d0)], 'positive effects': [Predicate(clear, p1), Predicate(on, d3, d0)], 'negative effects': [Not(Predicate(on, d3, p1)), Not(Predicate(clear, d0))]}, {'name': 'move(d3, p1, d2)', 'preconditions': [Predicate(smaller, d3, d2), Predicate(on, d3, p1), Predicate(clear, d3), Predicate(clear, d2)], 'positive effects': [Predicate(clear, p1), Predicate(on, d3, d2)], 'negative effects': [Not(Predicate(on, d3, p1)), Not(Predicate(clear, d2))]}, {'name': 'move(d3, p1, p0)', 'preconditions': [Predicate(smaller, d3, p0), Predicate(on, d3, p1), Predicate(clear, d3), Predicate(clear, p0)], 'positive effects': [Predicate(clear, p1), Predicate(on, d3, p0)], 'negative effects': [Not(Predicate(on, d3, p1)), Not(Predicate(clear, p0))]}, {'name': 'move(d3, p1, p2)', 'preconditions': [Predicate(smaller, d3, p2), Predicate(on, d3, p1), Predicate(clear, d3), Predicate(clear, p2)], 'positive effects': [Predicate(clear, p1), Predicate(on, d3, p2)], 'negative effects': [Not(Predicate(on, d3, p1)), Not(Predicate(clear, p2))]}, {'name': 'move(d3, d2, d1)', 'preconditions': [Predicate(smaller, d3, d1), Predicate(on, d3, d2), Predicate(clear, d3), Predicate(clear, d1)], 'positive effects': [Predicate(clear, d2), Predicate(on, d3, d1)], 'negative effects': [Not(Predicate(on, d3, d2)), Not(Predicate(clear, d1))]}, {'name': 'move(d3, d2, d0)', 'preconditions': [Predicate(smaller, d3, d0), Predicate(on, d3, d2), Predicate(clear, d3), Predicate(clear, d0)], 'positive effects': [Predicate(clear, d2), Predicate(on, d3, d0)], 'negative effects': [Not(Predicate(on, d3, d2)), Not(Predicate(clear, d0))]}, {'name': 'move(d3, d2, p1)', 'preconditions': [Predicate(smaller, d3, p1), Predicate(on, d3, d2), Predicate(clear, d3), Predicate(clear, p1)], 'positive effects': [Predicate(clear, d2), Predicate(on, d3, p1)], 'negative effects': [Not(Predicate(on, d3, d2)), Not(Predicate(clear, p1))]}, {'name': 'move(d3, d2, p0)', 'preconditions': [Predicate(smaller, d3, p0), Predicate(on, d3, d2), Predicate(clear, d3), Predicate(clear, p0)], 'positive effects': [Predicate(clear, d2), Predicate(on, d3, p0)], 'negative effects': [Not(Predicate(on, d3, d2)), Not(Predicate(clear, p0))]}, {'name': 'move(d3, d2, p2)', 'preconditions': [Predicate(smaller, d3, p2), Predicate(on, d3, d2), Predicate(clear, d3), Predicate(clear, p2)], 'positive effects': [Predicate(clear, d2), Predicate(on, d3, p2)], 'negative effects': [Not(Predicate(on, d3, d2)), Not(Predicate(clear, p2))]}, {'name': 'move(d3, p0, d1)', 'preconditions': [Predicate(smaller, d3, d1), Predicate(on, d3, p0), Predicate(clear, d3), Predicate(clear, d1)], 'positive effects': [Predicate(clear, p0), Predicate(on, d3, d1)], 'negative effects': [Not(Predicate(on, d3, p0)), Not(Predicate(clear, d1))]}, {'name': 'move(d3, p0, d0)', 'preconditions': [Predicate(smaller, d3, d0), Predicate(on, d3, p0), Predicate(clear, d3), Predicate(clear, d0)], 'positive effects': [Predicate(clear, p0), Predicate(on, d3, d0)], 'negative effects': [Not(Predicate(on, d3, p0)), Not(Predicate(clear, d0))]}, {'name': 'move(d3, p0, p1)', 'preconditions': [Predicate(smaller, d3, p1), Predicate(on, d3, p0), Predicate(clear, d3), Predicate(clear, p1)], 'positive effects': [Predicate(clear, p0), Predicate(on, d3, p1)], 'negative effects': [Not(Predicate(on, d3, p0)), Not(Predicate(clear, p1))]}, {'name': 'move(d3, p0, d2)', 'preconditions': [Predicate(smaller, d3, d2), Predicate(on, d3, p0), Predicate(clear, d3), Predicate(clear, d2)], 'positive effects': [Predicate(clear, p0), Predicate(on, d3, d2)], 'negative effects': [Not(Predicate(on, d3, p0)), Not(Predicate(clear, d2))]}, {'name': 'move(d3, p0, p2)', 'preconditions': [Predicate(smaller, d3, p2), Predicate(on, d3, p0), Predicate(clear, d3), Predicate(clear, p2)], 'positive effects': [Predicate(clear, p0), Predicate(on, d3, p2)], 'negative effects': [Not(Predicate(on, d3, p0)), Not(Predicate(clear, p2))]}, {'name': 'move(d3, p2, d1)', 'preconditions': [Predicate(smaller, d3, d1), Predicate(on, d3, p2), Predicate(clear, d3), Predicate(clear, d1)], 'positive effects': [Predicate(clear, p2), Predicate(on, d3, d1)], 'negative effects': [Not(Predicate(on, d3, p2)), Not(Predicate(clear, d1))]}, {'name': 'move(d3, p2, d0)', 'preconditions': [Predicate(smaller, d3, d0), Predicate(on, d3, p2), Predicate(clear, d3), Predicate(clear, d0)], 'positive effects': [Predicate(clear, p2), Predicate(on, d3, d0)], 'negative effects': [Not(Predicate(on, d3, p2)), Not(Predicate(clear, d0))]}, {'name': 'move(d3, p2, p1)', 'preconditions': [Predicate(smaller, d3, p1), Predicate(on, d3, p2), Predicate(clear, d3), Predicate(clear, p1)], 'positive effects': [Predicate(clear, p2), Predicate(on, d3, p1)], 'negative effects': [Not(Predicate(on, d3, p2)), Not(Predicate(clear, p1))]}, {'name': 'move(d3, p2, d2)', 'preconditions': [Predicate(smaller, d3, d2), Predicate(on, d3, p2), Predicate(clear, d3), Predicate(clear, d2)], 'positive effects': [Predicate(clear, p2), Predicate(on, d3, d2)], 'negative effects': [Not(Predicate(on, d3, p2)), Not(Predicate(clear, d2))]}, {'name': 'move(d3, p2, p0)', 'preconditions': [Predicate(smaller, d3, p0), Predicate(on, d3, p2), Predicate(clear, d3), Predicate(clear, p0)], 'positive effects': [Predicate(clear, p2), Predicate(on, d3, p0)], 'negative effects': [Not(Predicate(on, d3, p2)), Not(Predicate(clear, p0))]}, {'name': 'move(d1, d3, d0)', 'preconditions': [Predicate(smaller, d1, d0), Predicate(on, d1, d3), Predicate(clear, d1), Predicate(clear, d0)], 'positive effects': [Predicate(clear, d3), Predicate(on, d1, d0)], 'negative effects': [Not(Predicate(on, d1, d3)), Not(Predicate(clear, d0))]}, {'name': 'move(d1, d3, p1)', 'preconditions': [Predicate(smaller, d1, p1), Predicate(on, d1, d3), Predicate(clear, d1), Predicate(clear, p1)], 'positive effects': [Predicate(clear, d3), Predicate(on, d1, p1)], 'negative effects': [Not(Predicate(on, d1, d3)), Not(Predicate(clear, p1))]}, {'name': 'move(d1, d3, d2)', 'preconditions': [Predicate(smaller, d1, d2), Predicate(on, d1, d3), Predicate(clear, d1), Predicate(clear, d2)], 'positive effects': [Predicate(clear, d3), Predicate(on, d1, d2)], 'negative effects': [Not(Predicate(on, d1, d3)), Not(Predicate(clear, d2))]}, {'name': 'move(d1, d3, p0)', 'preconditions': [Predicate(smaller, d1, p0), Predicate(on, d1, d3), Predicate(clear, d1), Predicate(clear, p0)], 'positive effects': [Predicate(clear, d3), Predicate(on, d1, p0)], 'negative effects': [Not(Predicate(on, d1, d3)), Not(Predicate(clear, p0))]}, {'name': 'move(d1, d3, p2)', 'preconditions': [Predicate(smaller, d1, p2), Predicate(on, d1, d3), Predicate(clear, d1), Predicate(clear, p2)], 'positive effects': [Predicate(clear, d3), Predicate(on, d1, p2)], 'negative effects': [Not(Predicate(on, d1, d3)), Not(Predicate(clear, p2))]}, {'name': 'move(d1, d0, d3)', 'preconditions': [Predicate(smaller, d1, d3), Predicate(on, d1, d0), Predicate(clear, d1), Predicate(clear, d3)], 'positive effects': [Predicate(clear, d0), Predicate(on, d1, d3)], 'negative effects': [Not(Predicate(on, d1, d0)), Not(Predicate(clear, d3))]}, {'name': 'move(d1, d0, p1)', 'preconditions': [Predicate(smaller, d1, p1), Predicate(on, d1, d0), Predicate(clear, d1), Predicate(clear, p1)], 'positive effects': [Predicate(clear, d0), Predicate(on, d1, p1)], 'negative effects': [Not(Predicate(on, d1, d0)), Not(Predicate(clear, p1))]}, {'name': 'move(d1, d0, d2)', 'preconditions': [Predicate(smaller, d1, d2), Predicate(on, d1, d0), Predicate(clear, d1), Predicate(clear, d2)], 'positive effects': [Predicate(clear, d0), Predicate(on, d1, d2)], 'negative effects': [Not(Predicate(on, d1, d0)), Not(Predicate(clear, d2))]}, {'name': 'move(d1, d0, p0)', 'preconditions': [Predicate(smaller, d1, p0), Predicate(on, d1, d0), Predicate(clear, d1), Predicate(clear, p0)], 'positive effects': [Predicate(clear, d0), Predicate(on, d1, p0)], 'negative effects': [Not(Predicate(on, d1, d0)), Not(Predicate(clear, p0))]}, {'name': 'move(d1, d0, p2)', 'preconditions': [Predicate(smaller, d1, p2), Predicate(on, d1, d0), Predicate(clear, d1), Predicate(clear, p2)], 'positive effects': [Predicate(clear, d0), Predicate(on, d1, p2)], 'negative effects': [Not(Predicate(on, d1, d0)), Not(Predicate(clear, p2))]}, {'name': 'move(d1, p1, d3)', 'preconditions': [Predicate(smaller, d1, d3), Predicate(on, d1, p1), Predicate(clear, d1), Predicate(clear, d3)], 'positive effects': [Predicate(clear, p1), Predicate(on, d1, d3)], 'negative effects': [Not(Predicate(on, d1, p1)), Not(Predicate(clear, d3))]}, {'name': 'move(d1, p1, d0)', 'preconditions': [Predicate(smaller, d1, d0), Predicate(on, d1, p1), Predicate(clear, d1), Predicate(clear, d0)], 'positive effects': [Predicate(clear, p1), Predicate(on, d1, d0)], 'negative effects': [Not(Predicate(on, d1, p1)), Not(Predicate(clear, d0))]}, {'name': 'move(d1, p1, d2)', 'preconditions': [Predicate(smaller, d1, d2), Predicate(on, d1, p1), Predicate(clear, d1), Predicate(clear, d2)], 'positive effects': [Predicate(clear, p1), Predicate(on, d1, d2)], 'negative effects': [Not(Predicate(on, d1, p1)), Not(Predicate(clear, d2))]}, {'name': 'move(d1, p1, p0)', 'preconditions': [Predicate(smaller, d1, p0), Predicate(on, d1, p1), Predicate(clear, d1), Predicate(clear, p0)], 'positive effects': [Predicate(clear, p1), Predicate(on, d1, p0)], 'negative effects': [Not(Predicate(on, d1, p1)), Not(Predicate(clear, p0))]}, {'name': 'move(d1, p1, p2)', 'preconditions': [Predicate(smaller, d1, p2), Predicate(on, d1, p1), Predicate(clear, d1), Predicate(clear, p2)], 'positive effects': [Predicate(clear, p1), Predicate(on, d1, p2)], 'negative effects': [Not(Predicate(on, d1, p1)), Not(Predicate(clear, p2))]}, {'name': 'move(d1, d2, d3)', 'preconditions': [Predicate(smaller, d1, d3), Predicate(on, d1, d2), Predicate(clear, d1), Predicate(clear, d3)], 'positive effects': [Predicate(clear, d2), Predicate(on, d1, d3)], 'negative effects': [Not(Predicate(on, d1, d2)), Not(Predicate(clear, d3))]}, {'name': 'move(d1, d2, d0)', 'preconditions': [Predicate(smaller, d1, d0), Predicate(on, d1, d2), Predicate(clear, d1), Predicate(clear, d0)], 'positive effects': [Predicate(clear, d2), Predicate(on, d1, d0)], 'negative effects': [Not(Predicate(on, d1, d2)), Not(Predicate(clear, d0))]}, {'name': 'move(d1, d2, p1)', 'preconditions': [Predicate(smaller, d1, p1), Predicate(on, d1, d2), Predicate(clear, d1), Predicate(clear, p1)], 'positive effects': [Predicate(clear, d2), Predicate(on, d1, p1)], 'negative effects': [Not(Predicate(on, d1, d2)), Not(Predicate(clear, p1))]}, {'name': 'move(d1, d2, p0)', 'preconditions': [Predicate(smaller, d1, p0), Predicate(on, d1, d2), Predicate(clear, d1), Predicate(clear, p0)], 'positive effects': [Predicate(clear, d2), Predicate(on, d1, p0)], 'negative effects': [Not(Predicate(on, d1, d2)), Not(Predicate(clear, p0))]}, {'name': 'move(d1, d2, p2)', 'preconditions': [Predicate(smaller, d1, p2), Predicate(on, d1, d2), Predicate(clear, d1), Predicate(clear, p2)], 'positive effects': [Predicate(clear, d2), Predicate(on, d1, p2)], 'negative effects': [Not(Predicate(on, d1, d2)), Not(Predicate(clear, p2))]}, {'name': 'move(d1, p0, d3)', 'preconditions': [Predicate(smaller, d1, d3), Predicate(on, d1, p0), Predicate(clear, d1), Predicate(clear, d3)], 'positive effects': [Predicate(clear, p0), Predicate(on, d1, d3)], 'negative effects': [Not(Predicate(on, d1, p0)), Not(Predicate(clear, d3))]}, {'name': 'move(d1, p0, d0)', 'preconditions': [Predicate(smaller, d1, d0), Predicate(on, d1, p0), Predicate(clear, d1), Predicate(clear, d0)], 'positive effects': [Predicate(clear, p0), Predicate(on, d1, d0)], 'negative effects': [Not(Predicate(on, d1, p0)), Not(Predicate(clear, d0))]}, {'name': 'move(d1, p0, p1)', 'preconditions': [Predicate(smaller, d1, p1), Predicate(on, d1, p0), Predicate(clear, d1), Predicate(clear, p1)], 'positive effects': [Predicate(clear, p0), Predicate(on, d1, p1)], 'negative effects': [Not(Predicate(on, d1, p0)), Not(Predicate(clear, p1))]}, {'name': 'move(d1, p0, d2)', 'preconditions': [Predicate(smaller, d1, d2), Predicate(on, d1, p0), Predicate(clear, d1), Predicate(clear, d2)], 'positive effects': [Predicate(clear, p0), Predicate(on, d1, d2)], 'negative effects': [Not(Predicate(on, d1, p0)), Not(Predicate(clear, d2))]}, {'name': 'move(d1, p0, p2)', 'preconditions': [Predicate(smaller, d1, p2), Predicate(on, d1, p0), Predicate(clear, d1), Predicate(clear, p2)], 'positive effects': [Predicate(clear, p0), Predicate(on, d1, p2)], 'negative effects': [Not(Predicate(on, d1, p0)), Not(Predicate(clear, p2))]}, {'name': 'move(d1, p2, d3)', 'preconditions': [Predicate(smaller, d1, d3), Predicate(on, d1, p2), Predicate(clear, d1), Predicate(clear, d3)], 'positive effects': [Predicate(clear, p2), Predicate(on, d1, d3)], 'negative effects': [Not(Predicate(on, d1, p2)), Not(Predicate(clear, d3))]}, {'name': 'move(d1, p2, d0)', 'preconditions': [Predicate(smaller, d1, d0), Predicate(on, d1, p2), Predicate(clear, d1), Predicate(clear, d0)], 'positive effects': [Predicate(clear, p2), Predicate(on, d1, d0)], 'negative effects': [Not(Predicate(on, d1, p2)), Not(Predicate(clear, d0))]}, {'name': 'move(d1, p2, p1)', 'preconditions': [Predicate(smaller, d1, p1), Predicate(on, d1, p2), Predicate(clear, d1), Predicate(clear, p1)], 'positive effects': [Predicate(clear, p2), Predicate(on, d1, p1)], 'negative effects': [Not(Predicate(on, d1, p2)), Not(Predicate(clear, p1))]}, {'name': 'move(d1, p2, d2)', 'preconditions': [Predicate(smaller, d1, d2), Predicate(on, d1, p2), Predicate(clear, d1), Predicate(clear, d2)], 'positive effects': [Predicate(clear, p2), Predicate(on, d1, d2)], 'negative effects': [Not(Predicate(on, d1, p2)), Not(Predicate(clear, d2))]}, {'name': 'move(d1, p2, p0)', 'preconditions': [Predicate(smaller, d1, p0), Predicate(on, d1, p2), Predicate(clear, d1), Predicate(clear, p0)], 'positive effects': [Predicate(clear, p2), Predicate(on, d1, p0)], 'negative effects': [Not(Predicate(on, d1, p2)), Not(Predicate(clear, p0))]}, {'name': 'move(d0, d3, d1)', 'preconditions': [Predicate(smaller, d0, d1), Predicate(on, d0, d3), Predicate(clear, d0), Predicate(clear, d1)], 'positive effects': [Predicate(clear, d3), Predicate(on, d0, d1)], 'negative effects': [Not(Predicate(on, d0, d3)), Not(Predicate(clear, d1))]}, {'name': 'move(d0, d3, p1)', 'preconditions': [Predicate(smaller, d0, p1), Predicate(on, d0, d3), Predicate(clear, d0), Predicate(clear, p1)], 'positive effects': [Predicate(clear, d3), Predicate(on, d0, p1)], 'negative effects': [Not(Predicate(on, d0, d3)), Not(Predicate(clear, p1))]}, {'name': 'move(d0, d3, d2)', 'preconditions': [Predicate(smaller, d0, d2), Predicate(on, d0, d3), Predicate(clear, d0), Predicate(clear, d2)], 'positive effects': [Predicate(clear, d3), Predicate(on, d0, d2)], 'negative effects': [Not(Predicate(on, d0, d3)), Not(Predicate(clear, d2))]}, {'name': 'move(d0, d3, p0)', 'preconditions': [Predicate(smaller, d0, p0), Predicate(on, d0, d3), Predicate(clear, d0), Predicate(clear, p0)], 'positive effects': [Predicate(clear, d3), Predicate(on, d0, p0)], 'negative effects': [Not(Predicate(on, d0, d3)), Not(Predicate(clear, p0))]}, {'name': 'move(d0, d3, p2)', 'preconditions': [Predicate(smaller, d0, p2), Predicate(on, d0, d3), Predicate(clear, d0), Predicate(clear, p2)], 'positive effects': [Predicate(clear, d3), Predicate(on, d0, p2)], 'negative effects': [Not(Predicate(on, d0, d3)), Not(Predicate(clear, p2))]}, {'name': 'move(d0, d1, d3)', 'preconditions': [Predicate(smaller, d0, d3), Predicate(on, d0, d1), Predicate(clear, d0), Predicate(clear, d3)], 'positive effects': [Predicate(clear, d1), Predicate(on, d0, d3)], 'negative effects': [Not(Predicate(on, d0, d1)), Not(Predicate(clear, d3))]}, {'name': 'move(d0, d1, p1)', 'preconditions': [Predicate(smaller, d0, p1), Predicate(on, d0, d1), Predicate(clear, d0), Predicate(clear, p1)], 'positive effects': [Predicate(clear, d1), Predicate(on, d0, p1)], 'negative effects': [Not(Predicate(on, d0, d1)), Not(Predicate(clear, p1))]}, {'name': 'move(d0, d1, d2)', 'preconditions': [Predicate(smaller, d0, d2), Predicate(on, d0, d1), Predicate(clear, d0), Predicate(clear, d2)], 'positive effects': [Predicate(clear, d1), Predicate(on, d0, d2)], 'negative effects': [Not(Predicate(on, d0, d1)), Not(Predicate(clear, d2))]}, {'name': 'move(d0, d1, p0)', 'preconditions': [Predicate(smaller, d0, p0), Predicate(on, d0, d1), Predicate(clear, d0), Predicate(clear, p0)], 'positive effects': [Predicate(clear, d1), Predicate(on, d0, p0)], 'negative effects': [Not(Predicate(on, d0, d1)), Not(Predicate(clear, p0))]}, {'name': 'move(d0, d1, p2)', 'preconditions': [Predicate(smaller, d0, p2), Predicate(on, d0, d1), Predicate(clear, d0), Predicate(clear, p2)], 'positive effects': [Predicate(clear, d1), Predicate(on, d0, p2)], 'negative effects': [Not(Predicate(on, d0, d1)), Not(Predicate(clear, p2))]}, {'name': 'move(d0, p1, d3)', 'preconditions': [Predicate(smaller, d0, d3), Predicate(on, d0, p1), Predicate(clear, d0), Predicate(clear, d3)], 'positive effects': [Predicate(clear, p1), Predicate(on, d0, d3)], 'negative effects': [Not(Predicate(on, d0, p1)), Not(Predicate(clear, d3))]}, {'name': 'move(d0, p1, d1)', 'preconditions': [Predicate(smaller, d0, d1), Predicate(on, d0, p1), Predicate(clear, d0), Predicate(clear, d1)], 'positive effects': [Predicate(clear, p1), Predicate(on, d0, d1)], 'negative effects': [Not(Predicate(on, d0, p1)), Not(Predicate(clear, d1))]}, {'name': 'move(d0, p1, d2)', 'preconditions': [Predicate(smaller, d0, d2), Predicate(on, d0, p1), Predicate(clear, d0), Predicate(clear, d2)], 'positive effects': [Predicate(clear, p1), Predicate(on, d0, d2)], 'negative effects': [Not(Predicate(on, d0, p1)), Not(Predicate(clear, d2))]}, {'name': 'move(d0, p1, p0)', 'preconditions': [Predicate(smaller, d0, p0), Predicate(on, d0, p1), Predicate(clear, d0), Predicate(clear, p0)], 'positive effects': [Predicate(clear, p1), Predicate(on, d0, p0)], 'negative effects': [Not(Predicate(on, d0, p1)), Not(Predicate(clear, p0))]}, {'name': 'move(d0, p1, p2)', 'preconditions': [Predicate(smaller, d0, p2), Predicate(on, d0, p1), Predicate(clear, d0), Predicate(clear, p2)], 'positive effects': [Predicate(clear, p1), Predicate(on, d0, p2)], 'negative effects': [Not(Predicate(on, d0, p1)), Not(Predicate(clear, p2))]}, {'name': 'move(d0, d2, d3)', 'preconditions': [Predicate(smaller, d0, d3), Predicate(on, d0, d2), Predicate(clear, d0), Predicate(clear, d3)], 'positive effects': [Predicate(clear, d2), Predicate(on, d0, d3)], 'negative effects': [Not(Predicate(on, d0, d2)), Not(Predicate(clear, d3))]}, {'name': 'move(d0, d2, d1)', 'preconditions': [Predicate(smaller, d0, d1), Predicate(on, d0, d2), Predicate(clear, d0), Predicate(clear, d1)], 'positive effects': [Predicate(clear, d2), Predicate(on, d0, d1)], 'negative effects': [Not(Predicate(on, d0, d2)), Not(Predicate(clear, d1))]}, {'name': 'move(d0, d2, p1)', 'preconditions': [Predicate(smaller, d0, p1), Predicate(on, d0, d2), Predicate(clear, d0), Predicate(clear, p1)], 'positive effects': [Predicate(clear, d2), Predicate(on, d0, p1)], 'negative effects': [Not(Predicate(on, d0, d2)), Not(Predicate(clear, p1))]}, {'name': 'move(d0, d2, p0)', 'preconditions': [Predicate(smaller, d0, p0), Predicate(on, d0, d2), Predicate(clear, d0), Predicate(clear, p0)], 'positive effects': [Predicate(clear, d2), Predicate(on, d0, p0)], 'negative effects': [Not(Predicate(on, d0, d2)), Not(Predicate(clear, p0))]}, {'name': 'move(d0, d2, p2)', 'preconditions': [Predicate(smaller, d0, p2), Predicate(on, d0, d2), Predicate(clear, d0), Predicate(clear, p2)], 'positive effects': [Predicate(clear, d2), Predicate(on, d0, p2)], 'negative effects': [Not(Predicate(on, d0, d2)), Not(Predicate(clear, p2))]}, {'name': 'move(d0, p0, d3)', 'preconditions': [Predicate(smaller, d0, d3), Predicate(on, d0, p0), Predicate(clear, d0), Predicate(clear, d3)], 'positive effects': [Predicate(clear, p0), Predicate(on, d0, d3)], 'negative effects': [Not(Predicate(on, d0, p0)), Not(Predicate(clear, d3))]}, {'name': 'move(d0, p0, d1)', 'preconditions': [Predicate(smaller, d0, d1), Predicate(on, d0, p0), Predicate(clear, d0), Predicate(clear, d1)], 'positive effects': [Predicate(clear, p0), Predicate(on, d0, d1)], 'negative effects': [Not(Predicate(on, d0, p0)), Not(Predicate(clear, d1))]}, {'name': 'move(d0, p0, p1)', 'preconditions': [Predicate(smaller, d0, p1), Predicate(on, d0, p0), Predicate(clear, d0), Predicate(clear, p1)], 'positive effects': [Predicate(clear, p0), Predicate(on, d0, p1)], 'negative effects': [Not(Predicate(on, d0, p0)), Not(Predicate(clear, p1))]}, {'name': 'move(d0, p0, d2)', 'preconditions': [Predicate(smaller, d0, d2), Predicate(on, d0, p0), Predicate(clear, d0), Predicate(clear, d2)], 'positive effects': [Predicate(clear, p0), Predicate(on, d0, d2)], 'negative effects': [Not(Predicate(on, d0, p0)), Not(Predicate(clear, d2))]}, {'name': 'move(d0, p0, p2)', 'preconditions': [Predicate(smaller, d0, p2), Predicate(on, d0, p0), Predicate(clear, d0), Predicate(clear, p2)], 'positive effects': [Predicate(clear, p0), Predicate(on, d0, p2)], 'negative effects': [Not(Predicate(on, d0, p0)), Not(Predicate(clear, p2))]}, {'name': 'move(d0, p2, d3)', 'preconditions': [Predicate(smaller, d0, d3), Predicate(on, d0, p2), Predicate(clear, d0), Predicate(clear, d3)], 'positive effects': [Predicate(clear, p2), Predicate(on, d0, d3)], 'negative effects': [Not(Predicate(on, d0, p2)), Not(Predicate(clear, d3))]}, {'name': 'move(d0, p2, d1)', 'preconditions': [Predicate(smaller, d0, d1), Predicate(on, d0, p2), Predicate(clear, d0), Predicate(clear, d1)], 'positive effects': [Predicate(clear, p2), Predicate(on, d0, d1)], 'negative effects': [Not(Predicate(on, d0, p2)), Not(Predicate(clear, d1))]}, {'name': 'move(d0, p2, p1)', 'preconditions': [Predicate(smaller, d0, p1), Predicate(on, d0, p2), Predicate(clear, d0), Predicate(clear, p1)], 'positive effects': [Predicate(clear, p2), Predicate(on, d0, p1)], 'negative effects': [Not(Predicate(on, d0, p2)), Not(Predicate(clear, p1))]}, {'name': 'move(d0, p2, d2)', 'preconditions': [Predicate(smaller, d0, d2), Predicate(on, d0, p2), Predicate(clear, d0), Predicate(clear, d2)], 'positive effects': [Predicate(clear, p2), Predicate(on, d0, d2)], 'negative effects': [Not(Predicate(on, d0, p2)), Not(Predicate(clear, d2))]}, {'name': 'move(d0, p2, p0)', 'preconditions': [Predicate(smaller, d0, p0), Predicate(on, d0, p2), Predicate(clear, d0), Predicate(clear, p0)], 'positive effects': [Predicate(clear, p2), Predicate(on, d0, p0)], 'negative effects': [Not(Predicate(on, d0, p2)), Not(Predicate(clear, p0))]}, {'name': 'move(p1, d3, d1)', 'preconditions': [Predicate(smaller, p1, d1), Predicate(on, p1, d3), Predicate(clear, p1), Predicate(clear, d1)], 'positive effects': [Predicate(clear, d3), Predicate(on, p1, d1)], 'negative effects': [Not(Predicate(on, p1, d3)), Not(Predicate(clear, d1))]}, {'name': 'move(p1, d3, d0)', 'preconditions': [Predicate(smaller, p1, d0), Predicate(on, p1, d3), Predicate(clear, p1), Predicate(clear, d0)], 'positive effects': [Predicate(clear, d3), Predicate(on, p1, d0)], 'negative effects': [Not(Predicate(on, p1, d3)), Not(Predicate(clear, d0))]}, {'name': 'move(p1, d3, d2)', 'preconditions': [Predicate(smaller, p1, d2), Predicate(on, p1, d3), Predicate(clear, p1), Predicate(clear, d2)], 'positive effects': [Predicate(clear, d3), Predicate(on, p1, d2)], 'negative effects': [Not(Predicate(on, p1, d3)), Not(Predicate(clear, d2))]}, {'name': 'move(p1, d3, p0)', 'preconditions': [Predicate(smaller, p1, p0), Predicate(on, p1, d3), Predicate(clear, p1), Predicate(clear, p0)], 'positive effects': [Predicate(clear, d3), Predicate(on, p1, p0)], 'negative effects': [Not(Predicate(on, p1, d3)), Not(Predicate(clear, p0))]}, {'name': 'move(p1, d3, p2)', 'preconditions': [Predicate(smaller, p1, p2), Predicate(on, p1, d3), Predicate(clear, p1), Predicate(clear, p2)], 'positive effects': [Predicate(clear, d3), Predicate(on, p1, p2)], 'negative effects': [Not(Predicate(on, p1, d3)), Not(Predicate(clear, p2))]}, {'name': 'move(p1, d1, d3)', 'preconditions': [Predicate(smaller, p1, d3), Predicate(on, p1, d1), Predicate(clear, p1), Predicate(clear, d3)], 'positive effects': [Predicate(clear, d1), Predicate(on, p1, d3)], 'negative effects': [Not(Predicate(on, p1, d1)), Not(Predicate(clear, d3))]}, {'name': 'move(p1, d1, d0)', 'preconditions': [Predicate(smaller, p1, d0), Predicate(on, p1, d1), Predicate(clear, p1), Predicate(clear, d0)], 'positive effects': [Predicate(clear, d1), Predicate(on, p1, d0)], 'negative effects': [Not(Predicate(on, p1, d1)), Not(Predicate(clear, d0))]}, {'name': 'move(p1, d1, d2)', 'preconditions': [Predicate(smaller, p1, d2), Predicate(on, p1, d1), Predicate(clear, p1), Predicate(clear, d2)], 'positive effects': [Predicate(clear, d1), Predicate(on, p1, d2)], 'negative effects': [Not(Predicate(on, p1, d1)), Not(Predicate(clear, d2))]}, {'name': 'move(p1, d1, p0)', 'preconditions': [Predicate(smaller, p1, p0), Predicate(on, p1, d1), Predicate(clear, p1), Predicate(clear, p0)], 'positive effects': [Predicate(clear, d1), Predicate(on, p1, p0)], 'negative effects': [Not(Predicate(on, p1, d1)), Not(Predicate(clear, p0))]}, {'name': 'move(p1, d1, p2)', 'preconditions': [Predicate(smaller, p1, p2), Predicate(on, p1, d1), Predicate(clear, p1), Predicate(clear, p2)], 'positive effects': [Predicate(clear, d1), Predicate(on, p1, p2)], 'negative effects': [Not(Predicate(on, p1, d1)), Not(Predicate(clear, p2))]}, {'name': 'move(p1, d0, d3)', 'preconditions': [Predicate(smaller, p1, d3), Predicate(on, p1, d0), Predicate(clear, p1), Predicate(clear, d3)], 'positive effects': [Predicate(clear, d0), Predicate(on, p1, d3)], 'negative effects': [Not(Predicate(on, p1, d0)), Not(Predicate(clear, d3))]}, {'name': 'move(p1, d0, d1)', 'preconditions': [Predicate(smaller, p1, d1), Predicate(on, p1, d0), Predicate(clear, p1), Predicate(clear, d1)], 'positive effects': [Predicate(clear, d0), Predicate(on, p1, d1)], 'negative effects': [Not(Predicate(on, p1, d0)), Not(Predicate(clear, d1))]}, {'name': 'move(p1, d0, d2)', 'preconditions': [Predicate(smaller, p1, d2), Predicate(on, p1, d0), Predicate(clear, p1), Predicate(clear, d2)], 'positive effects': [Predicate(clear, d0), Predicate(on, p1, d2)], 'negative effects': [Not(Predicate(on, p1, d0)), Not(Predicate(clear, d2))]}, {'name': 'move(p1, d0, p0)', 'preconditions': [Predicate(smaller, p1, p0), Predicate(on, p1, d0), Predicate(clear, p1), Predicate(clear, p0)], 'positive effects': [Predicate(clear, d0), Predicate(on, p1, p0)], 'negative effects': [Not(Predicate(on, p1, d0)), Not(Predicate(clear, p0))]}, {'name': 'move(p1, d0, p2)', 'preconditions': [Predicate(smaller, p1, p2), Predicate(on, p1, d0), Predicate(clear, p1), Predicate(clear, p2)], 'positive effects': [Predicate(clear, d0), Predicate(on, p1, p2)], 'negative effects': [Not(Predicate(on, p1, d0)), Not(Predicate(clear, p2))]}, {'name': 'move(p1, d2, d3)', 'preconditions': [Predicate(smaller, p1, d3), Predicate(on, p1, d2), Predicate(clear, p1), Predicate(clear, d3)], 'positive effects': [Predicate(clear, d2), Predicate(on, p1, d3)], 'negative effects': [Not(Predicate(on, p1, d2)), Not(Predicate(clear, d3))]}, {'name': 'move(p1, d2, d1)', 'preconditions': [Predicate(smaller, p1, d1), Predicate(on, p1, d2), Predicate(clear, p1), Predicate(clear, d1)], 'positive effects': [Predicate(clear, d2), Predicate(on, p1, d1)], 'negative effects': [Not(Predicate(on, p1, d2)), Not(Predicate(clear, d1))]}, {'name': 'move(p1, d2, d0)', 'preconditions': [Predicate(smaller, p1, d0), Predicate(on, p1, d2), Predicate(clear, p1), Predicate(clear, d0)], 'positive effects': [Predicate(clear, d2), Predicate(on, p1, d0)], 'negative effects': [Not(Predicate(on, p1, d2)), Not(Predicate(clear, d0))]}, {'name': 'move(p1, d2, p0)', 'preconditions': [Predicate(smaller, p1, p0), Predicate(on, p1, d2), Predicate(clear, p1), Predicate(clear, p0)], 'positive effects': [Predicate(clear, d2), Predicate(on, p1, p0)], 'negative effects': [Not(Predicate(on, p1, d2)), Not(Predicate(clear, p0))]}, {'name': 'move(p1, d2, p2)', 'preconditions': [Predicate(smaller, p1, p2), Predicate(on, p1, d2), Predicate(clear, p1), Predicate(clear, p2)], 'positive effects': [Predicate(clear, d2), Predicate(on, p1, p2)], 'negative effects': [Not(Predicate(on, p1, d2)), Not(Predicate(clear, p2))]}, {'name': 'move(p1, p0, d3)', 'preconditions': [Predicate(smaller, p1, d3), Predicate(on, p1, p0), Predicate(clear, p1), Predicate(clear, d3)], 'positive effects': [Predicate(clear, p0), Predicate(on, p1, d3)], 'negative effects': [Not(Predicate(on, p1, p0)), Not(Predicate(clear, d3))]}, {'name': 'move(p1, p0, d1)', 'preconditions': [Predicate(smaller, p1, d1), Predicate(on, p1, p0), Predicate(clear, p1), Predicate(clear, d1)], 'positive effects': [Predicate(clear, p0), Predicate(on, p1, d1)], 'negative effects': [Not(Predicate(on, p1, p0)), Not(Predicate(clear, d1))]}, {'name': 'move(p1, p0, d0)', 'preconditions': [Predicate(smaller, p1, d0), Predicate(on, p1, p0), Predicate(clear, p1), Predicate(clear, d0)], 'positive effects': [Predicate(clear, p0), Predicate(on, p1, d0)], 'negative effects': [Not(Predicate(on, p1, p0)), Not(Predicate(clear, d0))]}, {'name': 'move(p1, p0, d2)', 'preconditions': [Predicate(smaller, p1, d2), Predicate(on, p1, p0), Predicate(clear, p1), Predicate(clear, d2)], 'positive effects': [Predicate(clear, p0), Predicate(on, p1, d2)], 'negative effects': [Not(Predicate(on, p1, p0)), Not(Predicate(clear, d2))]}, {'name': 'move(p1, p0, p2)', 'preconditions': [Predicate(smaller, p1, p2), Predicate(on, p1, p0), Predicate(clear, p1), Predicate(clear, p2)], 'positive effects': [Predicate(clear, p0), Predicate(on, p1, p2)], 'negative effects': [Not(Predicate(on, p1, p0)), Not(Predicate(clear, p2))]}, {'name': 'move(p1, p2, d3)', 'preconditions': [Predicate(smaller, p1, d3), Predicate(on, p1, p2), Predicate(clear, p1), Predicate(clear, d3)], 'positive effects': [Predicate(clear, p2), Predicate(on, p1, d3)], 'negative effects': [Not(Predicate(on, p1, p2)), Not(Predicate(clear, d3))]}, {'name': 'move(p1, p2, d1)', 'preconditions': [Predicate(smaller, p1, d1), Predicate(on, p1, p2), Predicate(clear, p1), Predicate(clear, d1)], 'positive effects': [Predicate(clear, p2), Predicate(on, p1, d1)], 'negative effects': [Not(Predicate(on, p1, p2)), Not(Predicate(clear, d1))]}, {'name': 'move(p1, p2, d0)', 'preconditions': [Predicate(smaller, p1, d0), Predicate(on, p1, p2), Predicate(clear, p1), Predicate(clear, d0)], 'positive effects': [Predicate(clear, p2), Predicate(on, p1, d0)], 'negative effects': [Not(Predicate(on, p1, p2)), Not(Predicate(clear, d0))]}, {'name': 'move(p1, p2, d2)', 'preconditions': [Predicate(smaller, p1, d2), Predicate(on, p1, p2), Predicate(clear, p1), Predicate(clear, d2)], 'positive effects': [Predicate(clear, p2), Predicate(on, p1, d2)], 'negative effects': [Not(Predicate(on, p1, p2)), Not(Predicate(clear, d2))]}, {'name': 'move(p1, p2, p0)', 'preconditions': [Predicate(smaller, p1, p0), Predicate(on, p1, p2), Predicate(clear, p1), Predicate(clear, p0)], 'positive effects': [Predicate(clear, p2), Predicate(on, p1, p0)], 'negative effects': [Not(Predicate(on, p1, p2)), Not(Predicate(clear, p0))]}, {'name': 'move(d2, d3, d1)', 'preconditions': [Predicate(smaller, d2, d1), Predicate(on, d2, d3), Predicate(clear, d2), Predicate(clear, d1)], 'positive effects': [Predicate(clear, d3), Predicate(on, d2, d1)], 'negative effects': [Not(Predicate(on, d2, d3)), Not(Predicate(clear, d1))]}, {'name': 'move(d2, d3, d0)', 'preconditions': [Predicate(smaller, d2, d0), Predicate(on, d2, d3), Predicate(clear, d2), Predicate(clear, d0)], 'positive effects': [Predicate(clear, d3), Predicate(on, d2, d0)], 'negative effects': [Not(Predicate(on, d2, d3)), Not(Predicate(clear, d0))]}, {'name': 'move(d2, d3, p1)', 'preconditions': [Predicate(smaller, d2, p1), Predicate(on, d2, d3), Predicate(clear, d2), Predicate(clear, p1)], 'positive effects': [Predicate(clear, d3), Predicate(on, d2, p1)], 'negative effects': [Not(Predicate(on, d2, d3)), Not(Predicate(clear, p1))]}, {'name': 'move(d2, d3, p0)', 'preconditions': [Predicate(smaller, d2, p0), Predicate(on, d2, d3), Predicate(clear, d2), Predicate(clear, p0)], 'positive effects': [Predicate(clear, d3), Predicate(on, d2, p0)], 'negative effects': [Not(Predicate(on, d2, d3)), Not(Predicate(clear, p0))]}, {'name': 'move(d2, d3, p2)', 'preconditions': [Predicate(smaller, d2, p2), Predicate(on, d2, d3), Predicate(clear, d2), Predicate(clear, p2)], 'positive effects': [Predicate(clear, d3), Predicate(on, d2, p2)], 'negative effects': [Not(Predicate(on, d2, d3)), Not(Predicate(clear, p2))]}, {'name': 'move(d2, d1, d3)', 'preconditions': [Predicate(smaller, d2, d3), Predicate(on, d2, d1), Predicate(clear, d2), Predicate(clear, d3)], 'positive effects': [Predicate(clear, d1), Predicate(on, d2, d3)], 'negative effects': [Not(Predicate(on, d2, d1)), Not(Predicate(clear, d3))]}, {'name': 'move(d2, d1, d0)', 'preconditions': [Predicate(smaller, d2, d0), Predicate(on, d2, d1), Predicate(clear, d2), Predicate(clear, d0)], 'positive effects': [Predicate(clear, d1), Predicate(on, d2, d0)], 'negative effects': [Not(Predicate(on, d2, d1)), Not(Predicate(clear, d0))]}, {'name': 'move(d2, d1, p1)', 'preconditions': [Predicate(smaller, d2, p1), Predicate(on, d2, d1), Predicate(clear, d2), Predicate(clear, p1)], 'positive effects': [Predicate(clear, d1), Predicate(on, d2, p1)], 'negative effects': [Not(Predicate(on, d2, d1)), Not(Predicate(clear, p1))]}, {'name': 'move(d2, d1, p0)', 'preconditions': [Predicate(smaller, d2, p0), Predicate(on, d2, d1), Predicate(clear, d2), Predicate(clear, p0)], 'positive effects': [Predicate(clear, d1), Predicate(on, d2, p0)], 'negative effects': [Not(Predicate(on, d2, d1)), Not(Predicate(clear, p0))]}, {'name': 'move(d2, d1, p2)', 'preconditions': [Predicate(smaller, d2, p2), Predicate(on, d2, d1), Predicate(clear, d2), Predicate(clear, p2)], 'positive effects': [Predicate(clear, d1), Predicate(on, d2, p2)], 'negative effects': [Not(Predicate(on, d2, d1)), Not(Predicate(clear, p2))]}, {'name': 'move(d2, d0, d3)', 'preconditions': [Predicate(smaller, d2, d3), Predicate(on, d2, d0), Predicate(clear, d2), Predicate(clear, d3)], 'positive effects': [Predicate(clear, d0), Predicate(on, d2, d3)], 'negative effects': [Not(Predicate(on, d2, d0)), Not(Predicate(clear, d3))]}, {'name': 'move(d2, d0, d1)', 'preconditions': [Predicate(smaller, d2, d1), Predicate(on, d2, d0), Predicate(clear, d2), Predicate(clear, d1)], 'positive effects': [Predicate(clear, d0), Predicate(on, d2, d1)], 'negative effects': [Not(Predicate(on, d2, d0)), Not(Predicate(clear, d1))]}, {'name': 'move(d2, d0, p1)', 'preconditions': [Predicate(smaller, d2, p1), Predicate(on, d2, d0), Predicate(clear, d2), Predicate(clear, p1)], 'positive effects': [Predicate(clear, d0), Predicate(on, d2, p1)], 'negative effects': [Not(Predicate(on, d2, d0)), Not(Predicate(clear, p1))]}, {'name': 'move(d2, d0, p0)', 'preconditions': [Predicate(smaller, d2, p0), Predicate(on, d2, d0), Predicate(clear, d2), Predicate(clear, p0)], 'positive effects': [Predicate(clear, d0), Predicate(on, d2, p0)], 'negative effects': [Not(Predicate(on, d2, d0)), Not(Predicate(clear, p0))]}, {'name': 'move(d2, d0, p2)', 'preconditions': [Predicate(smaller, d2, p2), Predicate(on, d2, d0), Predicate(clear, d2), Predicate(clear, p2)], 'positive effects': [Predicate(clear, d0), Predicate(on, d2, p2)], 'negative effects': [Not(Predicate(on, d2, d0)), Not(Predicate(clear, p2))]}, {'name': 'move(d2, p1, d3)', 'preconditions': [Predicate(smaller, d2, d3), Predicate(on, d2, p1), Predicate(clear, d2), Predicate(clear, d3)], 'positive effects': [Predicate(clear, p1), Predicate(on, d2, d3)], 'negative effects': [Not(Predicate(on, d2, p1)), Not(Predicate(clear, d3))]}, {'name': 'move(d2, p1, d1)', 'preconditions': [Predicate(smaller, d2, d1), Predicate(on, d2, p1), Predicate(clear, d2), Predicate(clear, d1)], 'positive effects': [Predicate(clear, p1), Predicate(on, d2, d1)], 'negative effects': [Not(Predicate(on, d2, p1)), Not(Predicate(clear, d1))]}, {'name': 'move(d2, p1, d0)', 'preconditions': [Predicate(smaller, d2, d0), Predicate(on, d2, p1), Predicate(clear, d2), Predicate(clear, d0)], 'positive effects': [Predicate(clear, p1), Predicate(on, d2, d0)], 'negative effects': [Not(Predicate(on, d2, p1)), Not(Predicate(clear, d0))]}, {'name': 'move(d2, p1, p0)', 'preconditions': [Predicate(smaller, d2, p0), Predicate(on, d2, p1), Predicate(clear, d2), Predicate(clear, p0)], 'positive effects': [Predicate(clear, p1), Predicate(on, d2, p0)], 'negative effects': [Not(Predicate(on, d2, p1)), Not(Predicate(clear, p0))]}, {'name': 'move(d2, p1, p2)', 'preconditions': [Predicate(smaller, d2, p2), Predicate(on, d2, p1), Predicate(clear, d2), Predicate(clear, p2)], 'positive effects': [Predicate(clear, p1), Predicate(on, d2, p2)], 'negative effects': [Not(Predicate(on, d2, p1)), Not(Predicate(clear, p2))]}, {'name': 'move(d2, p0, d3)', 'preconditions': [Predicate(smaller, d2, d3), Predicate(on, d2, p0), Predicate(clear, d2), Predicate(clear, d3)], 'positive effects': [Predicate(clear, p0), Predicate(on, d2, d3)], 'negative effects': [Not(Predicate(on, d2, p0)), Not(Predicate(clear, d3))]}, {'name': 'move(d2, p0, d1)', 'preconditions': [Predicate(smaller, d2, d1), Predicate(on, d2, p0), Predicate(clear, d2), Predicate(clear, d1)], 'positive effects': [Predicate(clear, p0), Predicate(on, d2, d1)], 'negative effects': [Not(Predicate(on, d2, p0)), Not(Predicate(clear, d1))]}, {'name': 'move(d2, p0, d0)', 'preconditions': [Predicate(smaller, d2, d0), Predicate(on, d2, p0), Predicate(clear, d2), Predicate(clear, d0)], 'positive effects': [Predicate(clear, p0), Predicate(on, d2, d0)], 'negative effects': [Not(Predicate(on, d2, p0)), Not(Predicate(clear, d0))]}, {'name': 'move(d2, p0, p1)', 'preconditions': [Predicate(smaller, d2, p1), Predicate(on, d2, p0), Predicate(clear, d2), Predicate(clear, p1)], 'positive effects': [Predicate(clear, p0), Predicate(on, d2, p1)], 'negative effects': [Not(Predicate(on, d2, p0)), Not(Predicate(clear, p1))]}, {'name': 'move(d2, p0, p2)', 'preconditions': [Predicate(smaller, d2, p2), Predicate(on, d2, p0), Predicate(clear, d2), Predicate(clear, p2)], 'positive effects': [Predicate(clear, p0), Predicate(on, d2, p2)], 'negative effects': [Not(Predicate(on, d2, p0)), Not(Predicate(clear, p2))]}, {'name': 'move(d2, p2, d3)', 'preconditions': [Predicate(smaller, d2, d3), Predicate(on, d2, p2), Predicate(clear, d2), Predicate(clear, d3)], 'positive effects': [Predicate(clear, p2), Predicate(on, d2, d3)], 'negative effects': [Not(Predicate(on, d2, p2)), Not(Predicate(clear, d3))]}, {'name': 'move(d2, p2, d1)', 'preconditions': [Predicate(smaller, d2, d1), Predicate(on, d2, p2), Predicate(clear, d2), Predicate(clear, d1)], 'positive effects': [Predicate(clear, p2), Predicate(on, d2, d1)], 'negative effects': [Not(Predicate(on, d2, p2)), Not(Predicate(clear, d1))]}, {'name': 'move(d2, p2, d0)', 'preconditions': [Predicate(smaller, d2, d0), Predicate(on, d2, p2), Predicate(clear, d2), Predicate(clear, d0)], 'positive effects': [Predicate(clear, p2), Predicate(on, d2, d0)], 'negative effects': [Not(Predicate(on, d2, p2)), Not(Predicate(clear, d0))]}, {'name': 'move(d2, p2, p1)', 'preconditions': [Predicate(smaller, d2, p1), Predicate(on, d2, p2), Predicate(clear, d2), Predicate(clear, p1)], 'positive effects': [Predicate(clear, p2), Predicate(on, d2, p1)], 'negative effects': [Not(Predicate(on, d2, p2)), Not(Predicate(clear, p1))]}, {'name': 'move(d2, p2, p0)', 'preconditions': [Predicate(smaller, d2, p0), Predicate(on, d2, p2), Predicate(clear, d2), Predicate(clear, p0)], 'positive effects': [Predicate(clear, p2), Predicate(on, d2, p0)], 'negative effects': [Not(Predicate(on, d2, p2)), Not(Predicate(clear, p0))]}, {'name': 'move(p0, d3, d1)', 'preconditions': [Predicate(smaller, p0, d1), Predicate(on, p0, d3), Predicate(clear, p0), Predicate(clear, d1)], 'positive effects': [Predicate(clear, d3), Predicate(on, p0, d1)], 'negative effects': [Not(Predicate(on, p0, d3)), Not(Predicate(clear, d1))]}, {'name': 'move(p0, d3, d0)', 'preconditions': [Predicate(smaller, p0, d0), Predicate(on, p0, d3), Predicate(clear, p0), Predicate(clear, d0)], 'positive effects': [Predicate(clear, d3), Predicate(on, p0, d0)], 'negative effects': [Not(Predicate(on, p0, d3)), Not(Predicate(clear, d0))]}, {'name': 'move(p0, d3, p1)', 'preconditions': [Predicate(smaller, p0, p1), Predicate(on, p0, d3), Predicate(clear, p0), Predicate(clear, p1)], 'positive effects': [Predicate(clear, d3), Predicate(on, p0, p1)], 'negative effects': [Not(Predicate(on, p0, d3)), Not(Predicate(clear, p1))]}, {'name': 'move(p0, d3, d2)', 'preconditions': [Predicate(smaller, p0, d2), Predicate(on, p0, d3), Predicate(clear, p0), Predicate(clear, d2)], 'positive effects': [Predicate(clear, d3), Predicate(on, p0, d2)], 'negative effects': [Not(Predicate(on, p0, d3)), Not(Predicate(clear, d2))]}, {'name': 'move(p0, d3, p2)', 'preconditions': [Predicate(smaller, p0, p2), Predicate(on, p0, d3), Predicate(clear, p0), Predicate(clear, p2)], 'positive effects': [Predicate(clear, d3), Predicate(on, p0, p2)], 'negative effects': [Not(Predicate(on, p0, d3)), Not(Predicate(clear, p2))]}, {'name': 'move(p0, d1, d3)', 'preconditions': [Predicate(smaller, p0, d3), Predicate(on, p0, d1), Predicate(clear, p0), Predicate(clear, d3)], 'positive effects': [Predicate(clear, d1), Predicate(on, p0, d3)], 'negative effects': [Not(Predicate(on, p0, d1)), Not(Predicate(clear, d3))]}, {'name': 'move(p0, d1, d0)', 'preconditions': [Predicate(smaller, p0, d0), Predicate(on, p0, d1), Predicate(clear, p0), Predicate(clear, d0)], 'positive effects': [Predicate(clear, d1), Predicate(on, p0, d0)], 'negative effects': [Not(Predicate(on, p0, d1)), Not(Predicate(clear, d0))]}, {'name': 'move(p0, d1, p1)', 'preconditions': [Predicate(smaller, p0, p1), Predicate(on, p0, d1), Predicate(clear, p0), Predicate(clear, p1)], 'positive effects': [Predicate(clear, d1), Predicate(on, p0, p1)], 'negative effects': [Not(Predicate(on, p0, d1)), Not(Predicate(clear, p1))]}, {'name': 'move(p0, d1, d2)', 'preconditions': [Predicate(smaller, p0, d2), Predicate(on, p0, d1), Predicate(clear, p0), Predicate(clear, d2)], 'positive effects': [Predicate(clear, d1), Predicate(on, p0, d2)], 'negative effects': [Not(Predicate(on, p0, d1)), Not(Predicate(clear, d2))]}, {'name': 'move(p0, d1, p2)', 'preconditions': [Predicate(smaller, p0, p2), Predicate(on, p0, d1), Predicate(clear, p0), Predicate(clear, p2)], 'positive effects': [Predicate(clear, d1), Predicate(on, p0, p2)], 'negative effects': [Not(Predicate(on, p0, d1)), Not(Predicate(clear, p2))]}, {'name': 'move(p0, d0, d3)', 'preconditions': [Predicate(smaller, p0, d3), Predicate(on, p0, d0), Predicate(clear, p0), Predicate(clear, d3)], 'positive effects': [Predicate(clear, d0), Predicate(on, p0, d3)], 'negative effects': [Not(Predicate(on, p0, d0)), Not(Predicate(clear, d3))]}, {'name': 'move(p0, d0, d1)', 'preconditions': [Predicate(smaller, p0, d1), Predicate(on, p0, d0), Predicate(clear, p0), Predicate(clear, d1)], 'positive effects': [Predicate(clear, d0), Predicate(on, p0, d1)], 'negative effects': [Not(Predicate(on, p0, d0)), Not(Predicate(clear, d1))]}, {'name': 'move(p0, d0, p1)', 'preconditions': [Predicate(smaller, p0, p1), Predicate(on, p0, d0), Predicate(clear, p0), Predicate(clear, p1)], 'positive effects': [Predicate(clear, d0), Predicate(on, p0, p1)], 'negative effects': [Not(Predicate(on, p0, d0)), Not(Predicate(clear, p1))]}, {'name': 'move(p0, d0, d2)', 'preconditions': [Predicate(smaller, p0, d2), Predicate(on, p0, d0), Predicate(clear, p0), Predicate(clear, d2)], 'positive effects': [Predicate(clear, d0), Predicate(on, p0, d2)], 'negative effects': [Not(Predicate(on, p0, d0)), Not(Predicate(clear, d2))]}, {'name': 'move(p0, d0, p2)', 'preconditions': [Predicate(smaller, p0, p2), Predicate(on, p0, d0), Predicate(clear, p0), Predicate(clear, p2)], 'positive effects': [Predicate(clear, d0), Predicate(on, p0, p2)], 'negative effects': [Not(Predicate(on, p0, d0)), Not(Predicate(clear, p2))]}, {'name': 'move(p0, p1, d3)', 'preconditions': [Predicate(smaller, p0, d3), Predicate(on, p0, p1), Predicate(clear, p0), Predicate(clear, d3)], 'positive effects': [Predicate(clear, p1), Predicate(on, p0, d3)], 'negative effects': [Not(Predicate(on, p0, p1)), Not(Predicate(clear, d3))]}, {'name': 'move(p0, p1, d1)', 'preconditions': [Predicate(smaller, p0, d1), Predicate(on, p0, p1), Predicate(clear, p0), Predicate(clear, d1)], 'positive effects': [Predicate(clear, p1), Predicate(on, p0, d1)], 'negative effects': [Not(Predicate(on, p0, p1)), Not(Predicate(clear, d1))]}, {'name': 'move(p0, p1, d0)', 'preconditions': [Predicate(smaller, p0, d0), Predicate(on, p0, p1), Predicate(clear, p0), Predicate(clear, d0)], 'positive effects': [Predicate(clear, p1), Predicate(on, p0, d0)], 'negative effects': [Not(Predicate(on, p0, p1)), Not(Predicate(clear, d0))]}, {'name': 'move(p0, p1, d2)', 'preconditions': [Predicate(smaller, p0, d2), Predicate(on, p0, p1), Predicate(clear, p0), Predicate(clear, d2)], 'positive effects': [Predicate(clear, p1), Predicate(on, p0, d2)], 'negative effects': [Not(Predicate(on, p0, p1)), Not(Predicate(clear, d2))]}, {'name': 'move(p0, p1, p2)', 'preconditions': [Predicate(smaller, p0, p2), Predicate(on, p0, p1), Predicate(clear, p0), Predicate(clear, p2)], 'positive effects': [Predicate(clear, p1), Predicate(on, p0, p2)], 'negative effects': [Not(Predicate(on, p0, p1)), Not(Predicate(clear, p2))]}, {'name': 'move(p0, d2, d3)', 'preconditions': [Predicate(smaller, p0, d3), Predicate(on, p0, d2), Predicate(clear, p0), Predicate(clear, d3)], 'positive effects': [Predicate(clear, d2), Predicate(on, p0, d3)], 'negative effects': [Not(Predicate(on, p0, d2)), Not(Predicate(clear, d3))]}, {'name': 'move(p0, d2, d1)', 'preconditions': [Predicate(smaller, p0, d1), Predicate(on, p0, d2), Predicate(clear, p0), Predicate(clear, d1)], 'positive effects': [Predicate(clear, d2), Predicate(on, p0, d1)], 'negative effects': [Not(Predicate(on, p0, d2)), Not(Predicate(clear, d1))]}, {'name': 'move(p0, d2, d0)', 'preconditions': [Predicate(smaller, p0, d0), Predicate(on, p0, d2), Predicate(clear, p0), Predicate(clear, d0)], 'positive effects': [Predicate(clear, d2), Predicate(on, p0, d0)], 'negative effects': [Not(Predicate(on, p0, d2)), Not(Predicate(clear, d0))]}, {'name': 'move(p0, d2, p1)', 'preconditions': [Predicate(smaller, p0, p1), Predicate(on, p0, d2), Predicate(clear, p0), Predicate(clear, p1)], 'positive effects': [Predicate(clear, d2), Predicate(on, p0, p1)], 'negative effects': [Not(Predicate(on, p0, d2)), Not(Predicate(clear, p1))]}, {'name': 'move(p0, d2, p2)', 'preconditions': [Predicate(smaller, p0, p2), Predicate(on, p0, d2), Predicate(clear, p0), Predicate(clear, p2)], 'positive effects': [Predicate(clear, d2), Predicate(on, p0, p2)], 'negative effects': [Not(Predicate(on, p0, d2)), Not(Predicate(clear, p2))]}, {'name': 'move(p0, p2, d3)', 'preconditions': [Predicate(smaller, p0, d3), Predicate(on, p0, p2), Predicate(clear, p0), Predicate(clear, d3)], 'positive effects': [Predicate(clear, p2), Predicate(on, p0, d3)], 'negative effects': [Not(Predicate(on, p0, p2)), Not(Predicate(clear, d3))]}, {'name': 'move(p0, p2, d1)', 'preconditions': [Predicate(smaller, p0, d1), Predicate(on, p0, p2), Predicate(clear, p0), Predicate(clear, d1)], 'positive effects': [Predicate(clear, p2), Predicate(on, p0, d1)], 'negative effects': [Not(Predicate(on, p0, p2)), Not(Predicate(clear, d1))]}, {'name': 'move(p0, p2, d0)', 'preconditions': [Predicate(smaller, p0, d0), Predicate(on, p0, p2), Predicate(clear, p0), Predicate(clear, d0)], 'positive effects': [Predicate(clear, p2), Predicate(on, p0, d0)], 'negative effects': [Not(Predicate(on, p0, p2)), Not(Predicate(clear, d0))]}, {'name': 'move(p0, p2, p1)', 'preconditions': [Predicate(smaller, p0, p1), Predicate(on, p0, p2), Predicate(clear, p0), Predicate(clear, p1)], 'positive effects': [Predicate(clear, p2), Predicate(on, p0, p1)], 'negative effects': [Not(Predicate(on, p0, p2)), Not(Predicate(clear, p1))]}, {'name': 'move(p0, p2, d2)', 'preconditions': [Predicate(smaller, p0, d2), Predicate(on, p0, p2), Predicate(clear, p0), Predicate(clear, d2)], 'positive effects': [Predicate(clear, p2), Predicate(on, p0, d2)], 'negative effects': [Not(Predicate(on, p0, p2)), Not(Predicate(clear, d2))]}, {'name': 'move(p2, d3, d1)', 'preconditions': [Predicate(smaller, p2, d1), Predicate(on, p2, d3), Predicate(clear, p2), Predicate(clear, d1)], 'positive effects': [Predicate(clear, d3), Predicate(on, p2, d1)], 'negative effects': [Not(Predicate(on, p2, d3)), Not(Predicate(clear, d1))]}, {'name': 'move(p2, d3, d0)', 'preconditions': [Predicate(smaller, p2, d0), Predicate(on, p2, d3), Predicate(clear, p2), Predicate(clear, d0)], 'positive effects': [Predicate(clear, d3), Predicate(on, p2, d0)], 'negative effects': [Not(Predicate(on, p2, d3)), Not(Predicate(clear, d0))]}, {'name': 'move(p2, d3, p1)', 'preconditions': [Predicate(smaller, p2, p1), Predicate(on, p2, d3), Predicate(clear, p2), Predicate(clear, p1)], 'positive effects': [Predicate(clear, d3), Predicate(on, p2, p1)], 'negative effects': [Not(Predicate(on, p2, d3)), Not(Predicate(clear, p1))]}, {'name': 'move(p2, d3, d2)', 'preconditions': [Predicate(smaller, p2, d2), Predicate(on, p2, d3), Predicate(clear, p2), Predicate(clear, d2)], 'positive effects': [Predicate(clear, d3), Predicate(on, p2, d2)], 'negative effects': [Not(Predicate(on, p2, d3)), Not(Predicate(clear, d2))]}, {'name': 'move(p2, d3, p0)', 'preconditions': [Predicate(smaller, p2, p0), Predicate(on, p2, d3), Predicate(clear, p2), Predicate(clear, p0)], 'positive effects': [Predicate(clear, d3), Predicate(on, p2, p0)], 'negative effects': [Not(Predicate(on, p2, d3)), Not(Predicate(clear, p0))]}, {'name': 'move(p2, d1, d3)', 'preconditions': [Predicate(smaller, p2, d3), Predicate(on, p2, d1), Predicate(clear, p2), Predicate(clear, d3)], 'positive effects': [Predicate(clear, d1), Predicate(on, p2, d3)], 'negative effects': [Not(Predicate(on, p2, d1)), Not(Predicate(clear, d3))]}, {'name': 'move(p2, d1, d0)', 'preconditions': [Predicate(smaller, p2, d0), Predicate(on, p2, d1), Predicate(clear, p2), Predicate(clear, d0)], 'positive effects': [Predicate(clear, d1), Predicate(on, p2, d0)], 'negative effects': [Not(Predicate(on, p2, d1)), Not(Predicate(clear, d0))]}, {'name': 'move(p2, d1, p1)', 'preconditions': [Predicate(smaller, p2, p1), Predicate(on, p2, d1), Predicate(clear, p2), Predicate(clear, p1)], 'positive effects': [Predicate(clear, d1), Predicate(on, p2, p1)], 'negative effects': [Not(Predicate(on, p2, d1)), Not(Predicate(clear, p1))]}, {'name': 'move(p2, d1, d2)', 'preconditions': [Predicate(smaller, p2, d2), Predicate(on, p2, d1), Predicate(clear, p2), Predicate(clear, d2)], 'positive effects': [Predicate(clear, d1), Predicate(on, p2, d2)], 'negative effects': [Not(Predicate(on, p2, d1)), Not(Predicate(clear, d2))]}, {'name': 'move(p2, d1, p0)', 'preconditions': [Predicate(smaller, p2, p0), Predicate(on, p2, d1), Predicate(clear, p2), Predicate(clear, p0)], 'positive effects': [Predicate(clear, d1), Predicate(on, p2, p0)], 'negative effects': [Not(Predicate(on, p2, d1)), Not(Predicate(clear, p0))]}, {'name': 'move(p2, d0, d3)', 'preconditions': [Predicate(smaller, p2, d3), Predicate(on, p2, d0), Predicate(clear, p2), Predicate(clear, d3)], 'positive effects': [Predicate(clear, d0), Predicate(on, p2, d3)], 'negative effects': [Not(Predicate(on, p2, d0)), Not(Predicate(clear, d3))]}, {'name': 'move(p2, d0, d1)', 'preconditions': [Predicate(smaller, p2, d1), Predicate(on, p2, d0), Predicate(clear, p2), Predicate(clear, d1)], 'positive effects': [Predicate(clear, d0), Predicate(on, p2, d1)], 'negative effects': [Not(Predicate(on, p2, d0)), Not(Predicate(clear, d1))]}, {'name': 'move(p2, d0, p1)', 'preconditions': [Predicate(smaller, p2, p1), Predicate(on, p2, d0), Predicate(clear, p2), Predicate(clear, p1)], 'positive effects': [Predicate(clear, d0), Predicate(on, p2, p1)], 'negative effects': [Not(Predicate(on, p2, d0)), Not(Predicate(clear, p1))]}, {'name': 'move(p2, d0, d2)', 'preconditions': [Predicate(smaller, p2, d2), Predicate(on, p2, d0), Predicate(clear, p2), Predicate(clear, d2)], 'positive effects': [Predicate(clear, d0), Predicate(on, p2, d2)], 'negative effects': [Not(Predicate(on, p2, d0)), Not(Predicate(clear, d2))]}, {'name': 'move(p2, d0, p0)', 'preconditions': [Predicate(smaller, p2, p0), Predicate(on, p2, d0), Predicate(clear, p2), Predicate(clear, p0)], 'positive effects': [Predicate(clear, d0), Predicate(on, p2, p0)], 'negative effects': [Not(Predicate(on, p2, d0)), Not(Predicate(clear, p0))]}, {'name': 'move(p2, p1, d3)', 'preconditions': [Predicate(smaller, p2, d3), Predicate(on, p2, p1), Predicate(clear, p2), Predicate(clear, d3)], 'positive effects': [Predicate(clear, p1), Predicate(on, p2, d3)], 'negative effects': [Not(Predicate(on, p2, p1)), Not(Predicate(clear, d3))]}, {'name': 'move(p2, p1, d1)', 'preconditions': [Predicate(smaller, p2, d1), Predicate(on, p2, p1), Predicate(clear, p2), Predicate(clear, d1)], 'positive effects': [Predicate(clear, p1), Predicate(on, p2, d1)], 'negative effects': [Not(Predicate(on, p2, p1)), Not(Predicate(clear, d1))]}, {'name': 'move(p2, p1, d0)', 'preconditions': [Predicate(smaller, p2, d0), Predicate(on, p2, p1), Predicate(clear, p2), Predicate(clear, d0)], 'positive effects': [Predicate(clear, p1), Predicate(on, p2, d0)], 'negative effects': [Not(Predicate(on, p2, p1)), Not(Predicate(clear, d0))]}, {'name': 'move(p2, p1, d2)', 'preconditions': [Predicate(smaller, p2, d2), Predicate(on, p2, p1), Predicate(clear, p2), Predicate(clear, d2)], 'positive effects': [Predicate(clear, p1), Predicate(on, p2, d2)], 'negative effects': [Not(Predicate(on, p2, p1)), Not(Predicate(clear, d2))]}, {'name': 'move(p2, p1, p0)', 'preconditions': [Predicate(smaller, p2, p0), Predicate(on, p2, p1), Predicate(clear, p2), Predicate(clear, p0)], 'positive effects': [Predicate(clear, p1), Predicate(on, p2, p0)], 'negative effects': [Not(Predicate(on, p2, p1)), Not(Predicate(clear, p0))]}, {'name': 'move(p2, d2, d3)', 'preconditions': [Predicate(smaller, p2, d3), Predicate(on, p2, d2), Predicate(clear, p2), Predicate(clear, d3)], 'positive effects': [Predicate(clear, d2), Predicate(on, p2, d3)], 'negative effects': [Not(Predicate(on, p2, d2)), Not(Predicate(clear, d3))]}, {'name': 'move(p2, d2, d1)', 'preconditions': [Predicate(smaller, p2, d1), Predicate(on, p2, d2), Predicate(clear, p2), Predicate(clear, d1)], 'positive effects': [Predicate(clear, d2), Predicate(on, p2, d1)], 'negative effects': [Not(Predicate(on, p2, d2)), Not(Predicate(clear, d1))]}, {'name': 'move(p2, d2, d0)', 'preconditions': [Predicate(smaller, p2, d0), Predicate(on, p2, d2), Predicate(clear, p2), Predicate(clear, d0)], 'positive effects': [Predicate(clear, d2), Predicate(on, p2, d0)], 'negative effects': [Not(Predicate(on, p2, d2)), Not(Predicate(clear, d0))]}, {'name': 'move(p2, d2, p1)', 'preconditions': [Predicate(smaller, p2, p1), Predicate(on, p2, d2), Predicate(clear, p2), Predicate(clear, p1)], 'positive effects': [Predicate(clear, d2), Predicate(on, p2, p1)], 'negative effects': [Not(Predicate(on, p2, d2)), Not(Predicate(clear, p1))]}, {'name': 'move(p2, d2, p0)', 'preconditions': [Predicate(smaller, p2, p0), Predicate(on, p2, d2), Predicate(clear, p2), Predicate(clear, p0)], 'positive effects': [Predicate(clear, d2), Predicate(on, p2, p0)], 'negative effects': [Not(Predicate(on, p2, d2)), Not(Predicate(clear, p0))]}, {'name': 'move(p2, p0, d3)', 'preconditions': [Predicate(smaller, p2, d3), Predicate(on, p2, p0), Predicate(clear, p2), Predicate(clear, d3)], 'positive effects': [Predicate(clear, p0), Predicate(on, p2, d3)], 'negative effects': [Not(Predicate(on, p2, p0)), Not(Predicate(clear, d3))]}, {'name': 'move(p2, p0, d1)', 'preconditions': [Predicate(smaller, p2, d1), Predicate(on, p2, p0), Predicate(clear, p2), Predicate(clear, d1)], 'positive effects': [Predicate(clear, p0), Predicate(on, p2, d1)], 'negative effects': [Not(Predicate(on, p2, p0)), Not(Predicate(clear, d1))]}, {'name': 'move(p2, p0, d0)', 'preconditions': [Predicate(smaller, p2, d0), Predicate(on, p2, p0), Predicate(clear, p2), Predicate(clear, d0)], 'positive effects': [Predicate(clear, p0), Predicate(on, p2, d0)], 'negative effects': [Not(Predicate(on, p2, p0)), Not(Predicate(clear, d0))]}, {'name': 'move(p2, p0, p1)', 'preconditions': [Predicate(smaller, p2, p1), Predicate(on, p2, p0), Predicate(clear, p2), Predicate(clear, p1)], 'positive effects': [Predicate(clear, p0), Predicate(on, p2, p1)], 'negative effects': [Not(Predicate(on, p2, p0)), Not(Predicate(clear, p1))]}, {'name': 'move(p2, p0, d2)', 'preconditions': [Predicate(smaller, p2, d2), Predicate(on, p2, p0), Predicate(clear, p2), Predicate(clear, d2)], 'positive effects': [Predicate(clear, p0), Predicate(on, p2, d2)], 'negative effects': [Not(Predicate(on, p2, p0)), Not(Predicate(clear, d2))]}]\n"
     ]
    }
   ],
   "source": [
    "def generate_klist(variables, k):\n",
    "    return list(product(variables, repeat=k))\n",
    "\n",
    "\n",
    "def all_actions(domain, problem):\n",
    "    actions = []\n",
    "    # pour toute les actions\n",
    "    for a in range(len(domain.actions)):\n",
    "        action = copy.deepcopy(list(domain.actions)[a])\n",
    "        possiblity=generate_klist(copy.deepcopy(list(problem.objects)), len(list(action.parameters)))\n",
    "        # pour toutes les combinaisons de variables possible pour une action et si les 3 variables sont différentes\n",
    "        for klist in possiblity :\n",
    "            if len(set(klist))==len(klist):\n",
    "                dict_action = {}\n",
    "                # name\n",
    "                dict_action['name'] = action.name.__str__()+'('+', '.join([v.__str__() for v in klist])+')'\n",
    "                dict_var=dict(zip(action.parameters, klist))\n",
    "                # preconditions\n",
    "                dict_action['preconditions'] = []\n",
    "\n",
    "                for p in range(len(list(list((domain.actions))[a].precondition.operands))):\n",
    "                    precondition = copy.deepcopy(list(list((domain.actions))[a].precondition.operands)[:])[p]\n",
    "                    terms =tuple([dict_var[v] for v in precondition.__getstate__()['_terms']])\n",
    "                    precondition.__getstate__()['_terms']=terms\n",
    "                    dict_action['preconditions'].append(precondition)\n",
    "\n",
    "                effects=copy.deepcopy(list(list((domain.actions))[a].effect.operands))\n",
    "\n",
    "                # positive effects\n",
    "                dict_action['positive effects'] = []\n",
    "\n",
    "                # negative effects\n",
    "                dict_action['negative effects'] = []\n",
    "\n",
    "                for e in range(len(effects)):\n",
    "                    effect = effects[e]\n",
    "                    if type(effect) is pddl.logic.predicates.Predicate:\n",
    "                        terms = copy.deepcopy(tuple([dict_var[v] for v in effect.__getstate__()['_terms']]))\n",
    "                        effect.__getstate__()['_terms']=terms\n",
    "                        dict_action['positive effects'].append(effect)  \n",
    "\n",
    "                    elif type(effect) is pddl.logic.base.Not:\n",
    "                        terms =tuple([dict_var[v] for v in effect.__getstate__()['_arg'].__getstate__()['_terms']])\n",
    "                        effect.__getstate__()['_arg'].__getstate__()['_terms']=terms\n",
    "                        dict_action['negative effects'].append(effect)         \n",
    "                            \n",
    "                actions.append(dict_action) \n",
    "    return actions\n",
    "\n",
    "print(all_actions(domain, problem))"
   ]
  },
  {
   "cell_type": "markdown",
   "metadata": {},
   "source": [
    "### Application d'actions sur state"
   ]
  },
  {
   "cell_type": "code",
   "execution_count": 4,
   "metadata": {},
   "outputs": [],
   "source": [
    "def applicable_actions(state, actions): # return applicable actions for a state\n",
    "    applicable_actions = []\n",
    "    for a in actions:\n",
    "        if all([p in state for p in a['preconditions']]):\n",
    "            applicable_actions.append(a)\n",
    "    return applicable_actions\n",
    "\n",
    "# print(applicable_actions(init_state, all_actions(domain, problem)))\n",
    "\n",
    "\n",
    "def apply_action(state, action): # return new state after applying an action\n",
    "    new_state = copy.deepcopy(state)\n",
    "    for e in action['positive effects']:\n",
    "        new_state.append(e)\n",
    "    for e in action['negative effects']:\n",
    "        new_state.remove(e.__getstate__()['_arg'])\n",
    "    return new_state\n",
    "\n",
    "# print(apply_action(init_state, applicable_actions(init_state, all_actions(domain, problem))[0]))\n",
    "\n",
    "def is_applicable(state, action): # return True if an action is applicable for a state\n",
    "    copy_state = copy.deepcopy(state)   \n",
    "    \n",
    "    try:\n",
    "        apply_action(copy_state, action)\n",
    "        return True\n",
    "    except:\n",
    "        return False\n",
    "\n",
    "# action=[d for d in all_actions(domain, problem) if d['name']=='move(d0, d1, p2)'][0]\n",
    "# print(is_applicable(init_state, action))\n",
    "\n",
    "def misapply_action(state, action): # return new state after misapplying an action\n",
    "    new_state = copy.deepcopy(state)\n",
    "    for e in action['positive effects']:\n",
    "        new_state.remove(e)\n",
    "    for e in action['negative effects']:\n",
    "        new_state.append(e.__getstate__()['_arg'])\n",
    "    return new_state\n",
    "\n",
    "\n",
    "def previous_actions(state, actions): # return previous actions for a state\n",
    "    previous_actions = []\n",
    "    for a in actions:\n",
    "        cdt1 = all([p in state for p in a['positive effects']])\n",
    "        cdt2 = all([p.__getstate__()['_arg'] not in state for p in a['negative effects']])\n",
    "        cdt3 = all([p in state for p in (set(a['preconditions'])-set([p.__getstate__()['_arg'] for p in a['negative effects']]))])\n",
    "        if cdt1 and cdt2 and cdt3:\n",
    "            previous_actions.append(a)\n",
    "    return previous_actions\n",
    "\n",
    "# print(len(previous_actions(goal_state, all_actions(domain, problem))))\n",
    "\n",
    "# print(misapply_action(problem.goal.__getstate__()['_operands'], previous_actions(problem.goal.__getstate__()['_operands'], all_actions(domain, problem))[0]))\n",
    "\n"
   ]
  },
  {
   "cell_type": "markdown",
   "metadata": {},
   "source": [
    "### Vérfication de l'action"
   ]
  },
  {
   "cell_type": "code",
   "execution_count": null,
   "metadata": {},
   "outputs": [],
   "source": [
    "def valid_plan(plan): # return True if a plan is valid\n",
    "    state = copy.deepcopy(init_state)\n",
    "    for a in plan:\n",
    "        if is_applicable(state, a):\n",
    "            state = apply_action(state, a)\n",
    "        else:\n",
    "            return False\n",
    "    return state == goal_state"
   ]
  },
  {
   "cell_type": "markdown",
   "metadata": {},
   "source": [
    "### Heuristique"
   ]
  },
  {
   "cell_type": "code",
   "execution_count": null,
   "metadata": {},
   "outputs": [],
   "source": [
    "def h(state):\n",
    "    return len(set(goal_state) - set(state))"
   ]
  },
  {
   "cell_type": "markdown",
   "metadata": {},
   "source": [
    "### Algo de recherche"
   ]
  },
  {
   "cell_type": "code",
   "execution_count": 34,
   "metadata": {},
   "outputs": [
    {
     "name": "stdout",
     "output_type": "stream",
     "text": [
      "(Predicate(on, d1, d2), Predicate(smaller, d0, d1), Predicate(smaller, d0, d3), Predicate(smaller, d0, p2), Predicate(smaller, d1, p1), Predicate(smaller, d3, p2), Predicate(clear, d0), Predicate(smaller, d1, d3), Predicate(smaller, d1, p2), Predicate(smaller, d2, p0), Predicate(on, d0, d1), Predicate(smaller, d2, p1), Predicate(smaller, d0, d2), Predicate(smaller, d0, p0), Predicate(smaller, d3, p0), Predicate(smaller, d2, d3), Predicate(smaller, d2, p2), Predicate(smaller, d1, d2), Predicate(smaller, d3, p1), Predicate(clear, p1), Predicate(clear, p2), Predicate(on, d3, p0), Predicate(on, d2, d3), Predicate(smaller, d0, p1), Predicate(smaller, d1, p0))\n",
      "(Predicate(on, d0, d1), Predicate(on, d1, d2), Predicate(on, d2, d3), Predicate(on, d3, p2), Predicate(clear, p0), Predicate(clear, p1), Predicate(clear, d0), Predicate(smaller, d0, d1), Predicate(smaller, d0, d2), Predicate(smaller, d0, d3), Predicate(smaller, d0, p0), Predicate(smaller, d0, p1), Predicate(smaller, d0, p2), Predicate(smaller, d1, d2), Predicate(smaller, d1, d3), Predicate(smaller, d1, p0), Predicate(smaller, d1, p1), Predicate(smaller, d1, p2), Predicate(smaller, d2, d3), Predicate(smaller, d2, p0), Predicate(smaller, d2, p1), Predicate(smaller, d2, p2), Predicate(smaller, d3, p0), Predicate(smaller, d3, p1), Predicate(smaller, d3, p2))\n",
      "[(2, 0, (Predicate(on, d1, d2), Predicate(smaller, d0, d1), Predicate(smaller, d0, d3), Predicate(smaller, d0, p2), Predicate(smaller, d1, p1), Predicate(smaller, d3, p2), Predicate(clear, d0), Predicate(smaller, d1, d3), Predicate(smaller, d1, p2), Predicate(smaller, d2, p0), Predicate(on, d0, d1), Predicate(smaller, d2, p1), Predicate(smaller, d0, d2), Predicate(smaller, d0, p0), Predicate(smaller, d3, p0), Predicate(smaller, d2, d3), Predicate(smaller, d2, p2), Predicate(smaller, d1, d2), Predicate(smaller, d3, p1), Predicate(clear, p1), Predicate(clear, p2), Predicate(on, d3, p0), Predicate(on, d2, d3), Predicate(smaller, d0, p1), Predicate(smaller, d1, p0)))]\n",
      "None\n"
     ]
    }
   ],
   "source": [
    "import heapq  # Importe le module heapq pour utiliser la file de priorité\n",
    "import copy\n",
    "\n",
    "def astar_search(init_state, goal_state, actions, h):\n",
    "    # Convertit les états initiaux et finaux en tuples pour garantir l'immutabilité\n",
    "    init_state_tuple = tuple(init_state)\n",
    "    goal_state_tuple = tuple(goal_state)\n",
    "\n",
    "    print(init_state_tuple)\n",
    "    print(goal_state_tuple)\n",
    "    \n",
    "    open_list = []  # Frontière utilisant une file de priorité\n",
    "    heapq.heappush(open_list, (h(init_state_tuple), 0, init_state_tuple))\n",
    "    print(open_list)\n",
    "    \n",
    "    came_from = {}  # Pour retracer le chemin\n",
    "    cost_so_far = {init_state_tuple: 0}  # Coût connu le plus bas pour atteindre chaque état\n",
    "\n",
    "    while open_list:\n",
    "        _, current_cost, current_state = heapq.heappop(open_list)\n",
    "        \n",
    "        if goal_state_tuple in current_state:\n",
    "            return reconstruct_path(came_from, init_state_tuple, goal_state_tuple)\n",
    "        \n",
    "        for action in applicable_actions(list(current_state), actions):  # Convertit l'état en liste pour manipulation\n",
    "            new_state = tuple(apply_action(list(current_state), action))\n",
    "            new_cost = current_cost + 1  # Supposons un coût constant par action\n",
    "            if new_state not in cost_so_far or new_cost < cost_so_far[new_state]:\n",
    "                cost_so_far[new_state] = new_cost\n",
    "                priority = new_cost + h(new_state)\n",
    "                heapq.heappush(open_list, (priority, new_cost, new_state))\n",
    "                came_from[new_state] = current_state\n",
    "                \n",
    "    return None\n",
    "\n",
    "def reconstruct_path(came_from, start, goal):\n",
    "    current = goal\n",
    "    path = []\n",
    "    while current != start:\n",
    "        path.append(current)\n",
    "        current = came_from.get(current, None)\n",
    "    path.reverse()\n",
    "    return path\n",
    "\n",
    "# Assurez-vous que `init_state` et `goal_state` sont convertis en tuples où ils sont définis.\n",
    "# Vous devrez également ajuster votre fonction heuristique `h` pour traiter les états comme des tuples.\n",
    "\n",
    "\n",
    "\n",
    "# Assurez-vous que `init_state` et `goal_state` sont convertis en tuples là où vous les définissez\n",
    "actions = all_actions(domain, problem)\n",
    "path = astar_search(init_state, goal_state, actions, h)\n",
    "print(path)\n"
   ]
  },
  {
   "cell_type": "code",
   "execution_count": null,
   "metadata": {},
   "outputs": [],
   "source": []
  },
  {
   "cell_type": "markdown",
   "metadata": {},
   "source": [
    "# Librairie unified-planning"
   ]
  },
  {
   "cell_type": "markdown",
   "metadata": {},
   "source": [
    "### Solveur\n"
   ]
  },
  {
   "cell_type": "code",
   "execution_count": 17,
   "metadata": {},
   "outputs": [
    {
     "name": "stdout",
     "output_type": "stream",
     "text": [
      "Requirement already satisfied: unified-planning[fast-downward] in /Users/hugoplottu/.pyenv/versions/3.11.7/envs/po/lib/python3.11/site-packages (1.1.0)\n",
      "Requirement already satisfied: pyparsing in /Users/hugoplottu/.pyenv/versions/3.11.7/envs/po/lib/python3.11/site-packages (from unified-planning[fast-downward]) (3.1.2)\n",
      "Requirement already satisfied: networkx in /Users/hugoplottu/.pyenv/versions/3.11.7/envs/po/lib/python3.11/site-packages (from unified-planning[fast-downward]) (3.2.1)\n",
      "Requirement already satisfied: ConfigSpace in /Users/hugoplottu/.pyenv/versions/3.11.7/envs/po/lib/python3.11/site-packages (from unified-planning[fast-downward]) (0.7.1)\n",
      "Requirement already satisfied: up-fast-downward==0.4.1 in /Users/hugoplottu/.pyenv/versions/3.11.7/envs/po/lib/python3.11/site-packages (from unified-planning[fast-downward]) (0.4.1)\n",
      "Requirement already satisfied: numpy in /Users/hugoplottu/.pyenv/versions/3.11.7/envs/po/lib/python3.11/site-packages (from ConfigSpace->unified-planning[fast-downward]) (1.26.4)\n",
      "Requirement already satisfied: scipy in /Users/hugoplottu/.pyenv/versions/3.11.7/envs/po/lib/python3.11/site-packages (from ConfigSpace->unified-planning[fast-downward]) (1.12.0)\n",
      "Requirement already satisfied: typing-extensions in /Users/hugoplottu/.pyenv/versions/3.11.7/envs/po/lib/python3.11/site-packages (from ConfigSpace->unified-planning[fast-downward]) (4.10.0)\n",
      "Requirement already satisfied: more-itertools in /Users/hugoplottu/.pyenv/versions/3.11.7/envs/po/lib/python3.11/site-packages (from ConfigSpace->unified-planning[fast-downward]) (10.2.0)\n",
      "\n",
      "\u001b[1m[\u001b[0m\u001b[34;49mnotice\u001b[0m\u001b[1;39;49m]\u001b[0m\u001b[39;49m A new release of pip is available: \u001b[0m\u001b[31;49m23.2.1\u001b[0m\u001b[39;49m -> \u001b[0m\u001b[32;49m24.0\u001b[0m\n",
      "\u001b[1m[\u001b[0m\u001b[34;49mnotice\u001b[0m\u001b[1;39;49m]\u001b[0m\u001b[39;49m To update, run: \u001b[0m\u001b[32;49mpip install --upgrade pip\u001b[0m\n"
     ]
    }
   ],
   "source": [
    "! pip install 'unified-planning[fast-downward]'"
   ]
  },
  {
   "cell_type": "code",
   "execution_count": 18,
   "metadata": {},
   "outputs": [
    {
     "name": "stdout",
     "output_type": "stream",
     "text": [
      "\u001b[96m  *** Credits ***\n",
      "\u001b[0m\u001b[96m  * In operation mode `OneshotPlanner` at line 10 of `/var/folders/t8/bqm3crl96qx1bmc4ty9hg7_w0000gn/T/ipykernel_39111/4087593541.py`, \u001b[0m\u001b[96myou are using the following planning engine:\n",
      "\u001b[0m\u001b[96m  * Engine name: Fast Downward\n",
      "  * Developers:  Uni Basel team and contributors (cf. https://github.com/aibasel/downward/blob/main/README.md)\n",
      "\u001b[0m\u001b[96m  * Description: \u001b[0m\u001b[96mFast Downward is a domain-independent classical planning system.\u001b[0m\u001b[96m\n",
      "\u001b[0m\u001b[96m\n",
      "\u001b[0mPlan found\n",
      "SequentialPlan:\n",
      "    move(d0, d1, p1)\n",
      "    move(d1, d2, p2)\n",
      "    move(d0, p1, d1)\n",
      "    move(d2, d3, p1)\n",
      "    move(d0, d1, d3)\n",
      "    move(d1, p2, d2)\n",
      "    move(d0, d3, d1)\n",
      "    move(d3, p0, p2)\n",
      "    move(d0, d1, d3)\n",
      "    move(d1, d2, p0)\n",
      "    move(d0, d3, d1)\n",
      "    move(d2, p1, d3)\n",
      "    move(d0, d1, p1)\n",
      "    move(d1, p0, d2)\n",
      "    move(d0, p1, d1)\n"
     ]
    }
   ],
   "source": [
    "from unified_planning.io import PDDLReader\n",
    "from unified_planning.shortcuts import *\n",
    "from unified_planning.engines import PlanGenerationResultStatus\n",
    "\n",
    "reader = PDDLReader()\n",
    "pddl_problem = reader.parse_problem('data/domain.pddl', 'data/problem.pddl')\n",
    "# print(pddl_problem)\n",
    "\n",
    "\n",
    "with OneshotPlanner(\n",
    "    problem_kind=pddl_problem.kind,\n",
    "    optimality_guarantee=PlanGenerationResultStatus.SOLVED_OPTIMALLY,\n",
    ") as planner:\n",
    "    final_report = planner.solve(pddl_problem)\n",
    "    plan = final_report.plan\n",
    "\n",
    "print(\"Plan found\")   \n",
    "print(plan)"
   ]
  },
  {
   "cell_type": "markdown",
   "metadata": {},
   "source": [
    "### Actions applicables, paramètres applicables modification de l'état"
   ]
  },
  {
   "cell_type": "code",
   "execution_count": 11,
   "metadata": {},
   "outputs": [
    {
     "name": "stdout",
     "output_type": "stream",
     "text": [
      "{clear(d1): true, on(d0, p1): true, on(d0, d1): false, clear(p1): false, clear(d0): true, clear(p2): true, on(d1, d2): true, on(d2, d3): true, on(d3, p0): true, smaller(d0, d1): true, smaller(d0, d2): true, smaller(d0, d3): true, smaller(d0, p0): true, smaller(d0, p1): true, smaller(d0, p2): true, smaller(d1, d2): true, smaller(d1, d3): true, smaller(d1, p0): true, smaller(d1, p1): true, smaller(d1, p2): true, smaller(d2, d3): true, smaller(d2, p0): true, smaller(d2, p1): true, smaller(d2, p2): true, smaller(d3, p0): true, smaller(d3, p1): true, smaller(d3, p2): true, clear(d2): false, clear(d3): false, clear(p0): false, on(d0, d0): false, on(d1, d0): false, on(d2, d0): false, on(d3, d0): false, on(p0, d0): false, on(p1, d0): false, on(p2, d0): false, on(d1, d1): false, on(d2, d1): false, on(d3, d1): false, on(p0, d1): false, on(p1, d1): false, on(p2, d1): false, on(d0, d2): false, on(d2, d2): false, on(d3, d2): false, on(p0, d2): false, on(p1, d2): false, on(p2, d2): false, on(d0, d3): false, on(d1, d3): false, on(d3, d3): false, on(p0, d3): false, on(p1, d3): false, on(p2, d3): false, on(d0, p0): false, on(d1, p0): false, on(d2, p0): false, on(p0, p0): false, on(p1, p0): false, on(p2, p0): false, on(d1, p1): false, on(d2, p1): false, on(d3, p1): false, on(p0, p1): false, on(p1, p1): false, on(p2, p1): false, on(d0, p2): false, on(d1, p2): false, on(d2, p2): false, on(d3, p2): false, on(p0, p2): false, on(p1, p2): false, on(p2, p2): false, smaller(d0, d0): false, smaller(d1, d0): false, smaller(d2, d0): false, smaller(d3, d0): false, smaller(p0, d0): false, smaller(p1, d0): false, smaller(p2, d0): false, smaller(d1, d1): false, smaller(d2, d1): false, smaller(d3, d1): false, smaller(p0, d1): false, smaller(p1, d1): false, smaller(p2, d1): false, smaller(d2, d2): false, smaller(d3, d2): false, smaller(p0, d2): false, smaller(p1, d2): false, smaller(p2, d2): false, smaller(d3, d3): false, smaller(p0, d3): false, smaller(p1, d3): false, smaller(p2, d3): false, smaller(p0, p0): false, smaller(p1, p0): false, smaller(p2, p0): false, smaller(p0, p1): false, smaller(p1, p1): false, smaller(p2, p1): false, smaller(p0, p2): false, smaller(p1, p2): false, smaller(p2, p2): false}\n"
     ]
    }
   ],
   "source": [
    "# print(pddl_problem)\n",
    "from unified_planning.io import PDDLReader\n",
    "from unified_planning.shortcuts import *\n",
    "from unified_planning.plans import ActionInstance\n",
    "\n",
    "reader = PDDLReader()\n",
    "pddl_problem = reader.parse_problem('data/domain.pddl', 'data/problem.pddl')\n",
    "\n",
    "simulator = SequentialSimulator(pddl_problem)\n",
    "init_state2=simulator.get_initial_state()\n",
    "goal=pddl_problem.goals\n",
    "\n",
    "(action_name, para) = tuple(simulator.get_applicable_actions(init_state2))[0] # récup de la première fonction applicable et des paramètre qui conviennent\n",
    "\n",
    "action_instance = ActionInstance(action_name, para) #création de l'objet pour appliquer la fonction\n",
    "\n",
    "new_state = simulator.apply(init_state2, action_instance) #on applique la fonction sur l'état\n",
    "\n",
    "print(new_state)\n"
   ]
  },
  {
   "cell_type": "markdown",
   "metadata": {},
   "source": [
    "# Librairie pddlpy"
   ]
  },
  {
   "cell_type": "code",
   "execution_count": 12,
   "metadata": {},
   "outputs": [
    {
     "name": "stdout",
     "output_type": "stream",
     "text": [
      "{'d0': None, 'clear': None, 'd1': None, 'p0': None, 'p1': None, 'p2': None, 'd3': None, 'd2': None, 'on': None, 'smaller': None}\n",
      "{('smaller', 'd0', 'd3'), ('on', 'd0', 'd1'), ('smaller', 'd3', 'p0'), ('smaller', 'd1', 'p1'), ('smaller', 'd0', 'p0'), ('on', 'd1', 'd2'), ('smaller', 'd3', 'p1'), ('smaller', 'd1', 'p2'), ('smaller', 'd0', 'p1'), ('smaller', 'd3', 'p2'), ('on', 'd2', 'd3'), ('smaller', 'd2', 'd3'), ('smaller', 'd0', 'p2'), ('on', 'd3', 'p0'), ('smaller', 'd2', 'p0'), ('clear', 'd0'), ('smaller', 'd1', 'd2'), ('smaller', 'd0', 'd1'), ('clear', 'p1'), ('smaller', 'd2', 'p1'), ('smaller', 'd1', 'd3'), ('clear', 'p2'), ('smaller', 'd0', 'd2'), ('smaller', 'd2', 'p2'), ('smaller', 'd1', 'p0')}\n",
      "{('smaller', 'd1', 'p1'), ('clear', 'p0'), ('smaller', 'd0', 'p0'), ('smaller', 'd3', 'p1'), ('smaller', 'd1', 'p2'), ('clear', 'p1'), ('smaller', 'd0', 'p1'), ('smaller', 'd3', 'p2'), ('clear', 'd0'), ('smaller', 'd2', 'd3'), ('smaller', 'd0', 'p2'), ('smaller', 'd0', 'd1'), ('on', 'd0', 'd1'), ('smaller', 'd2', 'p0'), ('smaller', 'd1', 'd2'), ('on', 'd1', 'd2'), ('smaller', 'd0', 'd1'), ('smaller', 'd2', 'p1'), ('smaller', 'd1', 'd3'), ('on', 'd2', 'd3'), ('smaller', 'd0', 'd2'), ('smaller', 'd2', 'p2'), ('smaller', 'd1', 'p0'), ('on', 'd3', 'p2'), ('smaller', 'd0', 'd3'), ('smaller', 'd3', 'p0')}\n",
      "dict_keys(['move'])\n",
      "<generator object DomainProblem.ground_operator at 0x146815340>\n",
      "Operator Name: move\n",
      "\tVariables: {'?x': None, '?y': None, '?z': None}\n",
      "\tPositive Preconditions: {('smaller', '?x', '?z'), ('clear', '?z'), ('clear', '?x'), ('on', '?x', '?y')}\n",
      "\tNegative Preconditions: set()\n",
      "\tPositive Effects: {('on', '?x', '?z'), ('clear', '?y')}\n",
      "\tNegative Effects: {('on', '?x', '?y'), ('clear', '?z')}\n",
      "\n",
      "Help on generator object:\n",
      "\n",
      "ground_operator = class generator(object)\n",
      " |  Methods defined here:\n",
      " |  \n",
      " |  __del__(...)\n",
      " |  \n",
      " |  __getattribute__(self, name, /)\n",
      " |      Return getattr(self, name).\n",
      " |  \n",
      " |  __iter__(self, /)\n",
      " |      Implement iter(self).\n",
      " |  \n",
      " |  __next__(self, /)\n",
      " |      Implement next(self).\n",
      " |  \n",
      " |  __repr__(self, /)\n",
      " |      Return repr(self).\n",
      " |  \n",
      " |  __sizeof__(...)\n",
      " |      gen.__sizeof__() -> size of gen in memory, in bytes\n",
      " |  \n",
      " |  close(...)\n",
      " |      close() -> raise GeneratorExit inside generator.\n",
      " |  \n",
      " |  send(...)\n",
      " |      send(arg) -> send 'arg' into generator,\n",
      " |      return next yielded value or raise StopIteration.\n",
      " |  \n",
      " |  throw(...)\n",
      " |      throw(value)\n",
      " |      throw(type[,value[,tb]])\n",
      " |      \n",
      " |      Raise exception in generator, return next yielded value or raise\n",
      " |      StopIteration.\n",
      " |  \n",
      " |  ----------------------------------------------------------------------\n",
      " |  Data descriptors defined here:\n",
      " |  \n",
      " |  gi_code\n",
      " |  \n",
      " |  gi_frame\n",
      " |  \n",
      " |  gi_running\n",
      " |  \n",
      " |  gi_suspended\n",
      " |  \n",
      " |  gi_yieldfrom\n",
      " |      object being iterated by yield from, or None\n",
      "\n"
     ]
    }
   ],
   "source": [
    "import pddlpy\n",
    "\n",
    "# Load your domain and problem PDDL files\n",
    "domprob = pddlpy.DomainProblem('data/domain.pddl', 'data/problem.pddl')\n",
    "print(domprob.worldobjects())\n",
    "print(domprob.initialstate())\n",
    "print(domprob.goals())\n",
    "print(domprob.operators())\n",
    "print(domprob.ground_operator('move'))\n",
    "print(domprob.domain.operators['move'])\n",
    "\n",
    "help(domprob.ground_operator('move'))"
   ]
  }
 ],
 "metadata": {
  "kernelspec": {
   "display_name": "po",
   "language": "python",
   "name": "python3"
  },
  "language_info": {
   "codemirror_mode": {
    "name": "ipython",
    "version": 3
   },
   "file_extension": ".py",
   "mimetype": "text/x-python",
   "name": "python",
   "nbconvert_exporter": "python",
   "pygments_lexer": "ipython3",
   "version": "3.11.7"
  }
 },
 "nbformat": 4,
 "nbformat_minor": 2
}
