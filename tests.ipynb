{
 "cells": [
  {
   "cell_type": "code",
   "execution_count": 102,
   "metadata": {},
   "outputs": [],
   "source": [
    "#execution requirements.txt\n",
    "#! pip install -r requirements.txt"
   ]
  },
  {
   "cell_type": "markdown",
   "metadata": {},
   "source": [
    "# Librairie pddl"
   ]
  },
  {
   "cell_type": "markdown",
   "metadata": {},
   "source": [
    "### Librairies"
   ]
  },
  {
   "cell_type": "code",
   "execution_count": 103,
   "metadata": {},
   "outputs": [],
   "source": [
    "from pddl.parser.domain import DomainParser\n",
    "from pddl.parser.problem import ProblemParser\n",
    "import pddl\n",
    "from itertools import product, permutations\n",
    "import copy\n",
    "import heapq\n",
    "\n",
    "# domain_str = open(\"data/domain.pddl\").read()\n",
    "# problem_str = open(\"data/problem.pddl\").read() \n",
    "domain_str = open(\"data/taquin_domain.pddl\").read()\n",
    "problem_str = open(\"data/taquin-size3x3-conf_6.pddl\").read()  \n",
    "\n",
    "\n",
    "domain = DomainParser()(domain_str)\n",
    "problem = ProblemParser()(problem_str)\n",
    "\n",
    "init_state = copy.deepcopy(list(problem.init))\n",
    "goal_state = copy.deepcopy(list(problem.goal.__getstate__()['_operands']))\n"
   ]
  },
  {
   "cell_type": "markdown",
   "metadata": {},
   "source": [
    "### Optimisation all actions"
   ]
  },
  {
   "cell_type": "code",
   "execution_count": 104,
   "metadata": {},
   "outputs": [
    {
     "name": "stdout",
     "output_type": "stream",
     "text": [
      "Effects Actions :  ['empty', 'on']\n",
      "Immuable Predicates :  [Predicate(touch, cell_7, cell_8), Predicate(touch, cell_8, cell_5), Predicate(touch, cell_4, cell_1), Predicate(touch, cell_4, cell_7), Predicate(touch, cell_1, cell_0), Predicate(touch, cell_8, cell_7), Predicate(touch, cell_5, cell_4), Predicate(touch, cell_4, cell_3), Predicate(touch, cell_6, cell_7), Predicate(touch, cell_5, cell_8), Predicate(touch, cell_2, cell_5), Predicate(touch, cell_6, cell_3), Predicate(touch, cell_3, cell_4), Predicate(touch, cell_0, cell_3), Predicate(touch, cell_7, cell_4), Predicate(touch, cell_5, cell_2), Predicate(touch, cell_3, cell_6), Predicate(touch, cell_7, cell_6), Predicate(touch, cell_3, cell_0), Predicate(touch, cell_1, cell_2), Predicate(touch, cell_0, cell_1), Predicate(touch, cell_4, cell_5), Predicate(touch, cell_2, cell_1), Predicate(touch, cell_1, cell_4)]\n"
     ]
    }
   ],
   "source": [
    "# print(\"Predicates : \", list(domain.predicates))\n",
    "# print(\"Predicates 0 : \", list(domain.predicates)[0])\n",
    "# print(\"Actions : \", list(domain.actions))\n",
    "# print(\"Action 0 Name : \",list((domain.actions))[0].name)\n",
    "# print(\"Action 0 Precondition : \",list(list((domain.actions))[0].precondition.operands))\n",
    "# print(\"Action 0 Effect : \",list(list((domain.actions))[0].effect.operands))\n",
    "# print(\"Action 0 Parameters : \",list(list((domain.actions))[0].parameters))\n",
    "\n",
    "effects_name=[]  \n",
    "for action in domain.actions:\n",
    "    effects = list(action.effect.operands)\n",
    "    for effect in effects:\n",
    "        if isinstance(effect, pddl.logic.predicates.Predicate):\n",
    "            effects_name.append(str(effect.__getstate__()['_name']))\n",
    "        elif isinstance(effect, pddl.logic.base.Not):\n",
    "            effects_name.append(effect.__getstate__()['_arg'].__getstate__()['_name'])\n",
    "effects_name = list(set(effects_name))\n",
    "\n",
    "print(\"Effects Actions : \", effects_name)\n",
    "\n",
    "immuable_predicates = []  \n",
    "init_state_tuple = tuple(copy.deepcopy(init_state))  \n",
    "for predicate in init_state_tuple:\n",
    "    if predicate.__getstate__()['_name'] not in effects_name:\n",
    "        immuable_predicates.append(predicate)\n",
    "\n",
    "print(\"Immuable Predicates : \", immuable_predicates)\n",
    "\n",
    "def is_possible_actions(dict_action):\n",
    "    for precondition in dict_action['preconditions']:\n",
    "        if isinstance(precondition, pddl.logic.predicates.Predicate):\n",
    "            name=precondition.__getstate__()['_name']\n",
    "        elif isinstance(precondition, pddl.logic.base.Not):\n",
    "            name=precondition.__getstate__()['_arg'].__getstate__()['_name']\n",
    "\n",
    "        if name not in effects_name: #si le nom de la precondition n'est pas dans les effects des actions, donc il ne sera jamais modifié\n",
    "            if precondition not in init_state: #si la precondition n'est pas dans l'état initial, donc l'action n'est pas possible\n",
    "                return False\n",
    "    return True\n",
    "        "
   ]
  },
  {
   "cell_type": "markdown",
   "metadata": {},
   "source": [
    "### Fonction pour générer toutes les actions possibles du problème"
   ]
  },
  {
   "cell_type": "code",
   "execution_count": 105,
   "metadata": {},
   "outputs": [
    {
     "name": "stdout",
     "output_type": "stream",
     "text": [
      "360\n"
     ]
    }
   ],
   "source": [
    "def generate_klist(variables, k):\n",
    "    return list(permutations(variables, k))\n",
    "\n",
    "def all_actions(domain, problem):\n",
    "    actions = []\n",
    "    domain_actions_list = list(domain.actions)  # Convert to list once to avoid repeated conversions\n",
    "    dict_possibility = {}\n",
    "    for action in domain_actions_list:\n",
    "\n",
    "        action_copy = copy.deepcopy(action)\n",
    "        # Optimization: Generate possibilities once and use len(action_copy.parameters) directly\n",
    "        if len(action_copy.parameters) not in dict_possibility:\n",
    "            dict_possibility[len(action_copy.parameters)] = generate_klist(copy.deepcopy(list(problem.objects)), len(action_copy.parameters))\n",
    "        \n",
    "        possiblity = dict_possibility[len(action_copy.parameters)]\n",
    "\n",
    "        \n",
    "        for klist in possiblity:\n",
    "            dict_action = {'name': '', 'preconditions': [], 'positive effects': [], 'negative effects': []}\n",
    "            \n",
    "            # Construct action name\n",
    "            dict_action['name'] = action_copy.name.__str__() + '(' + ', '.join(v.__str__() for v in klist) + ')'\n",
    "            dict_var = dict(zip(action_copy.parameters, klist))\n",
    "\n",
    "            # Process preconditions\n",
    "            for precondition in copy.deepcopy(action.precondition.operands):\n",
    "                terms = tuple(dict_var[v] for v in precondition.__getstate__()['_terms'])\n",
    "                precondition.__getstate__()['_terms'] = terms\n",
    "                dict_action['preconditions'].append(precondition)\n",
    "\n",
    "            # Process effects\n",
    "            effects = copy.deepcopy(action.effect.operands)\n",
    "            for effect in effects:\n",
    "                if isinstance(effect, pddl.logic.predicates.Predicate):\n",
    "                    terms = tuple(dict_var[v] for v in effect.__getstate__()['_terms'])\n",
    "                    effect.__getstate__()['_terms'] = terms\n",
    "                    dict_action['positive effects'].append(effect)\n",
    "                elif isinstance(effect, pddl.logic.base.Not):\n",
    "                    terms = tuple(dict_var[v] for v in effect.__getstate__()['_arg'].__getstate__()['_terms'])\n",
    "                    effect.__getstate__()['_arg'].__getstate__()['_terms'] = terms\n",
    "                    dict_action['negative effects'].append(effect)\n",
    "            \n",
    "            # Check if action is possible\n",
    "            if is_possible_actions(dict_action):\n",
    "                actions.append(dict_action) \n",
    "    return actions\n",
    "\n",
    "\n",
    "def remove_negative_effect(actions):\n",
    "    actions_copy = copy.deepcopy(actions)\n",
    "    for action in actions_copy:\n",
    "        action['negative effects'] = []\n",
    "    return actions_copy\n",
    "\n",
    "All_actions = all_actions(domain, problem)\n",
    "Relaxed_all_actions = remove_negative_effect(All_actions)\n",
    "\n",
    "print(len(All_actions))\n"
   ]
  },
  {
   "cell_type": "markdown",
   "metadata": {},
   "source": [
    "### Application d'actions sur state"
   ]
  },
  {
   "cell_type": "code",
   "execution_count": 106,
   "metadata": {},
   "outputs": [],
   "source": [
    "buffer_actions={}\n",
    "def applicable_actions(state, actions): # return applicable actions for a state\n",
    "    if tuple(state) not in buffer_actions:\n",
    "        buffer_actions[tuple(state)]= [a for a in actions if all(p in state for p in a['preconditions'])]\n",
    "    return buffer_actions[tuple(state)]\n",
    "# print(applicable_actions(init_state, All_actions))\n",
    "\n",
    "\n",
    "def apply_action(state, action): # return new state after applying an action\n",
    "    new_state = list(copy.deepcopy(state))\n",
    "    for e in action['positive effects']:\n",
    "        new_state.append(e)\n",
    "    for e in action['negative effects']:\n",
    "        new_state.remove(e.__getstate__()['_arg'])\n",
    "    return tuple(new_state)\n",
    "\n",
    "# print(apply_action(init_state, applicable_actions(init_state, All_actions)[0]))\n",
    "\n",
    "def is_applicable(state, action): # return True if an action is applicable for a state\n",
    "    copy_state = copy.deepcopy(state)   \n",
    "    \n",
    "    try:\n",
    "        apply_action(copy_state, action)\n",
    "        return True\n",
    "    except:\n",
    "        return False\n",
    "\n",
    "# action=[d for d in all_actions(domain, problem) if d['name']=='move(d0, d1, p2)'][0]\n",
    "# print(is_applicable(init_state, action))\n",
    "\n",
    "# def misapply_action(state, action): # return new state after misapplying an action\n",
    "#     new_state = copy.deepcopy(state)\n",
    "#     for e in action['positive effects']:\n",
    "#         new_state.remove(e)\n",
    "#     for e in action['negative effects']:\n",
    "#         new_state.append(e.__getstate__()['_arg'])\n",
    "#     return new_state\n",
    "\n",
    "\n",
    "# def previous_actions(state, actions): # return previous actions for a state\n",
    "#     previous_actions = []\n",
    "#     for a in actions:\n",
    "#         cdt1 = all([p in state for p in a['positive effects']])\n",
    "#         cdt2 = all([p.__getstate__()['_arg'] not in state for p in a['negative effects']])\n",
    "#         cdt3 = all([p in state for p in (set(a['preconditions'])-set([p.__getstate__()['_arg'] for p in a['negative effects']]))])\n",
    "#         if cdt1 and cdt2 and cdt3:\n",
    "#             previous_actions.append(a)\n",
    "#     return previous_actions\n",
    "\n",
    "# print(len(previous_actions(goal_state, all_actions(domain, problem))))\n",
    "\n",
    "# print(misapply_action(problem.goal.__getstate__()['_operands'], previous_actions(problem.goal.__getstate__()['_operands'], all_actions(domain, problem))[0]))\n",
    "\n"
   ]
  },
  {
   "cell_type": "markdown",
   "metadata": {},
   "source": [
    "### Vérfication de l'action"
   ]
  },
  {
   "cell_type": "code",
   "execution_count": 107,
   "metadata": {},
   "outputs": [],
   "source": [
    "def valid_plan(plan): # return True if a plan is valid\n",
    "    state = copy.deepcopy(init_state)\n",
    "    for a in plan:\n",
    "        print(a['name'])\n",
    "        if is_applicable(state, a):\n",
    "            state = apply_action(state, a)\n",
    "        else:\n",
    "            return False\n",
    "    return set(goal_state).issubset(set(state))"
   ]
  },
  {
   "cell_type": "markdown",
   "metadata": {},
   "source": [
    "### Heuristiques"
   ]
  },
  {
   "cell_type": "code",
   "execution_count": 108,
   "metadata": {},
   "outputs": [],
   "source": [
    "\n",
    "def h_apply_action(state, action):\n",
    "    new_state = list(copy.deepcopy(state))\n",
    "    for e in action['positive effects']:\n",
    "        if e not in new_state:\n",
    "            new_state.append(e)\n",
    "    return tuple(new_state)\n",
    "\n",
    "\n",
    "def h_relaxed(state, goal_state):\n",
    "    frontier = [(0, state)]  # Use a heap for frontier to implement A* search\n",
    "    visited = set()\n",
    "    state_to_cost = {tuple(state): 0}\n",
    "\n",
    "    def heuristic(state, goal_state):\n",
    "        # Count the number of missing goals in the current state\n",
    "        return len(set(goal_state) - set(state))\n",
    "\n",
    "    while frontier:\n",
    "        _, current_state = heapq.heappop(frontier)  # Use heappop to extract the minimum element\n",
    "        current_state_tuple = tuple(current_state)\n",
    "\n",
    "        if any(set(current_state).issubset(s) for s in visited):\n",
    "            continue\n",
    "\n",
    "        visited.add(current_state_tuple)\n",
    "\n",
    "        if set(goal_state).issubset(set(current_state)):\n",
    "            return state_to_cost[current_state_tuple]\n",
    "\n",
    "        for action in applicable_actions(current_state, All_actions):\n",
    "            new_state = apply_action(current_state, action)\n",
    "            new_state_tuple = tuple(new_state)\n",
    "\n",
    "            if new_state_tuple not in state_to_cost or state_to_cost[new_state_tuple] > state_to_cost[current_state_tuple] + 1:\n",
    "                state_to_cost[new_state_tuple] = state_to_cost[current_state_tuple] + 1\n",
    "                f = state_to_cost[new_state_tuple] + heuristic(new_state, goal_state)  # Calculate the evaluation function\n",
    "                heapq.heappush(frontier, (f, new_state))  # Use heappush to add the new element to the heap\n",
    "\n",
    "    return float('inf')\n",
    "\n",
    "\n",
    "\n"
   ]
  },
  {
   "cell_type": "markdown",
   "metadata": {},
   "source": [
    "### Algo de recherche"
   ]
  },
  {
   "cell_type": "code",
   "execution_count": 109,
   "metadata": {},
   "outputs": [
    {
     "name": "stdout",
     "output_type": "stream",
     "text": [
      "État initial : (Predicate(touch, cell_7, cell_8), Predicate(on, tile_4, cell_6), Predicate(touch, cell_8, cell_5), Predicate(touch, cell_4, cell_1), Predicate(touch, cell_4, cell_7), Predicate(on, tile_5, cell_3), Predicate(touch, cell_1, cell_0), Predicate(touch, cell_8, cell_7), Predicate(touch, cell_5, cell_4), Predicate(touch, cell_4, cell_3), Predicate(on, tile_2, cell_4), Predicate(empty, cell_8), Predicate(touch, cell_6, cell_7), Predicate(touch, cell_5, cell_8), Predicate(touch, cell_2, cell_5), Predicate(on, tile_3, cell_0), Predicate(touch, cell_6, cell_3), Predicate(touch, cell_3, cell_4), Predicate(touch, cell_0, cell_3), Predicate(touch, cell_7, cell_4), Predicate(touch, cell_5, cell_2), Predicate(touch, cell_3, cell_6), Predicate(touch, cell_7, cell_6), Predicate(touch, cell_3, cell_0), Predicate(touch, cell_1, cell_2), Predicate(touch, cell_0, cell_1), Predicate(touch, cell_4, cell_5), Predicate(touch, cell_2, cell_1), Predicate(on, tile_0, cell_1), Predicate(on, tile_7, cell_2), Predicate(on, tile_6, cell_7), Predicate(on, tile_1, cell_5), Predicate(touch, cell_1, cell_4))\n",
      "État objectif : (Predicate(on, tile_0, cell_0), Predicate(on, tile_1, cell_1), Predicate(on, tile_2, cell_2), Predicate(on, tile_3, cell_3), Predicate(on, tile_4, cell_4), Predicate(on, tile_5, cell_5), Predicate(on, tile_6, cell_6), Predicate(on, tile_7, cell_7))\n",
      "21\n",
      "21\n",
      "20\n",
      "22\n",
      "22\n",
      "22\n",
      "20\n"
     ]
    },
    {
     "ename": "KeyboardInterrupt",
     "evalue": "",
     "output_type": "error",
     "traceback": [
      "\u001b[0;31m---------------------------------------------------------------------------\u001b[0m",
      "\u001b[0;31mKeyboardInterrupt\u001b[0m                         Traceback (most recent call last)",
      "Cell \u001b[0;32mIn[109], line 71\u001b[0m\n\u001b[1;32m     68\u001b[0m \u001b[38;5;28;01mimport\u001b[39;00m \u001b[38;5;21;01mtime\u001b[39;00m\n\u001b[1;32m     69\u001b[0m start_time \u001b[38;5;241m=\u001b[39m time\u001b[38;5;241m.\u001b[39mtime()\n\u001b[0;32m---> 71\u001b[0m path_actions \u001b[38;5;241m=\u001b[39m \u001b[43mastar_search\u001b[49m\u001b[43m(\u001b[49m\u001b[43minit_state\u001b[49m\u001b[43m,\u001b[49m\u001b[43m \u001b[49m\u001b[43mgoal_state\u001b[49m\u001b[43m,\u001b[49m\u001b[43m \u001b[49m\u001b[43mAll_actions\u001b[49m\u001b[43m)\u001b[49m\n\u001b[1;32m     72\u001b[0m \u001b[38;5;28mprint\u001b[39m(\u001b[38;5;124m\"\u001b[39m\u001b[38;5;124mPlan trouvé :\u001b[39m\u001b[38;5;124m\"\u001b[39m, path_actions)\n\u001b[1;32m     73\u001b[0m \u001b[38;5;28;01mfor\u001b[39;00m action \u001b[38;5;129;01min\u001b[39;00m path_actions:\n",
      "Cell \u001b[0;32mIn[109], line 54\u001b[0m, in \u001b[0;36mastar_search\u001b[0;34m(init_state, goal_state, actions)\u001b[0m\n\u001b[1;32m     52\u001b[0m \u001b[38;5;28;01mif\u001b[39;00m new_state \u001b[38;5;129;01mnot\u001b[39;00m \u001b[38;5;129;01min\u001b[39;00m cost_so_far \u001b[38;5;129;01mor\u001b[39;00m new_cost \u001b[38;5;241m<\u001b[39m cost_so_far[new_state]:\n\u001b[1;32m     53\u001b[0m     cost_so_far[new_state] \u001b[38;5;241m=\u001b[39m new_cost\n\u001b[0;32m---> 54\u001b[0m     h \u001b[38;5;241m=\u001b[39m \u001b[43mh_relaxed\u001b[49m\u001b[43m(\u001b[49m\u001b[43mnew_state\u001b[49m\u001b[43m,\u001b[49m\u001b[43m \u001b[49m\u001b[43mcopy\u001b[49m\u001b[38;5;241;43m.\u001b[39;49m\u001b[43mdeepcopy\u001b[49m\u001b[43m(\u001b[49m\u001b[43mgoal_state\u001b[49m\u001b[43m)\u001b[49m\u001b[43m)\u001b[49m\n\u001b[1;32m     55\u001b[0m     \u001b[38;5;28mprint\u001b[39m(h)\n\u001b[1;32m     56\u001b[0m     priority \u001b[38;5;241m=\u001b[39m new_cost \u001b[38;5;241m+\u001b[39m h\n",
      "Cell \u001b[0;32mIn[108], line 22\u001b[0m, in \u001b[0;36mh_relaxed\u001b[0;34m(state, goal_state)\u001b[0m\n\u001b[1;32m     19\u001b[0m _, current_state \u001b[38;5;241m=\u001b[39m heapq\u001b[38;5;241m.\u001b[39mheappop(frontier)  \u001b[38;5;66;03m# Use heappop to extract the minimum element\u001b[39;00m\n\u001b[1;32m     20\u001b[0m current_state_tuple \u001b[38;5;241m=\u001b[39m \u001b[38;5;28mtuple\u001b[39m(current_state)\n\u001b[0;32m---> 22\u001b[0m \u001b[38;5;28;01mif\u001b[39;00m \u001b[38;5;28many\u001b[39m(\u001b[38;5;28mset\u001b[39m(current_state)\u001b[38;5;241m.\u001b[39missubset(s) \u001b[38;5;28;01mfor\u001b[39;00m s \u001b[38;5;129;01min\u001b[39;00m visited):\n\u001b[1;32m     23\u001b[0m     \u001b[38;5;28;01mcontinue\u001b[39;00m\n\u001b[1;32m     25\u001b[0m visited\u001b[38;5;241m.\u001b[39madd(current_state_tuple)\n",
      "Cell \u001b[0;32mIn[108], line 22\u001b[0m, in \u001b[0;36m<genexpr>\u001b[0;34m(.0)\u001b[0m\n\u001b[1;32m     19\u001b[0m _, current_state \u001b[38;5;241m=\u001b[39m heapq\u001b[38;5;241m.\u001b[39mheappop(frontier)  \u001b[38;5;66;03m# Use heappop to extract the minimum element\u001b[39;00m\n\u001b[1;32m     20\u001b[0m current_state_tuple \u001b[38;5;241m=\u001b[39m \u001b[38;5;28mtuple\u001b[39m(current_state)\n\u001b[0;32m---> 22\u001b[0m \u001b[38;5;28;01mif\u001b[39;00m \u001b[38;5;28many\u001b[39m(\u001b[38;5;28mset\u001b[39m(current_state)\u001b[38;5;241m.\u001b[39missubset(s) \u001b[38;5;28;01mfor\u001b[39;00m s \u001b[38;5;129;01min\u001b[39;00m visited):\n\u001b[1;32m     23\u001b[0m     \u001b[38;5;28;01mcontinue\u001b[39;00m\n\u001b[1;32m     25\u001b[0m visited\u001b[38;5;241m.\u001b[39madd(current_state_tuple)\n",
      "File \u001b[0;32m~/.pyenv/versions/3.11.7/envs/po/lib/python3.11/site-packages/pddl/helpers/cache_hash.py:34\u001b[0m, in \u001b[0;36m_cache_hash.<locals>.__hash__\u001b[0;34m(self)\u001b[0m\n\u001b[1;32m     32\u001b[0m \u001b[38;5;28;01mif\u001b[39;00m \u001b[38;5;129;01mnot\u001b[39;00m \u001b[38;5;28mhasattr\u001b[39m(\u001b[38;5;28mself\u001b[39m, \u001b[38;5;124m\"\u001b[39m\u001b[38;5;124m__hash\u001b[39m\u001b[38;5;124m\"\u001b[39m):\n\u001b[1;32m     33\u001b[0m     \u001b[38;5;28mself\u001b[39m\u001b[38;5;241m.\u001b[39m__hash \u001b[38;5;241m=\u001b[39m fn(\u001b[38;5;28mself\u001b[39m)\n\u001b[0;32m---> 34\u001b[0m \u001b[38;5;28;01mreturn\u001b[39;00m \u001b[43mcast\u001b[49m\u001b[43m(\u001b[49m\u001b[38;5;28;43mint\u001b[39;49m\u001b[43m,\u001b[49m\u001b[43m \u001b[49m\u001b[38;5;28;43mself\u001b[39;49m\u001b[38;5;241;43m.\u001b[39;49m\u001b[43m__hash\u001b[49m\u001b[43m)\u001b[49m\n",
      "File \u001b[0;32m~/.pyenv/versions/3.11.7/lib/python3.11/typing.py:2268\u001b[0m, in \u001b[0;36mcast\u001b[0;34m(typ, val)\u001b[0m\n\u001b[1;32m   2264\u001b[0m     \u001b[38;5;28mcls\u001b[39m\u001b[38;5;241m.\u001b[39m_is_runtime_protocol \u001b[38;5;241m=\u001b[39m \u001b[38;5;28;01mTrue\u001b[39;00m\n\u001b[1;32m   2265\u001b[0m     \u001b[38;5;28;01mreturn\u001b[39;00m \u001b[38;5;28mcls\u001b[39m\n\u001b[0;32m-> 2268\u001b[0m \u001b[38;5;28;01mdef\u001b[39;00m \u001b[38;5;21mcast\u001b[39m(typ, val):\n\u001b[1;32m   2269\u001b[0m \u001b[38;5;250m    \u001b[39m\u001b[38;5;124;03m\"\"\"Cast a value to a type.\u001b[39;00m\n\u001b[1;32m   2270\u001b[0m \n\u001b[1;32m   2271\u001b[0m \u001b[38;5;124;03m    This returns the value unchanged.  To the type checker this\u001b[39;00m\n\u001b[0;32m   (...)\u001b[0m\n\u001b[1;32m   2274\u001b[0m \u001b[38;5;124;03m    to be as fast as possible).\u001b[39;00m\n\u001b[1;32m   2275\u001b[0m \u001b[38;5;124;03m    \"\"\"\u001b[39;00m\n\u001b[1;32m   2276\u001b[0m     \u001b[38;5;28;01mreturn\u001b[39;00m val\n",
      "\u001b[0;31mKeyboardInterrupt\u001b[0m: "
     ]
    }
   ],
   "source": [
    "import heapq  # Importe le module heapq pour utiliser la file de priorité\n",
    "import copy\n",
    "\n",
    "def reconstruct_path(came_from, start, goal):\n",
    "    current = goal\n",
    "    plan = []\n",
    "\n",
    "    while current != start:\n",
    "        found = False  # Indicateur pour vérifier si l'état courant est trouvé dans les clés\n",
    "        for key in came_from.keys():\n",
    "            if set(current).issubset(set(key)):\n",
    "                prev_state, action = came_from[key]  # Récupère l'état précédent et l'action\n",
    "                plan.append(action)  # Ajoute le nom de l'action au plan\n",
    "                current = prev_state  # Met à jour l'état courant pour continuer à remonter\n",
    "                found = True  # Met à jour l'indicateur pour montrer que nous avons trouvé un match\n",
    "                break  # Sort de la boucle car nous avons trouvé l'état courant dans les clés\n",
    "\n",
    "        if not found:  # Si après avoir vérifié toutes les clés, aucun match n'est trouvé\n",
    "            return None  # Retourne None car un chemin complet ne peut pas être reconstruit\n",
    "\n",
    "    plan.reverse()  # Inverse le plan pour qu'il commence par l'état initial\n",
    "    return plan\n",
    "\n",
    "def astar_search(init_state, goal_state, actions):\n",
    "    init_state_tuple = tuple(copy.deepcopy(init_state))\n",
    "    goal_state_tuple = tuple(copy.deepcopy(goal_state))\n",
    "\n",
    "    print(\"État initial :\", init_state_tuple)\n",
    "    print(\"État objectif :\", goal_state_tuple)\n",
    "    \n",
    "    open_list = []\n",
    "    heapq.heappush(open_list, (h_relaxed(init_state_tuple, copy.deepcopy(goal_state)), 0, init_state_tuple))\n",
    "    \n",
    "    came_from = {}\n",
    "    cost_so_far = {init_state_tuple: 0}\n",
    "\n",
    "    iteration = 0  # Ajout pour suivre le nombre d'itérations\n",
    "    while open_list:\n",
    "        _, current_cost, current_state = heapq.heappop(open_list)\n",
    "        \n",
    "        print(f\"Iteration {iteration}\")\n",
    "        iteration += 1\n",
    "\n",
    "        if set(goal_state).issubset(set(current_state)):\n",
    "            print(\"Objectif atteint !\")\n",
    "            return reconstruct_path(came_from, init_state_tuple, goal_state_tuple)\n",
    "        \n",
    "        for action in applicable_actions(list(current_state), actions):\n",
    "            new_state = tuple(apply_action(list(current_state), action))\n",
    "            # print(f\"    Applique l'action: {action['name']} -> Nouvel état: {new_state}\")\n",
    "            new_cost = current_cost + 1  # Supposons un coût constant par action\n",
    "            if new_state not in cost_so_far or new_cost < cost_so_far[new_state]:\n",
    "                cost_so_far[new_state] = new_cost\n",
    "                h = h_relaxed(new_state, copy.deepcopy(goal_state))\n",
    "                print(h)\n",
    "                priority = new_cost + h\n",
    "                heapq.heappush(open_list, (priority, new_cost, new_state))\n",
    "                came_from[new_state] = (current_state, action)\n",
    "\n",
    "        if iteration > 100000:  # Condition de sortie pour éviter la boucle infinie pendant le débogage\n",
    "            print(\"Arrêt\")\n",
    "            return None\n",
    "                \n",
    "    print(\"Aucun chemin trouvé.\")\n",
    "    return None\n",
    "\n",
    "# Assurez-vous que `init_state` et `goal_state` sont convertis en tuples là où vous les définissez\n",
    "import time\n",
    "start_time = time.time()\n",
    "\n",
    "path_actions = astar_search(init_state, goal_state, All_actions)\n",
    "print(\"Plan trouvé :\", path_actions)\n",
    "for action in path_actions:\n",
    "    print(action['name'])\n",
    "\n",
    "print(\"\\n\")\n",
    "print(\"Nombre d'actions dans le plan :\", len(path_actions))\n",
    "print(\"Temps d'exécution : %s secondes\" % (time.time() - start_time))"
   ]
  },
  {
   "cell_type": "code",
   "execution_count": null,
   "metadata": {},
   "outputs": [
    {
     "name": "stdout",
     "output_type": "stream",
     "text": [
      "move(d0, d1, p1)\n",
      "move(d1, d2, p2)\n",
      "move(d0, p1, d1)\n",
      "move(d2, d3, p1)\n",
      "move(d0, d1, d3)\n",
      "move(d1, p2, d2)\n",
      "move(d0, d3, d1)\n",
      "move(d3, p0, p2)\n",
      "move(d0, d1, d3)\n",
      "move(d1, d2, p0)\n",
      "move(d0, d3, d1)\n",
      "move(d2, p1, d3)\n",
      "move(d0, d1, p1)\n",
      "move(d1, p0, d2)\n",
      "move(d0, p1, d1)\n",
      "True\n"
     ]
    }
   ],
   "source": [
    "#on vérifie le plan obtenu\n",
    "print(valid_plan(list(path_actions)))"
   ]
  },
  {
   "cell_type": "markdown",
   "metadata": {},
   "source": [
    "# Librairie unified-planning"
   ]
  },
  {
   "cell_type": "markdown",
   "metadata": {},
   "source": [
    "### Solveur\n"
   ]
  },
  {
   "cell_type": "code",
   "execution_count": null,
   "metadata": {},
   "outputs": [
    {
     "name": "stdout",
     "output_type": "stream",
     "text": [
      "Requirement already satisfied: unified-planning[fast-downward] in /Users/hugoplottu/.pyenv/versions/3.11.7/envs/po/lib/python3.11/site-packages (1.1.0)\n",
      "Requirement already satisfied: pyparsing in /Users/hugoplottu/.pyenv/versions/3.11.7/envs/po/lib/python3.11/site-packages (from unified-planning[fast-downward]) (3.1.2)\n",
      "Requirement already satisfied: networkx in /Users/hugoplottu/.pyenv/versions/3.11.7/envs/po/lib/python3.11/site-packages (from unified-planning[fast-downward]) (3.2.1)\n",
      "Requirement already satisfied: ConfigSpace in /Users/hugoplottu/.pyenv/versions/3.11.7/envs/po/lib/python3.11/site-packages (from unified-planning[fast-downward]) (0.7.1)\n",
      "Requirement already satisfied: up-fast-downward==0.4.1 in /Users/hugoplottu/.pyenv/versions/3.11.7/envs/po/lib/python3.11/site-packages (from unified-planning[fast-downward]) (0.4.1)\n",
      "Requirement already satisfied: numpy in /Users/hugoplottu/.pyenv/versions/3.11.7/envs/po/lib/python3.11/site-packages (from ConfigSpace->unified-planning[fast-downward]) (1.26.4)\n",
      "Requirement already satisfied: scipy in /Users/hugoplottu/.pyenv/versions/3.11.7/envs/po/lib/python3.11/site-packages (from ConfigSpace->unified-planning[fast-downward]) (1.12.0)\n",
      "Requirement already satisfied: typing-extensions in /Users/hugoplottu/.pyenv/versions/3.11.7/envs/po/lib/python3.11/site-packages (from ConfigSpace->unified-planning[fast-downward]) (4.10.0)\n",
      "Requirement already satisfied: more-itertools in /Users/hugoplottu/.pyenv/versions/3.11.7/envs/po/lib/python3.11/site-packages (from ConfigSpace->unified-planning[fast-downward]) (10.2.0)\n",
      "\n",
      "\u001b[1m[\u001b[0m\u001b[34;49mnotice\u001b[0m\u001b[1;39;49m]\u001b[0m\u001b[39;49m A new release of pip is available: \u001b[0m\u001b[31;49m23.2.1\u001b[0m\u001b[39;49m -> \u001b[0m\u001b[32;49m24.0\u001b[0m\n",
      "\u001b[1m[\u001b[0m\u001b[34;49mnotice\u001b[0m\u001b[1;39;49m]\u001b[0m\u001b[39;49m To update, run: \u001b[0m\u001b[32;49mpip install --upgrade pip\u001b[0m\n"
     ]
    }
   ],
   "source": [
    "! pip install 'unified-planning[fast-downward]'"
   ]
  },
  {
   "cell_type": "code",
   "execution_count": null,
   "metadata": {},
   "outputs": [
    {
     "ename": "KeyboardInterrupt",
     "evalue": "",
     "output_type": "error",
     "traceback": [
      "\u001b[0;31m---------------------------------------------------------------------------\u001b[0m",
      "\u001b[0;31mKeyboardInterrupt\u001b[0m                         Traceback (most recent call last)",
      "Cell \u001b[0;32mIn[97], line 2\u001b[0m\n\u001b[1;32m      1\u001b[0m \u001b[38;5;28;01mfrom\u001b[39;00m \u001b[38;5;21;01munified_planning\u001b[39;00m\u001b[38;5;21;01m.\u001b[39;00m\u001b[38;5;21;01mio\u001b[39;00m \u001b[38;5;28;01mimport\u001b[39;00m PDDLReader\n\u001b[0;32m----> 2\u001b[0m \u001b[38;5;28;01mfrom\u001b[39;00m \u001b[38;5;21;01munified_planning\u001b[39;00m\u001b[38;5;21;01m.\u001b[39;00m\u001b[38;5;21;01mshortcuts\u001b[39;00m \u001b[38;5;28;01mimport\u001b[39;00m \u001b[38;5;241m*\u001b[39m\n\u001b[1;32m      3\u001b[0m \u001b[38;5;28;01mfrom\u001b[39;00m \u001b[38;5;21;01munified_planning\u001b[39;00m\u001b[38;5;21;01m.\u001b[39;00m\u001b[38;5;21;01mengines\u001b[39;00m \u001b[38;5;28;01mimport\u001b[39;00m PlanGenerationResultStatus\n\u001b[1;32m      5\u001b[0m reader \u001b[38;5;241m=\u001b[39m PDDLReader()\n",
      "File \u001b[0;32m~/.pyenv/versions/3.11.7/envs/po/lib/python3.11/site-packages/unified_planning/shortcuts.py:28\u001b[0m\n\u001b[1;32m     26\u001b[0m \u001b[38;5;28;01mfrom\u001b[39;00m \u001b[38;5;21;01munified_planning\u001b[39;00m\u001b[38;5;21;01m.\u001b[39;00m\u001b[38;5;21;01mmodel\u001b[39;00m\u001b[38;5;21;01m.\u001b[39;00m\u001b[38;5;21;01mtamp\u001b[39;00m \u001b[38;5;28;01mimport\u001b[39;00m \u001b[38;5;241m*\u001b[39m\n\u001b[1;32m     27\u001b[0m \u001b[38;5;28;01mfrom\u001b[39;00m \u001b[38;5;21;01munified_planning\u001b[39;00m\u001b[38;5;21;01m.\u001b[39;00m\u001b[38;5;21;01mmodel\u001b[39;00m\u001b[38;5;21;01m.\u001b[39;00m\u001b[38;5;21;01mproblem_kind_versioning\u001b[39;00m \u001b[38;5;28;01mimport\u001b[39;00m LATEST_PROBLEM_KIND_VERSION\n\u001b[0;32m---> 28\u001b[0m \u001b[38;5;28;01mfrom\u001b[39;00m \u001b[38;5;21;01munified_planning\u001b[39;00m\u001b[38;5;21;01m.\u001b[39;00m\u001b[38;5;21;01mengines\u001b[39;00m \u001b[38;5;28;01mimport\u001b[39;00m (\n\u001b[1;32m     29\u001b[0m     Engine,\n\u001b[1;32m     30\u001b[0m     CompilationKind,\n\u001b[1;32m     31\u001b[0m     OptimalityGuarantee,\n\u001b[1;32m     32\u001b[0m     OperationMode,\n\u001b[1;32m     33\u001b[0m     AnytimeGuarantee,\n\u001b[1;32m     34\u001b[0m )\n\u001b[1;32m     35\u001b[0m \u001b[38;5;28;01mfrom\u001b[39;00m \u001b[38;5;21;01munified_planning\u001b[39;00m\u001b[38;5;21;01m.\u001b[39;00m\u001b[38;5;21;01mplans\u001b[39;00m \u001b[38;5;28;01mimport\u001b[39;00m PlanKind\n\u001b[1;32m     36\u001b[0m \u001b[38;5;28;01mfrom\u001b[39;00m \u001b[38;5;21;01mtyping\u001b[39;00m \u001b[38;5;28;01mimport\u001b[39;00m IO, Any, Iterable, Union, Dict, Optional, Sequence, List\n",
      "File \u001b[0;32m~/.pyenv/versions/3.11.7/envs/po/lib/python3.11/site-packages/unified_planning/engines/__init__.py:17\u001b[0m\n\u001b[1;32m      1\u001b[0m \u001b[38;5;66;03m# Copyright 2021-2023 AIPlan4EU project\u001b[39;00m\n\u001b[1;32m      2\u001b[0m \u001b[38;5;66;03m#\u001b[39;00m\n\u001b[1;32m      3\u001b[0m \u001b[38;5;66;03m# Licensed under the Apache License, Version 2.0 (the \"License\");\u001b[39;00m\n\u001b[0;32m   (...)\u001b[0m\n\u001b[1;32m     13\u001b[0m \u001b[38;5;66;03m# limitations under the License.\u001b[39;00m\n\u001b[1;32m     14\u001b[0m \u001b[38;5;66;03m#\u001b[39;00m\n\u001b[0;32m---> 17\u001b[0m \u001b[38;5;28;01mfrom\u001b[39;00m \u001b[38;5;21;01munified_planning\u001b[39;00m\u001b[38;5;21;01m.\u001b[39;00m\u001b[38;5;21;01mengines\u001b[39;00m\u001b[38;5;21;01m.\u001b[39;00m\u001b[38;5;21;01mengine\u001b[39;00m \u001b[38;5;28;01mimport\u001b[39;00m Engine, OperationMode\n\u001b[1;32m     18\u001b[0m \u001b[38;5;28;01mfrom\u001b[39;00m \u001b[38;5;21;01munified_planning\u001b[39;00m\u001b[38;5;21;01m.\u001b[39;00m\u001b[38;5;21;01mengines\u001b[39;00m\u001b[38;5;21;01m.\u001b[39;00m\u001b[38;5;21;01mmeta_engine\u001b[39;00m \u001b[38;5;28;01mimport\u001b[39;00m MetaEngine\n\u001b[1;32m     19\u001b[0m \u001b[38;5;28;01mfrom\u001b[39;00m \u001b[38;5;21;01munified_planning\u001b[39;00m\u001b[38;5;21;01m.\u001b[39;00m\u001b[38;5;21;01mengines\u001b[39;00m\u001b[38;5;21;01m.\u001b[39;00m\u001b[38;5;21;01mcredits\u001b[39;00m \u001b[38;5;28;01mimport\u001b[39;00m Credits\n",
      "File \u001b[0;32m~/.pyenv/versions/3.11.7/envs/po/lib/python3.11/site-packages/unified_planning/engines/engine.py:20\u001b[0m\n\u001b[1;32m     18\u001b[0m \u001b[38;5;28;01mfrom\u001b[39;00m \u001b[38;5;21;01munified_planning\u001b[39;00m\u001b[38;5;21;01m.\u001b[39;00m\u001b[38;5;21;01mengines\u001b[39;00m\u001b[38;5;21;01m.\u001b[39;00m\u001b[38;5;21;01mcredits\u001b[39;00m \u001b[38;5;28;01mimport\u001b[39;00m Credits\n\u001b[1;32m     19\u001b[0m \u001b[38;5;28;01mfrom\u001b[39;00m \u001b[38;5;21;01mabc\u001b[39;00m \u001b[38;5;28;01mimport\u001b[39;00m ABCMeta, abstractmethod, ABC\n\u001b[0;32m---> 20\u001b[0m \u001b[38;5;28;01mfrom\u001b[39;00m \u001b[38;5;21;01mConfigSpace\u001b[39;00m \u001b[38;5;28;01mimport\u001b[39;00m ConfigurationSpace\n\u001b[1;32m     21\u001b[0m \u001b[38;5;28;01mfrom\u001b[39;00m \u001b[38;5;21;01menum\u001b[39;00m \u001b[38;5;28;01mimport\u001b[39;00m Enum\n\u001b[1;32m     22\u001b[0m \u001b[38;5;28;01mfrom\u001b[39;00m \u001b[38;5;21;01mtyping\u001b[39;00m \u001b[38;5;28;01mimport\u001b[39;00m Optional\n",
      "File \u001b[0;32m~/.pyenv/versions/3.11.7/envs/po/lib/python3.11/site-packages/ConfigSpace/__init__.py:31\u001b[0m\n\u001b[1;32m     29\u001b[0m \u001b[38;5;28;01mfrom\u001b[39;00m \u001b[38;5;21;01mConfigSpace\u001b[39;00m\u001b[38;5;21;01m.\u001b[39;00m\u001b[38;5;21;01m__authors__\u001b[39;00m \u001b[38;5;28;01mimport\u001b[39;00m __authors__\n\u001b[1;32m     30\u001b[0m \u001b[38;5;28;01mfrom\u001b[39;00m \u001b[38;5;21;01mConfigSpace\u001b[39;00m\u001b[38;5;21;01m.\u001b[39;00m\u001b[38;5;21;01m__version__\u001b[39;00m \u001b[38;5;28;01mimport\u001b[39;00m __version__\n\u001b[0;32m---> 31\u001b[0m \u001b[38;5;28;01mfrom\u001b[39;00m \u001b[38;5;21;01mConfigSpace\u001b[39;00m\u001b[38;5;21;01m.\u001b[39;00m\u001b[38;5;21;01mapi\u001b[39;00m \u001b[38;5;28;01mimport\u001b[39;00m (\n\u001b[1;32m     32\u001b[0m     Beta,\n\u001b[1;32m     33\u001b[0m     Categorical,\n\u001b[1;32m     34\u001b[0m     Distribution,\n\u001b[1;32m     35\u001b[0m     Float,\n\u001b[1;32m     36\u001b[0m     Integer,\n\u001b[1;32m     37\u001b[0m     Normal,\n\u001b[1;32m     38\u001b[0m     Uniform,\n\u001b[1;32m     39\u001b[0m     distributions,\n\u001b[1;32m     40\u001b[0m     types,\n\u001b[1;32m     41\u001b[0m )\n\u001b[1;32m     42\u001b[0m \u001b[38;5;28;01mfrom\u001b[39;00m \u001b[38;5;21;01mConfigSpace\u001b[39;00m\u001b[38;5;21;01m.\u001b[39;00m\u001b[38;5;21;01mconditions\u001b[39;00m \u001b[38;5;28;01mimport\u001b[39;00m (\n\u001b[1;32m     43\u001b[0m     AndConjunction,\n\u001b[1;32m     44\u001b[0m     EqualsCondition,\n\u001b[0;32m   (...)\u001b[0m\n\u001b[1;32m     49\u001b[0m     OrConjunction,\n\u001b[1;32m     50\u001b[0m )\n\u001b[1;32m     51\u001b[0m \u001b[38;5;28;01mfrom\u001b[39;00m \u001b[38;5;21;01mConfigSpace\u001b[39;00m\u001b[38;5;21;01m.\u001b[39;00m\u001b[38;5;21;01mconfiguration\u001b[39;00m \u001b[38;5;28;01mimport\u001b[39;00m Configuration\n",
      "File \u001b[0;32m~/.pyenv/versions/3.11.7/envs/po/lib/python3.11/site-packages/ConfigSpace/api/__init__.py:1\u001b[0m\n\u001b[0;32m----> 1\u001b[0m \u001b[38;5;28;01mfrom\u001b[39;00m \u001b[38;5;21;01mConfigSpace\u001b[39;00m\u001b[38;5;21;01m.\u001b[39;00m\u001b[38;5;21;01mapi\u001b[39;00m \u001b[38;5;28;01mimport\u001b[39;00m distributions, types\n\u001b[1;32m      2\u001b[0m \u001b[38;5;28;01mfrom\u001b[39;00m \u001b[38;5;21;01mConfigSpace\u001b[39;00m\u001b[38;5;21;01m.\u001b[39;00m\u001b[38;5;21;01mapi\u001b[39;00m\u001b[38;5;21;01m.\u001b[39;00m\u001b[38;5;21;01mdistributions\u001b[39;00m \u001b[38;5;28;01mimport\u001b[39;00m Beta, Distribution, Normal, Uniform\n\u001b[1;32m      3\u001b[0m \u001b[38;5;28;01mfrom\u001b[39;00m \u001b[38;5;21;01mConfigSpace\u001b[39;00m\u001b[38;5;21;01m.\u001b[39;00m\u001b[38;5;21;01mapi\u001b[39;00m\u001b[38;5;21;01m.\u001b[39;00m\u001b[38;5;21;01mtypes\u001b[39;00m \u001b[38;5;28;01mimport\u001b[39;00m Categorical, Float, Integer\n",
      "File \u001b[0;32m~/.pyenv/versions/3.11.7/envs/po/lib/python3.11/site-packages/ConfigSpace/api/types/__init__.py:1\u001b[0m\n\u001b[0;32m----> 1\u001b[0m \u001b[38;5;28;01mfrom\u001b[39;00m \u001b[38;5;21;01mConfigSpace\u001b[39;00m\u001b[38;5;21;01m.\u001b[39;00m\u001b[38;5;21;01mapi\u001b[39;00m\u001b[38;5;21;01m.\u001b[39;00m\u001b[38;5;21;01mtypes\u001b[39;00m\u001b[38;5;21;01m.\u001b[39;00m\u001b[38;5;21;01mcategorical\u001b[39;00m \u001b[38;5;28;01mimport\u001b[39;00m Categorical\n\u001b[1;32m      2\u001b[0m \u001b[38;5;28;01mfrom\u001b[39;00m \u001b[38;5;21;01mConfigSpace\u001b[39;00m\u001b[38;5;21;01m.\u001b[39;00m\u001b[38;5;21;01mapi\u001b[39;00m\u001b[38;5;21;01m.\u001b[39;00m\u001b[38;5;21;01mtypes\u001b[39;00m\u001b[38;5;21;01m.\u001b[39;00m\u001b[38;5;21;01mfloat\u001b[39;00m \u001b[38;5;28;01mimport\u001b[39;00m Float\n\u001b[1;32m      3\u001b[0m \u001b[38;5;28;01mfrom\u001b[39;00m \u001b[38;5;21;01mConfigSpace\u001b[39;00m\u001b[38;5;21;01m.\u001b[39;00m\u001b[38;5;21;01mapi\u001b[39;00m\u001b[38;5;21;01m.\u001b[39;00m\u001b[38;5;21;01mtypes\u001b[39;00m\u001b[38;5;21;01m.\u001b[39;00m\u001b[38;5;21;01minteger\u001b[39;00m \u001b[38;5;28;01mimport\u001b[39;00m Integer\n",
      "File \u001b[0;32m~/.pyenv/versions/3.11.7/envs/po/lib/python3.11/site-packages/ConfigSpace/api/types/categorical.py:10\u001b[0m\n\u001b[1;32m      3\u001b[0m \u001b[38;5;28;01mfrom\u001b[39;00m \u001b[38;5;21;01mtyping\u001b[39;00m \u001b[38;5;28;01mimport\u001b[39;00m (\n\u001b[1;32m      4\u001b[0m     Sequence,\n\u001b[1;32m      5\u001b[0m     Union,\n\u001b[1;32m      6\u001b[0m     overload,\n\u001b[1;32m      7\u001b[0m )\n\u001b[1;32m      8\u001b[0m \u001b[38;5;28;01mfrom\u001b[39;00m \u001b[38;5;21;01mtyping_extensions\u001b[39;00m \u001b[38;5;28;01mimport\u001b[39;00m Literal, TypeAlias\n\u001b[0;32m---> 10\u001b[0m \u001b[38;5;28;01mfrom\u001b[39;00m \u001b[38;5;21;01mConfigSpace\u001b[39;00m\u001b[38;5;21;01m.\u001b[39;00m\u001b[38;5;21;01mhyperparameters\u001b[39;00m \u001b[38;5;28;01mimport\u001b[39;00m CategoricalHyperparameter, OrdinalHyperparameter\n\u001b[1;32m     12\u001b[0m \u001b[38;5;66;03m# We only accept these types in `items`\u001b[39;00m\n\u001b[1;32m     13\u001b[0m T: TypeAlias \u001b[38;5;241m=\u001b[39m Union[\u001b[38;5;28mstr\u001b[39m, \u001b[38;5;28mint\u001b[39m, \u001b[38;5;28mfloat\u001b[39m]\n",
      "File \u001b[0;32m~/.pyenv/versions/3.11.7/envs/po/lib/python3.11/site-packages/ConfigSpace/hyperparameters/__init__.py:1\u001b[0m\n\u001b[0;32m----> 1\u001b[0m \u001b[38;5;28;01mfrom\u001b[39;00m \u001b[38;5;21;01m.\u001b[39;00m\u001b[38;5;21;01mbeta_float\u001b[39;00m \u001b[38;5;28;01mimport\u001b[39;00m BetaFloatHyperparameter\n\u001b[1;32m      2\u001b[0m \u001b[38;5;28;01mfrom\u001b[39;00m \u001b[38;5;21;01m.\u001b[39;00m\u001b[38;5;21;01mbeta_integer\u001b[39;00m \u001b[38;5;28;01mimport\u001b[39;00m BetaIntegerHyperparameter\n\u001b[1;32m      3\u001b[0m \u001b[38;5;28;01mfrom\u001b[39;00m \u001b[38;5;21;01m.\u001b[39;00m\u001b[38;5;21;01mcategorical\u001b[39;00m \u001b[38;5;28;01mimport\u001b[39;00m CategoricalHyperparameter\n",
      "File \u001b[0;32m~/.pyenv/versions/3.11.7/envs/po/lib/python3.11/site-packages/ConfigSpace/hyperparameters/beta_float.pyx:5\u001b[0m, in \u001b[0;36minit ConfigSpace.hyperparameters.beta_float\u001b[0;34m()\u001b[0m\n",
      "File \u001b[0;32m~/.pyenv/versions/3.11.7/envs/po/lib/python3.11/site-packages/scipy/stats/__init__.py:605\u001b[0m\n\u001b[1;32m      1\u001b[0m \u001b[38;5;124;03m\"\"\"\u001b[39;00m\n\u001b[1;32m      2\u001b[0m \u001b[38;5;124;03m.. _statsrefmanual:\u001b[39;00m\n\u001b[1;32m      3\u001b[0m \n\u001b[0;32m   (...)\u001b[0m\n\u001b[1;32m    600\u001b[0m \n\u001b[1;32m    601\u001b[0m \u001b[38;5;124;03m\"\"\"\u001b[39;00m  \u001b[38;5;66;03m# noqa: E501\u001b[39;00m\n\u001b[1;32m    603\u001b[0m \u001b[38;5;28;01mfrom\u001b[39;00m \u001b[38;5;21;01m.\u001b[39;00m\u001b[38;5;21;01m_warnings_errors\u001b[39;00m \u001b[38;5;28;01mimport\u001b[39;00m (ConstantInputWarning, NearConstantInputWarning,\n\u001b[1;32m    604\u001b[0m                                DegenerateDataWarning, FitError)\n\u001b[0;32m--> 605\u001b[0m \u001b[38;5;28;01mfrom\u001b[39;00m \u001b[38;5;21;01m.\u001b[39;00m\u001b[38;5;21;01m_stats_py\u001b[39;00m \u001b[38;5;28;01mimport\u001b[39;00m \u001b[38;5;241m*\u001b[39m\n\u001b[1;32m    606\u001b[0m \u001b[38;5;28;01mfrom\u001b[39;00m \u001b[38;5;21;01m.\u001b[39;00m\u001b[38;5;21;01m_variation\u001b[39;00m \u001b[38;5;28;01mimport\u001b[39;00m variation\n\u001b[1;32m    607\u001b[0m \u001b[38;5;28;01mfrom\u001b[39;00m \u001b[38;5;21;01m.\u001b[39;00m\u001b[38;5;21;01mdistributions\u001b[39;00m \u001b[38;5;28;01mimport\u001b[39;00m \u001b[38;5;241m*\u001b[39m\n",
      "File \u001b[0;32m~/.pyenv/versions/3.11.7/envs/po/lib/python3.11/site-packages/scipy/stats/_stats_py.py:37\u001b[0m\n\u001b[1;32m     34\u001b[0m \u001b[38;5;28;01mimport\u001b[39;00m \u001b[38;5;21;01mnumpy\u001b[39;00m \u001b[38;5;28;01mas\u001b[39;00m \u001b[38;5;21;01mnp\u001b[39;00m\n\u001b[1;32m     35\u001b[0m \u001b[38;5;28;01mfrom\u001b[39;00m \u001b[38;5;21;01mnumpy\u001b[39;00m \u001b[38;5;28;01mimport\u001b[39;00m array, asarray, ma\n\u001b[0;32m---> 37\u001b[0m \u001b[38;5;28;01mfrom\u001b[39;00m \u001b[38;5;21;01mscipy\u001b[39;00m\u001b[38;5;21;01m.\u001b[39;00m\u001b[38;5;21;01mspatial\u001b[39;00m\u001b[38;5;21;01m.\u001b[39;00m\u001b[38;5;21;01mdistance\u001b[39;00m \u001b[38;5;28;01mimport\u001b[39;00m cdist\n\u001b[1;32m     38\u001b[0m \u001b[38;5;28;01mfrom\u001b[39;00m \u001b[38;5;21;01mscipy\u001b[39;00m\u001b[38;5;21;01m.\u001b[39;00m\u001b[38;5;21;01mndimage\u001b[39;00m \u001b[38;5;28;01mimport\u001b[39;00m _measurements\n\u001b[1;32m     39\u001b[0m \u001b[38;5;28;01mfrom\u001b[39;00m \u001b[38;5;21;01mscipy\u001b[39;00m\u001b[38;5;21;01m.\u001b[39;00m\u001b[38;5;21;01m_lib\u001b[39;00m\u001b[38;5;21;01m.\u001b[39;00m\u001b[38;5;21;01m_util\u001b[39;00m \u001b[38;5;28;01mimport\u001b[39;00m (check_random_state, MapWrapper, _get_nan,\n\u001b[1;32m     40\u001b[0m                               rng_integers, _rename_parameter, _contains_nan,\n\u001b[1;32m     41\u001b[0m                               AxisError)\n",
      "File \u001b[0;32m~/.pyenv/versions/3.11.7/envs/po/lib/python3.11/site-packages/scipy/spatial/__init__.py:110\u001b[0m\n\u001b[1;32m      1\u001b[0m \u001b[38;5;124;03m\"\"\"\u001b[39;00m\n\u001b[1;32m      2\u001b[0m \u001b[38;5;124;03m=============================================================\u001b[39;00m\n\u001b[1;32m      3\u001b[0m \u001b[38;5;124;03mSpatial algorithms and data structures (:mod:`scipy.spatial`)\u001b[39;00m\n\u001b[0;32m   (...)\u001b[0m\n\u001b[1;32m    107\u001b[0m \u001b[38;5;124;03m   QhullError\u001b[39;00m\n\u001b[1;32m    108\u001b[0m \u001b[38;5;124;03m\"\"\"\u001b[39;00m  \u001b[38;5;66;03m# noqa: E501\u001b[39;00m\n\u001b[0;32m--> 110\u001b[0m \u001b[38;5;28;01mfrom\u001b[39;00m \u001b[38;5;21;01m.\u001b[39;00m\u001b[38;5;21;01m_kdtree\u001b[39;00m \u001b[38;5;28;01mimport\u001b[39;00m \u001b[38;5;241m*\u001b[39m\n\u001b[1;32m    111\u001b[0m \u001b[38;5;28;01mfrom\u001b[39;00m \u001b[38;5;21;01m.\u001b[39;00m\u001b[38;5;21;01m_ckdtree\u001b[39;00m \u001b[38;5;28;01mimport\u001b[39;00m \u001b[38;5;241m*\u001b[39m\n\u001b[1;32m    112\u001b[0m \u001b[38;5;28;01mfrom\u001b[39;00m \u001b[38;5;21;01m.\u001b[39;00m\u001b[38;5;21;01m_qhull\u001b[39;00m \u001b[38;5;28;01mimport\u001b[39;00m \u001b[38;5;241m*\u001b[39m\n",
      "File \u001b[0;32m~/.pyenv/versions/3.11.7/envs/po/lib/python3.11/site-packages/scipy/spatial/_kdtree.py:4\u001b[0m\n\u001b[1;32m      1\u001b[0m \u001b[38;5;66;03m# Copyright Anne M. Archibald 2008\u001b[39;00m\n\u001b[1;32m      2\u001b[0m \u001b[38;5;66;03m# Released under the scipy license\u001b[39;00m\n\u001b[1;32m      3\u001b[0m \u001b[38;5;28;01mimport\u001b[39;00m \u001b[38;5;21;01mnumpy\u001b[39;00m \u001b[38;5;28;01mas\u001b[39;00m \u001b[38;5;21;01mnp\u001b[39;00m\n\u001b[0;32m----> 4\u001b[0m \u001b[38;5;28;01mfrom\u001b[39;00m \u001b[38;5;21;01m.\u001b[39;00m\u001b[38;5;21;01m_ckdtree\u001b[39;00m \u001b[38;5;28;01mimport\u001b[39;00m cKDTree, cKDTreeNode\n\u001b[1;32m      6\u001b[0m __all__ \u001b[38;5;241m=\u001b[39m [\u001b[38;5;124m'\u001b[39m\u001b[38;5;124mminkowski_distance_p\u001b[39m\u001b[38;5;124m'\u001b[39m, \u001b[38;5;124m'\u001b[39m\u001b[38;5;124mminkowski_distance\u001b[39m\u001b[38;5;124m'\u001b[39m,\n\u001b[1;32m      7\u001b[0m            \u001b[38;5;124m'\u001b[39m\u001b[38;5;124mdistance_matrix\u001b[39m\u001b[38;5;124m'\u001b[39m,\n\u001b[1;32m      8\u001b[0m            \u001b[38;5;124m'\u001b[39m\u001b[38;5;124mRectangle\u001b[39m\u001b[38;5;124m'\u001b[39m, \u001b[38;5;124m'\u001b[39m\u001b[38;5;124mKDTree\u001b[39m\u001b[38;5;124m'\u001b[39m]\n\u001b[1;32m     11\u001b[0m \u001b[38;5;28;01mdef\u001b[39;00m \u001b[38;5;21mminkowski_distance_p\u001b[39m(x, y, p\u001b[38;5;241m=\u001b[39m\u001b[38;5;241m2\u001b[39m):\n",
      "File \u001b[0;32m_ckdtree.pyx:11\u001b[0m, in \u001b[0;36minit scipy.spatial._ckdtree\u001b[0;34m()\u001b[0m\n",
      "File \u001b[0;32m~/.pyenv/versions/3.11.7/envs/po/lib/python3.11/site-packages/scipy/sparse/__init__.py:308\u001b[0m\n\u001b[1;32m    305\u001b[0m \u001b[38;5;28;01mfrom\u001b[39;00m \u001b[38;5;21;01m.\u001b[39;00m\u001b[38;5;21;01m_matrix_io\u001b[39;00m \u001b[38;5;28;01mimport\u001b[39;00m \u001b[38;5;241m*\u001b[39m\n\u001b[1;32m    307\u001b[0m \u001b[38;5;66;03m# For backward compatibility with v0.19.\u001b[39;00m\n\u001b[0;32m--> 308\u001b[0m \u001b[38;5;28;01mfrom\u001b[39;00m \u001b[38;5;21;01m.\u001b[39;00m \u001b[38;5;28;01mimport\u001b[39;00m csgraph\n\u001b[1;32m    310\u001b[0m \u001b[38;5;66;03m# Deprecated namespaces, to be removed in v2.0.0\u001b[39;00m\n\u001b[1;32m    311\u001b[0m \u001b[38;5;28;01mfrom\u001b[39;00m \u001b[38;5;21;01m.\u001b[39;00m \u001b[38;5;28;01mimport\u001b[39;00m (\n\u001b[1;32m    312\u001b[0m     base, bsr, compressed, construct, coo, csc, csr, data, dia, dok, extract,\n\u001b[1;32m    313\u001b[0m     lil, sparsetools, sputils\n\u001b[1;32m    314\u001b[0m )\n",
      "File \u001b[0;32m~/.pyenv/versions/3.11.7/envs/po/lib/python3.11/site-packages/scipy/sparse/csgraph/__init__.py:185\u001b[0m\n\u001b[1;32m    157\u001b[0m __docformat__ \u001b[38;5;241m=\u001b[39m \u001b[38;5;124m\"\u001b[39m\u001b[38;5;124mrestructuredtext en\u001b[39m\u001b[38;5;124m\"\u001b[39m\n\u001b[1;32m    159\u001b[0m __all__ \u001b[38;5;241m=\u001b[39m [\u001b[38;5;124m'\u001b[39m\u001b[38;5;124mconnected_components\u001b[39m\u001b[38;5;124m'\u001b[39m,\n\u001b[1;32m    160\u001b[0m            \u001b[38;5;124m'\u001b[39m\u001b[38;5;124mlaplacian\u001b[39m\u001b[38;5;124m'\u001b[39m,\n\u001b[1;32m    161\u001b[0m            \u001b[38;5;124m'\u001b[39m\u001b[38;5;124mshortest_path\u001b[39m\u001b[38;5;124m'\u001b[39m,\n\u001b[0;32m   (...)\u001b[0m\n\u001b[1;32m    182\u001b[0m            \u001b[38;5;124m'\u001b[39m\u001b[38;5;124mcsgraph_to_masked\u001b[39m\u001b[38;5;124m'\u001b[39m,\n\u001b[1;32m    183\u001b[0m            \u001b[38;5;124m'\u001b[39m\u001b[38;5;124mNegativeCycleError\u001b[39m\u001b[38;5;124m'\u001b[39m]\n\u001b[0;32m--> 185\u001b[0m \u001b[38;5;28;01mfrom\u001b[39;00m \u001b[38;5;21;01m.\u001b[39;00m\u001b[38;5;21;01m_laplacian\u001b[39;00m \u001b[38;5;28;01mimport\u001b[39;00m laplacian\n\u001b[1;32m    186\u001b[0m \u001b[38;5;28;01mfrom\u001b[39;00m \u001b[38;5;21;01m.\u001b[39;00m\u001b[38;5;21;01m_shortest_path\u001b[39;00m \u001b[38;5;28;01mimport\u001b[39;00m (\n\u001b[1;32m    187\u001b[0m     shortest_path, floyd_warshall, dijkstra, bellman_ford, johnson,\n\u001b[1;32m    188\u001b[0m     NegativeCycleError\n\u001b[1;32m    189\u001b[0m )\n\u001b[1;32m    190\u001b[0m \u001b[38;5;28;01mfrom\u001b[39;00m \u001b[38;5;21;01m.\u001b[39;00m\u001b[38;5;21;01m_traversal\u001b[39;00m \u001b[38;5;28;01mimport\u001b[39;00m (\n\u001b[1;32m    191\u001b[0m     breadth_first_order, depth_first_order, breadth_first_tree,\n\u001b[1;32m    192\u001b[0m     depth_first_tree, connected_components\n\u001b[1;32m    193\u001b[0m )\n",
      "File \u001b[0;32m~/.pyenv/versions/3.11.7/envs/po/lib/python3.11/site-packages/scipy/sparse/csgraph/_laplacian.py:7\u001b[0m\n\u001b[1;32m      5\u001b[0m \u001b[38;5;28;01mimport\u001b[39;00m \u001b[38;5;21;01mnumpy\u001b[39;00m \u001b[38;5;28;01mas\u001b[39;00m \u001b[38;5;21;01mnp\u001b[39;00m\n\u001b[1;32m      6\u001b[0m \u001b[38;5;28;01mfrom\u001b[39;00m \u001b[38;5;21;01mscipy\u001b[39;00m\u001b[38;5;21;01m.\u001b[39;00m\u001b[38;5;21;01msparse\u001b[39;00m \u001b[38;5;28;01mimport\u001b[39;00m issparse\n\u001b[0;32m----> 7\u001b[0m \u001b[38;5;28;01mfrom\u001b[39;00m \u001b[38;5;21;01mscipy\u001b[39;00m\u001b[38;5;21;01m.\u001b[39;00m\u001b[38;5;21;01msparse\u001b[39;00m\u001b[38;5;21;01m.\u001b[39;00m\u001b[38;5;21;01mlinalg\u001b[39;00m \u001b[38;5;28;01mimport\u001b[39;00m LinearOperator\n\u001b[1;32m     10\u001b[0m \u001b[38;5;66;03m###############################################################################\u001b[39;00m\n\u001b[1;32m     11\u001b[0m \u001b[38;5;66;03m# Graph laplacian\u001b[39;00m\n\u001b[1;32m     12\u001b[0m \u001b[38;5;28;01mdef\u001b[39;00m \u001b[38;5;21mlaplacian\u001b[39m(\n\u001b[1;32m     13\u001b[0m     csgraph,\n\u001b[1;32m     14\u001b[0m     normed\u001b[38;5;241m=\u001b[39m\u001b[38;5;28;01mFalse\u001b[39;00m,\n\u001b[0;32m   (...)\u001b[0m\n\u001b[1;32m     21\u001b[0m     symmetrized\u001b[38;5;241m=\u001b[39m\u001b[38;5;28;01mFalse\u001b[39;00m,\n\u001b[1;32m     22\u001b[0m ):\n",
      "File \u001b[0;32m~/.pyenv/versions/3.11.7/envs/po/lib/python3.11/site-packages/scipy/sparse/linalg/__init__.py:129\u001b[0m\n\u001b[1;32m      1\u001b[0m \u001b[38;5;124;03m\"\"\"\u001b[39;00m\n\u001b[1;32m      2\u001b[0m \u001b[38;5;124;03mSparse linear algebra (:mod:`scipy.sparse.linalg`)\u001b[39;00m\n\u001b[1;32m      3\u001b[0m \u001b[38;5;124;03m==================================================\u001b[39;00m\n\u001b[0;32m   (...)\u001b[0m\n\u001b[1;32m    126\u001b[0m \n\u001b[1;32m    127\u001b[0m \u001b[38;5;124;03m\"\"\"\u001b[39;00m\n\u001b[0;32m--> 129\u001b[0m \u001b[38;5;28;01mfrom\u001b[39;00m \u001b[38;5;21;01m.\u001b[39;00m\u001b[38;5;21;01m_isolve\u001b[39;00m \u001b[38;5;28;01mimport\u001b[39;00m \u001b[38;5;241m*\u001b[39m\n\u001b[1;32m    130\u001b[0m \u001b[38;5;28;01mfrom\u001b[39;00m \u001b[38;5;21;01m.\u001b[39;00m\u001b[38;5;21;01m_dsolve\u001b[39;00m \u001b[38;5;28;01mimport\u001b[39;00m \u001b[38;5;241m*\u001b[39m\n\u001b[1;32m    131\u001b[0m \u001b[38;5;28;01mfrom\u001b[39;00m \u001b[38;5;21;01m.\u001b[39;00m\u001b[38;5;21;01m_interface\u001b[39;00m \u001b[38;5;28;01mimport\u001b[39;00m \u001b[38;5;241m*\u001b[39m\n",
      "File \u001b[0;32m~/.pyenv/versions/3.11.7/envs/po/lib/python3.11/site-packages/scipy/sparse/linalg/_isolve/__init__.py:4\u001b[0m\n\u001b[1;32m      1\u001b[0m \u001b[38;5;124m\"\u001b[39m\u001b[38;5;124mIterative Solvers for Sparse Linear Systems\u001b[39m\u001b[38;5;124m\"\u001b[39m\n\u001b[1;32m      3\u001b[0m \u001b[38;5;66;03m#from info import __doc__\u001b[39;00m\n\u001b[0;32m----> 4\u001b[0m \u001b[38;5;28;01mfrom\u001b[39;00m \u001b[38;5;21;01m.\u001b[39;00m\u001b[38;5;21;01miterative\u001b[39;00m \u001b[38;5;28;01mimport\u001b[39;00m \u001b[38;5;241m*\u001b[39m\n\u001b[1;32m      5\u001b[0m \u001b[38;5;28;01mfrom\u001b[39;00m \u001b[38;5;21;01m.\u001b[39;00m\u001b[38;5;21;01mminres\u001b[39;00m \u001b[38;5;28;01mimport\u001b[39;00m minres\n\u001b[1;32m      6\u001b[0m \u001b[38;5;28;01mfrom\u001b[39;00m \u001b[38;5;21;01m.\u001b[39;00m\u001b[38;5;21;01mlgmres\u001b[39;00m \u001b[38;5;28;01mimport\u001b[39;00m lgmres\n",
      "File \u001b[0;32m~/.pyenv/versions/3.11.7/envs/po/lib/python3.11/site-packages/scipy/sparse/linalg/_isolve/iterative.py:5\u001b[0m\n\u001b[1;32m      3\u001b[0m \u001b[38;5;28;01mfrom\u001b[39;00m \u001b[38;5;21;01mscipy\u001b[39;00m\u001b[38;5;21;01m.\u001b[39;00m\u001b[38;5;21;01msparse\u001b[39;00m\u001b[38;5;21;01m.\u001b[39;00m\u001b[38;5;21;01mlinalg\u001b[39;00m\u001b[38;5;21;01m.\u001b[39;00m\u001b[38;5;21;01m_interface\u001b[39;00m \u001b[38;5;28;01mimport\u001b[39;00m LinearOperator\n\u001b[1;32m      4\u001b[0m \u001b[38;5;28;01mfrom\u001b[39;00m \u001b[38;5;21;01m.\u001b[39;00m\u001b[38;5;21;01mutils\u001b[39;00m \u001b[38;5;28;01mimport\u001b[39;00m make_system\n\u001b[0;32m----> 5\u001b[0m \u001b[38;5;28;01mfrom\u001b[39;00m \u001b[38;5;21;01mscipy\u001b[39;00m\u001b[38;5;21;01m.\u001b[39;00m\u001b[38;5;21;01mlinalg\u001b[39;00m \u001b[38;5;28;01mimport\u001b[39;00m get_lapack_funcs\n\u001b[1;32m      6\u001b[0m \u001b[38;5;28;01mfrom\u001b[39;00m \u001b[38;5;21;01mscipy\u001b[39;00m\u001b[38;5;21;01m.\u001b[39;00m\u001b[38;5;21;01m_lib\u001b[39;00m\u001b[38;5;21;01m.\u001b[39;00m\u001b[38;5;21;01mdeprecation\u001b[39;00m \u001b[38;5;28;01mimport\u001b[39;00m _NoValue, _deprecate_positional_args\n\u001b[1;32m      8\u001b[0m __all__ \u001b[38;5;241m=\u001b[39m [\u001b[38;5;124m'\u001b[39m\u001b[38;5;124mbicg\u001b[39m\u001b[38;5;124m'\u001b[39m, \u001b[38;5;124m'\u001b[39m\u001b[38;5;124mbicgstab\u001b[39m\u001b[38;5;124m'\u001b[39m, \u001b[38;5;124m'\u001b[39m\u001b[38;5;124mcg\u001b[39m\u001b[38;5;124m'\u001b[39m, \u001b[38;5;124m'\u001b[39m\u001b[38;5;124mcgs\u001b[39m\u001b[38;5;124m'\u001b[39m, \u001b[38;5;124m'\u001b[39m\u001b[38;5;124mgmres\u001b[39m\u001b[38;5;124m'\u001b[39m, \u001b[38;5;124m'\u001b[39m\u001b[38;5;124mqmr\u001b[39m\u001b[38;5;124m'\u001b[39m]\n",
      "File \u001b[0;32m~/.pyenv/versions/3.11.7/envs/po/lib/python3.11/site-packages/scipy/linalg/__init__.py:208\u001b[0m\n\u001b[1;32m    206\u001b[0m \u001b[38;5;28;01mfrom\u001b[39;00m \u001b[38;5;21;01m.\u001b[39;00m\u001b[38;5;21;01m_misc\u001b[39;00m \u001b[38;5;28;01mimport\u001b[39;00m \u001b[38;5;241m*\u001b[39m\n\u001b[1;32m    207\u001b[0m \u001b[38;5;28;01mfrom\u001b[39;00m \u001b[38;5;21;01m.\u001b[39;00m\u001b[38;5;21;01m_cythonized_array_utils\u001b[39;00m \u001b[38;5;28;01mimport\u001b[39;00m \u001b[38;5;241m*\u001b[39m\n\u001b[0;32m--> 208\u001b[0m \u001b[38;5;28;01mfrom\u001b[39;00m \u001b[38;5;21;01m.\u001b[39;00m\u001b[38;5;21;01m_basic\u001b[39;00m \u001b[38;5;28;01mimport\u001b[39;00m \u001b[38;5;241m*\u001b[39m\n\u001b[1;32m    209\u001b[0m \u001b[38;5;28;01mfrom\u001b[39;00m \u001b[38;5;21;01m.\u001b[39;00m\u001b[38;5;21;01m_decomp\u001b[39;00m \u001b[38;5;28;01mimport\u001b[39;00m \u001b[38;5;241m*\u001b[39m\n\u001b[1;32m    210\u001b[0m \u001b[38;5;28;01mfrom\u001b[39;00m \u001b[38;5;21;01m.\u001b[39;00m\u001b[38;5;21;01m_decomp_lu\u001b[39;00m \u001b[38;5;28;01mimport\u001b[39;00m \u001b[38;5;241m*\u001b[39m\n",
      "File \u001b[0;32m~/.pyenv/versions/3.11.7/envs/po/lib/python3.11/site-packages/scipy/linalg/_basic.py:15\u001b[0m\n\u001b[1;32m     13\u001b[0m \u001b[38;5;28;01mfrom\u001b[39;00m \u001b[38;5;21;01m.\u001b[39;00m\u001b[38;5;21;01m_decomp\u001b[39;00m \u001b[38;5;28;01mimport\u001b[39;00m _asarray_validated\n\u001b[1;32m     14\u001b[0m \u001b[38;5;28;01mfrom\u001b[39;00m \u001b[38;5;21;01m.\u001b[39;00m \u001b[38;5;28;01mimport\u001b[39;00m _decomp, _decomp_svd\n\u001b[0;32m---> 15\u001b[0m \u001b[38;5;28;01mfrom\u001b[39;00m \u001b[38;5;21;01m.\u001b[39;00m\u001b[38;5;21;01m_solve_toeplitz\u001b[39;00m \u001b[38;5;28;01mimport\u001b[39;00m levinson\n\u001b[1;32m     16\u001b[0m \u001b[38;5;28;01mfrom\u001b[39;00m \u001b[38;5;21;01m.\u001b[39;00m\u001b[38;5;21;01m_cythonized_array_utils\u001b[39;00m \u001b[38;5;28;01mimport\u001b[39;00m find_det_from_lu\n\u001b[1;32m     17\u001b[0m \u001b[38;5;28;01mfrom\u001b[39;00m \u001b[38;5;21;01mscipy\u001b[39;00m\u001b[38;5;21;01m.\u001b[39;00m\u001b[38;5;21;01m_lib\u001b[39;00m\u001b[38;5;21;01m.\u001b[39;00m\u001b[38;5;21;01mdeprecation\u001b[39;00m \u001b[38;5;28;01mimport\u001b[39;00m _NoValue, _deprecate_positional_args\n",
      "File \u001b[0;32m<frozen importlib._bootstrap>:405\u001b[0m, in \u001b[0;36mparent\u001b[0;34m(self)\u001b[0m\n",
      "\u001b[0;31mKeyboardInterrupt\u001b[0m: "
     ]
    }
   ],
   "source": [
    "from unified_planning.io import PDDLReader\n",
    "from unified_planning.shortcuts import *\n",
    "from unified_planning.engines import PlanGenerationResultStatus\n",
    "\n",
    "reader = PDDLReader()\n",
    "pddl_problem = reader.parse_problem('data/taquin_domain.pddl', 'data/taquin-size3x3-conf_6.pddl')\n",
    "# print(pddl_problem)\n",
    "\n",
    "\n",
    "with OneshotPlanner(\n",
    "    problem_kind=pddl_problem.kind,\n",
    "    optimality_guarantee=PlanGenerationResultStatus.SOLVED_OPTIMALLY,\n",
    ") as planner:\n",
    "    final_report = planner.solve(pddl_problem)\n",
    "    plan = final_report.plan\n",
    "\n",
    "print(\"Plan found\")   \n",
    "print(plan)"
   ]
  },
  {
   "cell_type": "markdown",
   "metadata": {},
   "source": [
    "### Actions applicables, paramètres applicables modification de l'état"
   ]
  },
  {
   "cell_type": "code",
   "execution_count": null,
   "metadata": {},
   "outputs": [
    {
     "name": "stdout",
     "output_type": "stream",
     "text": [
      "{clear(d1): true, on(d0, p1): true, on(d0, d1): false, clear(p1): false, clear(d0): true, clear(p2): true, on(d1, d2): true, on(d2, d3): true, on(d3, p0): true, smaller(d0, d1): true, smaller(d0, d2): true, smaller(d0, d3): true, smaller(d0, p0): true, smaller(d0, p1): true, smaller(d0, p2): true, smaller(d1, d2): true, smaller(d1, d3): true, smaller(d1, p0): true, smaller(d1, p1): true, smaller(d1, p2): true, smaller(d2, d3): true, smaller(d2, p0): true, smaller(d2, p1): true, smaller(d2, p2): true, smaller(d3, p0): true, smaller(d3, p1): true, smaller(d3, p2): true, clear(d2): false, clear(d3): false, clear(p0): false, on(d0, d0): false, on(d1, d0): false, on(d2, d0): false, on(d3, d0): false, on(p0, d0): false, on(p1, d0): false, on(p2, d0): false, on(d1, d1): false, on(d2, d1): false, on(d3, d1): false, on(p0, d1): false, on(p1, d1): false, on(p2, d1): false, on(d0, d2): false, on(d2, d2): false, on(d3, d2): false, on(p0, d2): false, on(p1, d2): false, on(p2, d2): false, on(d0, d3): false, on(d1, d3): false, on(d3, d3): false, on(p0, d3): false, on(p1, d3): false, on(p2, d3): false, on(d0, p0): false, on(d1, p0): false, on(d2, p0): false, on(p0, p0): false, on(p1, p0): false, on(p2, p0): false, on(d1, p1): false, on(d2, p1): false, on(d3, p1): false, on(p0, p1): false, on(p1, p1): false, on(p2, p1): false, on(d0, p2): false, on(d1, p2): false, on(d2, p2): false, on(d3, p2): false, on(p0, p2): false, on(p1, p2): false, on(p2, p2): false, smaller(d0, d0): false, smaller(d1, d0): false, smaller(d2, d0): false, smaller(d3, d0): false, smaller(p0, d0): false, smaller(p1, d0): false, smaller(p2, d0): false, smaller(d1, d1): false, smaller(d2, d1): false, smaller(d3, d1): false, smaller(p0, d1): false, smaller(p1, d1): false, smaller(p2, d1): false, smaller(d2, d2): false, smaller(d3, d2): false, smaller(p0, d2): false, smaller(p1, d2): false, smaller(p2, d2): false, smaller(d3, d3): false, smaller(p0, d3): false, smaller(p1, d3): false, smaller(p2, d3): false, smaller(p0, p0): false, smaller(p1, p0): false, smaller(p2, p0): false, smaller(p0, p1): false, smaller(p1, p1): false, smaller(p2, p1): false, smaller(p0, p2): false, smaller(p1, p2): false, smaller(p2, p2): false}\n"
     ]
    }
   ],
   "source": [
    "# print(pddl_problem)\n",
    "from unified_planning.io import PDDLReader\n",
    "from unified_planning.shortcuts import *\n",
    "from unified_planning.plans import ActionInstance\n",
    "\n",
    "\n",
    "reader = PDDLReader()\n",
    "pddl_problem = reader.parse_problem('data/domain.pddl', 'data/problem.pddl')\n",
    "\n",
    "simulator = SequentialSimulator(pddl_problem)\n",
    "init_state2=simulator.get_initial_state()\n",
    "goal=pddl_problem.goals\n",
    "\n",
    "(action_name, para) = tuple(simulator.get_applicable_actions(init_state2))[0] # récup de la première fonction applicable et des paramètre qui conviennent\n",
    "\n",
    "action_instance = ActionInstance(action_name, para) #création de l'objet pour appliquer la fonction\n",
    "\n",
    "new_state = simulator.apply(init_state2, action_instance) #on applique la fonction sur l'état\n",
    "\n",
    "print(new_state)\n"
   ]
  },
  {
   "cell_type": "markdown",
   "metadata": {},
   "source": [
    "# Librairie pddlpy"
   ]
  },
  {
   "cell_type": "code",
   "execution_count": null,
   "metadata": {},
   "outputs": [
    {
     "name": "stdout",
     "output_type": "stream",
     "text": [
      "{'clear': None, 'p2': None, 'p1': None, 'on': None, 'd3': None, 'd2': None, 'smaller': None, 'd1': None, 'p0': None, 'd0': None}\n",
      "{('on', 'd2', 'd3'), ('smaller', 'd1', 'p0'), ('smaller', 'd0', 'p1'), ('smaller', 'd1', 'd3'), ('on', 'd3', 'p0'), ('smaller', 'd1', 'p2'), ('smaller', 'd1', 'd2'), ('clear', 'd0'), ('on', 'd1', 'd2'), ('smaller', 'd3', 'p0'), ('smaller', 'd2', 'p0'), ('smaller', 'd0', 'd3'), ('smaller', 'd3', 'p1'), ('clear', 'p2'), ('smaller', 'd2', 'p2'), ('clear', 'p1'), ('smaller', 'd0', 'p2'), ('smaller', 'd3', 'p2'), ('smaller', 'd2', 'd3'), ('on', 'd0', 'd1'), ('smaller', 'd0', 'p0'), ('smaller', 'd1', 'p1'), ('smaller', 'd2', 'p1'), ('smaller', 'd0', 'd2'), ('smaller', 'd0', 'd1')}\n",
      "{('on', 'd0', 'd1'), ('smaller', 'd1', 'p1'), ('clear', 'p1'), ('smaller', 'd0', 'd1'), ('smaller', 'd2', 'p2'), ('smaller', 'd0', 'p0'), ('on', 'd2', 'd3'), ('smaller', 'd0', 'd2'), ('smaller', 'd3', 'p1'), ('clear', 'd0'), ('smaller', 'd3', 'p0'), ('smaller', 'd0', 'd3'), ('on', 'd1', 'd2'), ('smaller', 'd1', 'd2'), ('smaller', 'd2', 'p0'), ('on', 'd3', 'p2'), ('clear', 'p0'), ('smaller', 'd0', 'd1'), ('smaller', 'd2', 'p1'), ('smaller', 'd0', 'p2'), ('smaller', 'd1', 'p2'), ('smaller', 'd2', 'd3'), ('smaller', 'd3', 'p2'), ('smaller', 'd1', 'd3'), ('smaller', 'd1', 'p0'), ('smaller', 'd0', 'p1')}\n",
      "dict_keys(['move'])\n",
      "<generator object DomainProblem.ground_operator at 0x17dc95440>\n",
      "Operator Name: move\n",
      "\tVariables: {'?x': None, '?y': None, '?z': None}\n",
      "\tPositive Preconditions: {('on', '?x', '?y'), ('smaller', '?x', '?z'), ('clear', '?x'), ('clear', '?z')}\n",
      "\tNegative Preconditions: set()\n",
      "\tPositive Effects: {('on', '?x', '?z'), ('clear', '?y')}\n",
      "\tNegative Effects: {('clear', '?z'), ('on', '?x', '?y')}\n",
      "\n",
      "Help on generator object:\n",
      "\n",
      "ground_operator = class generator(object)\n",
      " |  Methods defined here:\n",
      " |  \n",
      " |  __del__(...)\n",
      " |  \n",
      " |  __getattribute__(self, name, /)\n",
      " |      Return getattr(self, name).\n",
      " |  \n",
      " |  __iter__(self, /)\n",
      " |      Implement iter(self).\n",
      " |  \n",
      " |  __next__(self, /)\n",
      " |      Implement next(self).\n",
      " |  \n",
      " |  __repr__(self, /)\n",
      " |      Return repr(self).\n",
      " |  \n",
      " |  __sizeof__(...)\n",
      " |      gen.__sizeof__() -> size of gen in memory, in bytes\n",
      " |  \n",
      " |  close(...)\n",
      " |      close() -> raise GeneratorExit inside generator.\n",
      " |  \n",
      " |  send(...)\n",
      " |      send(arg) -> send 'arg' into generator,\n",
      " |      return next yielded value or raise StopIteration.\n",
      " |  \n",
      " |  throw(...)\n",
      " |      throw(value)\n",
      " |      throw(type[,value[,tb]])\n",
      " |      \n",
      " |      Raise exception in generator, return next yielded value or raise\n",
      " |      StopIteration.\n",
      " |  \n",
      " |  ----------------------------------------------------------------------\n",
      " |  Data descriptors defined here:\n",
      " |  \n",
      " |  gi_code\n",
      " |  \n",
      " |  gi_frame\n",
      " |  \n",
      " |  gi_running\n",
      " |  \n",
      " |  gi_suspended\n",
      " |  \n",
      " |  gi_yieldfrom\n",
      " |      object being iterated by yield from, or None\n",
      "\n"
     ]
    }
   ],
   "source": [
    "import pddlpy\n",
    "\n",
    "# Load your domain and problem PDDL files\n",
    "domprob = pddlpy.DomainProblem('data/domain.pddl', 'data/problem.pddl')\n",
    "print(domprob.worldobjects())\n",
    "print(domprob.initialstate())\n",
    "print(domprob.goals())\n",
    "print(domprob.operators())\n",
    "print(domprob.ground_operator('move'))\n",
    "print(domprob.domain.operators['move'])\n",
    "\n",
    "help(domprob.ground_operator('move'))"
   ]
  }
 ],
 "metadata": {
  "kernelspec": {
   "display_name": "po",
   "language": "python",
   "name": "python3"
  },
  "language_info": {
   "codemirror_mode": {
    "name": "ipython",
    "version": 3
   },
   "file_extension": ".py",
   "mimetype": "text/x-python",
   "name": "python",
   "nbconvert_exporter": "python",
   "pygments_lexer": "ipython3",
   "version": "3.11.7"
  }
 },
 "nbformat": 4,
 "nbformat_minor": 2
}
